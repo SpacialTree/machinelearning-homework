{
 "cells": [
  {
   "cell_type": "markdown",
   "metadata": {},
   "source": [
    "# AST 7939 Week 8"
   ]
  },
  {
   "cell_type": "markdown",
   "metadata": {},
   "source": [
    "### Deep Neural Networks"
   ]
  },
  {
   "cell_type": "code",
   "execution_count": 1,
   "metadata": {},
   "outputs": [
    {
     "data": {
      "text/plain": [
       "<matplotlib.collections.PathCollection at 0x2ba8170fbb80>"
      ]
     },
     "execution_count": 1,
     "metadata": {},
     "output_type": "execute_result"
    },
    {
     "data": {
      "image/png": "[encoded data removed]",
      "text/plain": [
       "<Figure size 432x288 with 1 Axes>"
      ]
     },
     "metadata": {
      "needs_background": "light"
     },
     "output_type": "display_data"
    }
   ],
   "source": [
    "from sklearn.datasets import load_iris\n",
    "import numpy as np\n",
    "import matplotlib.pyplot as plt \n",
    "\n",
    "iris = load_iris()\n",
    "X = iris.data[:, (2, 3)]  # petal length, petal width\n",
    "y = iris.target\n",
    "\n",
    "plt.scatter(X[:,0],X[:,1],c=y)"
   ]
  },
  {
   "cell_type": "code",
   "execution_count": 2,
   "metadata": {},
   "outputs": [],
   "source": [
    "from sklearn.model_selection import train_test_split\n",
    "\n",
    "X_train, X_test, y_train, y_test = train_test_split(X, y, random_state=0)"
   ]
  },
  {
   "cell_type": "code",
   "execution_count": 3,
   "metadata": {},
   "outputs": [
    {
     "data": {
      "text/plain": [
       "(112, 2)"
      ]
     },
     "execution_count": 3,
     "metadata": {},
     "output_type": "execute_result"
    }
   ],
   "source": [
    "X_train.shape"
   ]
  },
  {
   "cell_type": "code",
   "execution_count": 4,
   "metadata": {},
   "outputs": [],
   "source": [
    "from sklearn.preprocessing import StandardScaler\n",
    "\n",
    "X_train_scaled = StandardScaler().fit(X_train).transform(X_train)\n",
    "X_test_scaled = StandardScaler().fit(X_train).transform(X_test)"
   ]
  },
  {
   "cell_type": "markdown",
   "metadata": {},
   "source": [
    "### Let's build our first neural network. We will use sklearn's MLPClassifier"
   ]
  },
  {
   "cell_type": "code",
   "execution_count": 5,
   "metadata": {},
   "outputs": [],
   "source": [
    "from sklearn.neural_network import MLPClassifier"
   ]
  },
  {
   "cell_type": "code",
   "execution_count": 6,
   "metadata": {
    "collapsed": true,
    "jupyter": {
     "outputs_hidden": true
    },
    "tags": []
   },
   "outputs": [
    {
     "name": "stdout",
     "output_type": "stream",
     "text": [
      "Help on class MLPClassifier in module sklearn.neural_network._multilayer_perceptron:\n",
      "\n",
      "class MLPClassifier(sklearn.base.ClassifierMixin, BaseMultilayerPerceptron)\n",
      " |  MLPClassifier(hidden_layer_sizes=(100,), activation='relu', *, solver='adam', alpha=0.0001, batch_size='auto', learning_rate='constant', learning_rate_init=0.001, power_t=0.5, max_iter=200, shuffle=True, random_state=None, tol=0.0001, verbose=False, warm_start=False, momentum=0.9, nesterovs_momentum=True, early_stopping=False, validation_fraction=0.1, beta_1=0.9, beta_2=0.999, epsilon=1e-08, n_iter_no_change=10, max_fun=15000)\n",
      " |  \n",
      " |  Multi-layer Perceptron classifier.\n",
      " |  \n",
      " |  This model optimizes the log-loss function using LBFGS or stochastic\n",
      " |  gradient descent.\n",
      " |  \n",
      " |  .. versionadded:: 0.18\n",
      " |  \n",
      " |  Parameters\n",
      " |  ----------\n",
      " |  hidden_layer_sizes : tuple, length = n_layers - 2, default=(100,)\n",
      " |      The ith element represents the number of neurons in the ith\n",
      " |      hidden layer.\n",
      " |  \n",
      " |  activation : {'identity', 'logistic', 'tanh', 'relu'}, default='relu'\n",
      " |      Activation function for the hidden layer.\n",
      " |  \n",
      " |      - 'identity', no-op activation, useful to implement linear bottleneck,\n",
      " |        returns f(x) = x\n",
      " |  \n",
      " |      - 'logistic', the logistic sigmoid function,\n",
      " |        returns f(x) = 1 / (1 + exp(-x)).\n",
      " |  \n",
      " |      - 'tanh', the hyperbolic tan function,\n",
      " |        returns f(x) = tanh(x).\n",
      " |  \n",
      " |      - 'relu', the rectified linear unit function,\n",
      " |        returns f(x) = max(0, x)\n",
      " |  \n",
      " |  solver : {'lbfgs', 'sgd', 'adam'}, default='adam'\n",
      " |      The solver for weight optimization.\n",
      " |  \n",
      " |      - 'lbfgs' is an optimizer in the family of quasi-Newton methods.\n",
      " |  \n",
      " |      - 'sgd' refers to stochastic gradient descent.\n",
      " |  \n",
      " |      - 'adam' refers to a stochastic gradient-based optimizer proposed\n",
      " |        by Kingma, Diederik, and Jimmy Ba\n",
      " |  \n",
      " |      Note: The default solver 'adam' works pretty well on relatively\n",
      " |      large datasets (with thousands of training samples or more) in terms of\n",
      " |      both training time and validation score.\n",
      " |      For small datasets, however, 'lbfgs' can converge faster and perform\n",
      " |      better.\n",
      " |  \n",
      " |  alpha : float, default=0.0001\n",
      " |      L2 penalty (regularization term) parameter.\n",
      " |  \n",
      " |  batch_size : int, default='auto'\n",
      " |      Size of minibatches for stochastic optimizers.\n",
      " |      If the solver is 'lbfgs', the classifier will not use minibatch.\n",
      " |      When set to \"auto\", `batch_size=min(200, n_samples)`\n",
      " |  \n",
      " |  learning_rate : {'constant', 'invscaling', 'adaptive'}, default='constant'\n",
      " |      Learning rate schedule for weight updates.\n",
      " |  \n",
      " |      - 'constant' is a constant learning rate given by\n",
      " |        'learning_rate_init'.\n",
      " |  \n",
      " |      - 'invscaling' gradually decreases the learning rate at each\n",
      " |        time step 't' using an inverse scaling exponent of 'power_t'.\n",
      " |        effective_learning_rate = learning_rate_init / pow(t, power_t)\n",
      " |  \n",
      " |      - 'adaptive' keeps the learning rate constant to\n",
      " |        'learning_rate_init' as long as training loss keeps decreasing.\n",
      " |        Each time two consecutive epochs fail to decrease training loss by at\n",
      " |        least tol, or fail to increase validation score by at least tol if\n",
      " |        'early_stopping' is on, the current learning rate is divided by 5.\n",
      " |  \n",
      " |      Only used when ``solver='sgd'``.\n",
      " |  \n",
      " |  learning_rate_init : double, default=0.001\n",
      " |      The initial learning rate used. It controls the step-size\n",
      " |      in updating the weights. Only used when solver='sgd' or 'adam'.\n",
      " |  \n",
      " |  power_t : double, default=0.5\n",
      " |      The exponent for inverse scaling learning rate.\n",
      " |      It is used in updating effective learning rate when the learning_rate\n",
      " |      is set to 'invscaling'. Only used when solver='sgd'.\n",
      " |  \n",
      " |  max_iter : int, default=200\n",
      " |      Maximum number of iterations. The solver iterates until convergence\n",
      " |      (determined by 'tol') or this number of iterations. For stochastic\n",
      " |      solvers ('sgd', 'adam'), note that this determines the number of epochs\n",
      " |      (how many times each data point will be used), not the number of\n",
      " |      gradient steps.\n",
      " |  \n",
      " |  shuffle : bool, default=True\n",
      " |      Whether to shuffle samples in each iteration. Only used when\n",
      " |      solver='sgd' or 'adam'.\n",
      " |  \n",
      " |  random_state : int, RandomState instance, default=None\n",
      " |      Determines random number generation for weights and bias\n",
      " |      initialization, train-test split if early stopping is used, and batch\n",
      " |      sampling when solver='sgd' or 'adam'.\n",
      " |      Pass an int for reproducible results across multiple function calls.\n",
      " |      See :term:`Glossary <random_state>`.\n",
      " |  \n",
      " |  tol : float, default=1e-4\n",
      " |      Tolerance for the optimization. When the loss or score is not improving\n",
      " |      by at least ``tol`` for ``n_iter_no_change`` consecutive iterations,\n",
      " |      unless ``learning_rate`` is set to 'adaptive', convergence is\n",
      " |      considered to be reached and training stops.\n",
      " |  \n",
      " |  verbose : bool, default=False\n",
      " |      Whether to print progress messages to stdout.\n",
      " |  \n",
      " |  warm_start : bool, default=False\n",
      " |      When set to True, reuse the solution of the previous\n",
      " |      call to fit as initialization, otherwise, just erase the\n",
      " |      previous solution. See :term:`the Glossary <warm_start>`.\n",
      " |  \n",
      " |  momentum : float, default=0.9\n",
      " |      Momentum for gradient descent update. Should be between 0 and 1. Only\n",
      " |      used when solver='sgd'.\n",
      " |  \n",
      " |  nesterovs_momentum : bool, default=True\n",
      " |      Whether to use Nesterov's momentum. Only used when solver='sgd' and\n",
      " |      momentum > 0.\n",
      " |  \n",
      " |  early_stopping : bool, default=False\n",
      " |      Whether to use early stopping to terminate training when validation\n",
      " |      score is not improving. If set to true, it will automatically set\n",
      " |      aside 10% of training data as validation and terminate training when\n",
      " |      validation score is not improving by at least tol for\n",
      " |      ``n_iter_no_change`` consecutive epochs. The split is stratified,\n",
      " |      except in a multilabel setting.\n",
      " |      If early stopping is False, then the training stops when the training\n",
      " |      loss does not improve by more than tol for n_iter_no_change consecutive\n",
      " |      passes over the training set.\n",
      " |      Only effective when solver='sgd' or 'adam'\n",
      " |  \n",
      " |  validation_fraction : float, default=0.1\n",
      " |      The proportion of training data to set aside as validation set for\n",
      " |      early stopping. Must be between 0 and 1.\n",
      " |      Only used if early_stopping is True\n",
      " |  \n",
      " |  beta_1 : float, default=0.9\n",
      " |      Exponential decay rate for estimates of first moment vector in adam,\n",
      " |      should be in [0, 1). Only used when solver='adam'\n",
      " |  \n",
      " |  beta_2 : float, default=0.999\n",
      " |      Exponential decay rate for estimates of second moment vector in adam,\n",
      " |      should be in [0, 1). Only used when solver='adam'\n",
      " |  \n",
      " |  epsilon : float, default=1e-8\n",
      " |      Value for numerical stability in adam. Only used when solver='adam'\n",
      " |  \n",
      " |  n_iter_no_change : int, default=10\n",
      " |      Maximum number of epochs to not meet ``tol`` improvement.\n",
      " |      Only effective when solver='sgd' or 'adam'\n",
      " |  \n",
      " |      .. versionadded:: 0.20\n",
      " |  \n",
      " |  max_fun : int, default=15000\n",
      " |      Only used when solver='lbfgs'. Maximum number of loss function calls.\n",
      " |      The solver iterates until convergence (determined by 'tol'), number\n",
      " |      of iterations reaches max_iter, or this number of loss function calls.\n",
      " |      Note that number of loss function calls will be greater than or equal\n",
      " |      to the number of iterations for the `MLPClassifier`.\n",
      " |  \n",
      " |      .. versionadded:: 0.22\n",
      " |  \n",
      " |  Attributes\n",
      " |  ----------\n",
      " |  classes_ : ndarray or list of ndarray of shape (n_classes,)\n",
      " |      Class labels for each output.\n",
      " |  \n",
      " |  loss_ : float\n",
      " |      The current loss computed with the loss function.\n",
      " |  \n",
      " |  best_loss_ : float\n",
      " |      The minimum loss reached by the solver throughout fitting.\n",
      " |  \n",
      " |  loss_curve_ : list of shape (`n_iter_`,)\n",
      " |      The ith element in the list represents the loss at the ith iteration.\n",
      " |  \n",
      " |  t_ : int\n",
      " |      The number of training samples seen by the solver during fitting.\n",
      " |  \n",
      " |  coefs_ : list of shape (n_layers - 1,)\n",
      " |      The ith element in the list represents the weight matrix corresponding\n",
      " |      to layer i.\n",
      " |  \n",
      " |  intercepts_ : list of shape (n_layers - 1,)\n",
      " |      The ith element in the list represents the bias vector corresponding to\n",
      " |      layer i + 1.\n",
      " |  \n",
      " |  n_iter_ : int\n",
      " |      The number of iterations the solver has run.\n",
      " |  \n",
      " |  n_layers_ : int\n",
      " |      Number of layers.\n",
      " |  \n",
      " |  n_outputs_ : int\n",
      " |      Number of outputs.\n",
      " |  \n",
      " |  out_activation_ : str\n",
      " |      Name of the output activation function.\n",
      " |  \n",
      " |  Examples\n",
      " |  --------\n",
      " |  >>> from sklearn.neural_network import MLPClassifier\n",
      " |  >>> from sklearn.datasets import make_classification\n",
      " |  >>> from sklearn.model_selection import train_test_split\n",
      " |  >>> X, y = make_classification(n_samples=100, random_state=1)\n",
      " |  >>> X_train, X_test, y_train, y_test = train_test_split(X, y, stratify=y,\n",
      " |  ...                                                     random_state=1)\n",
      " |  >>> clf = MLPClassifier(random_state=1, max_iter=300).fit(X_train, y_train)\n",
      " |  >>> clf.predict_proba(X_test[:1])\n",
      " |  array([[0.038..., 0.961...]])\n",
      " |  >>> clf.predict(X_test[:5, :])\n",
      " |  array([1, 0, 1, 0, 1])\n",
      " |  >>> clf.score(X_test, y_test)\n",
      " |  0.8...\n",
      " |  \n",
      " |  Notes\n",
      " |  -----\n",
      " |  MLPClassifier trains iteratively since at each time step\n",
      " |  the partial derivatives of the loss function with respect to the model\n",
      " |  parameters are computed to update the parameters.\n",
      " |  \n",
      " |  It can also have a regularization term added to the loss function\n",
      " |  that shrinks model parameters to prevent overfitting.\n",
      " |  \n",
      " |  This implementation works with data represented as dense numpy arrays or\n",
      " |  sparse scipy arrays of floating point values.\n",
      " |  \n",
      " |  References\n",
      " |  ----------\n",
      " |  Hinton, Geoffrey E.\n",
      " |      \"Connectionist learning procedures.\" Artificial intelligence 40.1\n",
      " |      (1989): 185-234.\n",
      " |  \n",
      " |  Glorot, Xavier, and Yoshua Bengio. \"Understanding the difficulty of\n",
      " |      training deep feedforward neural networks.\" International Conference\n",
      " |      on Artificial Intelligence and Statistics. 2010.\n",
      " |  \n",
      " |  He, Kaiming, et al. \"Delving deep into rectifiers: Surpassing human-level\n",
      " |      performance on imagenet classification.\" arXiv preprint\n",
      " |      arXiv:1502.01852 (2015).\n",
      " |  \n",
      " |  Kingma, Diederik, and Jimmy Ba. \"Adam: A method for stochastic\n",
      " |      optimization.\" arXiv preprint arXiv:1412.6980 (2014).\n",
      " |  \n",
      " |  Method resolution order:\n",
      " |      MLPClassifier\n",
      " |      sklearn.base.ClassifierMixin\n",
      " |      BaseMultilayerPerceptron\n",
      " |      sklearn.base.BaseEstimator\n",
      " |      builtins.object\n",
      " |  \n",
      " |  Methods defined here:\n",
      " |  \n",
      " |  __init__(self, hidden_layer_sizes=(100,), activation='relu', *, solver='adam', alpha=0.0001, batch_size='auto', learning_rate='constant', learning_rate_init=0.001, power_t=0.5, max_iter=200, shuffle=True, random_state=None, tol=0.0001, verbose=False, warm_start=False, momentum=0.9, nesterovs_momentum=True, early_stopping=False, validation_fraction=0.1, beta_1=0.9, beta_2=0.999, epsilon=1e-08, n_iter_no_change=10, max_fun=15000)\n",
      " |      Initialize self.  See help(type(self)) for accurate signature.\n",
      " |  \n",
      " |  predict(self, X)\n",
      " |      Predict using the multi-layer perceptron classifier\n",
      " |      \n",
      " |      Parameters\n",
      " |      ----------\n",
      " |      X : {array-like, sparse matrix} of shape (n_samples, n_features)\n",
      " |          The input data.\n",
      " |      \n",
      " |      Returns\n",
      " |      -------\n",
      " |      y : ndarray, shape (n_samples,) or (n_samples, n_classes)\n",
      " |          The predicted classes.\n",
      " |  \n",
      " |  predict_log_proba(self, X)\n",
      " |      Return the log of probability estimates.\n",
      " |      \n",
      " |      Parameters\n",
      " |      ----------\n",
      " |      X : ndarray of shape (n_samples, n_features)\n",
      " |          The input data.\n",
      " |      \n",
      " |      Returns\n",
      " |      -------\n",
      " |      log_y_prob : ndarray of shape (n_samples, n_classes)\n",
      " |          The predicted log-probability of the sample for each class\n",
      " |          in the model, where classes are ordered as they are in\n",
      " |          `self.classes_`. Equivalent to log(predict_proba(X))\n",
      " |  \n",
      " |  predict_proba(self, X)\n",
      " |      Probability estimates.\n",
      " |      \n",
      " |      Parameters\n",
      " |      ----------\n",
      " |      X : {array-like, sparse matrix} of shape (n_samples, n_features)\n",
      " |          The input data.\n",
      " |      \n",
      " |      Returns\n",
      " |      -------\n",
      " |      y_prob : ndarray of shape (n_samples, n_classes)\n",
      " |          The predicted probability of the sample for each class in the\n",
      " |          model, where classes are ordered as they are in `self.classes_`.\n",
      " |  \n",
      " |  ----------------------------------------------------------------------\n",
      " |  Readonly properties defined here:\n",
      " |  \n",
      " |  partial_fit\n",
      " |      Update the model with a single iteration over the given data.\n",
      " |      \n",
      " |      Parameters\n",
      " |      ----------\n",
      " |      X : {array-like, sparse matrix} of shape (n_samples, n_features)\n",
      " |          The input data.\n",
      " |      \n",
      " |      y : array-like of shape (n_samples,)\n",
      " |          The target values.\n",
      " |      \n",
      " |      classes : array of shape (n_classes,), default=None\n",
      " |          Classes across all calls to partial_fit.\n",
      " |          Can be obtained via `np.unique(y_all)`, where y_all is the\n",
      " |          target vector of the entire dataset.\n",
      " |          This argument is required for the first call to partial_fit\n",
      " |          and can be omitted in the subsequent calls.\n",
      " |          Note that y doesn't need to contain all labels in `classes`.\n",
      " |      \n",
      " |      Returns\n",
      " |      -------\n",
      " |      self : returns a trained MLP model.\n",
      " |  \n",
      " |  ----------------------------------------------------------------------\n",
      " |  Data and other attributes defined here:\n",
      " |  \n",
      " |  __abstractmethods__ = frozenset()\n",
      " |  \n",
      " |  ----------------------------------------------------------------------\n",
      " |  Methods inherited from sklearn.base.ClassifierMixin:\n",
      " |  \n",
      " |  score(self, X, y, sample_weight=None)\n",
      " |      Return the mean accuracy on the given test data and labels.\n",
      " |      \n",
      " |      In multi-label classification, this is the subset accuracy\n",
      " |      which is a harsh metric since you require for each sample that\n",
      " |      each label set be correctly predicted.\n",
      " |      \n",
      " |      Parameters\n",
      " |      ----------\n",
      " |      X : array-like of shape (n_samples, n_features)\n",
      " |          Test samples.\n",
      " |      \n",
      " |      y : array-like of shape (n_samples,) or (n_samples, n_outputs)\n",
      " |          True labels for `X`.\n",
      " |      \n",
      " |      sample_weight : array-like of shape (n_samples,), default=None\n",
      " |          Sample weights.\n",
      " |      \n",
      " |      Returns\n",
      " |      -------\n",
      " |      score : float\n",
      " |          Mean accuracy of ``self.predict(X)`` wrt. `y`.\n",
      " |  \n",
      " |  ----------------------------------------------------------------------\n",
      " |  Data descriptors inherited from sklearn.base.ClassifierMixin:\n",
      " |  \n",
      " |  __dict__\n",
      " |      dictionary for instance variables (if defined)\n",
      " |  \n",
      " |  __weakref__\n",
      " |      list of weak references to the object (if defined)\n",
      " |  \n",
      " |  ----------------------------------------------------------------------\n",
      " |  Methods inherited from BaseMultilayerPerceptron:\n",
      " |  \n",
      " |  fit(self, X, y)\n",
      " |      Fit the model to data matrix X and target(s) y.\n",
      " |      \n",
      " |      Parameters\n",
      " |      ----------\n",
      " |      X : ndarray or sparse matrix of shape (n_samples, n_features)\n",
      " |          The input data.\n",
      " |      \n",
      " |      y : ndarray of shape (n_samples,) or (n_samples, n_outputs)\n",
      " |          The target values (class labels in classification, real numbers in\n",
      " |          regression).\n",
      " |      \n",
      " |      Returns\n",
      " |      -------\n",
      " |      self : returns a trained MLP model.\n",
      " |  \n",
      " |  ----------------------------------------------------------------------\n",
      " |  Methods inherited from sklearn.base.BaseEstimator:\n",
      " |  \n",
      " |  __getstate__(self)\n",
      " |  \n",
      " |  __repr__(self, N_CHAR_MAX=700)\n",
      " |      Return repr(self).\n",
      " |  \n",
      " |  __setstate__(self, state)\n",
      " |  \n",
      " |  get_params(self, deep=True)\n",
      " |      Get parameters for this estimator.\n",
      " |      \n",
      " |      Parameters\n",
      " |      ----------\n",
      " |      deep : bool, default=True\n",
      " |          If True, will return the parameters for this estimator and\n",
      " |          contained subobjects that are estimators.\n",
      " |      \n",
      " |      Returns\n",
      " |      -------\n",
      " |      params : dict\n",
      " |          Parameter names mapped to their values.\n",
      " |  \n",
      " |  set_params(self, **params)\n",
      " |      Set the parameters of this estimator.\n",
      " |      \n",
      " |      The method works on simple estimators as well as on nested objects\n",
      " |      (such as :class:`~sklearn.pipeline.Pipeline`). The latter have\n",
      " |      parameters of the form ``<component>__<parameter>`` so that it's\n",
      " |      possible to update each component of a nested object.\n",
      " |      \n",
      " |      Parameters\n",
      " |      ----------\n",
      " |      **params : dict\n",
      " |          Estimator parameters.\n",
      " |      \n",
      " |      Returns\n",
      " |      -------\n",
      " |      self : estimator instance\n",
      " |          Estimator instance.\n",
      "\n"
     ]
    }
   ],
   "source": [
    "help(MLPClassifier)"
   ]
  },
  {
   "cell_type": "code",
   "execution_count": 7,
   "metadata": {
    "collapsed": true,
    "jupyter": {
     "outputs_hidden": true
    },
    "tags": []
   },
   "outputs": [
    {
     "name": "stdout",
     "output_type": "stream",
     "text": [
      "Iteration 1, loss = 1.22897473\n",
      "Iteration 2, loss = 1.17946500\n",
      "Iteration 3, loss = 1.13225208\n",
      "Iteration 4, loss = 1.08798588\n",
      "Iteration 5, loss = 1.04608248\n",
      "Iteration 6, loss = 1.00658002\n",
      "Iteration 7, loss = 0.96930321\n",
      "Iteration 8, loss = 0.93406316\n",
      "Iteration 9, loss = 0.90028484\n",
      "Iteration 10, loss = 0.86750427\n",
      "Iteration 11, loss = 0.83587758\n",
      "Iteration 12, loss = 0.80565523\n",
      "Iteration 13, loss = 0.77704118\n",
      "Iteration 14, loss = 0.74996988\n",
      "Iteration 15, loss = 0.72432527\n",
      "Iteration 16, loss = 0.69972983\n",
      "Iteration 17, loss = 0.67601840\n",
      "Iteration 18, loss = 0.65329978\n",
      "Iteration 19, loss = 0.63138212\n",
      "Iteration 20, loss = 0.61012130\n",
      "Iteration 21, loss = 0.58965631\n",
      "Iteration 22, loss = 0.57009024\n",
      "Iteration 23, loss = 0.55148502\n",
      "Iteration 24, loss = 0.53393829\n",
      "Iteration 25, loss = 0.51720953\n",
      "Iteration 26, loss = 0.50121006\n",
      "Iteration 27, loss = 0.48580969\n",
      "Iteration 28, loss = 0.47095097\n",
      "Iteration 29, loss = 0.45658959\n",
      "Iteration 30, loss = 0.44272659\n",
      "Iteration 31, loss = 0.42934290\n",
      "Iteration 32, loss = 0.41650292\n",
      "Iteration 33, loss = 0.40420389\n",
      "Iteration 34, loss = 0.39240632\n",
      "Iteration 35, loss = 0.38107381\n",
      "Iteration 36, loss = 0.37010383\n",
      "Iteration 37, loss = 0.35945658\n",
      "Iteration 38, loss = 0.34919066\n",
      "Iteration 39, loss = 0.33927667\n",
      "Iteration 40, loss = 0.32970685\n",
      "Iteration 41, loss = 0.32044199\n",
      "Iteration 42, loss = 0.31145503\n",
      "Iteration 43, loss = 0.30277299\n",
      "Iteration 44, loss = 0.29434910\n",
      "Iteration 45, loss = 0.28616085\n",
      "Iteration 46, loss = 0.27821488\n",
      "Iteration 47, loss = 0.27051159\n",
      "Iteration 48, loss = 0.26304735\n",
      "Iteration 49, loss = 0.25581898\n",
      "Iteration 50, loss = 0.24880460\n",
      "Iteration 51, loss = 0.24200591\n",
      "Iteration 52, loss = 0.23542287\n",
      "Iteration 53, loss = 0.22907248\n",
      "Iteration 54, loss = 0.22297363\n",
      "Iteration 55, loss = 0.21710602\n",
      "Iteration 56, loss = 0.21146046\n",
      "Iteration 57, loss = 0.20603900\n",
      "Iteration 58, loss = 0.20083204\n",
      "Iteration 59, loss = 0.19583904\n",
      "Iteration 60, loss = 0.19102188\n",
      "Iteration 61, loss = 0.18637784\n",
      "Iteration 62, loss = 0.18191215\n",
      "Iteration 63, loss = 0.17761948\n",
      "Iteration 64, loss = 0.17349561\n",
      "Iteration 65, loss = 0.16953941\n",
      "Iteration 66, loss = 0.16574485\n",
      "Iteration 67, loss = 0.16211644\n",
      "Iteration 68, loss = 0.15865199\n",
      "Iteration 69, loss = 0.15533853\n",
      "Iteration 70, loss = 0.15216480\n",
      "Iteration 71, loss = 0.14911550\n",
      "Iteration 72, loss = 0.14618047\n",
      "Iteration 73, loss = 0.14335789\n",
      "Iteration 74, loss = 0.14064719\n",
      "Iteration 75, loss = 0.13804976\n",
      "Iteration 76, loss = 0.13555855\n",
      "Iteration 77, loss = 0.13316855\n",
      "Iteration 78, loss = 0.13087572\n",
      "Iteration 79, loss = 0.12868192\n",
      "Iteration 80, loss = 0.12659487\n",
      "Iteration 81, loss = 0.12459936\n",
      "Iteration 82, loss = 0.12269024\n",
      "Iteration 83, loss = 0.12086666\n",
      "Iteration 84, loss = 0.11912939\n",
      "Iteration 85, loss = 0.11746899\n",
      "Iteration 86, loss = 0.11588095\n",
      "Iteration 87, loss = 0.11436321\n",
      "Iteration 88, loss = 0.11291112\n",
      "Iteration 89, loss = 0.11152334\n",
      "Iteration 90, loss = 0.11019497\n",
      "Iteration 91, loss = 0.10892365\n",
      "Iteration 92, loss = 0.10770533\n",
      "Iteration 93, loss = 0.10653951\n",
      "Iteration 94, loss = 0.10542235\n",
      "Iteration 95, loss = 0.10435447\n",
      "Iteration 96, loss = 0.10333114\n",
      "Iteration 97, loss = 0.10234841\n",
      "Iteration 98, loss = 0.10140445\n",
      "Iteration 99, loss = 0.10049875\n",
      "Iteration 100, loss = 0.09962899\n",
      "Iteration 101, loss = 0.09879662\n",
      "Iteration 102, loss = 0.09800447\n",
      "Iteration 103, loss = 0.09724322\n",
      "Iteration 104, loss = 0.09651332\n",
      "Iteration 105, loss = 0.09581360\n",
      "Iteration 106, loss = 0.09514088\n",
      "Iteration 107, loss = 0.09449401\n",
      "Iteration 108, loss = 0.09387047\n",
      "Iteration 109, loss = 0.09326883\n",
      "Iteration 110, loss = 0.09268860\n",
      "Iteration 111, loss = 0.09212903\n",
      "Iteration 112, loss = 0.09158912\n",
      "Iteration 113, loss = 0.09106688\n",
      "Iteration 114, loss = 0.09056216\n",
      "Iteration 115, loss = 0.09007786\n",
      "Iteration 116, loss = 0.08960983\n",
      "Iteration 117, loss = 0.08915621\n",
      "Iteration 118, loss = 0.08871632\n",
      "Iteration 119, loss = 0.08829013\n",
      "Iteration 120, loss = 0.08787787\n",
      "Iteration 121, loss = 0.08747955\n",
      "Iteration 122, loss = 0.08709204\n",
      "Iteration 123, loss = 0.08671438\n",
      "Iteration 124, loss = 0.08635544\n",
      "Iteration 125, loss = 0.08600673\n",
      "Iteration 126, loss = 0.08566527\n",
      "Iteration 127, loss = 0.08533096\n",
      "Iteration 128, loss = 0.08500389\n",
      "Iteration 129, loss = 0.08468555\n",
      "Iteration 130, loss = 0.08437429\n",
      "Iteration 131, loss = 0.08407887\n",
      "Iteration 132, loss = 0.08379111\n",
      "Iteration 133, loss = 0.08350913\n",
      "Iteration 134, loss = 0.08323242\n",
      "Iteration 135, loss = 0.08296123\n",
      "Iteration 136, loss = 0.08269592\n",
      "Iteration 137, loss = 0.08243811\n",
      "Iteration 138, loss = 0.08218954\n",
      "Iteration 139, loss = 0.08194979\n",
      "Iteration 140, loss = 0.08171956\n",
      "Iteration 141, loss = 0.08149413\n",
      "Iteration 142, loss = 0.08127118\n",
      "Iteration 143, loss = 0.08105100\n",
      "Iteration 144, loss = 0.08083571\n",
      "Iteration 145, loss = 0.08062864\n",
      "Iteration 146, loss = 0.08042526\n",
      "Iteration 147, loss = 0.08022547\n",
      "Iteration 148, loss = 0.08002908\n",
      "Iteration 149, loss = 0.07983808\n",
      "Iteration 150, loss = 0.07966063\n",
      "Iteration 151, loss = 0.07948665\n",
      "Iteration 152, loss = 0.07931258\n",
      "Iteration 153, loss = 0.07914254\n",
      "Iteration 154, loss = 0.07897235\n",
      "Iteration 155, loss = 0.07880121\n",
      "Iteration 156, loss = 0.07863072\n",
      "Iteration 157, loss = 0.07847780\n",
      "Iteration 158, loss = 0.07832058\n",
      "Iteration 159, loss = 0.07817017\n",
      "Iteration 160, loss = 0.07802264\n",
      "Iteration 161, loss = 0.07787939\n",
      "Iteration 162, loss = 0.07773822\n",
      "Iteration 163, loss = 0.07759549\n",
      "Iteration 164, loss = 0.07745575\n",
      "Iteration 165, loss = 0.07731655\n",
      "Iteration 166, loss = 0.07717675\n",
      "Iteration 167, loss = 0.07703870\n",
      "Iteration 168, loss = 0.07692521\n",
      "Iteration 169, loss = 0.07680198\n",
      "Iteration 170, loss = 0.07666566\n",
      "Iteration 171, loss = 0.07654065\n",
      "Iteration 172, loss = 0.07642312\n",
      "Iteration 173, loss = 0.07630982\n",
      "Iteration 174, loss = 0.07619533\n",
      "Iteration 175, loss = 0.07608086\n",
      "Iteration 176, loss = 0.07596445\n",
      "Iteration 177, loss = 0.07584849\n",
      "Iteration 178, loss = 0.07572947\n",
      "Iteration 179, loss = 0.07562779\n",
      "Iteration 180, loss = 0.07552584\n",
      "Iteration 181, loss = 0.07542012\n",
      "Iteration 182, loss = 0.07531104\n",
      "Iteration 183, loss = 0.07521167\n",
      "Iteration 184, loss = 0.07511815\n",
      "Iteration 185, loss = 0.07502399\n",
      "Iteration 186, loss = 0.07492663\n",
      "Iteration 187, loss = 0.07483546\n",
      "Iteration 188, loss = 0.07474904\n",
      "Iteration 189, loss = 0.07466066\n",
      "Iteration 190, loss = 0.07457278\n",
      "Iteration 191, loss = 0.07448186\n",
      "Iteration 192, loss = 0.07440036\n",
      "Iteration 193, loss = 0.07431330\n",
      "Training loss did not improve more than tol=0.000100 for 10 consecutive epochs. Stopping.\n",
      "0.9736842105263158\n"
     ]
    }
   ],
   "source": [
    "model = MLPClassifier(hidden_layer_sizes=(100,100),activation=\"relu\",\n",
    "                      max_iter=1000,random_state=1,verbose=1)\n",
    "\n",
    "model.fit(X_train_scaled, y_train)\n",
    "\n",
    "y_pred=model.predict(X_test_scaled)\n",
    "print(model.score(X_test_scaled, y_test))"
   ]
  },
  {
   "cell_type": "code",
   "execution_count": 8,
   "metadata": {},
   "outputs": [
    {
     "data": {
      "image/png": "[encoded data removed]",
      "text/plain": [
       "<Figure size 432x288 with 2 Axes>"
      ]
     },
     "metadata": {
      "needs_background": "light"
     },
     "output_type": "display_data"
    }
   ],
   "source": [
    "from sklearn.metrics import plot_confusion_matrix\n",
    "\n",
    "fig=plot_confusion_matrix(model, X_test_scaled, y_test,display_labels=[\"Setosa\",\"Versicolor\",\"Virginica\"])\n",
    "fig.figure_.suptitle(\"Confusion Matrix\")\n",
    "plt.show()"
   ]
  },
  {
   "cell_type": "code",
   "execution_count": 9,
   "metadata": {
    "collapsed": true,
    "jupyter": {
     "outputs_hidden": true
    },
    "tags": []
   },
   "outputs": [
    {
     "data": {
      "text/plain": [
       "array([[2.96826712e-05, 5.58582618e-04, 9.99411735e-01],\n",
       "       [4.67674808e-03, 9.91826979e-01, 3.49627262e-03],\n",
       "       [9.98464698e-01, 1.37220172e-03, 1.63100174e-04],\n",
       "       [4.02487097e-05, 1.56964843e-03, 9.98390103e-01],\n",
       "       [9.98117840e-01, 1.69176535e-03, 1.90394457e-04],\n",
       "       [2.42419682e-06, 2.62080541e-05, 9.99971368e-01],\n",
       "       [9.98103316e-01, 1.71108518e-03, 1.85598638e-04],\n",
       "       [3.21786920e-03, 8.70071557e-01, 1.26710574e-01],\n",
       "       [3.03947768e-03, 9.12867415e-01, 8.40931074e-02],\n",
       "       [2.62300726e-03, 9.92711501e-01, 4.66549152e-03],\n",
       "       [1.93714461e-03, 2.66602509e-01, 7.31460347e-01],\n",
       "       [2.84983940e-03, 9.39308349e-01, 5.78418115e-02],\n",
       "       [2.26456361e-03, 9.84891619e-01, 1.28438176e-02],\n",
       "       [3.04310427e-03, 9.11325677e-01, 8.56312189e-02],\n",
       "       [2.83396267e-03, 9.41402066e-01, 5.57639709e-02],\n",
       "       [9.98917721e-01, 9.56609733e-04, 1.25669120e-04],\n",
       "       [2.84983940e-03, 9.39308349e-01, 5.78418115e-02],\n",
       "       [2.26653366e-03, 9.92083972e-01, 5.64949444e-03],\n",
       "       [9.97684254e-01, 2.09891874e-03, 2.16827046e-04],\n",
       "       [9.96953048e-01, 2.79213507e-03, 2.54816881e-04],\n",
       "       [4.93246347e-04, 2.94142705e-02, 9.70092483e-01],\n",
       "       [2.84983940e-03, 9.39308349e-01, 5.78418115e-02],\n",
       "       [9.94973537e-01, 4.63120225e-03, 3.95260297e-04],\n",
       "       [9.98464698e-01, 1.37220172e-03, 1.63100174e-04],\n",
       "       [2.00643448e-03, 2.31163928e-01, 7.66829638e-01],\n",
       "       [9.99227987e-01, 6.81431003e-04, 9.05818042e-05],\n",
       "       [9.86785424e-01, 1.24481400e-02, 7.66435892e-04],\n",
       "       [2.14695819e-03, 9.91720209e-01, 6.13283232e-03],\n",
       "       [2.96982863e-02, 9.65198449e-01, 5.10326497e-03],\n",
       "       [9.93914575e-01, 5.65253850e-03, 4.32886209e-04],\n",
       "       [3.12791374e-04, 2.06569808e-02, 9.79030228e-01],\n",
       "       [2.84983940e-03, 9.39308349e-01, 5.78418115e-02],\n",
       "       [9.98117840e-01, 1.69176535e-03, 1.90394457e-04],\n",
       "       [1.60276978e-03, 1.70694181e-01, 8.27703050e-01],\n",
       "       [2.73208681e-05, 6.09521219e-04, 9.99363158e-01],\n",
       "       [2.57471015e-03, 9.91488353e-01, 5.93693683e-03],\n",
       "       [9.95148976e-01, 4.47636930e-03, 3.74654552e-04],\n",
       "       [2.39565079e-03, 3.49472096e-01, 6.48132253e-01]])"
      ]
     },
     "execution_count": 9,
     "metadata": {},
     "output_type": "execute_result"
    }
   ],
   "source": [
    "model.predict_proba(X_test_scaled)"
   ]
  },
  {
   "cell_type": "code",
   "execution_count": 10,
   "metadata": {},
   "outputs": [
    {
     "name": "stdout",
     "output_type": "stream",
     "text": [
      "(2, 100) (100, 100) (100, 3)\n"
     ]
    }
   ],
   "source": [
    "print(model.coefs_[0].shape, model.coefs_[1].shape, model.coefs_[2].shape)"
   ]
  },
  {
   "cell_type": "code",
   "execution_count": 11,
   "metadata": {
    "collapsed": true,
    "jupyter": {
     "outputs_hidden": true
    },
    "scrolled": true,
    "tags": []
   },
   "outputs": [
    {
     "data": {
      "text/plain": [
       "array([[-1.77035229e-02,  1.79912983e-01, -2.69376812e-01,\n",
       "        -6.64179892e-02, -4.07818179e-02, -2.73692186e-01,\n",
       "        -2.20854359e-01, -1.85376873e-02,  4.06766635e-02,\n",
       "         7.70989385e-02, -5.63063331e-02,  1.21759656e-01,\n",
       "         1.10468866e-02,  2.66045293e-01, -1.93707553e-01,\n",
       "         1.68877628e-01, -1.14943524e-03,  6.52204001e-02,\n",
       "        -2.17006201e-01, -2.24922974e-01,  3.95419546e-02,\n",
       "         2.01778485e-01, -1.73994834e-01,  1.75892283e-02,\n",
       "         2.82931605e-01,  2.68454078e-01, -2.61530483e-01,\n",
       "        -2.39325161e-01, -1.25654863e-01,  2.45026380e-01,\n",
       "        -2.83244862e-01, -1.94964423e-02,  2.72843463e-01,\n",
       "         3.43801319e-02,  1.02442323e-01, -1.61383018e-01,\n",
       "         2.10371745e-01,  2.14032083e-01, -3.51489736e-01,\n",
       "         1.27694018e-01,  3.46020276e-01,  9.50938604e-02,\n",
       "        -1.04466381e-01,  3.62653720e-02, -2.11061730e-01,\n",
       "        -6.93057764e-02,  7.46248874e-02, -1.07171368e-01,\n",
       "        -8.46621079e-02, -2.40982100e-01, -3.11881004e-01,\n",
       "         1.42243415e-01, -2.18946430e-01, -1.61641211e-01,\n",
       "        -3.53064858e-02, -2.67858108e-01, -2.14816251e-02,\n",
       "        -2.10594281e-01,  1.24019976e-01,  1.61945166e-01,\n",
       "        -2.32451357e-01, -1.01481015e-01,  1.44121655e-01,\n",
       "         2.98771230e-02, -2.90424289e-01, -6.08731749e-02,\n",
       "         4.22666063e-02,  3.75464480e-06,  3.53508754e-01,\n",
       "         1.39001976e-01,  2.94451404e-01, -1.48101371e-01,\n",
       "        -2.32940968e-01,  1.51671407e-01, -1.53873992e-02,\n",
       "        -2.12218954e-01,  2.75801508e-01, -8.08328230e-02,\n",
       "         3.00326635e-02,  8.96365775e-02,  1.86809014e-01,\n",
       "         7.96451184e-03,  1.88048448e-01, -6.99957868e-02,\n",
       "        -1.85328527e-01,  2.56725609e-01, -3.95351293e-02,\n",
       "         2.17549016e-01,  1.30490033e-01,  1.19160926e-01,\n",
       "        -2.06725719e-01,  1.83099125e-01, -1.93259482e-02,\n",
       "         1.07164742e-01,  5.61952811e-02, -2.91605375e-02,\n",
       "         3.70555450e-01,  7.99403604e-04, -3.01876727e-01,\n",
       "         1.48495559e-01],\n",
       "       [-5.98159632e-02,  7.76926558e-02,  1.66812865e-01,\n",
       "        -4.43126914e-02,  2.95723964e-01, -1.41574061e-02,\n",
       "        -3.01342031e-01,  2.56536781e-01,  1.62849912e-01,\n",
       "         2.95299113e-01, -1.74373354e-01, -1.48074361e-01,\n",
       "         3.28706259e-01,  1.68349129e-01, -1.75488059e-01,\n",
       "         1.96940110e-01,  2.68477492e-02,  1.91826456e-01,\n",
       "         5.61792298e-02, -2.59241416e-01, -1.01039025e-01,\n",
       "        -2.53270419e-01, -3.11512597e-01, -1.92318828e-01,\n",
       "         2.62115600e-01,  8.29487725e-02, -3.21426570e-02,\n",
       "         1.59771604e-01, -1.47198693e-01, -4.67745790e-02,\n",
       "        -4.52482787e-02,  2.29908877e-01,  7.44164380e-02,\n",
       "        -2.14311242e-01,  1.51539880e-01, -2.00405681e-01,\n",
       "         2.45383813e-01, -1.32189927e-02,  5.72393469e-02,\n",
       "         1.23826462e-01,  1.11483418e-01, -2.01246219e-01,\n",
       "        -2.11907247e-01, -6.42194916e-02, -2.44785287e-01,\n",
       "        -2.37169813e-01, -3.21437091e-02,  2.17588297e-01,\n",
       "         4.25029029e-02, -2.99389625e-01, -2.85688988e-01,\n",
       "         2.82658695e-01, -4.48153148e-02, -1.88272401e-01,\n",
       "        -1.37643316e-01,  6.13099805e-02, -1.97364716e-01,\n",
       "         3.23147666e-03,  2.99786898e-01,  2.18652377e-01,\n",
       "        -1.82043758e-01, -5.99005036e-02,  1.07772515e-01,\n",
       "         2.38807792e-01, -2.36765683e-01, -3.09208892e-01,\n",
       "        -2.30574973e-01, -2.58868617e-06,  1.53017464e-01,\n",
       "         1.17645710e-01, -6.01070317e-03,  2.99969548e-01,\n",
       "        -1.68096677e-02, -1.04192658e-01,  4.99186373e-02,\n",
       "         7.46390052e-02,  1.35541154e-01, -1.19698089e-01,\n",
       "        -2.96216087e-01, -8.45642571e-02,  4.02452252e-02,\n",
       "        -1.84206133e-01,  1.82579123e-01, -2.04577902e-01,\n",
       "        -1.89434707e-01,  2.06475551e-01, -1.49067107e-01,\n",
       "         4.29814168e-02,  4.78593257e-02,  2.61253996e-01,\n",
       "        -1.34469896e-01, -2.43041085e-01,  1.13822669e-01,\n",
       "         1.93244248e-01,  2.84040498e-01,  8.30365081e-02,\n",
       "        -1.45023832e-01, -2.98526011e-02, -9.26763385e-03,\n",
       "         2.96350089e-01]])"
      ]
     },
     "execution_count": 11,
     "metadata": {},
     "output_type": "execute_result"
    }
   ],
   "source": [
    "model.coefs_[0]"
   ]
  },
  {
   "cell_type": "code",
   "execution_count": 12,
   "metadata": {},
   "outputs": [
    {
     "name": "stdout",
     "output_type": "stream",
     "text": [
      "(100,) (100,) (3,)\n"
     ]
    }
   ],
   "source": [
    "print(model.intercepts_[0].shape, model.intercepts_[1].shape, model.intercepts_[2].shape)"
   ]
  },
  {
   "cell_type": "code",
   "execution_count": 13,
   "metadata": {
    "collapsed": true,
    "jupyter": {
     "outputs_hidden": true
    },
    "tags": []
   },
   "outputs": [
    {
     "data": {
      "text/plain": [
       "array([ 0.2845382 ,  0.08187597,  0.22488755,  0.16163273, -0.00568267,\n",
       "        0.0019831 ,  0.06848635,  0.0665683 ,  0.30619666,  0.28934678,\n",
       "       -0.0492854 ,  0.33359282, -0.04823138, -0.11599276, -0.21275853,\n",
       "        0.03528339, -0.23209456,  0.33149223,  0.22226608, -0.15600645,\n",
       "       -0.15706789, -0.10857822, -0.11492893,  0.25015997, -0.06293935,\n",
       "        0.17996933,  0.03668641,  0.26157016,  0.24365538,  0.27335874,\n",
       "       -0.00193611,  0.12881703,  0.25165281, -0.1218419 , -0.04165124,\n",
       "        0.07653412, -0.1260693 ,  0.13807613, -0.0254531 ,  0.1969036 ,\n",
       "       -0.08744901,  0.2435591 ,  0.03906148, -0.15327757,  0.18915975,\n",
       "        0.11100622, -0.21638579, -0.06128099,  0.18349337,  0.27616406,\n",
       "       -0.16693658,  0.19370081, -0.02166931,  0.28098367,  0.14994267,\n",
       "        0.24602814,  0.12804068,  0.04446735, -0.05927085, -0.00722851,\n",
       "        0.22604677,  0.20632003,  0.13495283,  0.08143851,  0.09588123,\n",
       "       -0.06048578,  0.04647329, -0.02382964, -0.09945498, -0.03473611,\n",
       "       -0.06054568, -0.08447893,  0.05101754,  0.07934852,  0.33576396,\n",
       "        0.18720611, -0.10265446, -0.04678838, -0.03133184,  0.22977801,\n",
       "        0.2862313 ,  0.3153149 ,  0.16046252, -0.11341987, -0.07418552,\n",
       "        0.28411007, -0.02668147,  0.26767986,  0.14436103,  0.20598044,\n",
       "        0.00795334,  0.15211857, -0.00626255, -0.03692323, -0.03978616,\n",
       "       -0.20944923, -0.09974141, -0.2039113 ,  0.33126659, -0.08964336])"
      ]
     },
     "execution_count": 13,
     "metadata": {},
     "output_type": "execute_result"
    }
   ],
   "source": [
    "model.intercepts_[0]"
   ]
  },
  {
   "cell_type": "code",
   "execution_count": 14,
   "metadata": {},
   "outputs": [
    {
     "data": {
      "text/plain": [
       "Text(0, 0.5, 'Training Loss')"
      ]
     },
     "execution_count": 14,
     "metadata": {},
     "output_type": "execute_result"
    },
    {
     "data": {
      "image/png": "[encoded data removed]",
      "text/plain": [
       "<Figure size 432x288 with 1 Axes>"
      ]
     },
     "metadata": {
      "needs_background": "light"
     },
     "output_type": "display_data"
    }
   ],
   "source": [
    "plt.plot(model.loss_curve_)\n",
    "plt.xlabel('Iterations')\n",
    "plt.ylabel('Training Loss')"
   ]
  },
  {
   "cell_type": "markdown",
   "metadata": {},
   "source": [
    "### Hyperparameter Optimization"
   ]
  },
  {
   "cell_type": "code",
   "execution_count": 29,
   "metadata": {
    "collapsed": true,
    "jupyter": {
     "outputs_hidden": true
    },
    "tags": []
   },
   "outputs": [
    {
     "name": "stdout",
     "output_type": "stream",
     "text": [
      "Fitting 5 folds for each of 36 candidates, totalling 180 fits\n"
     ]
    },
    {
     "name": "stderr",
     "output_type": "stream",
     "text": [
      "/apps/tensorflow/2.7.0/lib/python3.9/site-packages/sklearn/neural_network/_multilayer_perceptron.py:614: ConvergenceWarning: Stochastic Optimizer: Maximum iterations (100) reached and the optimization hasn't converged yet.\n",
      "  warnings.warn(\n",
      "/apps/tensorflow/2.7.0/lib/python3.9/site-packages/sklearn/neural_network/_multilayer_perceptron.py:614: ConvergenceWarning: Stochastic Optimizer: Maximum iterations (100) reached and the optimization hasn't converged yet.\n",
      "  warnings.warn(\n",
      "/apps/tensorflow/2.7.0/lib/python3.9/site-packages/sklearn/neural_network/_multilayer_perceptron.py:614: ConvergenceWarning: Stochastic Optimizer: Maximum iterations (100) reached and the optimization hasn't converged yet.\n",
      "  warnings.warn(\n",
      "/apps/tensorflow/2.7.0/lib/python3.9/site-packages/sklearn/neural_network/_multilayer_perceptron.py:614: ConvergenceWarning: Stochastic Optimizer: Maximum iterations (100) reached and the optimization hasn't converged yet.\n",
      "  warnings.warn(\n",
      "/apps/tensorflow/2.7.0/lib/python3.9/site-packages/sklearn/neural_network/_multilayer_perceptron.py:614: ConvergenceWarning: Stochastic Optimizer: Maximum iterations (100) reached and the optimization hasn't converged yet.\n",
      "  warnings.warn(\n",
      "/apps/tensorflow/2.7.0/lib/python3.9/site-packages/sklearn/neural_network/_multilayer_perceptron.py:614: ConvergenceWarning: Stochastic Optimizer: Maximum iterations (100) reached and the optimization hasn't converged yet.\n",
      "  warnings.warn(\n",
      "/apps/tensorflow/2.7.0/lib/python3.9/site-packages/sklearn/neural_network/_multilayer_perceptron.py:614: ConvergenceWarning: Stochastic Optimizer: Maximum iterations (100) reached and the optimization hasn't converged yet.\n",
      "  warnings.warn(\n",
      "/apps/tensorflow/2.7.0/lib/python3.9/site-packages/sklearn/neural_network/_multilayer_perceptron.py:614: ConvergenceWarning: Stochastic Optimizer: Maximum iterations (100) reached and the optimization hasn't converged yet.\n",
      "  warnings.warn(\n",
      "/apps/tensorflow/2.7.0/lib/python3.9/site-packages/sklearn/neural_network/_multilayer_perceptron.py:614: ConvergenceWarning: Stochastic Optimizer: Maximum iterations (200) reached and the optimization hasn't converged yet.\n",
      "  warnings.warn(\n",
      "/apps/tensorflow/2.7.0/lib/python3.9/site-packages/sklearn/neural_network/_multilayer_perceptron.py:614: ConvergenceWarning: Stochastic Optimizer: Maximum iterations (200) reached and the optimization hasn't converged yet.\n",
      "  warnings.warn(\n",
      "/apps/tensorflow/2.7.0/lib/python3.9/site-packages/sklearn/neural_network/_multilayer_perceptron.py:614: ConvergenceWarning: Stochastic Optimizer: Maximum iterations (200) reached and the optimization hasn't converged yet.\n",
      "  warnings.warn(\n",
      "/apps/tensorflow/2.7.0/lib/python3.9/site-packages/sklearn/neural_network/_multilayer_perceptron.py:614: ConvergenceWarning: Stochastic Optimizer: Maximum iterations (200) reached and the optimization hasn't converged yet.\n",
      "  warnings.warn(\n",
      "/apps/tensorflow/2.7.0/lib/python3.9/site-packages/sklearn/neural_network/_multilayer_perceptron.py:614: ConvergenceWarning: Stochastic Optimizer: Maximum iterations (200) reached and the optimization hasn't converged yet.\n",
      "  warnings.warn(\n",
      "/apps/tensorflow/2.7.0/lib/python3.9/site-packages/sklearn/neural_network/_multilayer_perceptron.py:614: ConvergenceWarning: Stochastic Optimizer: Maximum iterations (200) reached and the optimization hasn't converged yet.\n",
      "  warnings.warn(\n"
     ]
    },
    {
     "name": "stdout",
     "output_type": "stream",
     "text": [
      "[CV 4/5] END mlp__hidden_layer_sizes=(300, 200, 100), mlp__learning_rate=constant, mlp__max_iter=100, mlp__solver=sgd;, score=(train=0.811, test=0.773) total time=   1.0s\n",
      "[CV 4/5] END mlp__hidden_layer_sizes=(300, 200, 100), mlp__learning_rate=constant, mlp__max_iter=200, mlp__solver=sgd;, score=(train=0.856, test=0.864) total time=   1.9s\n",
      "[CV 3/5] END mlp__hidden_layer_sizes=(300, 200, 100), mlp__learning_rate=constant, mlp__max_iter=200, mlp__solver=adam;, score=(train=0.967, test=1.000) total time=   2.1s\n",
      "[CV 3/5] END mlp__hidden_layer_sizes=(300, 200, 100), mlp__learning_rate=constant, mlp__max_iter=300, mlp__solver=sgd;, score=(train=0.922, test=0.955) total time=   2.9s\n",
      "[CV 2/5] END mlp__hidden_layer_sizes=(300, 200, 100), mlp__learning_rate=constant, mlp__max_iter=300, mlp__solver=adam;, score=(train=0.966, test=0.957) total time=   1.0s\n",
      "[CV 4/5] END mlp__hidden_layer_sizes=(300, 200, 100), mlp__learning_rate=constant, mlp__max_iter=300, mlp__solver=adam;, score=(train=0.978, test=0.955) total time=   1.1s\n",
      "[CV 2/5] END mlp__hidden_layer_sizes=(300, 200, 100), mlp__learning_rate=adaptive, mlp__max_iter=100, mlp__solver=sgd;, score=(train=0.753, test=0.739) total time=   1.0s\n",
      "[CV 1/5] END mlp__hidden_layer_sizes=(300, 200, 100), mlp__learning_rate=adaptive, mlp__max_iter=100, mlp__solver=adam;, score=(train=0.955, test=0.957) total time=   0.9s\n",
      "[CV 3/5] END mlp__hidden_layer_sizes=(300, 200, 100), mlp__learning_rate=adaptive, mlp__max_iter=100, mlp__solver=adam;, score=(train=0.956, test=1.000) total time=   1.1s\n",
      "[CV 2/5] END mlp__hidden_layer_sizes=(300, 200, 100), mlp__learning_rate=adaptive, mlp__max_iter=200, mlp__solver=sgd;, score=(train=0.933, test=0.913) total time=   1.9s\n",
      "[CV 1/5] END mlp__hidden_layer_sizes=(300, 200, 100), mlp__learning_rate=adaptive, mlp__max_iter=200, mlp__solver=adam;, score=(train=0.978, test=0.957) total time=   2.1s\n",
      "[CV 5/5] END mlp__hidden_layer_sizes=(300, 200, 100), mlp__learning_rate=adaptive, mlp__max_iter=200, mlp__solver=adam;, score=(train=1.000, test=0.955) total time=   2.2s\n",
      "[CV 4/5] END mlp__hidden_layer_sizes=(300, 200, 100), mlp__learning_rate=adaptive, mlp__max_iter=300, mlp__solver=sgd;, score=(train=0.944, test=0.909) total time=   2.9s\n",
      "[CV 3/5] END mlp__hidden_layer_sizes=(300, 200, 100), mlp__learning_rate=adaptive, mlp__max_iter=300, mlp__solver=adam;, score=(train=0.989, test=1.000) total time=   3.2s\n",
      "[CV 3/5] END mlp__hidden_layer_sizes=(150, 100, 50), mlp__learning_rate=constant, mlp__max_iter=100, mlp__solver=adam;, score=(train=0.944, test=1.000) total time=   0.5s\n",
      "[CV 1/5] END mlp__hidden_layer_sizes=(150, 100, 50), mlp__learning_rate=constant, mlp__max_iter=200, mlp__solver=sgd;, score=(train=0.921, test=0.870) total time=   0.8s\n",
      "[CV 4/5] END mlp__hidden_layer_sizes=(150, 100, 50), mlp__learning_rate=constant, mlp__max_iter=200, mlp__solver=sgd;, score=(train=0.878, test=0.864) total time=   0.8s\n",
      "[CV 4/5] END mlp__hidden_layer_sizes=(150, 100, 50), mlp__learning_rate=constant, mlp__max_iter=200, mlp__solver=adam;, score=(train=0.978, test=0.955) total time=   0.6s\n",
      "[CV 3/5] END mlp__hidden_layer_sizes=(150, 100, 50), mlp__learning_rate=constant, mlp__max_iter=300, mlp__solver=sgd;, score=(train=0.900, test=0.909) total time=   1.2s\n",
      "[CV 2/5] END mlp__hidden_layer_sizes=(150, 100, 50), mlp__learning_rate=constant, mlp__max_iter=300, mlp__solver=adam;, score=(train=0.966, test=0.913) total time=   0.6s\n",
      "[CV 5/5] END mlp__hidden_layer_sizes=(150, 100, 50), mlp__learning_rate=constant, mlp__max_iter=300, mlp__solver=adam;, score=(train=0.967, test=0.955) total time=   0.5s\n",
      "[CV 2/5] END mlp__hidden_layer_sizes=(150, 100, 50), mlp__learning_rate=adaptive, mlp__max_iter=100, mlp__solver=sgd;, score=(train=0.831, test=0.870) total time=   0.4s\n",
      "[CV 1/5] END mlp__hidden_layer_sizes=(150, 100, 50), mlp__learning_rate=adaptive, mlp__max_iter=100, mlp__solver=adam;, score=(train=0.955, test=0.957) total time=   0.4s\n",
      "[CV 5/5] END mlp__hidden_layer_sizes=(150, 100, 50), mlp__learning_rate=adaptive, mlp__max_iter=100, mlp__solver=adam;, score=(train=0.956, test=0.955) total time=   0.5s\n",
      "[CV 4/5] END mlp__hidden_layer_sizes=(150, 100, 50), mlp__learning_rate=adaptive, mlp__max_iter=200, mlp__solver=sgd;, score=(train=0.878, test=0.818) total time=   0.8s\n",
      "[CV 3/5] END mlp__hidden_layer_sizes=(150, 100, 50), mlp__learning_rate=adaptive, mlp__max_iter=200, mlp__solver=adam;, score=(train=0.944, test=1.000) total time=   0.5s\n",
      "[CV 2/5] END mlp__hidden_layer_sizes=(150, 100, 50), mlp__learning_rate=adaptive, mlp__max_iter=300, mlp__solver=sgd;, score=(train=0.955, test=0.957) total time=   1.2s\n",
      "[CV 1/5] END mlp__hidden_layer_sizes=(150, 100, 50), mlp__learning_rate=adaptive, mlp__max_iter=300, mlp__solver=adam;, score=(train=0.955, test=0.957) total time=   0.5s\n",
      "[CV 4/5] END mlp__hidden_layer_sizes=(150, 100, 50), mlp__learning_rate=adaptive, mlp__max_iter=300, mlp__solver=adam;, score=(train=0.978, test=0.955) total time=   0.6s\n",
      "[CV 2/5] END mlp__hidden_layer_sizes=(75, 50, 25), mlp__learning_rate=constant, mlp__max_iter=100, mlp__solver=sgd;, score=(train=0.708, test=0.696) total time=   0.3s\n",
      "[CV 5/5] END mlp__hidden_layer_sizes=(75, 50, 25), mlp__learning_rate=constant, mlp__max_iter=100, mlp__solver=sgd;, score=(train=0.689, test=0.727) total time=   0.3s\n",
      "[CV 3/5] END mlp__hidden_layer_sizes=(75, 50, 25), mlp__learning_rate=constant, mlp__max_iter=100, mlp__solver=adam;, score=(train=0.944, test=1.000) total time=   0.3s\n",
      "[CV 1/5] END mlp__hidden_layer_sizes=(75, 50, 25), mlp__learning_rate=constant, mlp__max_iter=200, mlp__solver=sgd;, score=(train=0.933, test=0.957) total time=   0.5s\n",
      "[CV 5/5] END mlp__hidden_layer_sizes=(75, 50, 25), mlp__learning_rate=constant, mlp__max_iter=200, mlp__solver=sgd;, score=(train=0.878, test=0.955) total time=   0.5s\n",
      "[CV 4/5] END mlp__hidden_layer_sizes=(75, 50, 25), mlp__learning_rate=constant, mlp__max_iter=200, mlp__solver=adam;, score=(train=0.978, test=0.955) total time=   0.5s\n",
      "[CV 3/5] END mlp__hidden_layer_sizes=(75, 50, 25), mlp__learning_rate=constant, mlp__max_iter=300, mlp__solver=sgd;, score=(train=0.933, test=1.000) total time=   0.8s\n",
      "[CV 3/5] END mlp__hidden_layer_sizes=(75, 50, 25), mlp__learning_rate=constant, mlp__max_iter=300, mlp__solver=adam;, score=(train=0.944, test=1.000) total time=   0.6s\n",
      "[CV 1/5] END mlp__hidden_layer_sizes=(75, 50, 25), mlp__learning_rate=adaptive, mlp__max_iter=100, mlp__solver=sgd;, score=(train=0.326, test=0.348) total time=   0.3s\n",
      "[CV 4/5] END mlp__hidden_layer_sizes=(75, 50, 25), mlp__learning_rate=adaptive, mlp__max_iter=100, mlp__solver=sgd;, score=(train=0.322, test=0.318) total time=   0.2s\n",
      "[CV 2/5] END mlp__hidden_layer_sizes=(75, 50, 25), mlp__learning_rate=adaptive, mlp__max_iter=100, mlp__solver=adam;, score=(train=0.966, test=0.913) total time=   0.3s\n",
      "[CV 3/5] END mlp__hidden_layer_sizes=(75, 50, 25), mlp__learning_rate=adaptive, mlp__max_iter=200, mlp__solver=sgd;, score=(train=0.856, test=0.909) total time=   0.5s\n",
      "[CV 1/5] END mlp__hidden_layer_sizes=(75, 50, 25), mlp__learning_rate=adaptive, mlp__max_iter=200, mlp__solver=adam;, score=(train=0.955, test=0.957) total time=   0.5s\n",
      "[CV 1/5] END mlp__hidden_layer_sizes=(75, 50, 25), mlp__learning_rate=adaptive, mlp__max_iter=300, mlp__solver=sgd;, score=(train=0.865, test=0.826) total time=   0.8s\n",
      "[CV 5/5] END mlp__hidden_layer_sizes=(75, 50, 25), mlp__learning_rate=adaptive, mlp__max_iter=300, mlp__solver=sgd;, score=(train=0.889, test=0.909) total time=   0.8s\n",
      "[CV 5/5] END mlp__hidden_layer_sizes=(75, 50, 25), mlp__learning_rate=adaptive, mlp__max_iter=300, mlp__solver=adam;, score=(train=0.967, test=0.955) total time=   0.4s\n",
      "[CV 4/5] END mlp__hidden_layer_sizes=(300, 200, 100), mlp__learning_rate=constant, mlp__max_iter=100, mlp__solver=sgd;, score=(train=0.744, test=0.727) total time=   0.9s\n",
      "[CV 3/5] END mlp__hidden_layer_sizes=(300, 200, 100), mlp__learning_rate=constant, mlp__max_iter=100, mlp__solver=adam;, score=(train=0.956, test=1.000) total time=   0.9s\n",
      "[CV 2/5] END mlp__hidden_layer_sizes=(300, 200, 100), mlp__learning_rate=constant, mlp__max_iter=200, mlp__solver=sgd;, score=(train=0.843, test=0.870) total time=   1.9s\n"
     ]
    },
    {
     "name": "stderr",
     "output_type": "stream",
     "text": [
      "/apps/tensorflow/2.7.0/lib/python3.9/site-packages/sklearn/neural_network/_multilayer_perceptron.py:614: ConvergenceWarning: Stochastic Optimizer: Maximum iterations (200) reached and the optimization hasn't converged yet.\n",
      "  warnings.warn(\n"
     ]
    },
    {
     "name": "stdout",
     "output_type": "stream",
     "text": [
      "[CV 2/5] END mlp__hidden_layer_sizes=(300, 200, 100), mlp__learning_rate=constant, mlp__max_iter=100, mlp__solver=sgd;, score=(train=0.697, test=0.696) total time=   0.8s\n",
      "[CV 1/5] END mlp__hidden_layer_sizes=(300, 200, 100), mlp__learning_rate=constant, mlp__max_iter=100, mlp__solver=adam;, score=(train=0.955, test=0.957) total time=   0.9s\n",
      "[CV 4/5] END mlp__hidden_layer_sizes=(300, 200, 100), mlp__learning_rate=constant, mlp__max_iter=100, mlp__solver=adam;, score=(train=0.978, test=0.955) total time=   1.0s\n",
      "[CV 2/5] END mlp__hidden_layer_sizes=(300, 200, 100), mlp__learning_rate=constant, mlp__max_iter=200, mlp__solver=sgd;, score=(train=0.955, test=0.913) total time=   1.9s\n",
      "[CV 1/5] END mlp__hidden_layer_sizes=(300, 200, 100), mlp__learning_rate=constant, mlp__max_iter=200, mlp__solver=adam;, score=(train=0.989, test=0.957) total time=   2.1s\n",
      "[CV 1/5] END mlp__hidden_layer_sizes=(300, 200, 100), mlp__learning_rate=constant, mlp__max_iter=300, mlp__solver=sgd;, score=(train=0.955, test=0.957) total time=   2.8s\n",
      "[CV 5/5] END mlp__hidden_layer_sizes=(300, 200, 100), mlp__learning_rate=constant, mlp__max_iter=300, mlp__solver=sgd;, score=(train=0.944, test=0.955) total time=   2.9s\n",
      "[CV 5/5] END mlp__hidden_layer_sizes=(300, 200, 100), mlp__learning_rate=constant, mlp__max_iter=300, mlp__solver=adam;, score=(train=1.000, test=0.955) total time=   3.2s\n",
      "[CV 5/5] END mlp__hidden_layer_sizes=(300, 200, 100), mlp__learning_rate=adaptive, mlp__max_iter=100, mlp__solver=adam;, score=(train=0.967, test=0.955) total time=   1.1s\n",
      "[CV 4/5] END mlp__hidden_layer_sizes=(300, 200, 100), mlp__learning_rate=adaptive, mlp__max_iter=200, mlp__solver=sgd;, score=(train=0.922, test=0.909) total time=   1.9s\n",
      "[CV 3/5] END mlp__hidden_layer_sizes=(300, 200, 100), mlp__learning_rate=adaptive, mlp__max_iter=200, mlp__solver=adam;, score=(train=0.956, test=1.000) total time=   2.2s\n",
      "[CV 3/5] END mlp__hidden_layer_sizes=(300, 200, 100), mlp__learning_rate=adaptive, mlp__max_iter=300, mlp__solver=sgd;, score=(train=0.933, test=1.000) total time=   2.9s\n",
      "[CV 2/5] END mlp__hidden_layer_sizes=(300, 200, 100), mlp__learning_rate=adaptive, mlp__max_iter=300, mlp__solver=adam;, score=(train=0.989, test=0.957) total time=   3.1s\n",
      "[CV 2/5] END mlp__hidden_layer_sizes=(150, 100, 50), mlp__learning_rate=constant, mlp__max_iter=100, mlp__solver=sgd;, score=(train=0.697, test=0.696) total time=   0.4s\n",
      "[CV 4/5] END mlp__hidden_layer_sizes=(150, 100, 50), mlp__learning_rate=constant, mlp__max_iter=100, mlp__solver=sgd;, score=(train=0.956, test=0.909) total time=   0.4s\n",
      "[CV 1/5] END mlp__hidden_layer_sizes=(150, 100, 50), mlp__learning_rate=constant, mlp__max_iter=100, mlp__solver=adam;, score=(train=0.955, test=0.957) total time=   0.5s\n",
      "[CV 4/5] END mlp__hidden_layer_sizes=(150, 100, 50), mlp__learning_rate=constant, mlp__max_iter=100, mlp__solver=adam;, score=(train=0.967, test=0.955) total time=   0.5s\n",
      "[CV 2/5] END mlp__hidden_layer_sizes=(150, 100, 50), mlp__learning_rate=constant, mlp__max_iter=200, mlp__solver=sgd;, score=(train=0.876, test=0.870) total time=   0.8s\n",
      "[CV 5/5] END mlp__hidden_layer_sizes=(150, 100, 50), mlp__learning_rate=constant, mlp__max_iter=200, mlp__solver=sgd;, score=(train=0.911, test=0.955) total time=   0.8s\n",
      "[CV 5/5] END mlp__hidden_layer_sizes=(150, 100, 50), mlp__learning_rate=constant, mlp__max_iter=200, mlp__solver=adam;, score=(train=0.967, test=0.955) total time=   0.7s\n",
      "[CV 4/5] END mlp__hidden_layer_sizes=(150, 100, 50), mlp__learning_rate=constant, mlp__max_iter=300, mlp__solver=sgd;, score=(train=0.956, test=0.909) total time=   1.2s\n",
      "[CV 3/5] END mlp__hidden_layer_sizes=(150, 100, 50), mlp__learning_rate=constant, mlp__max_iter=300, mlp__solver=adam;, score=(train=0.956, test=1.000) total time=   0.5s\n",
      "[CV 4/5] END mlp__hidden_layer_sizes=(150, 100, 50), mlp__learning_rate=constant, mlp__max_iter=300, mlp__solver=adam;, score=(train=0.978, test=0.955) total time=   0.6s\n",
      "[CV 4/5] END mlp__hidden_layer_sizes=(150, 100, 50), mlp__learning_rate=adaptive, mlp__max_iter=100, mlp__solver=sgd;, score=(train=0.700, test=0.682) total time=   0.4s\n",
      "[CV 3/5] END mlp__hidden_layer_sizes=(150, 100, 50), mlp__learning_rate=adaptive, mlp__max_iter=100, mlp__solver=adam;, score=(train=0.956, test=1.000) total time=   0.4s\n",
      "[CV 2/5] END mlp__hidden_layer_sizes=(150, 100, 50), mlp__learning_rate=adaptive, mlp__max_iter=200, mlp__solver=sgd;, score=(train=0.955, test=0.913) total time=   0.8s\n",
      "[CV 1/5] END mlp__hidden_layer_sizes=(150, 100, 50), mlp__learning_rate=adaptive, mlp__max_iter=200, mlp__solver=adam;, score=(train=0.955, test=0.957) total time=   0.5s\n",
      "[CV 4/5] END mlp__hidden_layer_sizes=(150, 100, 50), mlp__learning_rate=adaptive, mlp__max_iter=200, mlp__solver=adam;, score=(train=0.978, test=0.955) total time=   0.7s\n",
      "[CV 4/5] END mlp__hidden_layer_sizes=(150, 100, 50), mlp__learning_rate=adaptive, mlp__max_iter=300, mlp__solver=sgd;, score=(train=0.967, test=0.909) total time=   1.2s\n",
      "[CV 3/5] END mlp__hidden_layer_sizes=(150, 100, 50), mlp__learning_rate=adaptive, mlp__max_iter=300, mlp__solver=adam;, score=(train=0.944, test=1.000) total time=   0.6s\n",
      "[CV 5/5] END mlp__hidden_layer_sizes=(150, 100, 50), mlp__learning_rate=adaptive, mlp__max_iter=300, mlp__solver=adam;, score=(train=0.989, test=0.955) total time=   1.3s\n",
      "[CV 4/5] END mlp__hidden_layer_sizes=(75, 50, 25), mlp__learning_rate=constant, mlp__max_iter=200, mlp__solver=sgd;, score=(train=0.778, test=0.773) total time=   0.5s\n",
      "[CV 3/5] END mlp__hidden_layer_sizes=(75, 50, 25), mlp__learning_rate=constant, mlp__max_iter=200, mlp__solver=adam;, score=(train=0.944, test=1.000) total time=   0.5s\n",
      "[CV 2/5] END mlp__hidden_layer_sizes=(75, 50, 25), mlp__learning_rate=constant, mlp__max_iter=300, mlp__solver=sgd;, score=(train=0.966, test=0.913) total time=   0.7s\n",
      "[CV 1/5] END mlp__hidden_layer_sizes=(75, 50, 25), mlp__learning_rate=constant, mlp__max_iter=300, mlp__solver=adam;, score=(train=0.955, test=0.957) total time=   0.5s\n",
      "[CV 4/5] END mlp__hidden_layer_sizes=(75, 50, 25), mlp__learning_rate=constant, mlp__max_iter=300, mlp__solver=adam;, score=(train=0.978, test=0.955) total time=   0.5s\n",
      "[CV 3/5] END mlp__hidden_layer_sizes=(75, 50, 25), mlp__learning_rate=adaptive, mlp__max_iter=100, mlp__solver=sgd;, score=(train=0.633, test=0.636) total time=   0.3s\n",
      "[CV 3/5] END mlp__hidden_layer_sizes=(75, 50, 25), mlp__learning_rate=adaptive, mlp__max_iter=100, mlp__solver=adam;, score=(train=0.944, test=1.000) total time=   0.2s\n",
      "[CV 1/5] END mlp__hidden_layer_sizes=(75, 50, 25), mlp__learning_rate=adaptive, mlp__max_iter=200, mlp__solver=sgd;, score=(train=0.921, test=0.913) total time=   0.5s\n",
      "[CV 5/5] END mlp__hidden_layer_sizes=(75, 50, 25), mlp__learning_rate=adaptive, mlp__max_iter=200, mlp__solver=sgd;, score=(train=0.833, test=0.864) total time=   0.5s\n",
      "[CV 4/5] END mlp__hidden_layer_sizes=(75, 50, 25), mlp__learning_rate=adaptive, mlp__max_iter=200, mlp__solver=adam;, score=(train=0.967, test=0.955) total time=   0.6s\n",
      "[CV 3/5] END mlp__hidden_layer_sizes=(75, 50, 25), mlp__learning_rate=adaptive, mlp__max_iter=300, mlp__solver=sgd;, score=(train=0.911, test=0.955) total time=   0.7s\n",
      "[CV 2/5] END mlp__hidden_layer_sizes=(75, 50, 25), mlp__learning_rate=adaptive, mlp__max_iter=300, mlp__solver=adam;, score=(train=0.966, test=0.913) total time=   0.6s\n",
      "[CV 2/5] END mlp__hidden_layer_sizes=(300, 200, 100), mlp__learning_rate=constant, mlp__max_iter=100, mlp__solver=sgd;, score=(train=0.899, test=0.870) total time=   0.7s\n",
      "[CV 5/5] END mlp__hidden_layer_sizes=(300, 200, 100), mlp__learning_rate=constant, mlp__max_iter=100, mlp__solver=sgd;, score=(train=0.844, test=0.864) total time=   1.0s\n",
      "[CV 4/5] END mlp__hidden_layer_sizes=(300, 200, 100), mlp__learning_rate=constant, mlp__max_iter=100, mlp__solver=adam;, score=(train=0.978, test=0.955) total time=   1.1s\n",
      "[CV 3/5] END mlp__hidden_layer_sizes=(300, 200, 100), mlp__learning_rate=constant, mlp__max_iter=200, mlp__solver=sgd;, score=(train=0.822, test=0.727) total time=   1.9s\n",
      "[CV 2/5] END mlp__hidden_layer_sizes=(300, 200, 100), mlp__learning_rate=constant, mlp__max_iter=200, mlp__solver=adam;, score=(train=0.966, test=0.957) total time=   1.1s\n"
     ]
    },
    {
     "name": "stderr",
     "output_type": "stream",
     "text": [
      "/apps/tensorflow/2.7.0/lib/python3.9/site-packages/sklearn/neural_network/_multilayer_perceptron.py:614: ConvergenceWarning: Stochastic Optimizer: Maximum iterations (200) reached and the optimization hasn't converged yet.\n",
      "  warnings.warn(\n",
      "/apps/tensorflow/2.7.0/lib/python3.9/site-packages/sklearn/neural_network/_multilayer_perceptron.py:614: ConvergenceWarning: Stochastic Optimizer: Maximum iterations (300) reached and the optimization hasn't converged yet.\n",
      "  warnings.warn(\n",
      "/apps/tensorflow/2.7.0/lib/python3.9/site-packages/sklearn/neural_network/_multilayer_perceptron.py:614: ConvergenceWarning: Stochastic Optimizer: Maximum iterations (300) reached and the optimization hasn't converged yet.\n",
      "  warnings.warn(\n",
      "/apps/tensorflow/2.7.0/lib/python3.9/site-packages/sklearn/neural_network/_multilayer_perceptron.py:614: ConvergenceWarning: Stochastic Optimizer: Maximum iterations (300) reached and the optimization hasn't converged yet.\n",
      "  warnings.warn(\n"
     ]
    },
    {
     "name": "stdout",
     "output_type": "stream",
     "text": [
      "[CV 1/5] END mlp__hidden_layer_sizes=(300, 200, 100), mlp__learning_rate=constant, mlp__max_iter=100, mlp__solver=sgd;, score=(train=0.933, test=0.913) total time=   0.9s\n",
      "[CV 5/5] END mlp__hidden_layer_sizes=(300, 200, 100), mlp__learning_rate=constant, mlp__max_iter=100, mlp__solver=sgd;, score=(train=0.711, test=0.773) total time=   0.9s\n",
      "[CV 3/5] END mlp__hidden_layer_sizes=(300, 200, 100), mlp__learning_rate=constant, mlp__max_iter=100, mlp__solver=adam;, score=(train=0.956, test=1.000) total time=   1.0s\n",
      "[CV 1/5] END mlp__hidden_layer_sizes=(300, 200, 100), mlp__learning_rate=constant, mlp__max_iter=200, mlp__solver=sgd;, score=(train=0.921, test=0.913) total time=   1.9s\n",
      "[CV 5/5] END mlp__hidden_layer_sizes=(300, 200, 100), mlp__learning_rate=constant, mlp__max_iter=200, mlp__solver=sgd;, score=(train=0.922, test=0.955) total time=   2.0s\n",
      "[CV 5/5] END mlp__hidden_layer_sizes=(300, 200, 100), mlp__learning_rate=constant, mlp__max_iter=200, mlp__solver=adam;, score=(train=1.000, test=0.955) total time=   2.1s\n",
      "[CV 4/5] END mlp__hidden_layer_sizes=(300, 200, 100), mlp__learning_rate=constant, mlp__max_iter=300, mlp__solver=sgd;, score=(train=0.967, test=0.909) total time=   2.9s\n",
      "[CV 3/5] END mlp__hidden_layer_sizes=(300, 200, 100), mlp__learning_rate=constant, mlp__max_iter=300, mlp__solver=adam;, score=(train=0.956, test=1.000) total time=   1.0s\n",
      "[CV 1/5] END mlp__hidden_layer_sizes=(300, 200, 100), mlp__learning_rate=adaptive, mlp__max_iter=100, mlp__solver=sgd;, score=(train=0.854, test=0.870) total time=   1.0s\n",
      "[CV 4/5] END mlp__hidden_layer_sizes=(300, 200, 100), mlp__learning_rate=adaptive, mlp__max_iter=100, mlp__solver=sgd;, score=(train=0.867, test=0.773) total time=   1.0s\n",
      "[CV 2/5] END mlp__hidden_layer_sizes=(300, 200, 100), mlp__learning_rate=adaptive, mlp__max_iter=100, mlp__solver=adam;, score=(train=0.966, test=0.957) total time=   1.1s\n",
      "[CV 1/5] END mlp__hidden_layer_sizes=(300, 200, 100), mlp__learning_rate=adaptive, mlp__max_iter=200, mlp__solver=sgd;, score=(train=0.933, test=0.913) total time=   1.9s\n",
      "[CV 5/5] END mlp__hidden_layer_sizes=(300, 200, 100), mlp__learning_rate=adaptive, mlp__max_iter=200, mlp__solver=sgd;, score=(train=0.844, test=0.864) total time=   2.0s\n",
      "[CV 4/5] END mlp__hidden_layer_sizes=(300, 200, 100), mlp__learning_rate=adaptive, mlp__max_iter=200, mlp__solver=adam;, score=(train=0.978, test=0.955) total time=   1.1s\n",
      "[CV 2/5] END mlp__hidden_layer_sizes=(300, 200, 100), mlp__learning_rate=adaptive, mlp__max_iter=300, mlp__solver=sgd;, score=(train=0.966, test=0.957) total time=   2.8s\n",
      "[CV 1/5] END mlp__hidden_layer_sizes=(300, 200, 100), mlp__learning_rate=adaptive, mlp__max_iter=300, mlp__solver=adam;, score=(train=0.989, test=0.957) total time=   3.1s\n",
      "[CV 5/5] END mlp__hidden_layer_sizes=(300, 200, 100), mlp__learning_rate=adaptive, mlp__max_iter=300, mlp__solver=adam;, score=(train=1.000, test=0.955) total time=   3.1s\n",
      "[CV 1/5] END mlp__hidden_layer_sizes=(150, 100, 50), mlp__learning_rate=constant, mlp__max_iter=200, mlp__solver=adam;, score=(train=0.955, test=0.957) total time=   0.5s\n",
      "[CV 3/5] END mlp__hidden_layer_sizes=(150, 100, 50), mlp__learning_rate=constant, mlp__max_iter=200, mlp__solver=adam;, score=(train=0.956, test=1.000) total time=   0.6s\n",
      "[CV 2/5] END mlp__hidden_layer_sizes=(150, 100, 50), mlp__learning_rate=constant, mlp__max_iter=300, mlp__solver=sgd;, score=(train=0.966, test=1.000) total time=   1.2s\n",
      "[CV 1/5] END mlp__hidden_layer_sizes=(150, 100, 50), mlp__learning_rate=constant, mlp__max_iter=300, mlp__solver=adam;, score=(train=0.989, test=0.957) total time=   1.3s\n",
      "[CV 3/5] END mlp__hidden_layer_sizes=(150, 100, 50), mlp__learning_rate=adaptive, mlp__max_iter=100, mlp__solver=sgd;, score=(train=0.856, test=0.773) total time=   0.4s\n",
      "[CV 2/5] END mlp__hidden_layer_sizes=(150, 100, 50), mlp__learning_rate=adaptive, mlp__max_iter=100, mlp__solver=adam;, score=(train=0.966, test=0.913) total time=   0.5s\n",
      "[CV 1/5] END mlp__hidden_layer_sizes=(150, 100, 50), mlp__learning_rate=adaptive, mlp__max_iter=200, mlp__solver=sgd;, score=(train=0.798, test=0.870) total time=   0.8s\n",
      "[CV 5/5] END mlp__hidden_layer_sizes=(150, 100, 50), mlp__learning_rate=adaptive, mlp__max_iter=200, mlp__solver=sgd;, score=(train=0.933, test=0.955) total time=   0.9s\n",
      "[CV 1/5] END mlp__hidden_layer_sizes=(150, 100, 50), mlp__learning_rate=adaptive, mlp__max_iter=300, mlp__solver=sgd;, score=(train=0.944, test=0.957) total time=   1.2s\n",
      "[CV 5/5] END mlp__hidden_layer_sizes=(150, 100, 50), mlp__learning_rate=adaptive, mlp__max_iter=300, mlp__solver=sgd;, score=(train=0.944, test=0.955) total time=   1.2s\n",
      "[CV 3/5] END mlp__hidden_layer_sizes=(75, 50, 25), mlp__learning_rate=constant, mlp__max_iter=100, mlp__solver=sgd;, score=(train=0.867, test=0.864) total time=   0.3s\n",
      "[CV 1/5] END mlp__hidden_layer_sizes=(75, 50, 25), mlp__learning_rate=constant, mlp__max_iter=100, mlp__solver=adam;, score=(train=0.955, test=0.957) total time=   0.3s\n",
      "[CV 4/5] END mlp__hidden_layer_sizes=(75, 50, 25), mlp__learning_rate=constant, mlp__max_iter=100, mlp__solver=adam;, score=(train=0.967, test=0.955) total time=   0.3s\n",
      "[CV 2/5] END mlp__hidden_layer_sizes=(75, 50, 25), mlp__learning_rate=constant, mlp__max_iter=200, mlp__solver=sgd;, score=(train=0.708, test=0.696) total time=   0.5s\n",
      "[CV 1/5] END mlp__hidden_layer_sizes=(75, 50, 25), mlp__learning_rate=constant, mlp__max_iter=200, mlp__solver=adam;, score=(train=0.955, test=0.957) total time=   0.5s\n",
      "[CV 5/5] END mlp__hidden_layer_sizes=(75, 50, 25), mlp__learning_rate=constant, mlp__max_iter=200, mlp__solver=adam;, score=(train=0.956, test=0.955) total time=   0.5s\n",
      "[CV 4/5] END mlp__hidden_layer_sizes=(75, 50, 25), mlp__learning_rate=constant, mlp__max_iter=300, mlp__solver=sgd;, score=(train=0.967, test=0.909) total time=   0.7s\n",
      "[CV 2/5] END mlp__hidden_layer_sizes=(75, 50, 25), mlp__learning_rate=constant, mlp__max_iter=300, mlp__solver=adam;, score=(train=0.966, test=0.913) total time=   0.6s\n",
      "[CV 2/5] END mlp__hidden_layer_sizes=(75, 50, 25), mlp__learning_rate=adaptive, mlp__max_iter=100, mlp__solver=sgd;, score=(train=0.798, test=0.826) total time=   0.2s\n",
      "[CV 5/5] END mlp__hidden_layer_sizes=(75, 50, 25), mlp__learning_rate=adaptive, mlp__max_iter=100, mlp__solver=sgd;, score=(train=0.689, test=0.727) total time=   0.3s\n",
      "[CV 4/5] END mlp__hidden_layer_sizes=(75, 50, 25), mlp__learning_rate=adaptive, mlp__max_iter=100, mlp__solver=adam;, score=(train=0.967, test=0.955) total time=   0.3s\n",
      "[CV 2/5] END mlp__hidden_layer_sizes=(75, 50, 25), mlp__learning_rate=adaptive, mlp__max_iter=200, mlp__solver=sgd;, score=(train=0.955, test=0.913) total time=   0.5s\n",
      "[CV 2/5] END mlp__hidden_layer_sizes=(75, 50, 25), mlp__learning_rate=adaptive, mlp__max_iter=200, mlp__solver=adam;, score=(train=0.966, test=0.913) total time=   0.6s\n",
      "[CV 2/5] END mlp__hidden_layer_sizes=(75, 50, 25), mlp__learning_rate=adaptive, mlp__max_iter=300, mlp__solver=sgd;, score=(train=0.955, test=0.913) total time=   0.7s\n",
      "[CV 1/5] END mlp__hidden_layer_sizes=(75, 50, 25), mlp__learning_rate=adaptive, mlp__max_iter=300, mlp__solver=adam;, score=(train=0.955, test=0.957) total time=   0.5s\n",
      "[CV 3/5] END mlp__hidden_layer_sizes=(75, 50, 25), mlp__learning_rate=adaptive, mlp__max_iter=300, mlp__solver=adam;, score=(train=0.956, test=1.000) total time=   0.5s\n",
      "[CV 1/5] END mlp__hidden_layer_sizes=(300, 200, 100), mlp__learning_rate=constant, mlp__max_iter=100, mlp__solver=sgd;, score=(train=0.798, test=0.826) total time=   0.8s\n",
      "[CV 1/5] END mlp__hidden_layer_sizes=(300, 200, 100), mlp__learning_rate=constant, mlp__max_iter=100, mlp__solver=adam;, score=(train=0.955, test=0.957) total time=   1.0s\n",
      "[CV 5/5] END mlp__hidden_layer_sizes=(300, 200, 100), mlp__learning_rate=constant, mlp__max_iter=100, mlp__solver=adam;, score=(train=0.967, test=0.955) total time=   1.1s\n",
      "[CV 4/5] END mlp__hidden_layer_sizes=(300, 200, 100), mlp__learning_rate=constant, mlp__max_iter=200, mlp__solver=sgd;, score=(train=0.933, test=0.909) total time=   1.9s\n",
      "[CV 3/5] END mlp__hidden_layer_sizes=(300, 200, 100), mlp__learning_rate=constant, mlp__max_iter=200, mlp__solver=adam;, score=(train=0.989, test=1.000) total time=   2.2s\n"
     ]
    },
    {
     "name": "stderr",
     "output_type": "stream",
     "text": [
      "/apps/tensorflow/2.7.0/lib/python3.9/site-packages/sklearn/neural_network/_multilayer_perceptron.py:614: ConvergenceWarning: Stochastic Optimizer: Maximum iterations (300) reached and the optimization hasn't converged yet.\n",
      "  warnings.warn(\n",
      "/apps/tensorflow/2.7.0/lib/python3.9/site-packages/sklearn/neural_network/_multilayer_perceptron.py:614: ConvergenceWarning: Stochastic Optimizer: Maximum iterations (300) reached and the optimization hasn't converged yet.\n",
      "  warnings.warn(\n",
      "/apps/tensorflow/2.7.0/lib/python3.9/site-packages/sklearn/neural_network/_multilayer_perceptron.py:614: ConvergenceWarning: Stochastic Optimizer: Maximum iterations (300) reached and the optimization hasn't converged yet.\n",
      "  warnings.warn(\n",
      "/apps/tensorflow/2.7.0/lib/python3.9/site-packages/sklearn/neural_network/_multilayer_perceptron.py:614: ConvergenceWarning: Stochastic Optimizer: Maximum iterations (100) reached and the optimization hasn't converged yet.\n",
      "  warnings.warn(\n",
      "/apps/tensorflow/2.7.0/lib/python3.9/site-packages/sklearn/neural_network/_multilayer_perceptron.py:614: ConvergenceWarning: Stochastic Optimizer: Maximum iterations (100) reached and the optimization hasn't converged yet.\n",
      "  warnings.warn(\n",
      "/apps/tensorflow/2.7.0/lib/python3.9/site-packages/sklearn/neural_network/_multilayer_perceptron.py:614: ConvergenceWarning: Stochastic Optimizer: Maximum iterations (100) reached and the optimization hasn't converged yet.\n",
      "  warnings.warn(\n",
      "/apps/tensorflow/2.7.0/lib/python3.9/site-packages/sklearn/neural_network/_multilayer_perceptron.py:614: ConvergenceWarning: Stochastic Optimizer: Maximum iterations (100) reached and the optimization hasn't converged yet.\n",
      "  warnings.warn(\n",
      "/apps/tensorflow/2.7.0/lib/python3.9/site-packages/sklearn/neural_network/_multilayer_perceptron.py:614: ConvergenceWarning: Stochastic Optimizer: Maximum iterations (100) reached and the optimization hasn't converged yet.\n",
      "  warnings.warn(\n",
      "/apps/tensorflow/2.7.0/lib/python3.9/site-packages/sklearn/neural_network/_multilayer_perceptron.py:614: ConvergenceWarning: Stochastic Optimizer: Maximum iterations (100) reached and the optimization hasn't converged yet.\n",
      "  warnings.warn(\n",
      "/apps/tensorflow/2.7.0/lib/python3.9/site-packages/sklearn/neural_network/_multilayer_perceptron.py:614: ConvergenceWarning: Stochastic Optimizer: Maximum iterations (100) reached and the optimization hasn't converged yet.\n",
      "  warnings.warn(\n",
      "/apps/tensorflow/2.7.0/lib/python3.9/site-packages/sklearn/neural_network/_multilayer_perceptron.py:614: ConvergenceWarning: Stochastic Optimizer: Maximum iterations (300) reached and the optimization hasn't converged yet.\n",
      "  warnings.warn(\n",
      "/apps/tensorflow/2.7.0/lib/python3.9/site-packages/sklearn/neural_network/_multilayer_perceptron.py:614: ConvergenceWarning: Stochastic Optimizer: Maximum iterations (100) reached and the optimization hasn't converged yet.\n",
      "  warnings.warn(\n",
      "/apps/tensorflow/2.7.0/lib/python3.9/site-packages/sklearn/neural_network/_multilayer_perceptron.py:614: ConvergenceWarning: Stochastic Optimizer: Maximum iterations (100) reached and the optimization hasn't converged yet.\n",
      "  warnings.warn(\n",
      "/apps/tensorflow/2.7.0/lib/python3.9/site-packages/sklearn/neural_network/_multilayer_perceptron.py:614: ConvergenceWarning: Stochastic Optimizer: Maximum iterations (200) reached and the optimization hasn't converged yet.\n",
      "  warnings.warn(\n",
      "/apps/tensorflow/2.7.0/lib/python3.9/site-packages/sklearn/neural_network/_multilayer_perceptron.py:614: ConvergenceWarning: Stochastic Optimizer: Maximum iterations (200) reached and the optimization hasn't converged yet.\n",
      "  warnings.warn(\n",
      "/apps/tensorflow/2.7.0/lib/python3.9/site-packages/sklearn/neural_network/_multilayer_perceptron.py:614: ConvergenceWarning: Stochastic Optimizer: Maximum iterations (200) reached and the optimization hasn't converged yet.\n",
      "  warnings.warn(\n",
      "/apps/tensorflow/2.7.0/lib/python3.9/site-packages/sklearn/neural_network/_multilayer_perceptron.py:614: ConvergenceWarning: Stochastic Optimizer: Maximum iterations (200) reached and the optimization hasn't converged yet.\n",
      "  warnings.warn(\n",
      "/apps/tensorflow/2.7.0/lib/python3.9/site-packages/sklearn/neural_network/_multilayer_perceptron.py:614: ConvergenceWarning: Stochastic Optimizer: Maximum iterations (200) reached and the optimization hasn't converged yet.\n",
      "  warnings.warn(\n",
      "/apps/tensorflow/2.7.0/lib/python3.9/site-packages/sklearn/neural_network/_multilayer_perceptron.py:614: ConvergenceWarning: Stochastic Optimizer: Maximum iterations (200) reached and the optimization hasn't converged yet.\n",
      "  warnings.warn(\n",
      "/apps/tensorflow/2.7.0/lib/python3.9/site-packages/sklearn/neural_network/_multilayer_perceptron.py:614: ConvergenceWarning: Stochastic Optimizer: Maximum iterations (200) reached and the optimization hasn't converged yet.\n",
      "  warnings.warn(\n",
      "/apps/tensorflow/2.7.0/lib/python3.9/site-packages/sklearn/neural_network/_multilayer_perceptron.py:614: ConvergenceWarning: Stochastic Optimizer: Maximum iterations (200) reached and the optimization hasn't converged yet.\n",
      "  warnings.warn(\n",
      "/apps/tensorflow/2.7.0/lib/python3.9/site-packages/sklearn/neural_network/_multilayer_perceptron.py:614: ConvergenceWarning: Stochastic Optimizer: Maximum iterations (200) reached and the optimization hasn't converged yet.\n",
      "  warnings.warn(\n",
      "/apps/tensorflow/2.7.0/lib/python3.9/site-packages/sklearn/neural_network/_multilayer_perceptron.py:614: ConvergenceWarning: Stochastic Optimizer: Maximum iterations (300) reached and the optimization hasn't converged yet.\n",
      "  warnings.warn(\n",
      "/apps/tensorflow/2.7.0/lib/python3.9/site-packages/sklearn/neural_network/_multilayer_perceptron.py:614: ConvergenceWarning: Stochastic Optimizer: Maximum iterations (300) reached and the optimization hasn't converged yet.\n",
      "  warnings.warn(\n",
      "/apps/tensorflow/2.7.0/lib/python3.9/site-packages/sklearn/neural_network/_multilayer_perceptron.py:614: ConvergenceWarning: Stochastic Optimizer: Maximum iterations (300) reached and the optimization hasn't converged yet.\n",
      "  warnings.warn(\n",
      "/apps/tensorflow/2.7.0/lib/python3.9/site-packages/sklearn/neural_network/_multilayer_perceptron.py:614: ConvergenceWarning: Stochastic Optimizer: Maximum iterations (300) reached and the optimization hasn't converged yet.\n",
      "  warnings.warn(\n",
      "/apps/tensorflow/2.7.0/lib/python3.9/site-packages/sklearn/neural_network/_multilayer_perceptron.py:614: ConvergenceWarning: Stochastic Optimizer: Maximum iterations (300) reached and the optimization hasn't converged yet.\n",
      "  warnings.warn(\n",
      "/apps/tensorflow/2.7.0/lib/python3.9/site-packages/sklearn/neural_network/_multilayer_perceptron.py:614: ConvergenceWarning: Stochastic Optimizer: Maximum iterations (300) reached and the optimization hasn't converged yet.\n",
      "  warnings.warn(\n",
      "/apps/tensorflow/2.7.0/lib/python3.9/site-packages/sklearn/neural_network/_multilayer_perceptron.py:614: ConvergenceWarning: Stochastic Optimizer: Maximum iterations (300) reached and the optimization hasn't converged yet.\n",
      "  warnings.warn(\n",
      "/apps/tensorflow/2.7.0/lib/python3.9/site-packages/sklearn/neural_network/_multilayer_perceptron.py:614: ConvergenceWarning: Stochastic Optimizer: Maximum iterations (100) reached and the optimization hasn't converged yet.\n",
      "  warnings.warn(\n",
      "/apps/tensorflow/2.7.0/lib/python3.9/site-packages/sklearn/neural_network/_multilayer_perceptron.py:614: ConvergenceWarning: Stochastic Optimizer: Maximum iterations (100) reached and the optimization hasn't converged yet.\n",
      "  warnings.warn(\n",
      "/apps/tensorflow/2.7.0/lib/python3.9/site-packages/sklearn/neural_network/_multilayer_perceptron.py:614: ConvergenceWarning: Stochastic Optimizer: Maximum iterations (100) reached and the optimization hasn't converged yet.\n",
      "  warnings.warn(\n",
      "/apps/tensorflow/2.7.0/lib/python3.9/site-packages/sklearn/neural_network/_multilayer_perceptron.py:614: ConvergenceWarning: Stochastic Optimizer: Maximum iterations (100) reached and the optimization hasn't converged yet.\n",
      "  warnings.warn(\n",
      "/apps/tensorflow/2.7.0/lib/python3.9/site-packages/sklearn/neural_network/_multilayer_perceptron.py:614: ConvergenceWarning: Stochastic Optimizer: Maximum iterations (100) reached and the optimization hasn't converged yet.\n",
      "  warnings.warn(\n",
      "/apps/tensorflow/2.7.0/lib/python3.9/site-packages/sklearn/neural_network/_multilayer_perceptron.py:614: ConvergenceWarning: Stochastic Optimizer: Maximum iterations (100) reached and the optimization hasn't converged yet.\n",
      "  warnings.warn(\n",
      "/apps/tensorflow/2.7.0/lib/python3.9/site-packages/sklearn/neural_network/_multilayer_perceptron.py:614: ConvergenceWarning: Stochastic Optimizer: Maximum iterations (100) reached and the optimization hasn't converged yet.\n",
      "  warnings.warn(\n",
      "/apps/tensorflow/2.7.0/lib/python3.9/site-packages/sklearn/neural_network/_multilayer_perceptron.py:614: ConvergenceWarning: Stochastic Optimizer: Maximum iterations (100) reached and the optimization hasn't converged yet.\n",
      "  warnings.warn(\n",
      "/apps/tensorflow/2.7.0/lib/python3.9/site-packages/sklearn/neural_network/_multilayer_perceptron.py:614: ConvergenceWarning: Stochastic Optimizer: Maximum iterations (100) reached and the optimization hasn't converged yet.\n",
      "  warnings.warn(\n",
      "/apps/tensorflow/2.7.0/lib/python3.9/site-packages/sklearn/neural_network/_multilayer_perceptron.py:614: ConvergenceWarning: Stochastic Optimizer: Maximum iterations (100) reached and the optimization hasn't converged yet.\n",
      "  warnings.warn(\n",
      "/apps/tensorflow/2.7.0/lib/python3.9/site-packages/sklearn/neural_network/_multilayer_perceptron.py:614: ConvergenceWarning: Stochastic Optimizer: Maximum iterations (200) reached and the optimization hasn't converged yet.\n",
      "  warnings.warn(\n",
      "/apps/tensorflow/2.7.0/lib/python3.9/site-packages/sklearn/neural_network/_multilayer_perceptron.py:614: ConvergenceWarning: Stochastic Optimizer: Maximum iterations (200) reached and the optimization hasn't converged yet.\n",
      "  warnings.warn(\n",
      "/apps/tensorflow/2.7.0/lib/python3.9/site-packages/sklearn/neural_network/_multilayer_perceptron.py:614: ConvergenceWarning: Stochastic Optimizer: Maximum iterations (200) reached and the optimization hasn't converged yet.\n",
      "  warnings.warn(\n",
      "/apps/tensorflow/2.7.0/lib/python3.9/site-packages/sklearn/neural_network/_multilayer_perceptron.py:614: ConvergenceWarning: Stochastic Optimizer: Maximum iterations (200) reached and the optimization hasn't converged yet.\n",
      "  warnings.warn(\n",
      "/apps/tensorflow/2.7.0/lib/python3.9/site-packages/sklearn/neural_network/_multilayer_perceptron.py:614: ConvergenceWarning: Stochastic Optimizer: Maximum iterations (200) reached and the optimization hasn't converged yet.\n",
      "  warnings.warn(\n",
      "/apps/tensorflow/2.7.0/lib/python3.9/site-packages/sklearn/neural_network/_multilayer_perceptron.py:614: ConvergenceWarning: Stochastic Optimizer: Maximum iterations (200) reached and the optimization hasn't converged yet.\n",
      "  warnings.warn(\n",
      "/apps/tensorflow/2.7.0/lib/python3.9/site-packages/sklearn/neural_network/_multilayer_perceptron.py:614: ConvergenceWarning: Stochastic Optimizer: Maximum iterations (300) reached and the optimization hasn't converged yet.\n",
      "  warnings.warn(\n",
      "/apps/tensorflow/2.7.0/lib/python3.9/site-packages/sklearn/neural_network/_multilayer_perceptron.py:614: ConvergenceWarning: Stochastic Optimizer: Maximum iterations (300) reached and the optimization hasn't converged yet.\n",
      "  warnings.warn(\n",
      "/apps/tensorflow/2.7.0/lib/python3.9/site-packages/sklearn/neural_network/_multilayer_perceptron.py:614: ConvergenceWarning: Stochastic Optimizer: Maximum iterations (300) reached and the optimization hasn't converged yet.\n",
      "  warnings.warn(\n",
      "/apps/tensorflow/2.7.0/lib/python3.9/site-packages/sklearn/neural_network/_multilayer_perceptron.py:614: ConvergenceWarning: Stochastic Optimizer: Maximum iterations (300) reached and the optimization hasn't converged yet.\n",
      "  warnings.warn(\n",
      "/apps/tensorflow/2.7.0/lib/python3.9/site-packages/sklearn/neural_network/_multilayer_perceptron.py:614: ConvergenceWarning: Stochastic Optimizer: Maximum iterations (300) reached and the optimization hasn't converged yet.\n",
      "  warnings.warn(\n",
      "/apps/tensorflow/2.7.0/lib/python3.9/site-packages/sklearn/neural_network/_multilayer_perceptron.py:614: ConvergenceWarning: Stochastic Optimizer: Maximum iterations (100) reached and the optimization hasn't converged yet.\n",
      "  warnings.warn(\n",
      "/apps/tensorflow/2.7.0/lib/python3.9/site-packages/sklearn/neural_network/_multilayer_perceptron.py:614: ConvergenceWarning: Stochastic Optimizer: Maximum iterations (300) reached and the optimization hasn't converged yet.\n",
      "  warnings.warn(\n",
      "/apps/tensorflow/2.7.0/lib/python3.9/site-packages/sklearn/neural_network/_multilayer_perceptron.py:614: ConvergenceWarning: Stochastic Optimizer: Maximum iterations (100) reached and the optimization hasn't converged yet.\n",
      "  warnings.warn(\n",
      "/apps/tensorflow/2.7.0/lib/python3.9/site-packages/sklearn/neural_network/_multilayer_perceptron.py:614: ConvergenceWarning: Stochastic Optimizer: Maximum iterations (100) reached and the optimization hasn't converged yet.\n",
      "  warnings.warn(\n",
      "/apps/tensorflow/2.7.0/lib/python3.9/site-packages/sklearn/neural_network/_multilayer_perceptron.py:614: ConvergenceWarning: Stochastic Optimizer: Maximum iterations (100) reached and the optimization hasn't converged yet.\n",
      "  warnings.warn(\n",
      "/apps/tensorflow/2.7.0/lib/python3.9/site-packages/sklearn/neural_network/_multilayer_perceptron.py:614: ConvergenceWarning: Stochastic Optimizer: Maximum iterations (100) reached and the optimization hasn't converged yet.\n",
      "  warnings.warn(\n",
      "/apps/tensorflow/2.7.0/lib/python3.9/site-packages/sklearn/neural_network/_multilayer_perceptron.py:614: ConvergenceWarning: Stochastic Optimizer: Maximum iterations (100) reached and the optimization hasn't converged yet.\n",
      "  warnings.warn(\n",
      "/apps/tensorflow/2.7.0/lib/python3.9/site-packages/sklearn/neural_network/_multilayer_perceptron.py:614: ConvergenceWarning: Stochastic Optimizer: Maximum iterations (100) reached and the optimization hasn't converged yet.\n",
      "  warnings.warn(\n",
      "/apps/tensorflow/2.7.0/lib/python3.9/site-packages/sklearn/neural_network/_multilayer_perceptron.py:614: ConvergenceWarning: Stochastic Optimizer: Maximum iterations (100) reached and the optimization hasn't converged yet.\n",
      "  warnings.warn(\n",
      "/apps/tensorflow/2.7.0/lib/python3.9/site-packages/sklearn/neural_network/_multilayer_perceptron.py:614: ConvergenceWarning: Stochastic Optimizer: Maximum iterations (100) reached and the optimization hasn't converged yet.\n",
      "  warnings.warn(\n",
      "/apps/tensorflow/2.7.0/lib/python3.9/site-packages/sklearn/neural_network/_multilayer_perceptron.py:614: ConvergenceWarning: Stochastic Optimizer: Maximum iterations (100) reached and the optimization hasn't converged yet.\n",
      "  warnings.warn(\n",
      "/apps/tensorflow/2.7.0/lib/python3.9/site-packages/sklearn/neural_network/_multilayer_perceptron.py:614: ConvergenceWarning: Stochastic Optimizer: Maximum iterations (200) reached and the optimization hasn't converged yet.\n",
      "  warnings.warn(\n",
      "/apps/tensorflow/2.7.0/lib/python3.9/site-packages/sklearn/neural_network/_multilayer_perceptron.py:614: ConvergenceWarning: Stochastic Optimizer: Maximum iterations (200) reached and the optimization hasn't converged yet.\n",
      "  warnings.warn(\n",
      "/apps/tensorflow/2.7.0/lib/python3.9/site-packages/sklearn/neural_network/_multilayer_perceptron.py:614: ConvergenceWarning: Stochastic Optimizer: Maximum iterations (200) reached and the optimization hasn't converged yet.\n",
      "  warnings.warn(\n",
      "/apps/tensorflow/2.7.0/lib/python3.9/site-packages/sklearn/neural_network/_multilayer_perceptron.py:614: ConvergenceWarning: Stochastic Optimizer: Maximum iterations (200) reached and the optimization hasn't converged yet.\n",
      "  warnings.warn(\n",
      "/apps/tensorflow/2.7.0/lib/python3.9/site-packages/sklearn/neural_network/_multilayer_perceptron.py:614: ConvergenceWarning: Stochastic Optimizer: Maximum iterations (200) reached and the optimization hasn't converged yet.\n",
      "  warnings.warn(\n",
      "/apps/tensorflow/2.7.0/lib/python3.9/site-packages/sklearn/neural_network/_multilayer_perceptron.py:614: ConvergenceWarning: Stochastic Optimizer: Maximum iterations (300) reached and the optimization hasn't converged yet.\n",
      "  warnings.warn(\n",
      "/apps/tensorflow/2.7.0/lib/python3.9/site-packages/sklearn/neural_network/_multilayer_perceptron.py:614: ConvergenceWarning: Stochastic Optimizer: Maximum iterations (300) reached and the optimization hasn't converged yet.\n",
      "  warnings.warn(\n",
      "/apps/tensorflow/2.7.0/lib/python3.9/site-packages/sklearn/neural_network/_multilayer_perceptron.py:614: ConvergenceWarning: Stochastic Optimizer: Maximum iterations (300) reached and the optimization hasn't converged yet.\n",
      "  warnings.warn(\n",
      "/apps/tensorflow/2.7.0/lib/python3.9/site-packages/sklearn/neural_network/_multilayer_perceptron.py:614: ConvergenceWarning: Stochastic Optimizer: Maximum iterations (300) reached and the optimization hasn't converged yet.\n",
      "  warnings.warn(\n",
      "/apps/tensorflow/2.7.0/lib/python3.9/site-packages/sklearn/neural_network/_multilayer_perceptron.py:614: ConvergenceWarning: Stochastic Optimizer: Maximum iterations (300) reached and the optimization hasn't converged yet.\n",
      "  warnings.warn(\n",
      "/apps/tensorflow/2.7.0/lib/python3.9/site-packages/sklearn/neural_network/_multilayer_perceptron.py:614: ConvergenceWarning: Stochastic Optimizer: Maximum iterations (100) reached and the optimization hasn't converged yet.\n",
      "  warnings.warn(\n",
      "/apps/tensorflow/2.7.0/lib/python3.9/site-packages/sklearn/neural_network/_multilayer_perceptron.py:614: ConvergenceWarning: Stochastic Optimizer: Maximum iterations (100) reached and the optimization hasn't converged yet.\n",
      "  warnings.warn(\n",
      "/apps/tensorflow/2.7.0/lib/python3.9/site-packages/sklearn/neural_network/_multilayer_perceptron.py:614: ConvergenceWarning: Stochastic Optimizer: Maximum iterations (300) reached and the optimization hasn't converged yet.\n",
      "  warnings.warn(\n",
      "/apps/tensorflow/2.7.0/lib/python3.9/site-packages/sklearn/neural_network/_multilayer_perceptron.py:614: ConvergenceWarning: Stochastic Optimizer: Maximum iterations (100) reached and the optimization hasn't converged yet.\n",
      "  warnings.warn(\n",
      "/apps/tensorflow/2.7.0/lib/python3.9/site-packages/sklearn/neural_network/_multilayer_perceptron.py:614: ConvergenceWarning: Stochastic Optimizer: Maximum iterations (100) reached and the optimization hasn't converged yet.\n",
      "  warnings.warn(\n",
      "/apps/tensorflow/2.7.0/lib/python3.9/site-packages/sklearn/neural_network/_multilayer_perceptron.py:614: ConvergenceWarning: Stochastic Optimizer: Maximum iterations (300) reached and the optimization hasn't converged yet.\n",
      "  warnings.warn(\n",
      "/apps/tensorflow/2.7.0/lib/python3.9/site-packages/sklearn/neural_network/_multilayer_perceptron.py:614: ConvergenceWarning: Stochastic Optimizer: Maximum iterations (100) reached and the optimization hasn't converged yet.\n",
      "  warnings.warn(\n",
      "/apps/tensorflow/2.7.0/lib/python3.9/site-packages/sklearn/neural_network/_multilayer_perceptron.py:614: ConvergenceWarning: Stochastic Optimizer: Maximum iterations (100) reached and the optimization hasn't converged yet.\n",
      "  warnings.warn(\n",
      "/apps/tensorflow/2.7.0/lib/python3.9/site-packages/sklearn/neural_network/_multilayer_perceptron.py:614: ConvergenceWarning: Stochastic Optimizer: Maximum iterations (100) reached and the optimization hasn't converged yet.\n",
      "  warnings.warn(\n",
      "/apps/tensorflow/2.7.0/lib/python3.9/site-packages/sklearn/neural_network/_multilayer_perceptron.py:614: ConvergenceWarning: Stochastic Optimizer: Maximum iterations (100) reached and the optimization hasn't converged yet.\n",
      "  warnings.warn(\n",
      "/apps/tensorflow/2.7.0/lib/python3.9/site-packages/sklearn/neural_network/_multilayer_perceptron.py:614: ConvergenceWarning: Stochastic Optimizer: Maximum iterations (100) reached and the optimization hasn't converged yet.\n",
      "  warnings.warn(\n",
      "/apps/tensorflow/2.7.0/lib/python3.9/site-packages/sklearn/neural_network/_multilayer_perceptron.py:614: ConvergenceWarning: Stochastic Optimizer: Maximum iterations (100) reached and the optimization hasn't converged yet.\n",
      "  warnings.warn(\n",
      "/apps/tensorflow/2.7.0/lib/python3.9/site-packages/sklearn/neural_network/_multilayer_perceptron.py:614: ConvergenceWarning: Stochastic Optimizer: Maximum iterations (200) reached and the optimization hasn't converged yet.\n",
      "  warnings.warn(\n",
      "/apps/tensorflow/2.7.0/lib/python3.9/site-packages/sklearn/neural_network/_multilayer_perceptron.py:614: ConvergenceWarning: Stochastic Optimizer: Maximum iterations (200) reached and the optimization hasn't converged yet.\n",
      "  warnings.warn(\n",
      "/apps/tensorflow/2.7.0/lib/python3.9/site-packages/sklearn/neural_network/_multilayer_perceptron.py:614: ConvergenceWarning: Stochastic Optimizer: Maximum iterations (200) reached and the optimization hasn't converged yet.\n",
      "  warnings.warn(\n",
      "/apps/tensorflow/2.7.0/lib/python3.9/site-packages/sklearn/neural_network/_multilayer_perceptron.py:614: ConvergenceWarning: Stochastic Optimizer: Maximum iterations (200) reached and the optimization hasn't converged yet.\n",
      "  warnings.warn(\n",
      "/apps/tensorflow/2.7.0/lib/python3.9/site-packages/sklearn/neural_network/_multilayer_perceptron.py:614: ConvergenceWarning: Stochastic Optimizer: Maximum iterations (200) reached and the optimization hasn't converged yet.\n",
      "  warnings.warn(\n",
      "/apps/tensorflow/2.7.0/lib/python3.9/site-packages/sklearn/neural_network/_multilayer_perceptron.py:614: ConvergenceWarning: Stochastic Optimizer: Maximum iterations (200) reached and the optimization hasn't converged yet.\n",
      "  warnings.warn(\n",
      "/apps/tensorflow/2.7.0/lib/python3.9/site-packages/sklearn/neural_network/_multilayer_perceptron.py:614: ConvergenceWarning: Stochastic Optimizer: Maximum iterations (200) reached and the optimization hasn't converged yet.\n",
      "  warnings.warn(\n",
      "/apps/tensorflow/2.7.0/lib/python3.9/site-packages/sklearn/neural_network/_multilayer_perceptron.py:614: ConvergenceWarning: Stochastic Optimizer: Maximum iterations (300) reached and the optimization hasn't converged yet.\n",
      "  warnings.warn(\n",
      "/apps/tensorflow/2.7.0/lib/python3.9/site-packages/sklearn/neural_network/_multilayer_perceptron.py:614: ConvergenceWarning: Stochastic Optimizer: Maximum iterations (300) reached and the optimization hasn't converged yet.\n",
      "  warnings.warn(\n",
      "/apps/tensorflow/2.7.0/lib/python3.9/site-packages/sklearn/neural_network/_multilayer_perceptron.py:614: ConvergenceWarning: Stochastic Optimizer: Maximum iterations (300) reached and the optimization hasn't converged yet.\n",
      "  warnings.warn(\n",
      "/apps/tensorflow/2.7.0/lib/python3.9/site-packages/sklearn/neural_network/_multilayer_perceptron.py:614: ConvergenceWarning: Stochastic Optimizer: Maximum iterations (300) reached and the optimization hasn't converged yet.\n",
      "  warnings.warn(\n",
      "/apps/tensorflow/2.7.0/lib/python3.9/site-packages/sklearn/neural_network/_multilayer_perceptron.py:614: ConvergenceWarning: Stochastic Optimizer: Maximum iterations (300) reached and the optimization hasn't converged yet.\n",
      "  warnings.warn(\n",
      "/apps/tensorflow/2.7.0/lib/python3.9/site-packages/sklearn/neural_network/_multilayer_perceptron.py:614: ConvergenceWarning: Stochastic Optimizer: Maximum iterations (100) reached and the optimization hasn't converged yet.\n",
      "  warnings.warn(\n",
      "/apps/tensorflow/2.7.0/lib/python3.9/site-packages/sklearn/neural_network/_multilayer_perceptron.py:614: ConvergenceWarning: Stochastic Optimizer: Maximum iterations (100) reached and the optimization hasn't converged yet.\n",
      "  warnings.warn(\n",
      "/apps/tensorflow/2.7.0/lib/python3.9/site-packages/sklearn/neural_network/_multilayer_perceptron.py:614: ConvergenceWarning: Stochastic Optimizer: Maximum iterations (100) reached and the optimization hasn't converged yet.\n",
      "  warnings.warn(\n",
      "/apps/tensorflow/2.7.0/lib/python3.9/site-packages/sklearn/neural_network/_multilayer_perceptron.py:614: ConvergenceWarning: Stochastic Optimizer: Maximum iterations (100) reached and the optimization hasn't converged yet.\n",
      "  warnings.warn(\n",
      "/apps/tensorflow/2.7.0/lib/python3.9/site-packages/sklearn/neural_network/_multilayer_perceptron.py:614: ConvergenceWarning: Stochastic Optimizer: Maximum iterations (100) reached and the optimization hasn't converged yet.\n",
      "  warnings.warn(\n",
      "/apps/tensorflow/2.7.0/lib/python3.9/site-packages/sklearn/neural_network/_multilayer_perceptron.py:614: ConvergenceWarning: Stochastic Optimizer: Maximum iterations (100) reached and the optimization hasn't converged yet.\n",
      "  warnings.warn(\n",
      "/apps/tensorflow/2.7.0/lib/python3.9/site-packages/sklearn/neural_network/_multilayer_perceptron.py:614: ConvergenceWarning: Stochastic Optimizer: Maximum iterations (100) reached and the optimization hasn't converged yet.\n",
      "  warnings.warn(\n",
      "/apps/tensorflow/2.7.0/lib/python3.9/site-packages/sklearn/neural_network/_multilayer_perceptron.py:614: ConvergenceWarning: Stochastic Optimizer: Maximum iterations (100) reached and the optimization hasn't converged yet.\n",
      "  warnings.warn(\n",
      "/apps/tensorflow/2.7.0/lib/python3.9/site-packages/sklearn/neural_network/_multilayer_perceptron.py:614: ConvergenceWarning: Stochastic Optimizer: Maximum iterations (100) reached and the optimization hasn't converged yet.\n",
      "  warnings.warn(\n",
      "/apps/tensorflow/2.7.0/lib/python3.9/site-packages/sklearn/neural_network/_multilayer_perceptron.py:614: ConvergenceWarning: Stochastic Optimizer: Maximum iterations (100) reached and the optimization hasn't converged yet.\n",
      "  warnings.warn(\n",
      "/apps/tensorflow/2.7.0/lib/python3.9/site-packages/sklearn/neural_network/_multilayer_perceptron.py:614: ConvergenceWarning: Stochastic Optimizer: Maximum iterations (200) reached and the optimization hasn't converged yet.\n",
      "  warnings.warn(\n",
      "/apps/tensorflow/2.7.0/lib/python3.9/site-packages/sklearn/neural_network/_multilayer_perceptron.py:614: ConvergenceWarning: Stochastic Optimizer: Maximum iterations (200) reached and the optimization hasn't converged yet.\n",
      "  warnings.warn(\n",
      "/apps/tensorflow/2.7.0/lib/python3.9/site-packages/sklearn/neural_network/_multilayer_perceptron.py:614: ConvergenceWarning: Stochastic Optimizer: Maximum iterations (200) reached and the optimization hasn't converged yet.\n",
      "  warnings.warn(\n",
      "/apps/tensorflow/2.7.0/lib/python3.9/site-packages/sklearn/neural_network/_multilayer_perceptron.py:614: ConvergenceWarning: Stochastic Optimizer: Maximum iterations (200) reached and the optimization hasn't converged yet.\n",
      "  warnings.warn(\n",
      "/apps/tensorflow/2.7.0/lib/python3.9/site-packages/sklearn/neural_network/_multilayer_perceptron.py:614: ConvergenceWarning: Stochastic Optimizer: Maximum iterations (200) reached and the optimization hasn't converged yet.\n",
      "  warnings.warn(\n",
      "/apps/tensorflow/2.7.0/lib/python3.9/site-packages/sklearn/neural_network/_multilayer_perceptron.py:614: ConvergenceWarning: Stochastic Optimizer: Maximum iterations (200) reached and the optimization hasn't converged yet.\n",
      "  warnings.warn(\n",
      "/apps/tensorflow/2.7.0/lib/python3.9/site-packages/sklearn/neural_network/_multilayer_perceptron.py:614: ConvergenceWarning: Stochastic Optimizer: Maximum iterations (300) reached and the optimization hasn't converged yet.\n",
      "  warnings.warn(\n",
      "/apps/tensorflow/2.7.0/lib/python3.9/site-packages/sklearn/neural_network/_multilayer_perceptron.py:614: ConvergenceWarning: Stochastic Optimizer: Maximum iterations (300) reached and the optimization hasn't converged yet.\n",
      "  warnings.warn(\n",
      "/apps/tensorflow/2.7.0/lib/python3.9/site-packages/sklearn/neural_network/_multilayer_perceptron.py:614: ConvergenceWarning: Stochastic Optimizer: Maximum iterations (300) reached and the optimization hasn't converged yet.\n",
      "  warnings.warn(\n",
      "/apps/tensorflow/2.7.0/lib/python3.9/site-packages/sklearn/neural_network/_multilayer_perceptron.py:614: ConvergenceWarning: Stochastic Optimizer: Maximum iterations (300) reached and the optimization hasn't converged yet.\n",
      "  warnings.warn(\n",
      "/apps/tensorflow/2.7.0/lib/python3.9/site-packages/sklearn/neural_network/_multilayer_perceptron.py:614: ConvergenceWarning: Stochastic Optimizer: Maximum iterations (300) reached and the optimization hasn't converged yet.\n",
      "  warnings.warn(\n",
      "/apps/tensorflow/2.7.0/lib/python3.9/site-packages/sklearn/neural_network/_multilayer_perceptron.py:614: ConvergenceWarning: Stochastic Optimizer: Maximum iterations (300) reached and the optimization hasn't converged yet.\n",
      "  warnings.warn(\n"
     ]
    },
    {
     "data": {
      "text/plain": [
       "GridSearchCV(cv=5,\n",
       "             estimator=Pipeline(steps=[('sc', StandardScaler()),\n",
       "                                       ('mlp', MLPClassifier())]),\n",
       "             n_jobs=4,\n",
       "             param_grid={'mlp__hidden_layer_sizes': [(300, 200, 100),\n",
       "                                                     (150, 100, 50),\n",
       "                                                     (75, 50, 25)],\n",
       "                         'mlp__learning_rate': ['constant', 'adaptive'],\n",
       "                         'mlp__max_iter': [100, 200, 300],\n",
       "                         'mlp__solver': ['sgd', 'adam']},\n",
       "             return_train_score=True, verbose=3)"
      ]
     },
     "execution_count": 29,
     "metadata": {},
     "output_type": "execute_result"
    }
   ],
   "source": [
    "from sklearn.model_selection import GridSearchCV\n",
    "from sklearn.pipeline import Pipeline\n",
    "\n",
    "pipe = Pipeline([\n",
    "    ('sc', StandardScaler()),\n",
    "    ('mlp', MLPClassifier())\n",
    "])\n",
    "\n",
    "param_grid = {\n",
    "    'mlp__hidden_layer_sizes': [(300,200,100), (150,100,50), (75,50,25)],\n",
    "    'mlp__max_iter': [100, 200, 300],\n",
    "    'mlp__solver': ['sgd', 'adam'],\n",
    "    'mlp__learning_rate': ['constant','adaptive']\n",
    "}\n",
    "\n",
    "grid_search = GridSearchCV(pipe, param_grid, return_train_score=True, cv=5, n_jobs=4, verbose=3)\n",
    "grid_search.fit(X_train, y_train)"
   ]
  },
  {
   "cell_type": "code",
   "execution_count": 30,
   "metadata": {},
   "outputs": [
    {
     "name": "stdout",
     "output_type": "stream",
     "text": [
      "Best parameters: {'mlp__hidden_layer_sizes': (300, 200, 100), 'mlp__learning_rate': 'constant', 'mlp__max_iter': 300, 'mlp__solver': 'sgd'}\n",
      "Best model: Pipeline(steps=[('sc', StandardScaler()),\n",
      "                ('mlp',\n",
      "                 MLPClassifier(hidden_layer_sizes=(300, 200, 100), max_iter=300,\n",
      "                               solver='sgd'))])\n",
      "Test score: 0.97\n"
     ]
    }
   ],
   "source": [
    "print(\"Best parameters: {}\".format(grid_search.best_params_))\n",
    "print(\"Best model: {}\".format(grid_search.best_estimator_))\n",
    "print(\"Test score: {:.2f}\".format(grid_search.score(X_test, y_test)))"
   ]
  },
  {
   "cell_type": "markdown",
   "metadata": {},
   "source": [
    "### Save and load a model."
   ]
  },
  {
   "cell_type": "code",
   "execution_count": 17,
   "metadata": {},
   "outputs": [],
   "source": [
    "import pickle\n",
    "\n",
    "# save\n",
    "with open('iris_model.pkl','wb') as f:\n",
    "    pickle.dump(grid_search.best_estimator_,f)\n",
    "\n",
    "# load\n",
    "with open('iris_model.pkl', 'rb') as f:\n",
    "    model_best = pickle.load(f)"
   ]
  },
  {
   "cell_type": "code",
   "execution_count": 18,
   "metadata": {
    "collapsed": true,
    "jupyter": {
     "outputs_hidden": true
    },
    "scrolled": true,
    "tags": []
   },
   "outputs": [
    {
     "data": {
      "text/plain": [
       "{'memory': None,\n",
       " 'steps': [('sc', StandardScaler()),\n",
       "  ('mlp', MLPClassifier(hidden_layer_sizes=(300, 200, 100), max_iter=100))],\n",
       " 'verbose': False,\n",
       " 'sc': StandardScaler(),\n",
       " 'mlp': MLPClassifier(hidden_layer_sizes=(300, 200, 100), max_iter=100),\n",
       " 'sc__copy': True,\n",
       " 'sc__with_mean': True,\n",
       " 'sc__with_std': True,\n",
       " 'mlp__activation': 'relu',\n",
       " 'mlp__alpha': 0.0001,\n",
       " 'mlp__batch_size': 'auto',\n",
       " 'mlp__beta_1': 0.9,\n",
       " 'mlp__beta_2': 0.999,\n",
       " 'mlp__early_stopping': False,\n",
       " 'mlp__epsilon': 1e-08,\n",
       " 'mlp__hidden_layer_sizes': (300, 200, 100),\n",
       " 'mlp__learning_rate': 'constant',\n",
       " 'mlp__learning_rate_init': 0.001,\n",
       " 'mlp__max_fun': 15000,\n",
       " 'mlp__max_iter': 100,\n",
       " 'mlp__momentum': 0.9,\n",
       " 'mlp__n_iter_no_change': 10,\n",
       " 'mlp__nesterovs_momentum': True,\n",
       " 'mlp__power_t': 0.5,\n",
       " 'mlp__random_state': None,\n",
       " 'mlp__shuffle': True,\n",
       " 'mlp__solver': 'adam',\n",
       " 'mlp__tol': 0.0001,\n",
       " 'mlp__validation_fraction': 0.1,\n",
       " 'mlp__verbose': False,\n",
       " 'mlp__warm_start': False}"
      ]
     },
     "execution_count": 18,
     "metadata": {},
     "output_type": "execute_result"
    }
   ],
   "source": [
    "model_best.get_params()"
   ]
  },
  {
   "cell_type": "code",
   "execution_count": 19,
   "metadata": {},
   "outputs": [
    {
     "data": {
      "text/plain": [
       "array([2, 1, 0, 2, 0, 2, 0, 1, 1, 1, 2, 1, 1, 1, 1, 0, 1, 1, 0, 0, 2, 1,\n",
       "       0, 0, 2, 0, 0, 1, 1, 0, 2, 1, 0, 2, 2, 1, 0, 2])"
      ]
     },
     "execution_count": 19,
     "metadata": {},
     "output_type": "execute_result"
    }
   ],
   "source": [
    "model_best.predict(X_test)"
   ]
  },
  {
   "cell_type": "code",
   "execution_count": 20,
   "metadata": {},
   "outputs": [
    {
     "data": {
      "text/plain": [
       "0.9736842105263158"
      ]
     },
     "execution_count": 20,
     "metadata": {},
     "output_type": "execute_result"
    }
   ],
   "source": [
    "model_best.score(X_test, y_test)"
   ]
  },
  {
   "cell_type": "markdown",
   "metadata": {},
   "source": [
    "### Instead of sklearn's MLP classifier, we can use Keras implemented onto Tensorflow. You will have to choose a Tensorflow kernel on hipergator.\n",
    "\n",
    "\n",
    "Keras: https://keras.io/\n",
    "\n",
    "Tensorflow: https://www.tensorflow.org/"
   ]
  },
  {
   "cell_type": "code",
   "execution_count": 5,
   "metadata": {},
   "outputs": [
    {
     "data": {
      "text/plain": [
       "3"
      ]
     },
     "execution_count": 5,
     "metadata": {},
     "output_type": "execute_result"
    }
   ],
   "source": [
    "np.unique(y).shape[0]"
   ]
  },
  {
   "cell_type": "code",
   "execution_count": 6,
   "metadata": {},
   "outputs": [
    {
     "name": "stderr",
     "output_type": "stream",
     "text": [
      "2023-04-14 19:08:07.365979: I tensorflow/core/platform/cpu_feature_guard.cc:151] This TensorFlow binary is optimized with oneAPI Deep Neural Network Library (oneDNN) to use the following CPU instructions in performance-critical operations:  SSE4.1 SSE4.2 AVX AVX2 FMA\n",
      "To enable them in other operations, rebuild TensorFlow with the appropriate compiler flags.\n",
      "2023-04-14 19:08:07.926633: I tensorflow/core/common_runtime/gpu/gpu_device.cc:1525] Created device /job:localhost/replica:0/task:0/device:GPU:0 with 359 MB memory:  -> device: 0, name: NVIDIA A100-SXM4-80GB, pci bus id: 0000:0f:00.0, compute capability: 8.0\n"
     ]
    }
   ],
   "source": [
    "import tensorflow.keras as keras\n",
    "\n",
    "# Initialize a model.\n",
    "model = keras.models.Sequential()\n",
    "\n",
    "# Add the input layer and specifying its shape.\n",
    "model.add(keras.layers.Input(shape=X_train.shape[1]))\n",
    "\n",
    "# Add the first hidden layer with 100 neurons and the ReLU activation function.\n",
    "model.add(keras.layers.Dense(100, activation='relu'))\n",
    "\n",
    "# Add the second hidden layer with 100 neurons and the ReLU activation function.\n",
    "model.add(keras.layers.Dense(100, activation='relu'))\n",
    "\n",
    "# Add the output layer\n",
    "# softmax normalizes the output to a probability distribution\n",
    "model.add(keras.layers.Dense(np.unique(y).shape[0], activation='softmax'))"
   ]
  },
  {
   "cell_type": "markdown",
   "metadata": {},
   "source": [
    "### We can use the following syntax instead."
   ]
  },
  {
   "cell_type": "code",
   "execution_count": 7,
   "metadata": {},
   "outputs": [],
   "source": [
    "model = keras.models.Sequential()\n",
    "\n",
    "# This line combines the input layer and the first hidden layer.\n",
    "model.add(keras.layers.Dense(100, input_dim=X_train.shape[1], activation='relu'))\n",
    "model.add(keras.layers.Dense(100, activation='relu'))\n",
    "model.add(keras.layers.Dense(np.unique(y).shape[0], activation='softmax'))"
   ]
  },
  {
   "cell_type": "markdown",
   "metadata": {},
   "source": [
    "### We can also use the following syntax."
   ]
  },
  {
   "cell_type": "code",
   "execution_count": 8,
   "metadata": {},
   "outputs": [],
   "source": [
    "model = keras.models.Sequential([\n",
    "    keras.layers.Input(shape=X_train.shape[1]),\n",
    "    keras.layers.Dense(100, activation='relu'),\n",
    "    keras.layers.Dense(100, activation='relu',),\n",
    "    keras.layers.Dense(np.unique(y).shape[0], activation='softmax')\n",
    "])"
   ]
  },
  {
   "cell_type": "markdown",
   "metadata": {},
   "source": [
    "### Let's check the \"architecture\" of our neural network. Note that the input layer does not show up here."
   ]
  },
  {
   "cell_type": "code",
   "execution_count": 9,
   "metadata": {},
   "outputs": [
    {
     "name": "stdout",
     "output_type": "stream",
     "text": [
      "Model: \"sequential_2\"\n",
      "_________________________________________________________________\n",
      " Layer (type)                Output Shape              Param #   \n",
      "=================================================================\n",
      " dense_6 (Dense)             (None, 100)               300       \n",
      "                                                                 \n",
      " dense_7 (Dense)             (None, 100)               10100     \n",
      "                                                                 \n",
      " dense_8 (Dense)             (None, 3)                 303       \n",
      "                                                                 \n",
      "=================================================================\n",
      "Total params: 10,703\n",
      "Trainable params: 10,703\n",
      "Non-trainable params: 0\n",
      "_________________________________________________________________\n"
     ]
    }
   ],
   "source": [
    "model.summary()"
   ]
  },
  {
   "cell_type": "markdown",
   "metadata": {},
   "source": [
    "### We can also have a look at the weights."
   ]
  },
  {
   "cell_type": "code",
   "execution_count": 10,
   "metadata": {
    "collapsed": true,
    "jupyter": {
     "outputs_hidden": true
    },
    "tags": []
   },
   "outputs": [
    {
     "data": {
      "text/plain": [
       "[<tf.Variable 'dense_6/kernel:0' shape=(2, 100) dtype=float32, numpy=\n",
       " array([[ 0.16549486,  0.05862853, -0.06328645, -0.11081287,  0.03292492,\n",
       "          0.00458217, -0.11528027, -0.11933333,  0.00106202,  0.00486788,\n",
       "         -0.0294546 , -0.15338896, -0.11516583, -0.12087824, -0.17307618,\n",
       "          0.15515348, -0.14276958,  0.06055653,  0.24052176, -0.1069933 ,\n",
       "         -0.12951899, -0.03358163, -0.23264378, -0.1885269 ,  0.15597883,\n",
       "          0.06721717, -0.1794138 , -0.08361553,  0.12077016,  0.21048954,\n",
       "          0.03491497, -0.03505531, -0.17397027, -0.13208213,  0.087962  ,\n",
       "          0.12538442,  0.00772727,  0.0207136 , -0.03900516,  0.02760443,\n",
       "          0.1803675 ,  0.16820455, -0.14074054, -0.03364635, -0.1377931 ,\n",
       "          0.1016269 , -0.15500003,  0.23199591, -0.17274761,  0.08022699,\n",
       "          0.20981967,  0.20648515, -0.21098128,  0.06911823, -0.0267318 ,\n",
       "         -0.1991556 , -0.06894799, -0.22751494, -0.03350438, -0.10602386,\n",
       "          0.07925496,  0.2393941 , -0.13589355, -0.03277318,  0.16105649,\n",
       "         -0.0150404 , -0.16722971,  0.10214636, -0.20325348, -0.21685514,\n",
       "          0.05652219,  0.1960212 , -0.00154312, -0.03414786,  0.162251  ,\n",
       "          0.16188034, -0.11619465, -0.21715438,  0.21389705, -0.21817401,\n",
       "          0.20018703, -0.22898017, -0.19349714,  0.10937956,  0.10115957,\n",
       "         -0.06859247, -0.05513076, -0.09878956,  0.07444915,  0.11399841,\n",
       "          0.08150277, -0.05148247,  0.19649982, -0.19082908,  0.07378343,\n",
       "         -0.21341646, -0.17065147, -0.034164  , -0.21261881,  0.19033682],\n",
       "        [-0.03866348, -0.08701697, -0.1993998 ,  0.07391179,  0.24248803,\n",
       "          0.2096554 , -0.1332547 ,  0.12328607, -0.01365086, -0.16469264,\n",
       "         -0.00161916, -0.04501098, -0.2231754 ,  0.11951578, -0.0127341 ,\n",
       "          0.15332603,  0.09475332,  0.0123387 , -0.08041213,  0.12485561,\n",
       "         -0.20121121, -0.01801382, -0.10200371,  0.12837625,  0.24159041,\n",
       "         -0.00990878, -0.06130879, -0.1809735 , -0.07242732,  0.23569676,\n",
       "         -0.23372684,  0.04718733, -0.06860225,  0.21601349, -0.05771016,\n",
       "          0.19488141,  0.1300649 ,  0.23081484, -0.18656778, -0.18023121,\n",
       "         -0.13570613,  0.11728945,  0.09562925,  0.10787791, -0.12262294,\n",
       "         -0.18278117, -0.07796094,  0.1633861 , -0.04067168,  0.04672357,\n",
       "         -0.20324793,  0.20545316, -0.18462914,  0.19086114, -0.08606754,\n",
       "         -0.12940553,  0.1827603 ,  0.10317343,  0.22562736, -0.12642424,\n",
       "          0.17000988,  0.0646365 , -0.0619348 ,  0.08393663, -0.13804545,\n",
       "         -0.21525529, -0.09104545,  0.06891111,  0.03673518,  0.03425923,\n",
       "          0.06110644,  0.04317695,  0.175212  , -0.09397078,  0.07315406,\n",
       "          0.08444646,  0.0847877 , -0.18900841,  0.03984743, -0.17908633,\n",
       "          0.08370522, -0.09103754, -0.05888309, -0.03700539,  0.01952484,\n",
       "          0.14336395,  0.13183445,  0.11897182,  0.16493845,  0.17959455,\n",
       "         -0.13356662,  0.20011261, -0.14079675, -0.06588447, -0.13526106,\n",
       "          0.06795853,  0.09627655,  0.0017713 ,  0.14672324,  0.10101652]],\n",
       "       dtype=float32)>,\n",
       " <tf.Variable 'dense_6/bias:0' shape=(100,) dtype=float32, numpy=\n",
       " array([0., 0., 0., 0., 0., 0., 0., 0., 0., 0., 0., 0., 0., 0., 0., 0., 0.,\n",
       "        0., 0., 0., 0., 0., 0., 0., 0., 0., 0., 0., 0., 0., 0., 0., 0., 0.,\n",
       "        0., 0., 0., 0., 0., 0., 0., 0., 0., 0., 0., 0., 0., 0., 0., 0., 0.,\n",
       "        0., 0., 0., 0., 0., 0., 0., 0., 0., 0., 0., 0., 0., 0., 0., 0., 0.,\n",
       "        0., 0., 0., 0., 0., 0., 0., 0., 0., 0., 0., 0., 0., 0., 0., 0., 0.,\n",
       "        0., 0., 0., 0., 0., 0., 0., 0., 0., 0., 0., 0., 0., 0., 0.],\n",
       "       dtype=float32)>,\n",
       " <tf.Variable 'dense_7/kernel:0' shape=(100, 100) dtype=float32, numpy=\n",
       " array([[ 0.1532304 ,  0.17110306,  0.12562552, ...,  0.1202524 ,\n",
       "          0.13229671,  0.03232968],\n",
       "        [ 0.0764339 ,  0.05690019, -0.13662602, ...,  0.09362778,\n",
       "         -0.12096131,  0.06513749],\n",
       "        [ 0.14519572, -0.1557825 ,  0.03769791, ...,  0.07366753,\n",
       "          0.13873363,  0.00104812],\n",
       "        ...,\n",
       "        [-0.16784759,  0.12700292, -0.0015219 , ..., -0.14886108,\n",
       "          0.1470741 ,  0.08407122],\n",
       "        [ 0.16980153,  0.05030161,  0.09163356, ..., -0.16575152,\n",
       "         -0.01461697,  0.16220918],\n",
       "        [-0.1184316 ,  0.03253666,  0.13589811, ...,  0.0242285 ,\n",
       "         -0.1005006 ,  0.16466397]], dtype=float32)>,\n",
       " <tf.Variable 'dense_7/bias:0' shape=(100,) dtype=float32, numpy=\n",
       " array([0., 0., 0., 0., 0., 0., 0., 0., 0., 0., 0., 0., 0., 0., 0., 0., 0.,\n",
       "        0., 0., 0., 0., 0., 0., 0., 0., 0., 0., 0., 0., 0., 0., 0., 0., 0.,\n",
       "        0., 0., 0., 0., 0., 0., 0., 0., 0., 0., 0., 0., 0., 0., 0., 0., 0.,\n",
       "        0., 0., 0., 0., 0., 0., 0., 0., 0., 0., 0., 0., 0., 0., 0., 0., 0.,\n",
       "        0., 0., 0., 0., 0., 0., 0., 0., 0., 0., 0., 0., 0., 0., 0., 0., 0.,\n",
       "        0., 0., 0., 0., 0., 0., 0., 0., 0., 0., 0., 0., 0., 0., 0.],\n",
       "       dtype=float32)>,\n",
       " <tf.Variable 'dense_8/kernel:0' shape=(100, 3) dtype=float32, numpy=\n",
       " array([[-0.04601641, -0.17723362, -0.06404644],\n",
       "        [ 0.06477961,  0.15016153, -0.03400671],\n",
       "        [ 0.00198969, -0.22149888,  0.01477697],\n",
       "        [ 0.17268705,  0.08816111,  0.07151657],\n",
       "        [-0.1381926 ,  0.22351709, -0.18195215],\n",
       "        [ 0.14945048, -0.055315  ,  0.01348004],\n",
       "        [ 0.12180579, -0.16220933,  0.1844039 ],\n",
       "        [-0.01271421, -0.19573061, -0.02678627],\n",
       "        [ 0.04607311,  0.14634398,  0.14409316],\n",
       "        [-0.2072093 ,  0.02075654, -0.02414277],\n",
       "        [ 0.2409085 ,  0.14898232,  0.19188341],\n",
       "        [-0.20114616,  0.05227125,  0.23968986],\n",
       "        [-0.00475299,  0.00544392,  0.0552555 ],\n",
       "        [-0.09345226,  0.11188796,  0.19506425],\n",
       "        [ 0.202533  , -0.01027222,  0.19546965],\n",
       "        [-0.20249878, -0.06548883, -0.1910049 ],\n",
       "        [ 0.02700326, -0.23025447,  0.20018122],\n",
       "        [-0.11048378,  0.03981087, -0.23346944],\n",
       "        [-0.18380131, -0.23229791, -0.12541565],\n",
       "        [-0.02710591, -0.03972046, -0.11360392],\n",
       "        [ 0.08850437,  0.15207234,  0.19209063],\n",
       "        [ 0.09126693,  0.06378445, -0.01694159],\n",
       "        [ 0.15383881,  0.13805869,  0.07072788],\n",
       "        [ 0.1236248 , -0.22022307, -0.12320253],\n",
       "        [ 0.03289923, -0.10956344,  0.05359951],\n",
       "        [ 0.14067969, -0.22337934,  0.0234386 ],\n",
       "        [ 0.09372059, -0.23593824, -0.12052745],\n",
       "        [ 0.04580846, -0.11364979, -0.05064107],\n",
       "        [ 0.22854105, -0.1006055 ,  0.0111824 ],\n",
       "        [ 0.02805874,  0.12490651,  0.15822846],\n",
       "        [-0.20212929,  0.00438258, -0.05551974],\n",
       "        [-0.20146357, -0.13601336, -0.07215692],\n",
       "        [ 0.22592023,  0.17256328,  0.17306119],\n",
       "        [-0.21915127,  0.01897541, -0.03905657],\n",
       "        [-0.11528735,  0.18255922,  0.12327603],\n",
       "        [ 0.1486372 ,  0.09420389,  0.10297239],\n",
       "        [ 0.10867086, -0.18732177,  0.05929956],\n",
       "        [-0.0380929 , -0.1597723 , -0.20956334],\n",
       "        [ 0.04803896,  0.13847575,  0.03828377],\n",
       "        [ 0.0685426 , -0.13789174,  0.07849881],\n",
       "        [ 0.00488211, -0.00581403,  0.00506626],\n",
       "        [ 0.18298489, -0.15882657, -0.19554746],\n",
       "        [-0.22434953,  0.22913429, -0.19760251],\n",
       "        [ 0.00946105, -0.14228094, -0.14430982],\n",
       "        [ 0.16977638,  0.01351872, -0.16547182],\n",
       "        [ 0.22777969,  0.10255468,  0.03500625],\n",
       "        [-0.10827625,  0.16796508, -0.09297591],\n",
       "        [-0.05783357,  0.10034057,  0.1612952 ],\n",
       "        [ 0.2036275 , -0.14998586, -0.07584184],\n",
       "        [-0.08031011, -0.03038527,  0.06827015],\n",
       "        [ 0.24049321,  0.06450897,  0.10356641],\n",
       "        [ 0.2365548 , -0.14747052, -0.21485478],\n",
       "        [ 0.06357464,  0.05737108, -0.06063002],\n",
       "        [-0.19153246,  0.04856813, -0.11104208],\n",
       "        [-0.03370416, -0.09205878, -0.16825578],\n",
       "        [-0.20403773,  0.14884835, -0.17087868],\n",
       "        [ 0.17655513,  0.06296512,  0.18580917],\n",
       "        [ 0.10929832,  0.11335251,  0.10655984],\n",
       "        [ 0.01339713,  0.10034609, -0.18323968],\n",
       "        [-0.1673463 , -0.13945451, -0.19922075],\n",
       "        [-0.03733067, -0.05890612, -0.10178129],\n",
       "        [ 0.03973943, -0.01200032, -0.08496711],\n",
       "        [-0.23373972,  0.05456826,  0.19368914],\n",
       "        [-0.11486901,  0.02982703,  0.02597472],\n",
       "        [ 0.11088336,  0.19831517,  0.06977898],\n",
       "        [ 0.15854853, -0.13113412,  0.14815995],\n",
       "        [-0.01754971, -0.12877229,  0.20929745],\n",
       "        [ 0.0696086 ,  0.04046673, -0.12107981],\n",
       "        [-0.04636627,  0.16413647, -0.2300266 ],\n",
       "        [ 0.09017947,  0.11438724,  0.23575088],\n",
       "        [ 0.10152242,  0.04624987, -0.22164693],\n",
       "        [ 0.10861236,  0.17363006,  0.09830567],\n",
       "        [-0.15989079, -0.10942821, -0.08041133],\n",
       "        [ 0.23578212, -0.10115016,  0.00260442],\n",
       "        [ 0.06004497,  0.19265968,  0.089598  ],\n",
       "        [-0.1511068 ,  0.16909185, -0.11100547],\n",
       "        [ 0.14481619, -0.10101971, -0.03970866],\n",
       "        [-0.21017544,  0.10214749, -0.14818716],\n",
       "        [ 0.18745321,  0.22605896, -0.03055502],\n",
       "        [ 0.06137902, -0.13470873,  0.1709657 ],\n",
       "        [-0.19149874, -0.05777165,  0.19992363],\n",
       "        [-0.10425043, -0.06942095,  0.22416747],\n",
       "        [ 0.10274002,  0.15366715, -0.13812101],\n",
       "        [ 0.18685618, -0.11097054,  0.1467053 ],\n",
       "        [ 0.21390241,  0.05390063, -0.03194372],\n",
       "        [ 0.06460109,  0.20042917,  0.05070496],\n",
       "        [-0.2354818 , -0.22403085, -0.03758794],\n",
       "        [ 0.18995294,  0.18391669, -0.02256021],\n",
       "        [ 0.10058296, -0.16222218,  0.0385015 ],\n",
       "        [-0.14096032, -0.02202298,  0.21997789],\n",
       "        [ 0.18826193,  0.06028396,  0.01990008],\n",
       "        [-0.02643496,  0.22471797,  0.01581517],\n",
       "        [ 0.07147798, -0.0837248 ,  0.12070525],\n",
       "        [-0.02504171, -0.12354314, -0.21965857],\n",
       "        [-0.05560583,  0.12347403,  0.00883618],\n",
       "        [-0.01351383, -0.03050254,  0.15975451],\n",
       "        [-0.12318648,  0.15769866,  0.17978281],\n",
       "        [ 0.19950438,  0.08510026,  0.21217951],\n",
       "        [-0.19730109, -0.03027254, -0.12960604],\n",
       "        [-0.05566297, -0.02530302,  0.1402488 ]], dtype=float32)>,\n",
       " <tf.Variable 'dense_8/bias:0' shape=(3,) dtype=float32, numpy=array([0., 0., 0.], dtype=float32)>]"
      ]
     },
     "execution_count": 10,
     "metadata": {},
     "output_type": "execute_result"
    }
   ],
   "source": [
    "model.weights"
   ]
  },
  {
   "cell_type": "markdown",
   "metadata": {},
   "source": [
    "### Now, we need to \"compile\" the model before we fit to the data."
   ]
  },
  {
   "cell_type": "markdown",
   "metadata": {},
   "source": [
    "Some useful links\n",
    "\n",
    "Loss functions: https://keras.io/api/losses/ \n",
    "\n",
    "Optimizers: https://keras.io/api/optimizers/ \n",
    "\n",
    "Metrics: https://keras.io/api/metrics/"
   ]
  },
  {
   "cell_type": "code",
   "execution_count": 11,
   "metadata": {},
   "outputs": [],
   "source": [
    "model.compile(loss='sparse_categorical_crossentropy',\n",
    "              optimizer='adam',\n",
    "              metrics='accuracy')"
   ]
  },
  {
   "cell_type": "markdown",
   "metadata": {},
   "source": [
    "### We are ready to train the neural network. Let's start training."
   ]
  },
  {
   "cell_type": "code",
   "execution_count": 12,
   "metadata": {
    "tags": []
   },
   "outputs": [
    {
     "name": "stdout",
     "output_type": "stream",
     "text": [
      "Epoch 1/1000\n"
     ]
    },
    {
     "name": "stderr",
     "output_type": "stream",
     "text": [
      "2023-04-14 19:08:25.854828: E tensorflow/stream_executor/cuda/cuda_blas.cc:226] failed to create cublas handle: CUBLAS_STATUS_NOT_INITIALIZED\n",
      "2023-04-14 19:08:25.854916: W tensorflow/core/framework/op_kernel.cc:1745] OP_REQUIRES failed at matmul_op_impl.h:438 : INTERNAL: Attempting to perform BLAS operation using StreamExecutor without BLAS support\n"
     ]
    },
    {
     "ename": "InternalError",
     "evalue": " Attempting to perform BLAS operation using StreamExecutor without BLAS support\n\t [[node sequential_2/dense_6/MatMul\n (defined at /apps/tensorflow/2.7.0/lib/python3.9/site-packages/keras/layers/core/dense.py:199)\n]] [Op:__inference_train_function_831]\n\nErrors may have originated from an input operation.\nInput Source operations connected to node sequential_2/dense_6/MatMul:\nIn[0] IteratorGetNext (defined at /apps/tensorflow/2.7.0/lib/python3.9/site-packages/keras/engine/training.py:866)\t\nIn[1] sequential_2/dense_6/MatMul/ReadVariableOp:\n\nOperation defined at: (most recent call last)\n>>>   File \"/apps/tensorflow/2.7.0/lib/python3.9/runpy.py\", line 197, in _run_module_as_main\n>>>     return _run_code(code, main_globals, None,\n>>> \n>>>   File \"/apps/tensorflow/2.7.0/lib/python3.9/runpy.py\", line 87, in _run_code\n>>>     exec(code, run_globals)\n>>> \n>>>   File \"/apps/tensorflow/2.7.0/lib/python3.9/site-packages/ipykernel/__main__.py\", line 5, in <module>\n>>>     app.launch_new_instance()\n>>> \n>>>   File \"/apps/tensorflow/2.7.0/lib/python3.9/site-packages/traitlets/config/application.py\", line 846, in launch_instance\n>>>     app.start()\n>>> \n>>>   File \"/apps/tensorflow/2.7.0/lib/python3.9/site-packages/ipykernel/kernelapp.py\", line 724, in start\n>>>     self.io_loop.start()\n>>> \n>>>   File \"/apps/tensorflow/2.7.0/lib/python3.9/site-packages/tornado/platform/asyncio.py\", line 215, in start\n>>>     self.asyncio_loop.run_forever()\n>>> \n>>>   File \"/apps/tensorflow/2.7.0/lib/python3.9/asyncio/base_events.py\", line 601, in run_forever\n>>>     self._run_once()\n>>> \n>>>   File \"/apps/tensorflow/2.7.0/lib/python3.9/asyncio/base_events.py\", line 1905, in _run_once\n>>>     handle._run()\n>>> \n>>>   File \"/apps/tensorflow/2.7.0/lib/python3.9/asyncio/events.py\", line 80, in _run\n>>>     self._context.run(self._callback, *self._args)\n>>> \n>>>   File \"/apps/tensorflow/2.7.0/lib/python3.9/site-packages/ipykernel/kernelbase.py\", line 512, in dispatch_queue\n>>>     await self.process_one()\n>>> \n>>>   File \"/apps/tensorflow/2.7.0/lib/python3.9/site-packages/ipykernel/kernelbase.py\", line 501, in process_one\n>>>     await dispatch(*args)\n>>> \n>>>   File \"/apps/tensorflow/2.7.0/lib/python3.9/site-packages/ipykernel/kernelbase.py\", line 408, in dispatch_shell\n>>>     await result\n>>> \n>>>   File \"/apps/tensorflow/2.7.0/lib/python3.9/site-packages/ipykernel/kernelbase.py\", line 731, in execute_request\n>>>     reply_content = await reply_content\n>>> \n>>>   File \"/apps/tensorflow/2.7.0/lib/python3.9/site-packages/ipykernel/ipkernel.py\", line 424, in do_execute\n>>>     res = shell.run_cell(code, store_history=store_history, silent=silent)\n>>> \n>>>   File \"/apps/tensorflow/2.7.0/lib/python3.9/site-packages/ipykernel/zmqshell.py\", line 540, in run_cell\n>>>     return super().run_cell(*args, **kwargs)\n>>> \n>>>   File \"/apps/tensorflow/2.7.0/lib/python3.9/site-packages/IPython/core/interactiveshell.py\", line 2863, in run_cell\n>>>     result = self._run_cell(\n>>> \n>>>   File \"/apps/tensorflow/2.7.0/lib/python3.9/site-packages/IPython/core/interactiveshell.py\", line 2909, in _run_cell\n>>>     return runner(coro)\n>>> \n>>>   File \"/apps/tensorflow/2.7.0/lib/python3.9/site-packages/IPython/core/async_helpers.py\", line 129, in _pseudo_sync_runner\n>>>     coro.send(None)\n>>> \n>>>   File \"/apps/tensorflow/2.7.0/lib/python3.9/site-packages/IPython/core/interactiveshell.py\", line 3106, in run_cell_async\n>>>     has_raised = await self.run_ast_nodes(code_ast.body, cell_name,\n>>> \n>>>   File \"/apps/tensorflow/2.7.0/lib/python3.9/site-packages/IPython/core/interactiveshell.py\", line 3309, in run_ast_nodes\n>>>     if await self.run_code(code, result, async_=asy):\n>>> \n>>>   File \"/apps/tensorflow/2.7.0/lib/python3.9/site-packages/IPython/core/interactiveshell.py\", line 3369, in run_code\n>>>     exec(code_obj, self.user_global_ns, self.user_ns)\n>>> \n>>>   File \"/scratch/local/61848370/ipykernel_64333/299646926.py\", line 3, in <cell line: 3>\n>>>     history = model.fit(X_train_scaled, y_train, epochs=1000, validation_split=0.2)\n>>> \n>>>   File \"/apps/tensorflow/2.7.0/lib/python3.9/site-packages/keras/utils/traceback_utils.py\", line 64, in error_handler\n>>>     return fn(*args, **kwargs)\n>>> \n>>>   File \"/apps/tensorflow/2.7.0/lib/python3.9/site-packages/keras/engine/training.py\", line 1216, in fit\n>>>     tmp_logs = self.train_function(iterator)\n>>> \n>>>   File \"/apps/tensorflow/2.7.0/lib/python3.9/site-packages/keras/engine/training.py\", line 878, in train_function\n>>>     return step_function(self, iterator)\n>>> \n>>>   File \"/apps/tensorflow/2.7.0/lib/python3.9/site-packages/keras/engine/training.py\", line 867, in step_function\n>>>     outputs = model.distribute_strategy.run(run_step, args=(data,))\n>>> \n>>>   File \"/apps/tensorflow/2.7.0/lib/python3.9/site-packages/keras/engine/training.py\", line 860, in run_step\n>>>     outputs = model.train_step(data)\n>>> \n>>>   File \"/apps/tensorflow/2.7.0/lib/python3.9/site-packages/keras/engine/training.py\", line 808, in train_step\n>>>     y_pred = self(x, training=True)\n>>> \n>>>   File \"/apps/tensorflow/2.7.0/lib/python3.9/site-packages/keras/utils/traceback_utils.py\", line 64, in error_handler\n>>>     return fn(*args, **kwargs)\n>>> \n>>>   File \"/apps/tensorflow/2.7.0/lib/python3.9/site-packages/keras/engine/base_layer.py\", line 1083, in __call__\n>>>     outputs = call_fn(inputs, *args, **kwargs)\n>>> \n>>>   File \"/apps/tensorflow/2.7.0/lib/python3.9/site-packages/keras/utils/traceback_utils.py\", line 92, in error_handler\n>>>     return fn(*args, **kwargs)\n>>> \n>>>   File \"/apps/tensorflow/2.7.0/lib/python3.9/site-packages/keras/engine/sequential.py\", line 373, in call\n>>>     return super(Sequential, self).call(inputs, training=training, mask=mask)\n>>> \n>>>   File \"/apps/tensorflow/2.7.0/lib/python3.9/site-packages/keras/engine/functional.py\", line 451, in call\n>>>     return self._run_internal_graph(\n>>> \n>>>   File \"/apps/tensorflow/2.7.0/lib/python3.9/site-packages/keras/engine/functional.py\", line 589, in _run_internal_graph\n>>>     outputs = node.layer(*args, **kwargs)\n>>> \n>>>   File \"/apps/tensorflow/2.7.0/lib/python3.9/site-packages/keras/utils/traceback_utils.py\", line 64, in error_handler\n>>>     return fn(*args, **kwargs)\n>>> \n>>>   File \"/apps/tensorflow/2.7.0/lib/python3.9/site-packages/keras/engine/base_layer.py\", line 1083, in __call__\n>>>     outputs = call_fn(inputs, *args, **kwargs)\n>>> \n>>>   File \"/apps/tensorflow/2.7.0/lib/python3.9/site-packages/keras/utils/traceback_utils.py\", line 92, in error_handler\n>>>     return fn(*args, **kwargs)\n>>> \n>>>   File \"/apps/tensorflow/2.7.0/lib/python3.9/site-packages/keras/layers/core/dense.py\", line 199, in call\n>>>     outputs = tf.matmul(a=inputs, b=self.kernel)\n>>> ",
     "output_type": "error",
     "traceback": [
      "\u001b[0;31m---------------------------------------------------------------------------\u001b[0m",
      "\u001b[0;31mInternalError\u001b[0m                             Traceback (most recent call last)",
      "Input \u001b[0;32mIn [12]\u001b[0m, in \u001b[0;36m<cell line: 3>\u001b[0;34m()\u001b[0m\n\u001b[1;32m      1\u001b[0m \u001b[38;5;66;03m# history will record the loss, accuracy, etc. \u001b[39;00m\n\u001b[1;32m      2\u001b[0m \u001b[38;5;66;03m# validation_split will split the training dataset into training + validation datasets. \u001b[39;00m\n\u001b[0;32m----> 3\u001b[0m history \u001b[38;5;241m=\u001b[39m \u001b[43mmodel\u001b[49m\u001b[38;5;241;43m.\u001b[39;49m\u001b[43mfit\u001b[49m\u001b[43m(\u001b[49m\u001b[43mX_train_scaled\u001b[49m\u001b[43m,\u001b[49m\u001b[43m \u001b[49m\u001b[43my_train\u001b[49m\u001b[43m,\u001b[49m\u001b[43m \u001b[49m\u001b[43mepochs\u001b[49m\u001b[38;5;241;43m=\u001b[39;49m\u001b[38;5;241;43m1000\u001b[39;49m\u001b[43m,\u001b[49m\u001b[43m \u001b[49m\u001b[43mvalidation_split\u001b[49m\u001b[38;5;241;43m=\u001b[39;49m\u001b[38;5;241;43m0.2\u001b[39;49m\u001b[43m)\u001b[49m\n",
      "File \u001b[0;32m/apps/tensorflow/2.7.0/lib/python3.9/site-packages/keras/utils/traceback_utils.py:67\u001b[0m, in \u001b[0;36mfilter_traceback.<locals>.error_handler\u001b[0;34m(*args, **kwargs)\u001b[0m\n\u001b[1;32m     65\u001b[0m \u001b[38;5;28;01mexcept\u001b[39;00m \u001b[38;5;167;01mException\u001b[39;00m \u001b[38;5;28;01mas\u001b[39;00m e:  \u001b[38;5;66;03m# pylint: disable=broad-except\u001b[39;00m\n\u001b[1;32m     66\u001b[0m   filtered_tb \u001b[38;5;241m=\u001b[39m _process_traceback_frames(e\u001b[38;5;241m.\u001b[39m__traceback__)\n\u001b[0;32m---> 67\u001b[0m   \u001b[38;5;28;01mraise\u001b[39;00m e\u001b[38;5;241m.\u001b[39mwith_traceback(filtered_tb) \u001b[38;5;28;01mfrom\u001b[39;00m \u001b[38;5;28mNone\u001b[39m\n\u001b[1;32m     68\u001b[0m \u001b[38;5;28;01mfinally\u001b[39;00m:\n\u001b[1;32m     69\u001b[0m   \u001b[38;5;28;01mdel\u001b[39;00m filtered_tb\n",
      "File \u001b[0;32m/apps/tensorflow/2.7.0/lib/python3.9/site-packages/tensorflow/python/eager/execute.py:58\u001b[0m, in \u001b[0;36mquick_execute\u001b[0;34m(op_name, num_outputs, inputs, attrs, ctx, name)\u001b[0m\n\u001b[1;32m     56\u001b[0m \u001b[38;5;28;01mtry\u001b[39;00m:\n\u001b[1;32m     57\u001b[0m   ctx\u001b[38;5;241m.\u001b[39mensure_initialized()\n\u001b[0;32m---> 58\u001b[0m   tensors \u001b[38;5;241m=\u001b[39m pywrap_tfe\u001b[38;5;241m.\u001b[39mTFE_Py_Execute(ctx\u001b[38;5;241m.\u001b[39m_handle, device_name, op_name,\n\u001b[1;32m     59\u001b[0m                                       inputs, attrs, num_outputs)\n\u001b[1;32m     60\u001b[0m \u001b[38;5;28;01mexcept\u001b[39;00m core\u001b[38;5;241m.\u001b[39m_NotOkStatusException \u001b[38;5;28;01mas\u001b[39;00m e:\n\u001b[1;32m     61\u001b[0m   \u001b[38;5;28;01mif\u001b[39;00m name \u001b[38;5;129;01mis\u001b[39;00m \u001b[38;5;129;01mnot\u001b[39;00m \u001b[38;5;28;01mNone\u001b[39;00m:\n",
      "\u001b[0;31mInternalError\u001b[0m:  Attempting to perform BLAS operation using StreamExecutor without BLAS support\n\t [[node sequential_2/dense_6/MatMul\n (defined at /apps/tensorflow/2.7.0/lib/python3.9/site-packages/keras/layers/core/dense.py:199)\n]] [Op:__inference_train_function_831]\n\nErrors may have originated from an input operation.\nInput Source operations connected to node sequential_2/dense_6/MatMul:\nIn[0] IteratorGetNext (defined at /apps/tensorflow/2.7.0/lib/python3.9/site-packages/keras/engine/training.py:866)\t\nIn[1] sequential_2/dense_6/MatMul/ReadVariableOp:\n\nOperation defined at: (most recent call last)\n>>>   File \"/apps/tensorflow/2.7.0/lib/python3.9/runpy.py\", line 197, in _run_module_as_main\n>>>     return _run_code(code, main_globals, None,\n>>> \n>>>   File \"/apps/tensorflow/2.7.0/lib/python3.9/runpy.py\", line 87, in _run_code\n>>>     exec(code, run_globals)\n>>> \n>>>   File \"/apps/tensorflow/2.7.0/lib/python3.9/site-packages/ipykernel/__main__.py\", line 5, in <module>\n>>>     app.launch_new_instance()\n>>> \n>>>   File \"/apps/tensorflow/2.7.0/lib/python3.9/site-packages/traitlets/config/application.py\", line 846, in launch_instance\n>>>     app.start()\n>>> \n>>>   File \"/apps/tensorflow/2.7.0/lib/python3.9/site-packages/ipykernel/kernelapp.py\", line 724, in start\n>>>     self.io_loop.start()\n>>> \n>>>   File \"/apps/tensorflow/2.7.0/lib/python3.9/site-packages/tornado/platform/asyncio.py\", line 215, in start\n>>>     self.asyncio_loop.run_forever()\n>>> \n>>>   File \"/apps/tensorflow/2.7.0/lib/python3.9/asyncio/base_events.py\", line 601, in run_forever\n>>>     self._run_once()\n>>> \n>>>   File \"/apps/tensorflow/2.7.0/lib/python3.9/asyncio/base_events.py\", line 1905, in _run_once\n>>>     handle._run()\n>>> \n>>>   File \"/apps/tensorflow/2.7.0/lib/python3.9/asyncio/events.py\", line 80, in _run\n>>>     self._context.run(self._callback, *self._args)\n>>> \n>>>   File \"/apps/tensorflow/2.7.0/lib/python3.9/site-packages/ipykernel/kernelbase.py\", line 512, in dispatch_queue\n>>>     await self.process_one()\n>>> \n>>>   File \"/apps/tensorflow/2.7.0/lib/python3.9/site-packages/ipykernel/kernelbase.py\", line 501, in process_one\n>>>     await dispatch(*args)\n>>> \n>>>   File \"/apps/tensorflow/2.7.0/lib/python3.9/site-packages/ipykernel/kernelbase.py\", line 408, in dispatch_shell\n>>>     await result\n>>> \n>>>   File \"/apps/tensorflow/2.7.0/lib/python3.9/site-packages/ipykernel/kernelbase.py\", line 731, in execute_request\n>>>     reply_content = await reply_content\n>>> \n>>>   File \"/apps/tensorflow/2.7.0/lib/python3.9/site-packages/ipykernel/ipkernel.py\", line 424, in do_execute\n>>>     res = shell.run_cell(code, store_history=store_history, silent=silent)\n>>> \n>>>   File \"/apps/tensorflow/2.7.0/lib/python3.9/site-packages/ipykernel/zmqshell.py\", line 540, in run_cell\n>>>     return super().run_cell(*args, **kwargs)\n>>> \n>>>   File \"/apps/tensorflow/2.7.0/lib/python3.9/site-packages/IPython/core/interactiveshell.py\", line 2863, in run_cell\n>>>     result = self._run_cell(\n>>> \n>>>   File \"/apps/tensorflow/2.7.0/lib/python3.9/site-packages/IPython/core/interactiveshell.py\", line 2909, in _run_cell\n>>>     return runner(coro)\n>>> \n>>>   File \"/apps/tensorflow/2.7.0/lib/python3.9/site-packages/IPython/core/async_helpers.py\", line 129, in _pseudo_sync_runner\n>>>     coro.send(None)\n>>> \n>>>   File \"/apps/tensorflow/2.7.0/lib/python3.9/site-packages/IPython/core/interactiveshell.py\", line 3106, in run_cell_async\n>>>     has_raised = await self.run_ast_nodes(code_ast.body, cell_name,\n>>> \n>>>   File \"/apps/tensorflow/2.7.0/lib/python3.9/site-packages/IPython/core/interactiveshell.py\", line 3309, in run_ast_nodes\n>>>     if await self.run_code(code, result, async_=asy):\n>>> \n>>>   File \"/apps/tensorflow/2.7.0/lib/python3.9/site-packages/IPython/core/interactiveshell.py\", line 3369, in run_code\n>>>     exec(code_obj, self.user_global_ns, self.user_ns)\n>>> \n>>>   File \"/scratch/local/61848370/ipykernel_64333/299646926.py\", line 3, in <cell line: 3>\n>>>     history = model.fit(X_train_scaled, y_train, epochs=1000, validation_split=0.2)\n>>> \n>>>   File \"/apps/tensorflow/2.7.0/lib/python3.9/site-packages/keras/utils/traceback_utils.py\", line 64, in error_handler\n>>>     return fn(*args, **kwargs)\n>>> \n>>>   File \"/apps/tensorflow/2.7.0/lib/python3.9/site-packages/keras/engine/training.py\", line 1216, in fit\n>>>     tmp_logs = self.train_function(iterator)\n>>> \n>>>   File \"/apps/tensorflow/2.7.0/lib/python3.9/site-packages/keras/engine/training.py\", line 878, in train_function\n>>>     return step_function(self, iterator)\n>>> \n>>>   File \"/apps/tensorflow/2.7.0/lib/python3.9/site-packages/keras/engine/training.py\", line 867, in step_function\n>>>     outputs = model.distribute_strategy.run(run_step, args=(data,))\n>>> \n>>>   File \"/apps/tensorflow/2.7.0/lib/python3.9/site-packages/keras/engine/training.py\", line 860, in run_step\n>>>     outputs = model.train_step(data)\n>>> \n>>>   File \"/apps/tensorflow/2.7.0/lib/python3.9/site-packages/keras/engine/training.py\", line 808, in train_step\n>>>     y_pred = self(x, training=True)\n>>> \n>>>   File \"/apps/tensorflow/2.7.0/lib/python3.9/site-packages/keras/utils/traceback_utils.py\", line 64, in error_handler\n>>>     return fn(*args, **kwargs)\n>>> \n>>>   File \"/apps/tensorflow/2.7.0/lib/python3.9/site-packages/keras/engine/base_layer.py\", line 1083, in __call__\n>>>     outputs = call_fn(inputs, *args, **kwargs)\n>>> \n>>>   File \"/apps/tensorflow/2.7.0/lib/python3.9/site-packages/keras/utils/traceback_utils.py\", line 92, in error_handler\n>>>     return fn(*args, **kwargs)\n>>> \n>>>   File \"/apps/tensorflow/2.7.0/lib/python3.9/site-packages/keras/engine/sequential.py\", line 373, in call\n>>>     return super(Sequential, self).call(inputs, training=training, mask=mask)\n>>> \n>>>   File \"/apps/tensorflow/2.7.0/lib/python3.9/site-packages/keras/engine/functional.py\", line 451, in call\n>>>     return self._run_internal_graph(\n>>> \n>>>   File \"/apps/tensorflow/2.7.0/lib/python3.9/site-packages/keras/engine/functional.py\", line 589, in _run_internal_graph\n>>>     outputs = node.layer(*args, **kwargs)\n>>> \n>>>   File \"/apps/tensorflow/2.7.0/lib/python3.9/site-packages/keras/utils/traceback_utils.py\", line 64, in error_handler\n>>>     return fn(*args, **kwargs)\n>>> \n>>>   File \"/apps/tensorflow/2.7.0/lib/python3.9/site-packages/keras/engine/base_layer.py\", line 1083, in __call__\n>>>     outputs = call_fn(inputs, *args, **kwargs)\n>>> \n>>>   File \"/apps/tensorflow/2.7.0/lib/python3.9/site-packages/keras/utils/traceback_utils.py\", line 92, in error_handler\n>>>     return fn(*args, **kwargs)\n>>> \n>>>   File \"/apps/tensorflow/2.7.0/lib/python3.9/site-packages/keras/layers/core/dense.py\", line 199, in call\n>>>     outputs = tf.matmul(a=inputs, b=self.kernel)\n>>> "
     ]
    }
   ],
   "source": [
    "# history will record the loss, accuracy, etc. \n",
    "# validation_split will split the training dataset into training + validation datasets. \n",
    "history = model.fit(X_train_scaled, y_train, epochs=1000, validation_split=0.2)"
   ]
  },
  {
   "cell_type": "markdown",
   "metadata": {},
   "source": [
    "### Note that in each epoch, there are 3 mini batches."
   ]
  },
  {
   "cell_type": "code",
   "execution_count": 13,
   "metadata": {},
   "outputs": [
    {
     "data": {
      "text/plain": [
       "2.8000000000000003"
      ]
     },
     "execution_count": 13,
     "metadata": {},
     "output_type": "execute_result"
    }
   ],
   "source": [
    "(X_train.shape[0]*0.8)/32"
   ]
  },
  {
   "cell_type": "code",
   "execution_count": 14,
   "metadata": {},
   "outputs": [
    {
     "data": {
      "text/plain": [
       "3.5"
      ]
     },
     "execution_count": 14,
     "metadata": {},
     "output_type": "execute_result"
    }
   ],
   "source": [
    "X_train_scaled.shape[0]/32"
   ]
  },
  {
   "cell_type": "markdown",
   "metadata": {},
   "source": [
    "### Let's evlauate the model using the test dataset."
   ]
  },
  {
   "cell_type": "code",
   "execution_count": 15,
   "metadata": {},
   "outputs": [
    {
     "name": "stderr",
     "output_type": "stream",
     "text": [
      "2023-04-14 19:08:52.488426: E tensorflow/stream_executor/cuda/cuda_blas.cc:226] failed to create cublas handle: CUBLAS_STATUS_NOT_INITIALIZED\n",
      "2023-04-14 19:08:52.488484: W tensorflow/core/framework/op_kernel.cc:1745] OP_REQUIRES failed at matmul_op_impl.h:438 : INTERNAL: Attempting to perform BLAS operation using StreamExecutor without BLAS support\n"
     ]
    },
    {
     "ename": "InternalError",
     "evalue": " Attempting to perform BLAS operation using StreamExecutor without BLAS support\n\t [[node sequential_2/dense_6/MatMul\n (defined at /apps/tensorflow/2.7.0/lib/python3.9/site-packages/keras/layers/core/dense.py:199)\n]] [Op:__inference_test_function_1004]\n\nErrors may have originated from an input operation.\nInput Source operations connected to node sequential_2/dense_6/MatMul:\nIn[0] IteratorGetNext (defined at /apps/tensorflow/2.7.0/lib/python3.9/site-packages/keras/engine/training.py:1355)\t\nIn[1] sequential_2/dense_6/MatMul/ReadVariableOp:\n\nOperation defined at: (most recent call last)\n>>>   File \"/apps/tensorflow/2.7.0/lib/python3.9/runpy.py\", line 197, in _run_module_as_main\n>>>     return _run_code(code, main_globals, None,\n>>> \n>>>   File \"/apps/tensorflow/2.7.0/lib/python3.9/runpy.py\", line 87, in _run_code\n>>>     exec(code, run_globals)\n>>> \n>>>   File \"/apps/tensorflow/2.7.0/lib/python3.9/site-packages/ipykernel/__main__.py\", line 5, in <module>\n>>>     app.launch_new_instance()\n>>> \n>>>   File \"/apps/tensorflow/2.7.0/lib/python3.9/site-packages/traitlets/config/application.py\", line 846, in launch_instance\n>>>     app.start()\n>>> \n>>>   File \"/apps/tensorflow/2.7.0/lib/python3.9/site-packages/ipykernel/kernelapp.py\", line 724, in start\n>>>     self.io_loop.start()\n>>> \n>>>   File \"/apps/tensorflow/2.7.0/lib/python3.9/site-packages/tornado/platform/asyncio.py\", line 215, in start\n>>>     self.asyncio_loop.run_forever()\n>>> \n>>>   File \"/apps/tensorflow/2.7.0/lib/python3.9/asyncio/base_events.py\", line 601, in run_forever\n>>>     self._run_once()\n>>> \n>>>   File \"/apps/tensorflow/2.7.0/lib/python3.9/asyncio/base_events.py\", line 1905, in _run_once\n>>>     handle._run()\n>>> \n>>>   File \"/apps/tensorflow/2.7.0/lib/python3.9/asyncio/events.py\", line 80, in _run\n>>>     self._context.run(self._callback, *self._args)\n>>> \n>>>   File \"/apps/tensorflow/2.7.0/lib/python3.9/site-packages/ipykernel/kernelbase.py\", line 512, in dispatch_queue\n>>>     await self.process_one()\n>>> \n>>>   File \"/apps/tensorflow/2.7.0/lib/python3.9/site-packages/ipykernel/kernelbase.py\", line 501, in process_one\n>>>     await dispatch(*args)\n>>> \n>>>   File \"/apps/tensorflow/2.7.0/lib/python3.9/site-packages/ipykernel/kernelbase.py\", line 408, in dispatch_shell\n>>>     await result\n>>> \n>>>   File \"/apps/tensorflow/2.7.0/lib/python3.9/site-packages/ipykernel/kernelbase.py\", line 731, in execute_request\n>>>     reply_content = await reply_content\n>>> \n>>>   File \"/apps/tensorflow/2.7.0/lib/python3.9/site-packages/ipykernel/ipkernel.py\", line 424, in do_execute\n>>>     res = shell.run_cell(code, store_history=store_history, silent=silent)\n>>> \n>>>   File \"/apps/tensorflow/2.7.0/lib/python3.9/site-packages/ipykernel/zmqshell.py\", line 540, in run_cell\n>>>     return super().run_cell(*args, **kwargs)\n>>> \n>>>   File \"/apps/tensorflow/2.7.0/lib/python3.9/site-packages/IPython/core/interactiveshell.py\", line 2863, in run_cell\n>>>     result = self._run_cell(\n>>> \n>>>   File \"/apps/tensorflow/2.7.0/lib/python3.9/site-packages/IPython/core/interactiveshell.py\", line 2909, in _run_cell\n>>>     return runner(coro)\n>>> \n>>>   File \"/apps/tensorflow/2.7.0/lib/python3.9/site-packages/IPython/core/async_helpers.py\", line 129, in _pseudo_sync_runner\n>>>     coro.send(None)\n>>> \n>>>   File \"/apps/tensorflow/2.7.0/lib/python3.9/site-packages/IPython/core/interactiveshell.py\", line 3106, in run_cell_async\n>>>     has_raised = await self.run_ast_nodes(code_ast.body, cell_name,\n>>> \n>>>   File \"/apps/tensorflow/2.7.0/lib/python3.9/site-packages/IPython/core/interactiveshell.py\", line 3309, in run_ast_nodes\n>>>     if await self.run_code(code, result, async_=asy):\n>>> \n>>>   File \"/apps/tensorflow/2.7.0/lib/python3.9/site-packages/IPython/core/interactiveshell.py\", line 3369, in run_code\n>>>     exec(code_obj, self.user_global_ns, self.user_ns)\n>>> \n>>>   File \"/scratch/local/61848370/ipykernel_64333/1893010749.py\", line 1, in <cell line: 1>\n>>>     loss, accuracy = model.evaluate(X_test_scaled, y_test, verbose=0)\n>>> \n>>>   File \"/apps/tensorflow/2.7.0/lib/python3.9/site-packages/keras/utils/traceback_utils.py\", line 64, in error_handler\n>>>     return fn(*args, **kwargs)\n>>> \n>>>   File \"/apps/tensorflow/2.7.0/lib/python3.9/site-packages/keras/engine/training.py\", line 1537, in evaluate\n>>>     tmp_logs = self.test_function(iterator)\n>>> \n>>>   File \"/apps/tensorflow/2.7.0/lib/python3.9/site-packages/keras/engine/training.py\", line 1366, in test_function\n>>>     return step_function(self, iterator)\n>>> \n>>>   File \"/apps/tensorflow/2.7.0/lib/python3.9/site-packages/keras/engine/training.py\", line 1356, in step_function\n>>>     outputs = model.distribute_strategy.run(run_step, args=(data,))\n>>> \n>>>   File \"/apps/tensorflow/2.7.0/lib/python3.9/site-packages/keras/engine/training.py\", line 1349, in run_step\n>>>     outputs = model.test_step(data)\n>>> \n>>>   File \"/apps/tensorflow/2.7.0/lib/python3.9/site-packages/keras/engine/training.py\", line 1303, in test_step\n>>>     y_pred = self(x, training=False)\n>>> \n>>>   File \"/apps/tensorflow/2.7.0/lib/python3.9/site-packages/keras/utils/traceback_utils.py\", line 64, in error_handler\n>>>     return fn(*args, **kwargs)\n>>> \n>>>   File \"/apps/tensorflow/2.7.0/lib/python3.9/site-packages/keras/engine/base_layer.py\", line 1083, in __call__\n>>>     outputs = call_fn(inputs, *args, **kwargs)\n>>> \n>>>   File \"/apps/tensorflow/2.7.0/lib/python3.9/site-packages/keras/utils/traceback_utils.py\", line 92, in error_handler\n>>>     return fn(*args, **kwargs)\n>>> \n>>>   File \"/apps/tensorflow/2.7.0/lib/python3.9/site-packages/keras/engine/sequential.py\", line 373, in call\n>>>     return super(Sequential, self).call(inputs, training=training, mask=mask)\n>>> \n>>>   File \"/apps/tensorflow/2.7.0/lib/python3.9/site-packages/keras/engine/functional.py\", line 451, in call\n>>>     return self._run_internal_graph(\n>>> \n>>>   File \"/apps/tensorflow/2.7.0/lib/python3.9/site-packages/keras/engine/functional.py\", line 589, in _run_internal_graph\n>>>     outputs = node.layer(*args, **kwargs)\n>>> \n>>>   File \"/apps/tensorflow/2.7.0/lib/python3.9/site-packages/keras/utils/traceback_utils.py\", line 64, in error_handler\n>>>     return fn(*args, **kwargs)\n>>> \n>>>   File \"/apps/tensorflow/2.7.0/lib/python3.9/site-packages/keras/engine/base_layer.py\", line 1083, in __call__\n>>>     outputs = call_fn(inputs, *args, **kwargs)\n>>> \n>>>   File \"/apps/tensorflow/2.7.0/lib/python3.9/site-packages/keras/utils/traceback_utils.py\", line 92, in error_handler\n>>>     return fn(*args, **kwargs)\n>>> \n>>>   File \"/apps/tensorflow/2.7.0/lib/python3.9/site-packages/keras/layers/core/dense.py\", line 199, in call\n>>>     outputs = tf.matmul(a=inputs, b=self.kernel)\n>>> ",
     "output_type": "error",
     "traceback": [
      "\u001b[0;31m---------------------------------------------------------------------------\u001b[0m",
      "\u001b[0;31mInternalError\u001b[0m                             Traceback (most recent call last)",
      "Input \u001b[0;32mIn [15]\u001b[0m, in \u001b[0;36m<cell line: 1>\u001b[0;34m()\u001b[0m\n\u001b[0;32m----> 1\u001b[0m loss, accuracy \u001b[38;5;241m=\u001b[39m \u001b[43mmodel\u001b[49m\u001b[38;5;241;43m.\u001b[39;49m\u001b[43mevaluate\u001b[49m\u001b[43m(\u001b[49m\u001b[43mX_test_scaled\u001b[49m\u001b[43m,\u001b[49m\u001b[43m \u001b[49m\u001b[43my_test\u001b[49m\u001b[43m,\u001b[49m\u001b[43m \u001b[49m\u001b[43mverbose\u001b[49m\u001b[38;5;241;43m=\u001b[39;49m\u001b[38;5;241;43m0\u001b[39;49m\u001b[43m)\u001b[49m\n\u001b[1;32m      2\u001b[0m \u001b[38;5;28mprint\u001b[39m(\u001b[38;5;124m'\u001b[39m\u001b[38;5;124mTest loss:\u001b[39m\u001b[38;5;124m'\u001b[39m, loss)\n\u001b[1;32m      3\u001b[0m \u001b[38;5;28mprint\u001b[39m(\u001b[38;5;124m'\u001b[39m\u001b[38;5;124mTest accuracy:\u001b[39m\u001b[38;5;124m'\u001b[39m, accuracy)\n",
      "File \u001b[0;32m/apps/tensorflow/2.7.0/lib/python3.9/site-packages/keras/utils/traceback_utils.py:67\u001b[0m, in \u001b[0;36mfilter_traceback.<locals>.error_handler\u001b[0;34m(*args, **kwargs)\u001b[0m\n\u001b[1;32m     65\u001b[0m \u001b[38;5;28;01mexcept\u001b[39;00m \u001b[38;5;167;01mException\u001b[39;00m \u001b[38;5;28;01mas\u001b[39;00m e:  \u001b[38;5;66;03m# pylint: disable=broad-except\u001b[39;00m\n\u001b[1;32m     66\u001b[0m   filtered_tb \u001b[38;5;241m=\u001b[39m _process_traceback_frames(e\u001b[38;5;241m.\u001b[39m__traceback__)\n\u001b[0;32m---> 67\u001b[0m   \u001b[38;5;28;01mraise\u001b[39;00m e\u001b[38;5;241m.\u001b[39mwith_traceback(filtered_tb) \u001b[38;5;28;01mfrom\u001b[39;00m \u001b[38;5;28mNone\u001b[39m\n\u001b[1;32m     68\u001b[0m \u001b[38;5;28;01mfinally\u001b[39;00m:\n\u001b[1;32m     69\u001b[0m   \u001b[38;5;28;01mdel\u001b[39;00m filtered_tb\n",
      "File \u001b[0;32m/apps/tensorflow/2.7.0/lib/python3.9/site-packages/tensorflow/python/eager/execute.py:58\u001b[0m, in \u001b[0;36mquick_execute\u001b[0;34m(op_name, num_outputs, inputs, attrs, ctx, name)\u001b[0m\n\u001b[1;32m     56\u001b[0m \u001b[38;5;28;01mtry\u001b[39;00m:\n\u001b[1;32m     57\u001b[0m   ctx\u001b[38;5;241m.\u001b[39mensure_initialized()\n\u001b[0;32m---> 58\u001b[0m   tensors \u001b[38;5;241m=\u001b[39m pywrap_tfe\u001b[38;5;241m.\u001b[39mTFE_Py_Execute(ctx\u001b[38;5;241m.\u001b[39m_handle, device_name, op_name,\n\u001b[1;32m     59\u001b[0m                                       inputs, attrs, num_outputs)\n\u001b[1;32m     60\u001b[0m \u001b[38;5;28;01mexcept\u001b[39;00m core\u001b[38;5;241m.\u001b[39m_NotOkStatusException \u001b[38;5;28;01mas\u001b[39;00m e:\n\u001b[1;32m     61\u001b[0m   \u001b[38;5;28;01mif\u001b[39;00m name \u001b[38;5;129;01mis\u001b[39;00m \u001b[38;5;129;01mnot\u001b[39;00m \u001b[38;5;28;01mNone\u001b[39;00m:\n",
      "\u001b[0;31mInternalError\u001b[0m:  Attempting to perform BLAS operation using StreamExecutor without BLAS support\n\t [[node sequential_2/dense_6/MatMul\n (defined at /apps/tensorflow/2.7.0/lib/python3.9/site-packages/keras/layers/core/dense.py:199)\n]] [Op:__inference_test_function_1004]\n\nErrors may have originated from an input operation.\nInput Source operations connected to node sequential_2/dense_6/MatMul:\nIn[0] IteratorGetNext (defined at /apps/tensorflow/2.7.0/lib/python3.9/site-packages/keras/engine/training.py:1355)\t\nIn[1] sequential_2/dense_6/MatMul/ReadVariableOp:\n\nOperation defined at: (most recent call last)\n>>>   File \"/apps/tensorflow/2.7.0/lib/python3.9/runpy.py\", line 197, in _run_module_as_main\n>>>     return _run_code(code, main_globals, None,\n>>> \n>>>   File \"/apps/tensorflow/2.7.0/lib/python3.9/runpy.py\", line 87, in _run_code\n>>>     exec(code, run_globals)\n>>> \n>>>   File \"/apps/tensorflow/2.7.0/lib/python3.9/site-packages/ipykernel/__main__.py\", line 5, in <module>\n>>>     app.launch_new_instance()\n>>> \n>>>   File \"/apps/tensorflow/2.7.0/lib/python3.9/site-packages/traitlets/config/application.py\", line 846, in launch_instance\n>>>     app.start()\n>>> \n>>>   File \"/apps/tensorflow/2.7.0/lib/python3.9/site-packages/ipykernel/kernelapp.py\", line 724, in start\n>>>     self.io_loop.start()\n>>> \n>>>   File \"/apps/tensorflow/2.7.0/lib/python3.9/site-packages/tornado/platform/asyncio.py\", line 215, in start\n>>>     self.asyncio_loop.run_forever()\n>>> \n>>>   File \"/apps/tensorflow/2.7.0/lib/python3.9/asyncio/base_events.py\", line 601, in run_forever\n>>>     self._run_once()\n>>> \n>>>   File \"/apps/tensorflow/2.7.0/lib/python3.9/asyncio/base_events.py\", line 1905, in _run_once\n>>>     handle._run()\n>>> \n>>>   File \"/apps/tensorflow/2.7.0/lib/python3.9/asyncio/events.py\", line 80, in _run\n>>>     self._context.run(self._callback, *self._args)\n>>> \n>>>   File \"/apps/tensorflow/2.7.0/lib/python3.9/site-packages/ipykernel/kernelbase.py\", line 512, in dispatch_queue\n>>>     await self.process_one()\n>>> \n>>>   File \"/apps/tensorflow/2.7.0/lib/python3.9/site-packages/ipykernel/kernelbase.py\", line 501, in process_one\n>>>     await dispatch(*args)\n>>> \n>>>   File \"/apps/tensorflow/2.7.0/lib/python3.9/site-packages/ipykernel/kernelbase.py\", line 408, in dispatch_shell\n>>>     await result\n>>> \n>>>   File \"/apps/tensorflow/2.7.0/lib/python3.9/site-packages/ipykernel/kernelbase.py\", line 731, in execute_request\n>>>     reply_content = await reply_content\n>>> \n>>>   File \"/apps/tensorflow/2.7.0/lib/python3.9/site-packages/ipykernel/ipkernel.py\", line 424, in do_execute\n>>>     res = shell.run_cell(code, store_history=store_history, silent=silent)\n>>> \n>>>   File \"/apps/tensorflow/2.7.0/lib/python3.9/site-packages/ipykernel/zmqshell.py\", line 540, in run_cell\n>>>     return super().run_cell(*args, **kwargs)\n>>> \n>>>   File \"/apps/tensorflow/2.7.0/lib/python3.9/site-packages/IPython/core/interactiveshell.py\", line 2863, in run_cell\n>>>     result = self._run_cell(\n>>> \n>>>   File \"/apps/tensorflow/2.7.0/lib/python3.9/site-packages/IPython/core/interactiveshell.py\", line 2909, in _run_cell\n>>>     return runner(coro)\n>>> \n>>>   File \"/apps/tensorflow/2.7.0/lib/python3.9/site-packages/IPython/core/async_helpers.py\", line 129, in _pseudo_sync_runner\n>>>     coro.send(None)\n>>> \n>>>   File \"/apps/tensorflow/2.7.0/lib/python3.9/site-packages/IPython/core/interactiveshell.py\", line 3106, in run_cell_async\n>>>     has_raised = await self.run_ast_nodes(code_ast.body, cell_name,\n>>> \n>>>   File \"/apps/tensorflow/2.7.0/lib/python3.9/site-packages/IPython/core/interactiveshell.py\", line 3309, in run_ast_nodes\n>>>     if await self.run_code(code, result, async_=asy):\n>>> \n>>>   File \"/apps/tensorflow/2.7.0/lib/python3.9/site-packages/IPython/core/interactiveshell.py\", line 3369, in run_code\n>>>     exec(code_obj, self.user_global_ns, self.user_ns)\n>>> \n>>>   File \"/scratch/local/61848370/ipykernel_64333/1893010749.py\", line 1, in <cell line: 1>\n>>>     loss, accuracy = model.evaluate(X_test_scaled, y_test, verbose=0)\n>>> \n>>>   File \"/apps/tensorflow/2.7.0/lib/python3.9/site-packages/keras/utils/traceback_utils.py\", line 64, in error_handler\n>>>     return fn(*args, **kwargs)\n>>> \n>>>   File \"/apps/tensorflow/2.7.0/lib/python3.9/site-packages/keras/engine/training.py\", line 1537, in evaluate\n>>>     tmp_logs = self.test_function(iterator)\n>>> \n>>>   File \"/apps/tensorflow/2.7.0/lib/python3.9/site-packages/keras/engine/training.py\", line 1366, in test_function\n>>>     return step_function(self, iterator)\n>>> \n>>>   File \"/apps/tensorflow/2.7.0/lib/python3.9/site-packages/keras/engine/training.py\", line 1356, in step_function\n>>>     outputs = model.distribute_strategy.run(run_step, args=(data,))\n>>> \n>>>   File \"/apps/tensorflow/2.7.0/lib/python3.9/site-packages/keras/engine/training.py\", line 1349, in run_step\n>>>     outputs = model.test_step(data)\n>>> \n>>>   File \"/apps/tensorflow/2.7.0/lib/python3.9/site-packages/keras/engine/training.py\", line 1303, in test_step\n>>>     y_pred = self(x, training=False)\n>>> \n>>>   File \"/apps/tensorflow/2.7.0/lib/python3.9/site-packages/keras/utils/traceback_utils.py\", line 64, in error_handler\n>>>     return fn(*args, **kwargs)\n>>> \n>>>   File \"/apps/tensorflow/2.7.0/lib/python3.9/site-packages/keras/engine/base_layer.py\", line 1083, in __call__\n>>>     outputs = call_fn(inputs, *args, **kwargs)\n>>> \n>>>   File \"/apps/tensorflow/2.7.0/lib/python3.9/site-packages/keras/utils/traceback_utils.py\", line 92, in error_handler\n>>>     return fn(*args, **kwargs)\n>>> \n>>>   File \"/apps/tensorflow/2.7.0/lib/python3.9/site-packages/keras/engine/sequential.py\", line 373, in call\n>>>     return super(Sequential, self).call(inputs, training=training, mask=mask)\n>>> \n>>>   File \"/apps/tensorflow/2.7.0/lib/python3.9/site-packages/keras/engine/functional.py\", line 451, in call\n>>>     return self._run_internal_graph(\n>>> \n>>>   File \"/apps/tensorflow/2.7.0/lib/python3.9/site-packages/keras/engine/functional.py\", line 589, in _run_internal_graph\n>>>     outputs = node.layer(*args, **kwargs)\n>>> \n>>>   File \"/apps/tensorflow/2.7.0/lib/python3.9/site-packages/keras/utils/traceback_utils.py\", line 64, in error_handler\n>>>     return fn(*args, **kwargs)\n>>> \n>>>   File \"/apps/tensorflow/2.7.0/lib/python3.9/site-packages/keras/engine/base_layer.py\", line 1083, in __call__\n>>>     outputs = call_fn(inputs, *args, **kwargs)\n>>> \n>>>   File \"/apps/tensorflow/2.7.0/lib/python3.9/site-packages/keras/utils/traceback_utils.py\", line 92, in error_handler\n>>>     return fn(*args, **kwargs)\n>>> \n>>>   File \"/apps/tensorflow/2.7.0/lib/python3.9/site-packages/keras/layers/core/dense.py\", line 199, in call\n>>>     outputs = tf.matmul(a=inputs, b=self.kernel)\n>>> "
     ]
    }
   ],
   "source": [
    "loss, accuracy = model.evaluate(X_test_scaled, y_test, verbose=0)\n",
    "print('Test loss:', loss)\n",
    "print('Test accuracy:', accuracy)"
   ]
  },
  {
   "cell_type": "markdown",
   "metadata": {},
   "source": [
    "### Let's check how loss and validation loss evolved over epoch."
   ]
  },
  {
   "cell_type": "code",
   "execution_count": 16,
   "metadata": {},
   "outputs": [
    {
     "ename": "NameError",
     "evalue": "name 'history' is not defined",
     "output_type": "error",
     "traceback": [
      "\u001b[0;31m---------------------------------------------------------------------------\u001b[0m",
      "\u001b[0;31mNameError\u001b[0m                                 Traceback (most recent call last)",
      "Input \u001b[0;32mIn [16]\u001b[0m, in \u001b[0;36m<cell line: 1>\u001b[0;34m()\u001b[0m\n\u001b[0;32m----> 1\u001b[0m plt\u001b[38;5;241m.\u001b[39mplot(\u001b[43mhistory\u001b[49m\u001b[38;5;241m.\u001b[39mepoch, history\u001b[38;5;241m.\u001b[39mhistory[\u001b[38;5;124m'\u001b[39m\u001b[38;5;124mloss\u001b[39m\u001b[38;5;124m'\u001b[39m],\u001b[38;5;124m'\u001b[39m\u001b[38;5;124m.-\u001b[39m\u001b[38;5;124m'\u001b[39m, label\u001b[38;5;241m=\u001b[39m\u001b[38;5;124m'\u001b[39m\u001b[38;5;124mloss\u001b[39m\u001b[38;5;124m'\u001b[39m)\n\u001b[1;32m      2\u001b[0m plt\u001b[38;5;241m.\u001b[39mplot(history\u001b[38;5;241m.\u001b[39mepoch, history\u001b[38;5;241m.\u001b[39mhistory[\u001b[38;5;124m'\u001b[39m\u001b[38;5;124mval_loss\u001b[39m\u001b[38;5;124m'\u001b[39m],\u001b[38;5;124m'\u001b[39m\u001b[38;5;124m.-\u001b[39m\u001b[38;5;124m'\u001b[39m, label\u001b[38;5;241m=\u001b[39m\u001b[38;5;124m'\u001b[39m\u001b[38;5;124mvalidation loss\u001b[39m\u001b[38;5;124m'\u001b[39m)\n\u001b[1;32m      3\u001b[0m plt\u001b[38;5;241m.\u001b[39mxlabel(\u001b[38;5;124m'\u001b[39m\u001b[38;5;124mepoch\u001b[39m\u001b[38;5;124m'\u001b[39m)\n",
      "\u001b[0;31mNameError\u001b[0m: name 'history' is not defined"
     ]
    }
   ],
   "source": [
    "plt.plot(history.epoch, history.history['loss'],'.-', label='loss')\n",
    "plt.plot(history.epoch, history.history['val_loss'],'.-', label='validation loss')\n",
    "plt.xlabel('epoch')\n",
    "plt.ylabel('loss, validation loss')\n",
    "plt.legend()"
   ]
  },
  {
   "cell_type": "markdown",
   "metadata": {},
   "source": [
    "### Let's check how accuracy and validation accuracy evolved over epoch."
   ]
  },
  {
   "cell_type": "code",
   "execution_count": 57,
   "metadata": {},
   "outputs": [
    {
     "data": {
      "text/plain": [
       "<matplotlib.legend.Legend at 0x7fa979388110>"
      ]
     },
     "execution_count": 57,
     "metadata": {},
     "output_type": "execute_result"
    },
    {
     "data": {
      "image/png": "[encoded data removed]",
      "text/plain": [
       "<Figure size 432x288 with 1 Axes>"
      ]
     },
     "metadata": {
      "needs_background": "light"
     },
     "output_type": "display_data"
    }
   ],
   "source": [
    "plt.plot(history.epoch, history.history['accuracy'],'.-', label='accuracy')\n",
    "plt.plot(history.epoch, history.history['val_accuracy'],'.-', label='validation accuracy')\n",
    "plt.xlabel('epoch')\n",
    "plt.ylabel('accuracy, validation accuracy')\n",
    "plt.legend()"
   ]
  },
  {
   "cell_type": "markdown",
   "metadata": {},
   "source": [
    "### Early stopping"
   ]
  },
  {
   "cell_type": "code",
   "execution_count": 58,
   "metadata": {
    "scrolled": true
   },
   "outputs": [],
   "source": [
    "# The default monitor is \"val_loss\"\n",
    "early_stopping_cb = keras.callbacks.EarlyStopping(monitor='val_loss', patience=30)\n",
    "checkpoint_cb = keras.callbacks.ModelCheckpoint(\"best_model.h5\", save_best_only=True)"
   ]
  },
  {
   "cell_type": "code",
   "execution_count": 59,
   "metadata": {},
   "outputs": [],
   "source": [
    "model = keras.models.Sequential([\n",
    "    keras.layers.Input(shape=X_train.shape[1]),\n",
    "    keras.layers.Dense(100, activation='relu'),\n",
    "    keras.layers.Dense(100, activation='relu',),\n",
    "    keras.layers.Dense(np.unique(y).shape[0], activation='softmax')\n",
    "])\n",
    "\n",
    "model.compile(loss='sparse_categorical_crossentropy',\n",
    "              optimizer='adam',\n",
    "              metrics='accuracy')"
   ]
  },
  {
   "cell_type": "code",
   "execution_count": 60,
   "metadata": {
    "collapsed": true,
    "jupyter": {
     "outputs_hidden": true
    },
    "scrolled": true,
    "tags": []
   },
   "outputs": [
    {
     "name": "stdout",
     "output_type": "stream",
     "text": [
      "Epoch 1/1000\n",
      "WARNING:tensorflow:AutoGraph could not transform <function Model.make_train_function.<locals>.train_function at 0x7fa9b8ddd560> and will run it as-is.\n",
      "Please report this to the TensorFlow team. When filing the bug, set the verbosity to 10 (on Linux, `export AUTOGRAPH_VERBOSITY=10`) and attach the full output.\n",
      "Cause: 'arguments' object has no attribute 'posonlyargs'\n",
      "To silence this warning, decorate the function with @tf.autograph.experimental.do_not_convert\n",
      "WARNING: AutoGraph could not transform <function Model.make_train_function.<locals>.train_function at 0x7fa9b8ddd560> and will run it as-is.\n",
      "Please report this to the TensorFlow team. When filing the bug, set the verbosity to 10 (on Linux, `export AUTOGRAPH_VERBOSITY=10`) and attach the full output.\n",
      "Cause: 'arguments' object has no attribute 'posonlyargs'\n",
      "To silence this warning, decorate the function with @tf.autograph.experimental.do_not_convert\n",
      "1/3 [=========>....................] - ETA: 0s - loss: 1.0343 - accuracy: 0.7500WARNING:tensorflow:AutoGraph could not transform <function Model.make_test_function.<locals>.test_function at 0x7fa96c5f5a70> and will run it as-is.\n",
      "Please report this to the TensorFlow team. When filing the bug, set the verbosity to 10 (on Linux, `export AUTOGRAPH_VERBOSITY=10`) and attach the full output.\n",
      "Cause: 'arguments' object has no attribute 'posonlyargs'\n",
      "To silence this warning, decorate the function with @tf.autograph.experimental.do_not_convert\n",
      "WARNING: AutoGraph could not transform <function Model.make_test_function.<locals>.test_function at 0x7fa96c5f5a70> and will run it as-is.\n",
      "Please report this to the TensorFlow team. When filing the bug, set the verbosity to 10 (on Linux, `export AUTOGRAPH_VERBOSITY=10`) and attach the full output.\n",
      "Cause: 'arguments' object has no attribute 'posonlyargs'\n",
      "To silence this warning, decorate the function with @tf.autograph.experimental.do_not_convert\n",
      "3/3 [==============================] - 1s 107ms/step - loss: 1.0370 - accuracy: 0.5753 - val_loss: 1.0935 - val_accuracy: 0.2609\n",
      "Epoch 2/1000\n",
      "3/3 [==============================] - 0s 23ms/step - loss: 0.9669 - accuracy: 0.3880 - val_loss: 1.0558 - val_accuracy: 0.2609\n",
      "Epoch 3/1000\n",
      "3/3 [==============================] - 0s 21ms/step - loss: 0.9222 - accuracy: 0.4193 - val_loss: 1.0360 - val_accuracy: 0.2609\n",
      "Epoch 4/1000\n",
      "3/3 [==============================] - 0s 21ms/step - loss: 0.9095 - accuracy: 0.4154 - val_loss: 1.0042 - val_accuracy: 0.2609\n",
      "Epoch 5/1000\n",
      "3/3 [==============================] - 0s 21ms/step - loss: 0.9110 - accuracy: 0.3958 - val_loss: 0.9791 - val_accuracy: 0.2609\n",
      "Epoch 6/1000\n",
      "3/3 [==============================] - 0s 23ms/step - loss: 0.8905 - accuracy: 0.4037 - val_loss: 0.9633 - val_accuracy: 0.2609\n",
      "Epoch 7/1000\n",
      "3/3 [==============================] - 0s 22ms/step - loss: 0.9180 - accuracy: 0.3490 - val_loss: 0.9503 - val_accuracy: 0.2609\n",
      "Epoch 8/1000\n",
      "3/3 [==============================] - 0s 23ms/step - loss: 0.8753 - accuracy: 0.4166 - val_loss: 0.9633 - val_accuracy: 0.3913\n",
      "Epoch 9/1000\n",
      "3/3 [==============================] - 0s 23ms/step - loss: 0.8500 - accuracy: 0.6137 - val_loss: 0.9599 - val_accuracy: 0.4783\n",
      "Epoch 10/1000\n",
      "3/3 [==============================] - 0s 23ms/step - loss: 0.8503 - accuracy: 0.6518 - val_loss: 0.9344 - val_accuracy: 0.4783\n",
      "Epoch 11/1000\n",
      "3/3 [==============================] - 0s 22ms/step - loss: 0.8304 - accuracy: 0.6864 - val_loss: 0.9170 - val_accuracy: 0.4783\n",
      "Epoch 12/1000\n",
      "3/3 [==============================] - 0s 22ms/step - loss: 0.8314 - accuracy: 0.6821 - val_loss: 0.8926 - val_accuracy: 0.5217\n",
      "Epoch 13/1000\n",
      "3/3 [==============================] - 0s 22ms/step - loss: 0.8148 - accuracy: 0.7150 - val_loss: 0.8781 - val_accuracy: 0.5217\n",
      "Epoch 14/1000\n",
      "3/3 [==============================] - 0s 23ms/step - loss: 0.7817 - accuracy: 0.7189 - val_loss: 0.8757 - val_accuracy: 0.5217\n",
      "Epoch 15/1000\n",
      "3/3 [==============================] - 0s 22ms/step - loss: 0.7522 - accuracy: 0.7033 - val_loss: 0.8652 - val_accuracy: 0.5217\n",
      "Epoch 16/1000\n",
      "3/3 [==============================] - 0s 22ms/step - loss: 0.7421 - accuracy: 0.7167 - val_loss: 0.8422 - val_accuracy: 0.5217\n",
      "Epoch 17/1000\n",
      "3/3 [==============================] - 0s 23ms/step - loss: 0.7066 - accuracy: 0.7284 - val_loss: 0.8189 - val_accuracy: 0.5217\n",
      "Epoch 18/1000\n",
      "3/3 [==============================] - 0s 22ms/step - loss: 0.7184 - accuracy: 0.7245 - val_loss: 0.7872 - val_accuracy: 0.5217\n",
      "Epoch 19/1000\n",
      "3/3 [==============================] - 0s 21ms/step - loss: 0.7098 - accuracy: 0.7223 - val_loss: 0.7613 - val_accuracy: 0.5217\n",
      "Epoch 20/1000\n",
      "3/3 [==============================] - 0s 22ms/step - loss: 0.6560 - accuracy: 0.7653 - val_loss: 0.7716 - val_accuracy: 0.5217\n",
      "Epoch 21/1000\n",
      "3/3 [==============================] - 0s 22ms/step - loss: 0.6476 - accuracy: 0.7380 - val_loss: 0.7635 - val_accuracy: 0.5217\n",
      "Epoch 22/1000\n",
      "3/3 [==============================] - 0s 22ms/step - loss: 0.6297 - accuracy: 0.7223 - val_loss: 0.7359 - val_accuracy: 0.5217\n",
      "Epoch 23/1000\n",
      "3/3 [==============================] - 0s 96ms/step - loss: 0.6090 - accuracy: 0.7223 - val_loss: 0.6993 - val_accuracy: 0.5652\n",
      "Epoch 24/1000\n",
      "3/3 [==============================] - 0s 22ms/step - loss: 0.5817 - accuracy: 0.7380 - val_loss: 0.6753 - val_accuracy: 0.6087\n",
      "Epoch 25/1000\n",
      "3/3 [==============================] - 0s 21ms/step - loss: 0.5510 - accuracy: 0.7536 - val_loss: 0.6588 - val_accuracy: 0.6522\n",
      "Epoch 26/1000\n",
      "3/3 [==============================] - 0s 22ms/step - loss: 0.5298 - accuracy: 0.7570 - val_loss: 0.6414 - val_accuracy: 0.6522\n",
      "Epoch 27/1000\n",
      "3/3 [==============================] - 0s 21ms/step - loss: 0.5170 - accuracy: 0.7648 - val_loss: 0.6258 - val_accuracy: 0.6522\n",
      "Epoch 28/1000\n",
      "3/3 [==============================] - 0s 22ms/step - loss: 0.5054 - accuracy: 0.7722 - val_loss: 0.6082 - val_accuracy: 0.6522\n",
      "Epoch 29/1000\n",
      "3/3 [==============================] - 0s 21ms/step - loss: 0.5035 - accuracy: 0.7565 - val_loss: 0.5811 - val_accuracy: 0.6522\n",
      "Epoch 30/1000\n",
      "3/3 [==============================] - 0s 22ms/step - loss: 0.4849 - accuracy: 0.7678 - val_loss: 0.5655 - val_accuracy: 0.6522\n",
      "Epoch 31/1000\n",
      "3/3 [==============================] - 0s 23ms/step - loss: 0.4450 - accuracy: 0.8208 - val_loss: 0.5778 - val_accuracy: 0.6522\n",
      "Epoch 32/1000\n",
      "3/3 [==============================] - 0s 23ms/step - loss: 0.4562 - accuracy: 0.7622 - val_loss: 0.5445 - val_accuracy: 0.6957\n",
      "Epoch 33/1000\n",
      "3/3 [==============================] - 0s 22ms/step - loss: 0.4339 - accuracy: 0.7873 - val_loss: 0.5139 - val_accuracy: 0.7826\n",
      "Epoch 34/1000\n",
      "3/3 [==============================] - 0s 22ms/step - loss: 0.4077 - accuracy: 0.8623 - val_loss: 0.5071 - val_accuracy: 0.7826\n",
      "Epoch 35/1000\n",
      "3/3 [==============================] - ETA: 0s - loss: 0.3992 - accuracy: 0.90 - 0s 21ms/step - loss: 0.3984 - accuracy: 0.8437 - val_loss: 0.5081 - val_accuracy: 0.7391\n",
      "Epoch 36/1000\n",
      "3/3 [==============================] - 0s 22ms/step - loss: 0.3678 - accuracy: 0.8359 - val_loss: 0.4912 - val_accuracy: 0.7826\n",
      "Epoch 37/1000\n",
      "3/3 [==============================] - 0s 22ms/step - loss: 0.3930 - accuracy: 0.8484 - val_loss: 0.4575 - val_accuracy: 0.8696\n",
      "Epoch 38/1000\n",
      "3/3 [==============================] - 0s 22ms/step - loss: 0.3540 - accuracy: 0.8948 - val_loss: 0.4561 - val_accuracy: 0.8696\n",
      "Epoch 39/1000\n",
      "3/3 [==============================] - 0s 22ms/step - loss: 0.3645 - accuracy: 0.8891 - val_loss: 0.4384 - val_accuracy: 0.8696\n",
      "Epoch 40/1000\n",
      "3/3 [==============================] - 0s 22ms/step - loss: 0.3689 - accuracy: 0.8987 - val_loss: 0.4467 - val_accuracy: 0.8696\n",
      "Epoch 41/1000\n",
      "3/3 [==============================] - 0s 22ms/step - loss: 0.3388 - accuracy: 0.8579 - val_loss: 0.4340 - val_accuracy: 0.8696\n",
      "Epoch 42/1000\n",
      "3/3 [==============================] - 0s 22ms/step - loss: 0.3278 - accuracy: 0.9004 - val_loss: 0.4148 - val_accuracy: 0.8696\n",
      "Epoch 43/1000\n",
      "3/3 [==============================] - 0s 22ms/step - loss: 0.3177 - accuracy: 0.9199 - val_loss: 0.3920 - val_accuracy: 0.9130\n",
      "Epoch 44/1000\n",
      "3/3 [==============================] - 0s 23ms/step - loss: 0.3111 - accuracy: 0.9121 - val_loss: 0.3900 - val_accuracy: 0.9130\n",
      "Epoch 45/1000\n",
      "3/3 [==============================] - 0s 21ms/step - loss: 0.3111 - accuracy: 0.9065 - val_loss: 0.3941 - val_accuracy: 0.8696\n",
      "Epoch 46/1000\n",
      "3/3 [==============================] - 0s 22ms/step - loss: 0.3070 - accuracy: 0.9082 - val_loss: 0.3832 - val_accuracy: 0.8696\n",
      "Epoch 47/1000\n",
      "3/3 [==============================] - 0s 22ms/step - loss: 0.2878 - accuracy: 0.8640 - val_loss: 0.3841 - val_accuracy: 0.8696\n",
      "Epoch 48/1000\n",
      "3/3 [==============================] - 0s 22ms/step - loss: 0.3227 - accuracy: 0.8752 - val_loss: 0.3381 - val_accuracy: 0.9130\n",
      "Epoch 49/1000\n",
      "3/3 [==============================] - 0s 22ms/step - loss: 0.2630 - accuracy: 0.9294 - val_loss: 0.3488 - val_accuracy: 0.9130\n",
      "Epoch 50/1000\n",
      "3/3 [==============================] - 0s 22ms/step - loss: 0.2723 - accuracy: 0.9255 - val_loss: 0.3490 - val_accuracy: 0.9130\n",
      "Epoch 51/1000\n",
      "3/3 [==============================] - 0s 22ms/step - loss: 0.2663 - accuracy: 0.9060 - val_loss: 0.3450 - val_accuracy: 0.9130\n",
      "Epoch 52/1000\n",
      "3/3 [==============================] - 0s 23ms/step - loss: 0.2575 - accuracy: 0.9255 - val_loss: 0.3189 - val_accuracy: 0.9130\n",
      "Epoch 53/1000\n",
      "3/3 [==============================] - 0s 23ms/step - loss: 0.2425 - accuracy: 0.9177 - val_loss: 0.3309 - val_accuracy: 0.9130\n",
      "Epoch 54/1000\n",
      "3/3 [==============================] - 0s 22ms/step - loss: 0.2494 - accuracy: 0.9099 - val_loss: 0.3169 - val_accuracy: 0.9130\n",
      "Epoch 55/1000\n",
      "3/3 [==============================] - 0s 22ms/step - loss: 0.2562 - accuracy: 0.9099 - val_loss: 0.3308 - val_accuracy: 0.9130\n",
      "Epoch 56/1000\n",
      "3/3 [==============================] - 0s 23ms/step - loss: 0.2295 - accuracy: 0.9216 - val_loss: 0.3055 - val_accuracy: 0.9130\n",
      "Epoch 57/1000\n",
      "3/3 [==============================] - 0s 22ms/step - loss: 0.2159 - accuracy: 0.9216 - val_loss: 0.2983 - val_accuracy: 0.9130\n",
      "Epoch 58/1000\n",
      "3/3 [==============================] - 0s 22ms/step - loss: 0.2355 - accuracy: 0.9138 - val_loss: 0.2950 - val_accuracy: 0.9130\n",
      "Epoch 59/1000\n",
      "3/3 [==============================] - 0s 22ms/step - loss: 0.2115 - accuracy: 0.9429 - val_loss: 0.2758 - val_accuracy: 0.9130\n",
      "Epoch 60/1000\n",
      "3/3 [==============================] - 0s 23ms/step - loss: 0.1945 - accuracy: 0.9624 - val_loss: 0.3062 - val_accuracy: 0.9130\n",
      "Epoch 61/1000\n",
      "3/3 [==============================] - 0s 22ms/step - loss: 0.2086 - accuracy: 0.9450 - val_loss: 0.3029 - val_accuracy: 0.9130\n",
      "Epoch 62/1000\n",
      "3/3 [==============================] - 0s 22ms/step - loss: 0.2144 - accuracy: 0.9255 - val_loss: 0.2981 - val_accuracy: 0.9130\n",
      "Epoch 63/1000\n",
      "3/3 [==============================] - 0s 23ms/step - loss: 0.2108 - accuracy: 0.9177 - val_loss: 0.2728 - val_accuracy: 0.9130\n",
      "Epoch 64/1000\n",
      "3/3 [==============================] - 0s 22ms/step - loss: 0.1750 - accuracy: 0.9507 - val_loss: 0.2637 - val_accuracy: 0.9130\n",
      "Epoch 65/1000\n",
      "3/3 [==============================] - 0s 23ms/step - loss: 0.2037 - accuracy: 0.9311 - val_loss: 0.2661 - val_accuracy: 0.9130\n",
      "Epoch 66/1000\n",
      "3/3 [==============================] - 0s 23ms/step - loss: 0.2103 - accuracy: 0.9177 - val_loss: 0.2818 - val_accuracy: 0.9130\n",
      "Epoch 67/1000\n",
      "3/3 [==============================] - 0s 22ms/step - loss: 0.1854 - accuracy: 0.9294 - val_loss: 0.2657 - val_accuracy: 0.9130\n",
      "Epoch 68/1000\n",
      "3/3 [==============================] - 0s 22ms/step - loss: 0.1912 - accuracy: 0.9272 - val_loss: 0.2456 - val_accuracy: 0.9130\n",
      "Epoch 69/1000\n",
      "3/3 [==============================] - 0s 23ms/step - loss: 0.1980 - accuracy: 0.9272 - val_loss: 0.2478 - val_accuracy: 0.9130\n",
      "Epoch 70/1000\n",
      "3/3 [==============================] - 0s 22ms/step - loss: 0.1800 - accuracy: 0.9311 - val_loss: 0.2461 - val_accuracy: 0.9130\n",
      "Epoch 71/1000\n",
      "3/3 [==============================] - 0s 23ms/step - loss: 0.1872 - accuracy: 0.9272 - val_loss: 0.2612 - val_accuracy: 0.9130\n",
      "Epoch 72/1000\n",
      "3/3 [==============================] - 0s 22ms/step - loss: 0.1802 - accuracy: 0.9216 - val_loss: 0.2670 - val_accuracy: 0.9130\n",
      "Epoch 73/1000\n",
      "3/3 [==============================] - 0s 22ms/step - loss: 0.1695 - accuracy: 0.9333 - val_loss: 0.2519 - val_accuracy: 0.9130\n",
      "Epoch 74/1000\n",
      "3/3 [==============================] - 0s 22ms/step - loss: 0.1768 - accuracy: 0.9233 - val_loss: 0.2457 - val_accuracy: 0.9130\n",
      "Epoch 75/1000\n",
      "3/3 [==============================] - 0s 23ms/step - loss: 0.1828 - accuracy: 0.9272 - val_loss: 0.2540 - val_accuracy: 0.9130\n",
      "Epoch 76/1000\n",
      "3/3 [==============================] - 0s 22ms/step - loss: 0.1704 - accuracy: 0.9311 - val_loss: 0.2411 - val_accuracy: 0.9130\n",
      "Epoch 77/1000\n",
      "3/3 [==============================] - 0s 23ms/step - loss: 0.1643 - accuracy: 0.9272 - val_loss: 0.2494 - val_accuracy: 0.9130\n",
      "Epoch 78/1000\n",
      "3/3 [==============================] - 0s 23ms/step - loss: 0.1823 - accuracy: 0.9116 - val_loss: 0.2403 - val_accuracy: 0.9130\n",
      "Epoch 79/1000\n",
      "3/3 [==============================] - 0s 23ms/step - loss: 0.1484 - accuracy: 0.9468 - val_loss: 0.2417 - val_accuracy: 0.9130\n",
      "Epoch 80/1000\n",
      "3/3 [==============================] - 0s 22ms/step - loss: 0.1413 - accuracy: 0.9585 - val_loss: 0.2503 - val_accuracy: 0.9130\n",
      "Epoch 81/1000\n",
      "3/3 [==============================] - 0s 22ms/step - loss: 0.1555 - accuracy: 0.9311 - val_loss: 0.2445 - val_accuracy: 0.9130\n",
      "Epoch 82/1000\n",
      "3/3 [==============================] - 0s 22ms/step - loss: 0.1564 - accuracy: 0.9272 - val_loss: 0.2272 - val_accuracy: 0.9130\n",
      "Epoch 83/1000\n",
      "3/3 [==============================] - 0s 22ms/step - loss: 0.1703 - accuracy: 0.9289 - val_loss: 0.2351 - val_accuracy: 0.9130\n",
      "Epoch 84/1000\n",
      "3/3 [==============================] - 0s 21ms/step - loss: 0.1570 - accuracy: 0.9350 - val_loss: 0.2499 - val_accuracy: 0.9130\n",
      "Epoch 85/1000\n",
      "3/3 [==============================] - 0s 22ms/step - loss: 0.1620 - accuracy: 0.9272 - val_loss: 0.2457 - val_accuracy: 0.9130\n",
      "Epoch 86/1000\n",
      "3/3 [==============================] - 0s 95ms/step - loss: 0.1505 - accuracy: 0.9311 - val_loss: 0.2247 - val_accuracy: 0.9130\n",
      "Epoch 87/1000\n",
      "3/3 [==============================] - 0s 22ms/step - loss: 0.1620 - accuracy: 0.9368 - val_loss: 0.2193 - val_accuracy: 0.9130\n",
      "Epoch 88/1000\n",
      "3/3 [==============================] - 0s 21ms/step - loss: 0.1540 - accuracy: 0.9328 - val_loss: 0.2513 - val_accuracy: 0.9130\n",
      "Epoch 89/1000\n",
      "3/3 [==============================] - 0s 22ms/step - loss: 0.1399 - accuracy: 0.9411 - val_loss: 0.2604 - val_accuracy: 0.9130\n",
      "Epoch 90/1000\n",
      "3/3 [==============================] - 0s 22ms/step - loss: 0.1482 - accuracy: 0.9177 - val_loss: 0.2342 - val_accuracy: 0.9130\n",
      "Epoch 91/1000\n",
      "3/3 [==============================] - 0s 23ms/step - loss: 0.1665 - accuracy: 0.9211 - val_loss: 0.2101 - val_accuracy: 0.9130\n",
      "Epoch 92/1000\n",
      "3/3 [==============================] - 0s 21ms/step - loss: 0.1483 - accuracy: 0.9368 - val_loss: 0.2158 - val_accuracy: 0.9130\n",
      "Epoch 93/1000\n",
      "3/3 [==============================] - 0s 23ms/step - loss: 0.1386 - accuracy: 0.9524 - val_loss: 0.2448 - val_accuracy: 0.9130\n",
      "Epoch 94/1000\n",
      "3/3 [==============================] - 0s 23ms/step - loss: 0.1371 - accuracy: 0.9429 - val_loss: 0.2713 - val_accuracy: 0.9130\n",
      "Epoch 95/1000\n",
      "3/3 [==============================] - 0s 23ms/step - loss: 0.1059 - accuracy: 0.9529 - val_loss: 0.2356 - val_accuracy: 0.9130\n",
      "Epoch 96/1000\n",
      "3/3 [==============================] - 0s 23ms/step - loss: 0.1241 - accuracy: 0.9446 - val_loss: 0.1929 - val_accuracy: 0.9130\n",
      "Epoch 97/1000\n",
      "3/3 [==============================] - 0s 22ms/step - loss: 0.1512 - accuracy: 0.9328 - val_loss: 0.2187 - val_accuracy: 0.9130\n",
      "Epoch 98/1000\n",
      "3/3 [==============================] - 0s 22ms/step - loss: 0.1366 - accuracy: 0.9446 - val_loss: 0.2400 - val_accuracy: 0.9130\n",
      "Epoch 99/1000\n",
      "3/3 [==============================] - 0s 22ms/step - loss: 0.1189 - accuracy: 0.9429 - val_loss: 0.2262 - val_accuracy: 0.9130\n",
      "Epoch 100/1000\n",
      "3/3 [==============================] - 0s 22ms/step - loss: 0.1162 - accuracy: 0.9524 - val_loss: 0.2049 - val_accuracy: 0.9130\n",
      "Epoch 101/1000\n",
      "3/3 [==============================] - 0s 23ms/step - loss: 0.1391 - accuracy: 0.9328 - val_loss: 0.2218 - val_accuracy: 0.9130\n",
      "Epoch 102/1000\n",
      "3/3 [==============================] - 0s 23ms/step - loss: 0.1290 - accuracy: 0.9389 - val_loss: 0.2676 - val_accuracy: 0.9130\n",
      "Epoch 103/1000\n",
      "3/3 [==============================] - 0s 22ms/step - loss: 0.1066 - accuracy: 0.9411 - val_loss: 0.2365 - val_accuracy: 0.9130\n",
      "Epoch 104/1000\n",
      "3/3 [==============================] - 0s 23ms/step - loss: 0.1192 - accuracy: 0.9580 - val_loss: 0.1784 - val_accuracy: 0.9130\n",
      "Epoch 105/1000\n",
      "3/3 [==============================] - 0s 22ms/step - loss: 0.1076 - accuracy: 0.9831 - val_loss: 0.1931 - val_accuracy: 0.9130\n",
      "Epoch 106/1000\n",
      "3/3 [==============================] - 0s 22ms/step - loss: 0.1263 - accuracy: 0.9368 - val_loss: 0.2799 - val_accuracy: 0.9130\n",
      "Epoch 107/1000\n",
      "3/3 [==============================] - 0s 22ms/step - loss: 0.1249 - accuracy: 0.9372 - val_loss: 0.3184 - val_accuracy: 0.8696\n",
      "Epoch 108/1000\n",
      "3/3 [==============================] - 0s 22ms/step - loss: 0.1458 - accuracy: 0.9194 - val_loss: 0.2052 - val_accuracy: 0.9130\n",
      "Epoch 109/1000\n",
      "3/3 [==============================] - 0s 23ms/step - loss: 0.1396 - accuracy: 0.9541 - val_loss: 0.1588 - val_accuracy: 0.9130\n",
      "Epoch 110/1000\n",
      "3/3 [==============================] - 0s 23ms/step - loss: 0.1496 - accuracy: 0.9446 - val_loss: 0.2233 - val_accuracy: 0.9130\n",
      "Epoch 111/1000\n",
      "3/3 [==============================] - 0s 22ms/step - loss: 0.1091 - accuracy: 0.9333 - val_loss: 0.2770 - val_accuracy: 0.9130\n",
      "Epoch 112/1000\n",
      "3/3 [==============================] - 0s 22ms/step - loss: 0.1266 - accuracy: 0.9272 - val_loss: 0.2214 - val_accuracy: 0.9130\n",
      "Epoch 113/1000\n",
      "3/3 [==============================] - 0s 23ms/step - loss: 0.1249 - accuracy: 0.9368 - val_loss: 0.1908 - val_accuracy: 0.9130\n",
      "Epoch 114/1000\n",
      "3/3 [==============================] - 0s 22ms/step - loss: 0.1394 - accuracy: 0.9211 - val_loss: 0.1999 - val_accuracy: 0.9130\n",
      "Epoch 115/1000\n",
      "3/3 [==============================] - 0s 22ms/step - loss: 0.1333 - accuracy: 0.9289 - val_loss: 0.2406 - val_accuracy: 0.9130\n",
      "Epoch 116/1000\n",
      "3/3 [==============================] - 0s 23ms/step - loss: 0.1325 - accuracy: 0.9289 - val_loss: 0.2488 - val_accuracy: 0.9130\n",
      "Epoch 117/1000\n",
      "3/3 [==============================] - 0s 23ms/step - loss: 0.1172 - accuracy: 0.9289 - val_loss: 0.2120 - val_accuracy: 0.9130\n",
      "Epoch 118/1000\n",
      "3/3 [==============================] - 0s 23ms/step - loss: 0.1417 - accuracy: 0.9211 - val_loss: 0.1826 - val_accuracy: 0.9130\n",
      "Epoch 119/1000\n",
      "3/3 [==============================] - 0s 22ms/step - loss: 0.0969 - accuracy: 0.9658 - val_loss: 0.1960 - val_accuracy: 0.9130\n",
      "Epoch 120/1000\n",
      "3/3 [==============================] - 0s 22ms/step - loss: 0.1287 - accuracy: 0.9289 - val_loss: 0.2441 - val_accuracy: 0.9130\n",
      "Epoch 121/1000\n",
      "3/3 [==============================] - 0s 23ms/step - loss: 0.1058 - accuracy: 0.9563 - val_loss: 0.2483 - val_accuracy: 0.9130\n",
      "Epoch 122/1000\n",
      "3/3 [==============================] - 0s 23ms/step - loss: 0.1247 - accuracy: 0.9502 - val_loss: 0.2359 - val_accuracy: 0.9130\n",
      "Epoch 123/1000\n",
      "3/3 [==============================] - 0s 23ms/step - loss: 0.1104 - accuracy: 0.9485 - val_loss: 0.1989 - val_accuracy: 0.9130\n",
      "Epoch 124/1000\n",
      "3/3 [==============================] - 0s 23ms/step - loss: 0.1247 - accuracy: 0.9289 - val_loss: 0.1865 - val_accuracy: 0.9130\n",
      "Epoch 125/1000\n",
      "3/3 [==============================] - 0s 23ms/step - loss: 0.1111 - accuracy: 0.9485 - val_loss: 0.2192 - val_accuracy: 0.9130\n",
      "Epoch 126/1000\n",
      "3/3 [==============================] - 0s 22ms/step - loss: 0.0975 - accuracy: 0.9602 - val_loss: 0.2247 - val_accuracy: 0.9130\n",
      "Epoch 127/1000\n",
      "3/3 [==============================] - 0s 22ms/step - loss: 0.0815 - accuracy: 0.9641 - val_loss: 0.2221 - val_accuracy: 0.9130\n",
      "Epoch 128/1000\n",
      "3/3 [==============================] - 0s 23ms/step - loss: 0.0942 - accuracy: 0.9563 - val_loss: 0.2314 - val_accuracy: 0.9130\n",
      "Epoch 129/1000\n",
      "3/3 [==============================] - 0s 23ms/step - loss: 0.1160 - accuracy: 0.9446 - val_loss: 0.2273 - val_accuracy: 0.9130\n",
      "Epoch 130/1000\n",
      "3/3 [==============================] - 0s 23ms/step - loss: 0.1184 - accuracy: 0.9368 - val_loss: 0.2211 - val_accuracy: 0.9130\n",
      "Epoch 131/1000\n",
      "3/3 [==============================] - 0s 22ms/step - loss: 0.1310 - accuracy: 0.9250 - val_loss: 0.2238 - val_accuracy: 0.9130\n",
      "Epoch 132/1000\n",
      "3/3 [==============================] - 0s 22ms/step - loss: 0.0989 - accuracy: 0.9485 - val_loss: 0.2010 - val_accuracy: 0.9130\n",
      "Epoch 133/1000\n",
      "3/3 [==============================] - 0s 22ms/step - loss: 0.0979 - accuracy: 0.9485 - val_loss: 0.2206 - val_accuracy: 0.9130\n",
      "Epoch 134/1000\n",
      "3/3 [==============================] - 0s 22ms/step - loss: 0.1016 - accuracy: 0.9485 - val_loss: 0.2160 - val_accuracy: 0.9130\n",
      "Epoch 135/1000\n",
      "3/3 [==============================] - 0s 23ms/step - loss: 0.1021 - accuracy: 0.9407 - val_loss: 0.2124 - val_accuracy: 0.9130\n",
      "Epoch 136/1000\n",
      "3/3 [==============================] - 0s 22ms/step - loss: 0.1035 - accuracy: 0.9407 - val_loss: 0.2088 - val_accuracy: 0.9130\n",
      "Epoch 137/1000\n",
      "3/3 [==============================] - 0s 22ms/step - loss: 0.0791 - accuracy: 0.9680 - val_loss: 0.2136 - val_accuracy: 0.9130\n",
      "Epoch 138/1000\n",
      "3/3 [==============================] - 0s 23ms/step - loss: 0.0929 - accuracy: 0.9658 - val_loss: 0.2552 - val_accuracy: 0.9130\n",
      "Epoch 139/1000\n",
      "3/3 [==============================] - 0s 23ms/step - loss: 0.0981 - accuracy: 0.9619 - val_loss: 0.2314 - val_accuracy: 0.9130\n"
     ]
    }
   ],
   "source": [
    "history = model.fit(X_train, y_train, epochs=1000,\n",
    "                    validation_split=0.2,\n",
    "                    callbacks=[checkpoint_cb, early_stopping_cb])\n"
   ]
  },
  {
   "cell_type": "code",
   "execution_count": 61,
   "metadata": {},
   "outputs": [
    {
     "data": {
      "text/plain": [
       "<matplotlib.legend.Legend at 0x7fa999c77cd0>"
      ]
     },
     "execution_count": 61,
     "metadata": {},
     "output_type": "execute_result"
    },
    {
     "data": {
      "image/png": "[encoded data removed]",
      "text/plain": [
       "<Figure size 432x288 with 1 Axes>"
      ]
     },
     "metadata": {
      "needs_background": "light"
     },
     "output_type": "display_data"
    }
   ],
   "source": [
    "plt.plot(history.epoch, history.history['loss'],'.-', label='loss')\n",
    "plt.plot(history.epoch, history.history['val_loss'],'.-', label='validation loss')\n",
    "plt.xlabel('epoch')\n",
    "plt.ylabel('loss, validation loss')\n",
    "plt.legend()"
   ]
  },
  {
   "cell_type": "code",
   "execution_count": 62,
   "metadata": {},
   "outputs": [
    {
     "data": {
      "text/plain": [
       "<matplotlib.legend.Legend at 0x7fa96c661d50>"
      ]
     },
     "execution_count": 62,
     "metadata": {},
     "output_type": "execute_result"
    },
    {
     "data": {
      "image/png": "[encoded data removed]",
      "text/plain": [
       "<Figure size 432x288 with 1 Axes>"
      ]
     },
     "metadata": {
      "needs_background": "light"
     },
     "output_type": "display_data"
    }
   ],
   "source": [
    "plt.plot(history.epoch, history.history['accuracy'],'.-', label='accuracy')\n",
    "plt.plot(history.epoch, history.history['val_accuracy'],'.-', label='validation accuracy')\n",
    "plt.xlabel('epoch')\n",
    "plt.ylabel('accuracy, validation accuracy')\n",
    "plt.legend()"
   ]
  },
  {
   "cell_type": "markdown",
   "metadata": {},
   "source": [
    "### Let's check out weights and biases."
   ]
  },
  {
   "cell_type": "code",
   "execution_count": 63,
   "metadata": {},
   "outputs": [
    {
     "data": {
      "text/plain": [
       "[<tensorflow.python.keras.layers.core.Dense at 0x7fa96c58b1d0>,\n",
       " <tensorflow.python.keras.layers.core.Dense at 0x7fa9b8dc6450>,\n",
       " <tensorflow.python.keras.layers.core.Dense at 0x7fa9b8dc6810>]"
      ]
     },
     "execution_count": 63,
     "metadata": {},
     "output_type": "execute_result"
    }
   ],
   "source": [
    "model.layers"
   ]
  },
  {
   "cell_type": "code",
   "execution_count": 64,
   "metadata": {},
   "outputs": [],
   "source": [
    "hidden1 = model.layers[0]"
   ]
  },
  {
   "cell_type": "code",
   "execution_count": 65,
   "metadata": {},
   "outputs": [
    {
     "data": {
      "text/plain": [
       "'dense_12'"
      ]
     },
     "execution_count": 65,
     "metadata": {},
     "output_type": "execute_result"
    }
   ],
   "source": [
    "hidden1.name"
   ]
  },
  {
   "cell_type": "markdown",
   "metadata": {},
   "source": [
    "### Let's put weights and biases of the first hidden layer in w1 and b1."
   ]
  },
  {
   "cell_type": "code",
   "execution_count": 66,
   "metadata": {},
   "outputs": [],
   "source": [
    "w1, b1 = hidden1.get_weights()"
   ]
  },
  {
   "cell_type": "code",
   "execution_count": 67,
   "metadata": {
    "collapsed": true,
    "jupyter": {
     "outputs_hidden": true
    },
    "tags": []
   },
   "outputs": [
    {
     "data": {
      "text/plain": [
       "array([[-0.09064305, -0.11489491, -0.10372677,  0.06981694, -0.13074689,\n",
       "        -0.10586016,  0.19037473,  0.14632624, -0.0010767 ,  0.26565212,\n",
       "         0.06161043, -0.04748669,  0.11605041,  0.2173242 , -0.15520531,\n",
       "         0.16090067, -0.20253426, -0.16671976,  0.25059748,  0.05865558,\n",
       "        -0.0685889 , -0.0311309 ,  0.0562751 ,  0.24179825,  0.04450311,\n",
       "        -0.14236248,  0.13820457, -0.10370433, -0.17282233,  0.08219323,\n",
       "        -0.06025746,  0.14881234, -0.19861673, -0.2104568 ,  0.08800248,\n",
       "        -0.05025969, -0.14499196,  0.06244656, -0.18853037,  0.13453819,\n",
       "        -0.12003261,  0.27340198, -0.11214349,  0.07274374, -0.22971512,\n",
       "         0.072861  , -0.12662315, -0.12996174,  0.19232665,  0.17892197,\n",
       "         0.09753171,  0.07991367,  0.03764449, -0.01948798, -0.19422051,\n",
       "        -0.08717385,  0.21986903,  0.24928924,  0.07068825, -0.22466168,\n",
       "        -0.1885413 ,  0.1313433 , -0.06929348, -0.17149362,  0.22830085,\n",
       "         0.08197086,  0.11383541, -0.23366289, -0.14908054,  0.12261952,\n",
       "         0.2030277 , -0.22985193,  0.03000009, -0.0392168 , -0.05485973,\n",
       "         0.09839846, -0.23615961, -0.171516  ,  0.04672317,  0.17652279,\n",
       "         0.0737428 ,  0.07009134, -0.04238081,  0.00544113,  0.02672652,\n",
       "        -0.02147609, -0.17513515, -0.00220573, -0.17567083, -0.16093373,\n",
       "         0.13129465,  0.15568924,  0.21103257, -0.0497447 , -0.12984285,\n",
       "        -0.19998764,  0.07487345,  0.0022801 , -0.1332461 ,  0.16535611],\n",
       "       [ 0.03975117,  0.0396716 ,  0.00836456,  0.28848985,  0.12884012,\n",
       "         0.22328654, -0.13400283, -0.09421772, -0.03223951,  0.15698542,\n",
       "        -0.15938121, -0.05609667,  0.25999618,  0.24878547, -0.08069588,\n",
       "        -0.27426526,  0.01646239,  0.08272421,  0.2671689 ,  0.20812961,\n",
       "         0.03826314,  0.29811016, -0.2210875 ,  0.00116646, -0.11400729,\n",
       "        -0.02121946, -0.23706824,  0.02817026,  0.17250353, -0.292183  ,\n",
       "         0.06134227, -0.33213514,  0.24056298, -0.00990756, -0.21779841,\n",
       "        -0.06731072,  0.01560059,  0.24206233,  0.06195745, -0.09942289,\n",
       "         0.16715744, -0.09116008,  0.22172439, -0.2383499 ,  0.09237468,\n",
       "         0.19267541, -0.14037701, -0.2371225 , -0.1322917 ,  0.04444443,\n",
       "        -0.16635841, -0.12039243,  0.31596696,  0.02859266,  0.15970114,\n",
       "        -0.12071645,  0.01777116,  0.10164354,  0.22869183,  0.09001422,\n",
       "        -0.20341949,  0.04952862,  0.0091227 , -0.18223213,  0.28747278,\n",
       "         0.16372892,  0.08727659, -0.12108919, -0.20991631,  0.11363278,\n",
       "        -0.01491317,  0.04366064, -0.01846943,  0.06939098, -0.236719  ,\n",
       "         0.05642977,  0.19536781, -0.11255832,  0.17264614,  0.15849434,\n",
       "        -0.1684488 ,  0.31742126, -0.10086328, -0.15637738,  0.03851807,\n",
       "        -0.01302092, -0.06518525, -0.10205211, -0.05411373,  0.0957582 ,\n",
       "        -0.2707967 ,  0.25540614, -0.06330168,  0.09388109, -0.07262617,\n",
       "        -0.14548925,  0.31850252, -0.21106991, -0.00269048, -0.17606245]],\n",
       "      dtype=float32)"
      ]
     },
     "execution_count": 67,
     "metadata": {},
     "output_type": "execute_result"
    }
   ],
   "source": [
    "w1"
   ]
  },
  {
   "cell_type": "code",
   "execution_count": 68,
   "metadata": {},
   "outputs": [
    {
     "data": {
      "text/plain": [
       "(2, 100)"
      ]
     },
     "execution_count": 68,
     "metadata": {},
     "output_type": "execute_result"
    }
   ],
   "source": [
    "w1.shape"
   ]
  },
  {
   "cell_type": "code",
   "execution_count": 69,
   "metadata": {
    "collapsed": true,
    "jupyter": {
     "outputs_hidden": true
    },
    "tags": []
   },
   "outputs": [
    {
     "data": {
      "text/plain": [
       "array([ 0.        ,  0.        ,  0.        , -0.19809586,  0.        ,\n",
       "        0.        ,  0.187162  , -0.20100968,  0.        , -0.15604047,\n",
       "        0.26290467,  0.        , -0.214255  , -0.19127136,  0.        ,\n",
       "        0.21135508,  0.        ,  0.        , -0.19935685, -0.21355788,\n",
       "        0.        , -0.1577891 ,  0.252113  ,  0.23028462,  0.14339074,\n",
       "        0.        ,  0.2274552 ,  0.        ,  0.        ,  0.21671037,\n",
       "        0.        ,  0.26528746,  0.        ,  0.        ,  0.25999805,\n",
       "        0.        ,  0.        , -0.20870191,  0.        ,  0.05685798,\n",
       "        0.        , -0.09756944,  0.        ,  0.23580328,  0.        ,\n",
       "       -0.2166484 ,  0.        ,  0.        ,  0.19858375,  0.19617358,\n",
       "        0.2562645 ,  0.26897195, -0.20158044, -0.00655872,  0.        ,\n",
       "        0.        ,  0.13562123, -0.18530123, -0.17761968,  0.        ,\n",
       "        0.        ,  0.21349111,  0.        ,  0.        , -0.18260404,\n",
       "       -0.19474867, -0.1997281 ,  0.        ,  0.        , -0.18007027,\n",
       "       -0.18605034,  0.        ,  0.15010712,  0.        ,  0.        ,\n",
       "       -0.19342063,  0.        ,  0.        , -0.16431788,  0.14637458,\n",
       "       -0.05968393, -0.2200875 ,  0.        , -0.00586191,  0.21504612,\n",
       "        0.        ,  0.        ,  0.        ,  0.        ,  0.        ,\n",
       "        0.23674674, -0.20194162, -0.14087464, -0.0059599 ,  0.        ,\n",
       "        0.        , -0.20216776,  0.        ,  0.        ,  0.17525882],\n",
       "      dtype=float32)"
      ]
     },
     "execution_count": 69,
     "metadata": {},
     "output_type": "execute_result"
    }
   ],
   "source": [
    "b1"
   ]
  },
  {
   "cell_type": "code",
   "execution_count": 80,
   "metadata": {},
   "outputs": [
    {
     "data": {
      "text/plain": [
       "(100,)"
      ]
     },
     "execution_count": 80,
     "metadata": {},
     "output_type": "execute_result"
    }
   ],
   "source": [
    "b1.shape"
   ]
  },
  {
   "cell_type": "markdown",
   "metadata": {},
   "source": [
    "### We can save the model and then load it as needed."
   ]
  },
  {
   "cell_type": "code",
   "execution_count": 81,
   "metadata": {},
   "outputs": [],
   "source": [
    "model.save(\"iris_model_final.h5\")"
   ]
  },
  {
   "cell_type": "code",
   "execution_count": 82,
   "metadata": {},
   "outputs": [],
   "source": [
    "model_new = keras.models.load_model(\"iris_model_final.h5\")"
   ]
  },
  {
   "cell_type": "code",
   "execution_count": 83,
   "metadata": {},
   "outputs": [
    {
     "name": "stdout",
     "output_type": "stream",
     "text": [
      "Model: \"sequential_4\"\n",
      "_________________________________________________________________\n",
      "Layer (type)                 Output Shape              Param #   \n",
      "=================================================================\n",
      "dense_12 (Dense)             (None, 100)               300       \n",
      "_________________________________________________________________\n",
      "dense_13 (Dense)             (None, 100)               10100     \n",
      "_________________________________________________________________\n",
      "dense_14 (Dense)             (None, 3)                 303       \n",
      "=================================================================\n",
      "Total params: 10,703\n",
      "Trainable params: 10,703\n",
      "Non-trainable params: 0\n",
      "_________________________________________________________________\n"
     ]
    }
   ],
   "source": [
    "model_new.summary()"
   ]
  },
  {
   "cell_type": "markdown",
   "metadata": {},
   "source": [
    "### Let's try a larger dataset = the MNIST dataset."
   ]
  },
  {
   "cell_type": "code",
   "execution_count": 1,
   "metadata": {},
   "outputs": [],
   "source": [
    "import tensorflow.keras as keras\n",
    "\n",
    "(X_train, y_train), (X_test, y_test) = keras.datasets.mnist.load_data()"
   ]
  },
  {
   "cell_type": "markdown",
   "metadata": {},
   "source": [
    "### Scale the images to 0 - 1."
   ]
  },
  {
   "cell_type": "code",
   "execution_count": 2,
   "metadata": {},
   "outputs": [],
   "source": [
    "X_train = X_train / 255.\n",
    "X_test = X_test / 255."
   ]
  },
  {
   "cell_type": "markdown",
   "metadata": {},
   "source": [
    "### For now, let's use 10% of the data."
   ]
  },
  {
   "cell_type": "code",
   "execution_count": 3,
   "metadata": {},
   "outputs": [],
   "source": [
    "X_train = X_train[::10]\n",
    "X_test = X_test[::10]\n",
    "\n",
    "y_train = y_train[::10]\n",
    "y_test = y_test[::10]"
   ]
  },
  {
   "cell_type": "code",
   "execution_count": 4,
   "metadata": {},
   "outputs": [
    {
     "data": {
      "text/plain": [
       "(6000, 28, 28)"
      ]
     },
     "execution_count": 4,
     "metadata": {},
     "output_type": "execute_result"
    }
   ],
   "source": [
    "X_train.shape"
   ]
  },
  {
   "cell_type": "code",
   "execution_count": 5,
   "metadata": {},
   "outputs": [
    {
     "data": {
      "text/plain": [
       "(6000,)"
      ]
     },
     "execution_count": 5,
     "metadata": {},
     "output_type": "execute_result"
    }
   ],
   "source": [
    "y_train.shape"
   ]
  },
  {
   "cell_type": "code",
   "execution_count": 96,
   "metadata": {},
   "outputs": [
    {
     "data": {
      "image/png": "[encoded data removed]",
      "text/plain": [
       "<Figure size 432x288 with 1 Axes>"
      ]
     },
     "metadata": {
      "needs_background": "light"
     },
     "output_type": "display_data"
    }
   ],
   "source": [
    "import matplotlib.pyplot as plt \n",
    "\n",
    "plt.imshow(X_train[0], cmap=\"binary\")\n",
    "plt.axis('off')\n",
    "plt.show()"
   ]
  },
  {
   "cell_type": "markdown",
   "metadata": {},
   "source": [
    "### TODO: Let's build a NN."
   ]
  },
  {
   "cell_type": "code",
   "execution_count": 97,
   "metadata": {},
   "outputs": [],
   "source": [
    "model = keras.models.Sequential()\n",
    "\n",
    "# We need to flatten the 2d input arrays to 1d arrays.\n",
    "model.add(keras.layers.Flatten(input_shape=[28, 28]))\n",
    "\n",
    "# Add a hidden layer having 1000 neurons and ReLU.\n",
    "model.add(keras.layers.Dense(1000, activation=\"relu\"))\n",
    "\n",
    "# Add another hidden layer having 1000 neurons and ReLU.\n",
    "model.add(keras.layers.Dense(1000, activation=\"relu\"))\n",
    "\n",
    "# Add an output layer having \"softmax\" activation function. How many neurons do you need for this layer?\n",
    "model.add(keras.layers.Dense(10, activation=\"softmax\"))"
   ]
  },
  {
   "cell_type": "markdown",
   "metadata": {},
   "source": [
    "### TODO: Print out the model summary and make sure things are correctly set up."
   ]
  },
  {
   "cell_type": "code",
   "execution_count": 98,
   "metadata": {},
   "outputs": [
    {
     "name": "stdout",
     "output_type": "stream",
     "text": [
      "Model: \"sequential_5\"\n",
      "_________________________________________________________________\n",
      "Layer (type)                 Output Shape              Param #   \n",
      "=================================================================\n",
      "flatten (Flatten)            (None, 784)               0         \n",
      "_________________________________________________________________\n",
      "dense_15 (Dense)             (None, 1000)              785000    \n",
      "_________________________________________________________________\n",
      "dense_16 (Dense)             (None, 1000)              1001000   \n",
      "_________________________________________________________________\n",
      "dense_17 (Dense)             (None, 10)                10010     \n",
      "=================================================================\n",
      "Total params: 1,796,010\n",
      "Trainable params: 1,796,010\n",
      "Non-trainable params: 0\n",
      "_________________________________________________________________\n"
     ]
    }
   ],
   "source": [
    "model.summary()"
   ]
  },
  {
   "cell_type": "markdown",
   "metadata": {},
   "source": [
    "### Compile the model. Let's first try Stochastic Gradient Descent with learning rate of 1.0e-3."
   ]
  },
  {
   "cell_type": "code",
   "execution_count": 99,
   "metadata": {},
   "outputs": [],
   "source": [
    "model.compile(loss=\"sparse_categorical_crossentropy\",\n",
    "              optimizer=keras.optimizers.SGD(learning_rate=1e-3),\n",
    "              metrics=[\"accuracy\"])"
   ]
  },
  {
   "cell_type": "markdown",
   "metadata": {},
   "source": [
    "### TODO: Train the model using 100 epochs and 20 % of the data in the validation dataset."
   ]
  },
  {
   "cell_type": "code",
   "execution_count": 100,
   "metadata": {
    "scrolled": true
   },
   "outputs": [
    {
     "name": "stdout",
     "output_type": "stream",
     "text": [
      "Epoch 1/100\n",
      "WARNING:tensorflow:AutoGraph could not transform <function Model.make_train_function.<locals>.train_function at 0x7f9838335560> and will run it as-is.\n",
      "Please report this to the TensorFlow team. When filing the bug, set the verbosity to 10 (on Linux, `export AUTOGRAPH_VERBOSITY=10`) and attach the full output.\n",
      "Cause: 'arguments' object has no attribute 'posonlyargs'\n",
      "To silence this warning, decorate the function with @tf.autograph.experimental.do_not_convert\n",
      "WARNING: AutoGraph could not transform <function Model.make_train_function.<locals>.train_function at 0x7f9838335560> and will run it as-is.\n",
      "Please report this to the TensorFlow team. When filing the bug, set the verbosity to 10 (on Linux, `export AUTOGRAPH_VERBOSITY=10`) and attach the full output.\n",
      "Cause: 'arguments' object has no attribute 'posonlyargs'\n",
      "To silence this warning, decorate the function with @tf.autograph.experimental.do_not_convert\n",
      "139/150 [==========================>...] - ETA: 0s - loss: 2.3038 - accuracy: 0.1289WARNING:tensorflow:AutoGraph could not transform <function Model.make_test_function.<locals>.test_function at 0x7f98687fd4d0> and will run it as-is.\n",
      "Please report this to the TensorFlow team. When filing the bug, set the verbosity to 10 (on Linux, `export AUTOGRAPH_VERBOSITY=10`) and attach the full output.\n",
      "Cause: 'arguments' object has no attribute 'posonlyargs'\n",
      "To silence this warning, decorate the function with @tf.autograph.experimental.do_not_convert\n",
      "WARNING: AutoGraph could not transform <function Model.make_test_function.<locals>.test_function at 0x7f98687fd4d0> and will run it as-is.\n",
      "Please report this to the TensorFlow team. When filing the bug, set the verbosity to 10 (on Linux, `export AUTOGRAPH_VERBOSITY=10`) and attach the full output.\n",
      "Cause: 'arguments' object has no attribute 'posonlyargs'\n",
      "To silence this warning, decorate the function with @tf.autograph.experimental.do_not_convert\n",
      "150/150 [==============================] - 1s 5ms/step - loss: 2.3011 - accuracy: 0.1324 - val_loss: 2.2125 - val_accuracy: 0.2550\n",
      "Epoch 2/100\n",
      "150/150 [==============================] - 1s 4ms/step - loss: 2.1743 - accuracy: 0.3288 - val_loss: 2.1017 - val_accuracy: 0.4792\n",
      "Epoch 3/100\n",
      "150/150 [==============================] - 1s 4ms/step - loss: 2.0587 - accuracy: 0.5727 - val_loss: 1.9945 - val_accuracy: 0.6050\n",
      "Epoch 4/100\n",
      "150/150 [==============================] - 1s 4ms/step - loss: 1.9551 - accuracy: 0.6353 - val_loss: 1.8873 - val_accuracy: 0.6642\n",
      "Epoch 5/100\n",
      "150/150 [==============================] - 1s 4ms/step - loss: 1.8378 - accuracy: 0.6803 - val_loss: 1.7798 - val_accuracy: 0.6917\n",
      "Epoch 6/100\n",
      "150/150 [==============================] - 1s 4ms/step - loss: 1.7199 - accuracy: 0.7254 - val_loss: 1.6712 - val_accuracy: 0.7208\n",
      "Epoch 7/100\n",
      "150/150 [==============================] - 1s 4ms/step - loss: 1.6198 - accuracy: 0.7430 - val_loss: 1.5653 - val_accuracy: 0.7408\n",
      "Epoch 8/100\n",
      "150/150 [==============================] - 1s 4ms/step - loss: 1.5020 - accuracy: 0.7615 - val_loss: 1.4620 - val_accuracy: 0.7508\n",
      "Epoch 9/100\n",
      "150/150 [==============================] - 1s 4ms/step - loss: 1.4014 - accuracy: 0.7739 - val_loss: 1.3658 - val_accuracy: 0.7608\n",
      "Epoch 10/100\n",
      "150/150 [==============================] - 1s 4ms/step - loss: 1.3043 - accuracy: 0.7901 - val_loss: 1.2752 - val_accuracy: 0.7708\n",
      "Epoch 11/100\n",
      "150/150 [==============================] - 1s 4ms/step - loss: 1.2205 - accuracy: 0.7888 - val_loss: 1.1936 - val_accuracy: 0.7783\n",
      "Epoch 12/100\n",
      "150/150 [==============================] - 1s 4ms/step - loss: 1.1409 - accuracy: 0.8020 - val_loss: 1.1203 - val_accuracy: 0.7933\n",
      "Epoch 13/100\n",
      "150/150 [==============================] - 1s 4ms/step - loss: 1.0928 - accuracy: 0.7989 - val_loss: 1.0560 - val_accuracy: 0.7992\n",
      "Epoch 14/100\n",
      "150/150 [==============================] - 1s 4ms/step - loss: 1.0046 - accuracy: 0.8175 - val_loss: 0.9981 - val_accuracy: 0.8025\n",
      "Epoch 15/100\n",
      "150/150 [==============================] - 1s 4ms/step - loss: 0.9515 - accuracy: 0.8155 - val_loss: 0.9462 - val_accuracy: 0.8117\n",
      "Epoch 16/100\n",
      "150/150 [==============================] - 1s 4ms/step - loss: 0.9037 - accuracy: 0.8262 - val_loss: 0.9021 - val_accuracy: 0.8150\n",
      "Epoch 17/100\n",
      "150/150 [==============================] - 1s 4ms/step - loss: 0.8529 - accuracy: 0.8428 - val_loss: 0.8611 - val_accuracy: 0.8208\n",
      "Epoch 18/100\n",
      "150/150 [==============================] - 1s 4ms/step - loss: 0.8273 - accuracy: 0.8341 - val_loss: 0.8256 - val_accuracy: 0.8242\n",
      "Epoch 19/100\n",
      "150/150 [==============================] - 1s 4ms/step - loss: 0.7870 - accuracy: 0.8403 - val_loss: 0.7941 - val_accuracy: 0.8275\n",
      "Epoch 20/100\n",
      "150/150 [==============================] - 1s 4ms/step - loss: 0.7554 - accuracy: 0.8437 - val_loss: 0.7658 - val_accuracy: 0.8358\n",
      "Epoch 21/100\n",
      "150/150 [==============================] - 1s 4ms/step - loss: 0.7277 - accuracy: 0.8492 - val_loss: 0.7386 - val_accuracy: 0.8383\n",
      "Epoch 22/100\n",
      "150/150 [==============================] - 1s 4ms/step - loss: 0.7032 - accuracy: 0.8484 - val_loss: 0.7163 - val_accuracy: 0.8408\n",
      "Epoch 23/100\n",
      "150/150 [==============================] - 1s 4ms/step - loss: 0.6694 - accuracy: 0.8535 - val_loss: 0.6944 - val_accuracy: 0.8450\n",
      "Epoch 24/100\n",
      "150/150 [==============================] - 1s 4ms/step - loss: 0.6601 - accuracy: 0.8529 - val_loss: 0.6746 - val_accuracy: 0.8492\n",
      "Epoch 25/100\n",
      "150/150 [==============================] - 1s 4ms/step - loss: 0.6542 - accuracy: 0.8498 - val_loss: 0.6574 - val_accuracy: 0.8517\n",
      "Epoch 26/100\n",
      "150/150 [==============================] - 1s 4ms/step - loss: 0.6512 - accuracy: 0.8479 - val_loss: 0.6420 - val_accuracy: 0.8567\n",
      "Epoch 27/100\n",
      "150/150 [==============================] - 1s 4ms/step - loss: 0.6321 - accuracy: 0.8522 - val_loss: 0.6264 - val_accuracy: 0.8575\n",
      "Epoch 28/100\n",
      "150/150 [==============================] - 1s 4ms/step - loss: 0.5964 - accuracy: 0.8621 - val_loss: 0.6123 - val_accuracy: 0.8558\n",
      "Epoch 29/100\n",
      "150/150 [==============================] - 1s 4ms/step - loss: 0.5920 - accuracy: 0.8597 - val_loss: 0.5987 - val_accuracy: 0.8617\n",
      "Epoch 30/100\n",
      "150/150 [==============================] - 1s 4ms/step - loss: 0.5711 - accuracy: 0.8649 - val_loss: 0.5873 - val_accuracy: 0.8600\n",
      "Epoch 31/100\n",
      "150/150 [==============================] - 1s 4ms/step - loss: 0.5482 - accuracy: 0.8699 - val_loss: 0.5762 - val_accuracy: 0.8642\n",
      "Epoch 32/100\n",
      "150/150 [==============================] - 1s 4ms/step - loss: 0.5406 - accuracy: 0.8734 - val_loss: 0.5647 - val_accuracy: 0.8642\n",
      "Epoch 33/100\n",
      "150/150 [==============================] - 1s 4ms/step - loss: 0.5301 - accuracy: 0.8718 - val_loss: 0.5551 - val_accuracy: 0.8675\n",
      "Epoch 34/100\n",
      "150/150 [==============================] - 1s 4ms/step - loss: 0.5427 - accuracy: 0.8715 - val_loss: 0.5460 - val_accuracy: 0.8675\n",
      "Epoch 35/100\n",
      "150/150 [==============================] - 1s 4ms/step - loss: 0.5253 - accuracy: 0.8679 - val_loss: 0.5379 - val_accuracy: 0.8675\n",
      "Epoch 36/100\n",
      "150/150 [==============================] - 1s 4ms/step - loss: 0.5133 - accuracy: 0.8701 - val_loss: 0.5292 - val_accuracy: 0.8650\n",
      "Epoch 37/100\n",
      "150/150 [==============================] - 1s 4ms/step - loss: 0.5026 - accuracy: 0.8728 - val_loss: 0.5213 - val_accuracy: 0.8692\n",
      "Epoch 38/100\n",
      "150/150 [==============================] - 1s 4ms/step - loss: 0.4932 - accuracy: 0.8746 - val_loss: 0.5144 - val_accuracy: 0.8717\n",
      "Epoch 39/100\n",
      "150/150 [==============================] - 1s 4ms/step - loss: 0.4903 - accuracy: 0.8758 - val_loss: 0.5071 - val_accuracy: 0.8725\n",
      "Epoch 40/100\n",
      "150/150 [==============================] - 1s 5ms/step - loss: 0.4888 - accuracy: 0.8833 - val_loss: 0.5005 - val_accuracy: 0.8733\n",
      "Epoch 41/100\n",
      "150/150 [==============================] - 1s 4ms/step - loss: 0.4645 - accuracy: 0.8819 - val_loss: 0.4942 - val_accuracy: 0.8742\n",
      "Epoch 42/100\n",
      "150/150 [==============================] - 1s 5ms/step - loss: 0.4487 - accuracy: 0.8888 - val_loss: 0.4883 - val_accuracy: 0.8750\n",
      "Epoch 43/100\n",
      "150/150 [==============================] - 1s 5ms/step - loss: 0.4682 - accuracy: 0.8830 - val_loss: 0.4827 - val_accuracy: 0.8733\n",
      "Epoch 44/100\n",
      "150/150 [==============================] - 1s 5ms/step - loss: 0.4652 - accuracy: 0.8844 - val_loss: 0.4775 - val_accuracy: 0.8750\n",
      "Epoch 45/100\n",
      "150/150 [==============================] - 1s 5ms/step - loss: 0.4490 - accuracy: 0.8883 - val_loss: 0.4722 - val_accuracy: 0.8792\n",
      "Epoch 46/100\n",
      "150/150 [==============================] - 1s 5ms/step - loss: 0.4268 - accuracy: 0.8917 - val_loss: 0.4667 - val_accuracy: 0.8800\n",
      "Epoch 47/100\n",
      "150/150 [==============================] - 1s 5ms/step - loss: 0.4389 - accuracy: 0.8951 - val_loss: 0.4622 - val_accuracy: 0.8792\n",
      "Epoch 48/100\n",
      "150/150 [==============================] - 1s 5ms/step - loss: 0.4191 - accuracy: 0.8979 - val_loss: 0.4570 - val_accuracy: 0.8808\n",
      "Epoch 49/100\n",
      "150/150 [==============================] - 1s 5ms/step - loss: 0.4397 - accuracy: 0.8881 - val_loss: 0.4532 - val_accuracy: 0.8808\n",
      "Epoch 50/100\n",
      "150/150 [==============================] - 1s 5ms/step - loss: 0.4140 - accuracy: 0.9029 - val_loss: 0.4489 - val_accuracy: 0.8817\n",
      "Epoch 51/100\n",
      "150/150 [==============================] - 1s 5ms/step - loss: 0.4398 - accuracy: 0.8849 - val_loss: 0.4446 - val_accuracy: 0.8833\n",
      "Epoch 52/100\n",
      "150/150 [==============================] - 1s 5ms/step - loss: 0.4210 - accuracy: 0.8915 - val_loss: 0.4408 - val_accuracy: 0.8833\n",
      "Epoch 53/100\n",
      "150/150 [==============================] - 1s 5ms/step - loss: 0.4094 - accuracy: 0.8912 - val_loss: 0.4369 - val_accuracy: 0.8833\n",
      "Epoch 54/100\n",
      "150/150 [==============================] - 1s 5ms/step - loss: 0.4093 - accuracy: 0.8963 - val_loss: 0.4336 - val_accuracy: 0.8817\n",
      "Epoch 55/100\n",
      "150/150 [==============================] - 1s 5ms/step - loss: 0.3982 - accuracy: 0.8960 - val_loss: 0.4301 - val_accuracy: 0.8825\n",
      "Epoch 56/100\n",
      "150/150 [==============================] - 1s 5ms/step - loss: 0.3912 - accuracy: 0.9012 - val_loss: 0.4273 - val_accuracy: 0.8833\n",
      "Epoch 57/100\n",
      "150/150 [==============================] - 1s 5ms/step - loss: 0.4118 - accuracy: 0.8938 - val_loss: 0.4238 - val_accuracy: 0.8850\n",
      "Epoch 58/100\n",
      "150/150 [==============================] - 1s 5ms/step - loss: 0.4124 - accuracy: 0.8948 - val_loss: 0.4203 - val_accuracy: 0.8817\n",
      "Epoch 59/100\n",
      "150/150 [==============================] - 1s 5ms/step - loss: 0.4045 - accuracy: 0.8925 - val_loss: 0.4178 - val_accuracy: 0.8850\n",
      "Epoch 60/100\n",
      "150/150 [==============================] - 1s 5ms/step - loss: 0.3886 - accuracy: 0.8993 - val_loss: 0.4147 - val_accuracy: 0.8850\n",
      "Epoch 61/100\n",
      "150/150 [==============================] - 1s 6ms/step - loss: 0.3805 - accuracy: 0.9028 - val_loss: 0.4126 - val_accuracy: 0.8867\n",
      "Epoch 62/100\n",
      "150/150 [==============================] - 1s 5ms/step - loss: 0.3748 - accuracy: 0.9023 - val_loss: 0.4097 - val_accuracy: 0.8842\n",
      "Epoch 63/100\n",
      "150/150 [==============================] - 1s 6ms/step - loss: 0.3811 - accuracy: 0.8978 - val_loss: 0.4067 - val_accuracy: 0.8842\n",
      "Epoch 64/100\n",
      "150/150 [==============================] - 1s 6ms/step - loss: 0.3780 - accuracy: 0.8984 - val_loss: 0.4044 - val_accuracy: 0.8833\n",
      "Epoch 65/100\n",
      "150/150 [==============================] - 1s 6ms/step - loss: 0.3621 - accuracy: 0.9065 - val_loss: 0.4023 - val_accuracy: 0.8842\n",
      "Epoch 66/100\n",
      "150/150 [==============================] - 1s 6ms/step - loss: 0.3788 - accuracy: 0.8971 - val_loss: 0.3999 - val_accuracy: 0.8850\n",
      "Epoch 67/100\n",
      "150/150 [==============================] - 1s 6ms/step - loss: 0.3766 - accuracy: 0.8925 - val_loss: 0.3975 - val_accuracy: 0.8850\n",
      "Epoch 68/100\n",
      "150/150 [==============================] - 1s 6ms/step - loss: 0.3500 - accuracy: 0.9090 - val_loss: 0.3950 - val_accuracy: 0.8883\n",
      "Epoch 69/100\n",
      "150/150 [==============================] - 1s 6ms/step - loss: 0.3634 - accuracy: 0.8971 - val_loss: 0.3924 - val_accuracy: 0.8908\n",
      "Epoch 70/100\n",
      "150/150 [==============================] - 1s 6ms/step - loss: 0.3711 - accuracy: 0.9010 - val_loss: 0.3904 - val_accuracy: 0.8908\n",
      "Epoch 71/100\n",
      "150/150 [==============================] - 1s 6ms/step - loss: 0.3575 - accuracy: 0.9077 - val_loss: 0.3884 - val_accuracy: 0.8917\n",
      "Epoch 72/100\n",
      "150/150 [==============================] - 1s 6ms/step - loss: 0.3578 - accuracy: 0.9068 - val_loss: 0.3870 - val_accuracy: 0.8908\n",
      "Epoch 73/100\n",
      "150/150 [==============================] - 1s 6ms/step - loss: 0.3669 - accuracy: 0.9013 - val_loss: 0.3849 - val_accuracy: 0.8917\n",
      "Epoch 74/100\n",
      "150/150 [==============================] - 1s 6ms/step - loss: 0.3508 - accuracy: 0.9128 - val_loss: 0.3831 - val_accuracy: 0.8925\n",
      "Epoch 75/100\n",
      "150/150 [==============================] - 1s 6ms/step - loss: 0.3368 - accuracy: 0.9197 - val_loss: 0.3811 - val_accuracy: 0.8933\n",
      "Epoch 76/100\n",
      "150/150 [==============================] - 1s 6ms/step - loss: 0.3487 - accuracy: 0.9115 - val_loss: 0.3794 - val_accuracy: 0.8958\n",
      "Epoch 77/100\n",
      "150/150 [==============================] - 1s 6ms/step - loss: 0.3291 - accuracy: 0.9152 - val_loss: 0.3785 - val_accuracy: 0.8933\n",
      "Epoch 78/100\n",
      "150/150 [==============================] - 1s 6ms/step - loss: 0.3331 - accuracy: 0.9167 - val_loss: 0.3766 - val_accuracy: 0.8958\n",
      "Epoch 79/100\n",
      "150/150 [==============================] - 1s 6ms/step - loss: 0.3268 - accuracy: 0.9160 - val_loss: 0.3748 - val_accuracy: 0.8967\n",
      "Epoch 80/100\n",
      "150/150 [==============================] - 1s 5ms/step - loss: 0.3352 - accuracy: 0.9139 - val_loss: 0.3733 - val_accuracy: 0.8958\n",
      "Epoch 81/100\n",
      "150/150 [==============================] - 1s 6ms/step - loss: 0.3287 - accuracy: 0.9146 - val_loss: 0.3712 - val_accuracy: 0.8967\n",
      "Epoch 82/100\n",
      "150/150 [==============================] - 1s 6ms/step - loss: 0.3373 - accuracy: 0.9129 - val_loss: 0.3698 - val_accuracy: 0.8975\n",
      "Epoch 83/100\n",
      "150/150 [==============================] - 1s 5ms/step - loss: 0.3281 - accuracy: 0.9160 - val_loss: 0.3682 - val_accuracy: 0.8992\n",
      "Epoch 84/100\n",
      "150/150 [==============================] - 1s 5ms/step - loss: 0.3328 - accuracy: 0.9114 - val_loss: 0.3671 - val_accuracy: 0.8992\n",
      "Epoch 85/100\n",
      "150/150 [==============================] - 1s 6ms/step - loss: 0.3226 - accuracy: 0.9149 - val_loss: 0.3655 - val_accuracy: 0.9000\n",
      "Epoch 86/100\n",
      "150/150 [==============================] - 1s 6ms/step - loss: 0.3219 - accuracy: 0.9198 - val_loss: 0.3645 - val_accuracy: 0.8992\n",
      "Epoch 87/100\n",
      "150/150 [==============================] - 1s 6ms/step - loss: 0.3198 - accuracy: 0.9124 - val_loss: 0.3628 - val_accuracy: 0.9000\n",
      "Epoch 88/100\n",
      "150/150 [==============================] - 1s 6ms/step - loss: 0.3241 - accuracy: 0.9178 - val_loss: 0.3619 - val_accuracy: 0.8992\n",
      "Epoch 89/100\n",
      "150/150 [==============================] - 1s 6ms/step - loss: 0.3170 - accuracy: 0.9170 - val_loss: 0.3597 - val_accuracy: 0.9008\n",
      "Epoch 90/100\n",
      "150/150 [==============================] - 1s 6ms/step - loss: 0.2947 - accuracy: 0.9233 - val_loss: 0.3596 - val_accuracy: 0.9000\n",
      "Epoch 91/100\n",
      "150/150 [==============================] - 1s 6ms/step - loss: 0.3096 - accuracy: 0.9227 - val_loss: 0.3585 - val_accuracy: 0.9008\n",
      "Epoch 92/100\n",
      "150/150 [==============================] - 1s 6ms/step - loss: 0.3331 - accuracy: 0.9125 - val_loss: 0.3564 - val_accuracy: 0.9008\n",
      "Epoch 93/100\n",
      "150/150 [==============================] - 1s 6ms/step - loss: 0.3060 - accuracy: 0.9180 - val_loss: 0.3557 - val_accuracy: 0.9000\n",
      "Epoch 94/100\n",
      "150/150 [==============================] - 1s 6ms/step - loss: 0.2973 - accuracy: 0.9253 - val_loss: 0.3544 - val_accuracy: 0.9008\n",
      "Epoch 95/100\n",
      "150/150 [==============================] - 1s 6ms/step - loss: 0.3208 - accuracy: 0.9214 - val_loss: 0.3538 - val_accuracy: 0.9008\n",
      "Epoch 96/100\n",
      "150/150 [==============================] - 1s 6ms/step - loss: 0.2984 - accuracy: 0.9244 - val_loss: 0.3519 - val_accuracy: 0.8992\n",
      "Epoch 97/100\n",
      "150/150 [==============================] - 1s 6ms/step - loss: 0.3168 - accuracy: 0.9138 - val_loss: 0.3509 - val_accuracy: 0.9025\n",
      "Epoch 98/100\n",
      "150/150 [==============================] - 1s 6ms/step - loss: 0.2965 - accuracy: 0.9215 - val_loss: 0.3497 - val_accuracy: 0.9017\n",
      "Epoch 99/100\n",
      "150/150 [==============================] - 1s 6ms/step - loss: 0.2992 - accuracy: 0.9187 - val_loss: 0.3489 - val_accuracy: 0.9025\n",
      "Epoch 100/100\n",
      "150/150 [==============================] - 1s 6ms/step - loss: 0.3094 - accuracy: 0.9148 - val_loss: 0.3488 - val_accuracy: 0.9017\n"
     ]
    }
   ],
   "source": [
    "history = model.fit(X_train, y_train, epochs=100, validation_split=0.2)"
   ]
  },
  {
   "cell_type": "markdown",
   "metadata": {},
   "source": [
    "### TODO: Evaluate the model using the test dataset."
   ]
  },
  {
   "cell_type": "code",
   "execution_count": 101,
   "metadata": {},
   "outputs": [
    {
     "name": "stdout",
     "output_type": "stream",
     "text": [
      "Test loss: 0.3916839361190796\n",
      "Test accuracy: 0.8840000033378601\n"
     ]
    }
   ],
   "source": [
    "loss, accuracy = model.evaluate(X_test, y_test, verbose=0)\n",
    "print('Test loss:', loss)\n",
    "print('Test accuracy:', accuracy)"
   ]
  },
  {
   "cell_type": "markdown",
   "metadata": {},
   "source": [
    "### Let's check some of the results."
   ]
  },
  {
   "cell_type": "code",
   "execution_count": 102,
   "metadata": {},
   "outputs": [
    {
     "name": "stdout",
     "output_type": "stream",
     "text": [
      "WARNING:tensorflow:AutoGraph could not transform <function Model.make_predict_function.<locals>.predict_function at 0x7f9828491e60> and will run it as-is.\n",
      "Please report this to the TensorFlow team. When filing the bug, set the verbosity to 10 (on Linux, `export AUTOGRAPH_VERBOSITY=10`) and attach the full output.\n",
      "Cause: 'arguments' object has no attribute 'posonlyargs'\n",
      "To silence this warning, decorate the function with @tf.autograph.experimental.do_not_convert\n",
      "WARNING: AutoGraph could not transform <function Model.make_predict_function.<locals>.predict_function at 0x7f9828491e60> and will run it as-is.\n",
      "Please report this to the TensorFlow team. When filing the bug, set the verbosity to 10 (on Linux, `export AUTOGRAPH_VERBOSITY=10`) and attach the full output.\n",
      "Cause: 'arguments' object has no attribute 'posonlyargs'\n",
      "To silence this warning, decorate the function with @tf.autograph.experimental.do_not_convert\n"
     ]
    },
    {
     "data": {
      "text/plain": [
       "array([[0.   , 0.   , 0.   , 0.001, 0.   , 0.   , 0.   , 0.994, 0.   ,\n",
       "        0.004]], dtype=float32)"
      ]
     },
     "execution_count": 102,
     "metadata": {},
     "output_type": "execute_result"
    },
    {
     "data": {
      "image/png": "[encoded data removed]",
      "text/plain": [
       "<Figure size 432x288 with 1 Axes>"
      ]
     },
     "metadata": {
      "needs_background": "light"
     },
     "output_type": "display_data"
    }
   ],
   "source": [
    "n = 0\n",
    "\n",
    "# Display the image.\n",
    "plt.imshow(X_test[n])\n",
    "\n",
    "# Model prediction: probability for each class.\n",
    "y_prob = model.predict(np.expand_dims(X_test[n], axis=0))\n",
    "y_prob.round(3)"
   ]
  },
  {
   "cell_type": "markdown",
   "metadata": {},
   "source": [
    "### The evaluation score is 88.8%, which is okay but not very impressive. Why? Can we improve the performance?"
   ]
  },
  {
   "cell_type": "markdown",
   "metadata": {},
   "source": [
    "### Let's check how loss and accuracy have evolved over the training."
   ]
  },
  {
   "cell_type": "code",
   "execution_count": 109,
   "metadata": {},
   "outputs": [
    {
     "data": {
      "text/plain": [
       "<matplotlib.legend.Legend at 0x7f9868837e50>"
      ]
     },
     "execution_count": 109,
     "metadata": {},
     "output_type": "execute_result"
    },
    {
     "data": {
      "image/png": "[encoded data removed]",
      "text/plain": [
       "<Figure size 432x288 with 1 Axes>"
      ]
     },
     "metadata": {
      "needs_background": "light"
     },
     "output_type": "display_data"
    }
   ],
   "source": [
    "plt.plot(history.epoch, history.history['loss'],'.-', label='loss')\n",
    "plt.plot(history.epoch, history.history['val_loss'],'.-', label='validation loss')\n",
    "plt.xlabel('epoch')\n",
    "plt.ylabel('loss, validation loss')\n",
    "plt.legend()"
   ]
  },
  {
   "cell_type": "code",
   "execution_count": 110,
   "metadata": {},
   "outputs": [
    {
     "data": {
      "text/plain": [
       "Text(0, 0.5, 'accuracy, validation accuracy')"
      ]
     },
     "execution_count": 110,
     "metadata": {},
     "output_type": "execute_result"
    },
    {
     "data": {
      "image/png": "[encoded data removed]",
      "text/plain": [
       "<Figure size 432x288 with 1 Axes>"
      ]
     },
     "metadata": {
      "needs_background": "light"
     },
     "output_type": "display_data"
    }
   ],
   "source": [
    "plt.plot(history.epoch, history.history['accuracy'],'.-', label='accuracy')\n",
    "plt.plot(history.epoch, history.history['val_accuracy'],'.-', label='validation accuracy')\n",
    "plt.ylim(0.7,1)\n",
    "plt.xlabel('epoch')\n",
    "plt.ylabel('accuracy, validation accuracy')"
   ]
  },
  {
   "cell_type": "markdown",
   "metadata": {},
   "source": [
    "### It seems like the model is still underfitting. We can increase the number of epochs or learning rate, but we can try to use the \"adam\" optimizer which will monitor and adjust the learning rate as the training proceeds."
   ]
  },
  {
   "cell_type": "code",
   "execution_count": 105,
   "metadata": {},
   "outputs": [],
   "source": [
    "model2 = keras.models.Sequential([\n",
    "    keras.layers.Flatten(input_shape=[28, 28]),\n",
    "    keras.layers.Dense(1000, activation=\"relu\"),\n",
    "    keras.layers.Dense(1000, activation=\"relu\"),\n",
    "    keras.layers.Dense(10, activation=\"softmax\")\n",
    "])"
   ]
  },
  {
   "cell_type": "code",
   "execution_count": 106,
   "metadata": {},
   "outputs": [
    {
     "name": "stdout",
     "output_type": "stream",
     "text": [
      "Model: \"sequential_6\"\n",
      "_________________________________________________________________\n",
      "Layer (type)                 Output Shape              Param #   \n",
      "=================================================================\n",
      "flatten_1 (Flatten)          (None, 784)               0         \n",
      "_________________________________________________________________\n",
      "dense_18 (Dense)             (None, 1000)              785000    \n",
      "_________________________________________________________________\n",
      "dense_19 (Dense)             (None, 1000)              1001000   \n",
      "_________________________________________________________________\n",
      "dense_20 (Dense)             (None, 10)                10010     \n",
      "=================================================================\n",
      "Total params: 1,796,010\n",
      "Trainable params: 1,796,010\n",
      "Non-trainable params: 0\n",
      "_________________________________________________________________\n"
     ]
    }
   ],
   "source": [
    "model2.summary()"
   ]
  },
  {
   "cell_type": "code",
   "execution_count": 107,
   "metadata": {},
   "outputs": [],
   "source": [
    "model2.compile(loss=\"sparse_categorical_crossentropy\",\n",
    "              optimizer=keras.optimizers.Adam(learning_rate=1e-3),\n",
    "              metrics=[\"accuracy\"])"
   ]
  },
  {
   "cell_type": "code",
   "execution_count": 108,
   "metadata": {
    "collapsed": true,
    "jupyter": {
     "outputs_hidden": true
    },
    "tags": []
   },
   "outputs": [
    {
     "name": "stdout",
     "output_type": "stream",
     "text": [
      "Epoch 1/100\n",
      "WARNING:tensorflow:AutoGraph could not transform <function Model.make_train_function.<locals>.train_function at 0x7f9828418a70> and will run it as-is.\n",
      "Please report this to the TensorFlow team. When filing the bug, set the verbosity to 10 (on Linux, `export AUTOGRAPH_VERBOSITY=10`) and attach the full output.\n",
      "Cause: 'arguments' object has no attribute 'posonlyargs'\n",
      "To silence this warning, decorate the function with @tf.autograph.experimental.do_not_convert\n",
      "WARNING: AutoGraph could not transform <function Model.make_train_function.<locals>.train_function at 0x7f9828418a70> and will run it as-is.\n",
      "Please report this to the TensorFlow team. When filing the bug, set the verbosity to 10 (on Linux, `export AUTOGRAPH_VERBOSITY=10`) and attach the full output.\n",
      "Cause: 'arguments' object has no attribute 'posonlyargs'\n",
      "To silence this warning, decorate the function with @tf.autograph.experimental.do_not_convert\n",
      "147/150 [============================>.] - ETA: 0s - loss: 0.7991 - accuracy: 0.7393WARNING:tensorflow:AutoGraph could not transform <function Model.make_test_function.<locals>.test_function at 0x7f9862babdd0> and will run it as-is.\n",
      "Please report this to the TensorFlow team. When filing the bug, set the verbosity to 10 (on Linux, `export AUTOGRAPH_VERBOSITY=10`) and attach the full output.\n",
      "Cause: 'arguments' object has no attribute 'posonlyargs'\n",
      "To silence this warning, decorate the function with @tf.autograph.experimental.do_not_convert\n",
      "WARNING: AutoGraph could not transform <function Model.make_test_function.<locals>.test_function at 0x7f9862babdd0> and will run it as-is.\n",
      "Please report this to the TensorFlow team. When filing the bug, set the verbosity to 10 (on Linux, `export AUTOGRAPH_VERBOSITY=10`) and attach the full output.\n",
      "Cause: 'arguments' object has no attribute 'posonlyargs'\n",
      "To silence this warning, decorate the function with @tf.autograph.experimental.do_not_convert\n",
      "150/150 [==============================] - 2s 8ms/step - loss: 0.7913 - accuracy: 0.7419 - val_loss: 0.2878 - val_accuracy: 0.9133\n",
      "Epoch 2/100\n",
      "150/150 [==============================] - 1s 7ms/step - loss: 0.1911 - accuracy: 0.9351 - val_loss: 0.3327 - val_accuracy: 0.9050\n",
      "Epoch 3/100\n",
      "150/150 [==============================] - 1s 7ms/step - loss: 0.1077 - accuracy: 0.9717 - val_loss: 0.2736 - val_accuracy: 0.9217\n",
      "Epoch 4/100\n",
      "150/150 [==============================] - 1s 7ms/step - loss: 0.0487 - accuracy: 0.9820 - val_loss: 0.3035 - val_accuracy: 0.9150\n",
      "Epoch 5/100\n",
      "150/150 [==============================] - 1s 7ms/step - loss: 0.0396 - accuracy: 0.9873 - val_loss: 0.2809 - val_accuracy: 0.9317\n",
      "Epoch 6/100\n",
      "150/150 [==============================] - 1s 7ms/step - loss: 0.0241 - accuracy: 0.9934 - val_loss: 0.3048 - val_accuracy: 0.9258\n",
      "Epoch 7/100\n",
      "150/150 [==============================] - 1s 7ms/step - loss: 0.0456 - accuracy: 0.9868 - val_loss: 0.3563 - val_accuracy: 0.9183\n",
      "Epoch 8/100\n",
      "150/150 [==============================] - 1s 7ms/step - loss: 0.0603 - accuracy: 0.9823 - val_loss: 0.3305 - val_accuracy: 0.9217\n",
      "Epoch 9/100\n",
      "150/150 [==============================] - 1s 7ms/step - loss: 0.0476 - accuracy: 0.9851 - val_loss: 0.2719 - val_accuracy: 0.9475\n",
      "Epoch 10/100\n",
      "150/150 [==============================] - 1s 7ms/step - loss: 0.0083 - accuracy: 0.9979 - val_loss: 0.3134 - val_accuracy: 0.9450\n",
      "Epoch 11/100\n",
      "150/150 [==============================] - 1s 7ms/step - loss: 0.0156 - accuracy: 0.9943 - val_loss: 0.3155 - val_accuracy: 0.9358\n",
      "Epoch 12/100\n",
      "150/150 [==============================] - 1s 7ms/step - loss: 0.0058 - accuracy: 0.9984 - val_loss: 0.2671 - val_accuracy: 0.9492\n",
      "Epoch 13/100\n",
      "150/150 [==============================] - 1s 7ms/step - loss: 0.0100 - accuracy: 0.9965 - val_loss: 0.3758 - val_accuracy: 0.9325\n",
      "Epoch 14/100\n",
      "150/150 [==============================] - 1s 8ms/step - loss: 0.0120 - accuracy: 0.9975 - val_loss: 0.3821 - val_accuracy: 0.9325\n",
      "Epoch 15/100\n",
      "150/150 [==============================] - 1s 7ms/step - loss: 0.0208 - accuracy: 0.9939 - val_loss: 0.5186 - val_accuracy: 0.9275\n",
      "Epoch 16/100\n",
      "150/150 [==============================] - 1s 7ms/step - loss: 0.0855 - accuracy: 0.9767 - val_loss: 0.3503 - val_accuracy: 0.9292\n",
      "Epoch 17/100\n",
      "150/150 [==============================] - 1s 7ms/step - loss: 0.0158 - accuracy: 0.9965 - val_loss: 0.3283 - val_accuracy: 0.9367\n",
      "Epoch 18/100\n",
      "150/150 [==============================] - 1s 7ms/step - loss: 0.0178 - accuracy: 0.9962 - val_loss: 0.4343 - val_accuracy: 0.9242\n",
      "Epoch 19/100\n",
      "150/150 [==============================] - 1s 7ms/step - loss: 0.0321 - accuracy: 0.9905 - val_loss: 0.3731 - val_accuracy: 0.9317\n",
      "Epoch 20/100\n",
      "150/150 [==============================] - 1s 7ms/step - loss: 0.0227 - accuracy: 0.9934 - val_loss: 0.4073 - val_accuracy: 0.9233\n",
      "Epoch 21/100\n",
      "150/150 [==============================] - 1s 7ms/step - loss: 0.0253 - accuracy: 0.9958 - val_loss: 0.3772 - val_accuracy: 0.9358\n",
      "Epoch 22/100\n",
      "150/150 [==============================] - 1s 7ms/step - loss: 0.0034 - accuracy: 0.9994 - val_loss: 0.3730 - val_accuracy: 0.9400\n",
      "Epoch 23/100\n",
      "150/150 [==============================] - 1s 7ms/step - loss: 0.0047 - accuracy: 0.9991 - val_loss: 0.3591 - val_accuracy: 0.9375\n",
      "Epoch 24/100\n",
      "150/150 [==============================] - 1s 7ms/step - loss: 4.5535e-04 - accuracy: 0.9996 - val_loss: 0.3452 - val_accuracy: 0.9442\n",
      "Epoch 25/100\n",
      "150/150 [==============================] - 1s 7ms/step - loss: 5.8045e-05 - accuracy: 1.0000 - val_loss: 0.3461 - val_accuracy: 0.9425\n",
      "Epoch 26/100\n",
      "150/150 [==============================] - 1s 7ms/step - loss: 6.9241e-05 - accuracy: 1.0000 - val_loss: 0.3472 - val_accuracy: 0.9425\n",
      "Epoch 27/100\n",
      "150/150 [==============================] - 1s 7ms/step - loss: 4.5244e-05 - accuracy: 1.0000 - val_loss: 0.3482 - val_accuracy: 0.9425\n",
      "Epoch 28/100\n",
      "150/150 [==============================] - 1s 7ms/step - loss: 4.0821e-05 - accuracy: 1.0000 - val_loss: 0.3495 - val_accuracy: 0.9417\n",
      "Epoch 29/100\n",
      "150/150 [==============================] - 1s 7ms/step - loss: 3.1639e-05 - accuracy: 1.0000 - val_loss: 0.3511 - val_accuracy: 0.9417\n",
      "Epoch 30/100\n",
      "150/150 [==============================] - 1s 8ms/step - loss: 3.1115e-05 - accuracy: 1.0000 - val_loss: 0.3525 - val_accuracy: 0.9417\n",
      "Epoch 31/100\n",
      "150/150 [==============================] - 1s 7ms/step - loss: 2.4268e-05 - accuracy: 1.0000 - val_loss: 0.3541 - val_accuracy: 0.9417\n",
      "Epoch 32/100\n",
      "150/150 [==============================] - 1s 7ms/step - loss: 2.1465e-05 - accuracy: 1.0000 - val_loss: 0.3556 - val_accuracy: 0.9417\n",
      "Epoch 33/100\n",
      "150/150 [==============================] - 1s 7ms/step - loss: 1.7229e-05 - accuracy: 1.0000 - val_loss: 0.3569 - val_accuracy: 0.9417\n",
      "Epoch 34/100\n",
      "150/150 [==============================] - 1s 7ms/step - loss: 1.6659e-05 - accuracy: 1.0000 - val_loss: 0.3586 - val_accuracy: 0.9417\n",
      "Epoch 35/100\n",
      "150/150 [==============================] - 1s 7ms/step - loss: 1.6671e-05 - accuracy: 1.0000 - val_loss: 0.3602 - val_accuracy: 0.9417\n",
      "Epoch 36/100\n",
      "150/150 [==============================] - 1s 7ms/step - loss: 1.4891e-05 - accuracy: 1.0000 - val_loss: 0.3618 - val_accuracy: 0.9417\n",
      "Epoch 37/100\n",
      "150/150 [==============================] - 1s 7ms/step - loss: 1.1765e-05 - accuracy: 1.0000 - val_loss: 0.3633 - val_accuracy: 0.9417\n",
      "Epoch 38/100\n",
      "150/150 [==============================] - 1s 8ms/step - loss: 1.0691e-05 - accuracy: 1.0000 - val_loss: 0.3651 - val_accuracy: 0.9417\n",
      "Epoch 39/100\n",
      "150/150 [==============================] - 1s 7ms/step - loss: 1.0607e-05 - accuracy: 1.0000 - val_loss: 0.3667 - val_accuracy: 0.9417\n",
      "Epoch 40/100\n",
      "150/150 [==============================] - 1s 7ms/step - loss: 9.9078e-06 - accuracy: 1.0000 - val_loss: 0.3685 - val_accuracy: 0.9425\n",
      "Epoch 41/100\n",
      "150/150 [==============================] - 1s 7ms/step - loss: 7.7918e-06 - accuracy: 1.0000 - val_loss: 0.3701 - val_accuracy: 0.9433\n",
      "Epoch 42/100\n",
      "150/150 [==============================] - 1s 7ms/step - loss: 7.4963e-06 - accuracy: 1.0000 - val_loss: 0.3715 - val_accuracy: 0.9433\n",
      "Epoch 43/100\n",
      "150/150 [==============================] - 1s 7ms/step - loss: 7.1473e-06 - accuracy: 1.0000 - val_loss: 0.3727 - val_accuracy: 0.9442\n",
      "Epoch 44/100\n",
      "150/150 [==============================] - 1s 7ms/step - loss: 6.2529e-06 - accuracy: 1.0000 - val_loss: 0.3746 - val_accuracy: 0.9442\n",
      "Epoch 45/100\n",
      "150/150 [==============================] - 1s 7ms/step - loss: 4.6718e-06 - accuracy: 1.0000 - val_loss: 0.3766 - val_accuracy: 0.9450\n",
      "Epoch 46/100\n",
      "150/150 [==============================] - 1s 8ms/step - loss: 5.1729e-06 - accuracy: 1.0000 - val_loss: 0.3781 - val_accuracy: 0.9450\n",
      "Epoch 47/100\n",
      "150/150 [==============================] - 1s 7ms/step - loss: 4.3920e-06 - accuracy: 1.0000 - val_loss: 0.3805 - val_accuracy: 0.9442\n",
      "Epoch 48/100\n",
      "150/150 [==============================] - 1s 7ms/step - loss: 3.6403e-06 - accuracy: 1.0000 - val_loss: 0.3818 - val_accuracy: 0.9433\n",
      "Epoch 49/100\n",
      "150/150 [==============================] - 1s 8ms/step - loss: 3.2536e-06 - accuracy: 1.0000 - val_loss: 0.3837 - val_accuracy: 0.9450\n",
      "Epoch 50/100\n",
      "150/150 [==============================] - 1s 8ms/step - loss: 3.3910e-06 - accuracy: 1.0000 - val_loss: 0.3852 - val_accuracy: 0.9450\n",
      "Epoch 51/100\n",
      "150/150 [==============================] - 1s 8ms/step - loss: 2.4935e-06 - accuracy: 1.0000 - val_loss: 0.3867 - val_accuracy: 0.9458\n",
      "Epoch 52/100\n",
      "150/150 [==============================] - 1s 7ms/step - loss: 2.3582e-06 - accuracy: 1.0000 - val_loss: 0.3894 - val_accuracy: 0.9442\n",
      "Epoch 53/100\n",
      "150/150 [==============================] - 1s 7ms/step - loss: 2.1418e-06 - accuracy: 1.0000 - val_loss: 0.3903 - val_accuracy: 0.9458\n",
      "Epoch 54/100\n",
      "150/150 [==============================] - 1s 8ms/step - loss: 1.9789e-06 - accuracy: 1.0000 - val_loss: 0.3926 - val_accuracy: 0.9467\n",
      "Epoch 55/100\n",
      "150/150 [==============================] - 1s 7ms/step - loss: 1.8594e-06 - accuracy: 1.0000 - val_loss: 0.3945 - val_accuracy: 0.9467\n",
      "Epoch 56/100\n",
      "150/150 [==============================] - 1s 8ms/step - loss: 1.4420e-06 - accuracy: 1.0000 - val_loss: 0.3960 - val_accuracy: 0.9467\n",
      "Epoch 57/100\n",
      "150/150 [==============================] - 1s 8ms/step - loss: 1.2351e-06 - accuracy: 1.0000 - val_loss: 0.3986 - val_accuracy: 0.9467\n",
      "Epoch 58/100\n",
      "150/150 [==============================] - 1s 8ms/step - loss: 1.1566e-06 - accuracy: 1.0000 - val_loss: 0.4009 - val_accuracy: 0.9467\n",
      "Epoch 59/100\n",
      "150/150 [==============================] - 1s 8ms/step - loss: 1.2229e-06 - accuracy: 1.0000 - val_loss: 0.4046 - val_accuracy: 0.9467\n",
      "Epoch 60/100\n",
      "150/150 [==============================] - 1s 8ms/step - loss: 9.0063e-07 - accuracy: 1.0000 - val_loss: 0.4076 - val_accuracy: 0.9467\n",
      "Epoch 61/100\n",
      "150/150 [==============================] - 1s 8ms/step - loss: 8.1580e-07 - accuracy: 1.0000 - val_loss: 0.4110 - val_accuracy: 0.9458\n",
      "Epoch 62/100\n",
      "150/150 [==============================] - 1s 8ms/step - loss: 7.0194e-07 - accuracy: 1.0000 - val_loss: 0.4168 - val_accuracy: 0.9475\n",
      "Epoch 63/100\n",
      "150/150 [==============================] - 1s 8ms/step - loss: 5.7901e-07 - accuracy: 1.0000 - val_loss: 0.4208 - val_accuracy: 0.9467\n",
      "Epoch 64/100\n",
      "150/150 [==============================] - 1s 8ms/step - loss: 4.8866e-07 - accuracy: 1.0000 - val_loss: 0.4248 - val_accuracy: 0.9467\n",
      "Epoch 65/100\n",
      "150/150 [==============================] - 1s 8ms/step - loss: 4.2472e-07 - accuracy: 1.0000 - val_loss: 0.4310 - val_accuracy: 0.9467\n",
      "Epoch 66/100\n",
      "150/150 [==============================] - 1s 8ms/step - loss: 4.2186e-07 - accuracy: 1.0000 - val_loss: 0.4352 - val_accuracy: 0.9467\n",
      "Epoch 67/100\n",
      "150/150 [==============================] - 1s 8ms/step - loss: 3.8777e-07 - accuracy: 1.0000 - val_loss: 0.4407 - val_accuracy: 0.9467\n",
      "Epoch 68/100\n",
      "150/150 [==============================] - 1s 8ms/step - loss: 2.6435e-07 - accuracy: 1.0000 - val_loss: 0.4452 - val_accuracy: 0.9467\n",
      "Epoch 69/100\n",
      "150/150 [==============================] - 1s 8ms/step - loss: 2.9558e-07 - accuracy: 1.0000 - val_loss: 0.4496 - val_accuracy: 0.9467\n",
      "Epoch 70/100\n",
      "150/150 [==============================] - 1s 8ms/step - loss: 1.9327e-07 - accuracy: 1.0000 - val_loss: 0.4534 - val_accuracy: 0.9467\n",
      "Epoch 71/100\n",
      "150/150 [==============================] - 1s 8ms/step - loss: 1.7121e-07 - accuracy: 1.0000 - val_loss: 0.4581 - val_accuracy: 0.9467\n",
      "Epoch 72/100\n",
      "150/150 [==============================] - 1s 8ms/step - loss: 1.5284e-07 - accuracy: 1.0000 - val_loss: 0.4613 - val_accuracy: 0.9467\n",
      "Epoch 73/100\n",
      "150/150 [==============================] - 1s 8ms/step - loss: 1.5053e-07 - accuracy: 1.0000 - val_loss: 0.4651 - val_accuracy: 0.9467\n",
      "Epoch 74/100\n",
      "150/150 [==============================] - 1s 8ms/step - loss: 1.4267e-07 - accuracy: 1.0000 - val_loss: 0.4690 - val_accuracy: 0.9467\n",
      "Epoch 75/100\n",
      "150/150 [==============================] - 1s 8ms/step - loss: 9.4835e-08 - accuracy: 1.0000 - val_loss: 0.4725 - val_accuracy: 0.9467\n",
      "Epoch 76/100\n",
      "150/150 [==============================] - 1s 8ms/step - loss: 8.4999e-08 - accuracy: 1.0000 - val_loss: 0.4758 - val_accuracy: 0.9467\n",
      "Epoch 77/100\n",
      "150/150 [==============================] - 1s 8ms/step - loss: 1.1987e-07 - accuracy: 1.0000 - val_loss: 0.4792 - val_accuracy: 0.9467\n",
      "Epoch 78/100\n",
      "150/150 [==============================] - 1s 8ms/step - loss: 8.8870e-08 - accuracy: 1.0000 - val_loss: 0.4824 - val_accuracy: 0.9467\n",
      "Epoch 79/100\n",
      "150/150 [==============================] - 1s 8ms/step - loss: 6.6145e-08 - accuracy: 1.0000 - val_loss: 0.4855 - val_accuracy: 0.9467\n",
      "Epoch 80/100\n",
      "150/150 [==============================] - 1s 8ms/step - loss: 7.6897e-08 - accuracy: 1.0000 - val_loss: 0.4878 - val_accuracy: 0.9467\n",
      "Epoch 81/100\n",
      "150/150 [==============================] - 1s 8ms/step - loss: 7.2381e-08 - accuracy: 1.0000 - val_loss: 0.4901 - val_accuracy: 0.9467\n",
      "Epoch 82/100\n",
      "150/150 [==============================] - 1s 8ms/step - loss: 5.6010e-08 - accuracy: 1.0000 - val_loss: 0.4931 - val_accuracy: 0.9467\n",
      "Epoch 83/100\n",
      "150/150 [==============================] - 1s 8ms/step - loss: 4.8621e-08 - accuracy: 1.0000 - val_loss: 0.4959 - val_accuracy: 0.9458\n",
      "Epoch 84/100\n",
      "150/150 [==============================] - 1s 8ms/step - loss: 5.1129e-08 - accuracy: 1.0000 - val_loss: 0.4981 - val_accuracy: 0.9458\n",
      "Epoch 85/100\n",
      "150/150 [==============================] - 1s 8ms/step - loss: 5.0062e-08 - accuracy: 1.0000 - val_loss: 0.5009 - val_accuracy: 0.9458\n",
      "Epoch 86/100\n",
      "150/150 [==============================] - 1s 8ms/step - loss: 4.7515e-08 - accuracy: 1.0000 - val_loss: 0.5033 - val_accuracy: 0.9458\n",
      "Epoch 87/100\n",
      "150/150 [==============================] - 1s 8ms/step - loss: 3.8880e-08 - accuracy: 1.0000 - val_loss: 0.5059 - val_accuracy: 0.9458\n",
      "Epoch 88/100\n",
      "150/150 [==============================] - 1s 8ms/step - loss: 3.4623e-08 - accuracy: 1.0000 - val_loss: 0.5079 - val_accuracy: 0.9458\n",
      "Epoch 89/100\n",
      "150/150 [==============================] - 1s 8ms/step - loss: 3.2698e-08 - accuracy: 1.0000 - val_loss: 0.5098 - val_accuracy: 0.9475\n",
      "Epoch 90/100\n",
      "150/150 [==============================] - 1s 8ms/step - loss: 3.0786e-08 - accuracy: 1.0000 - val_loss: 0.5120 - val_accuracy: 0.9475\n",
      "Epoch 91/100\n",
      "150/150 [==============================] - 1s 8ms/step - loss: 3.0475e-08 - accuracy: 1.0000 - val_loss: 0.5140 - val_accuracy: 0.9475\n",
      "Epoch 92/100\n",
      "150/150 [==============================] - 1s 8ms/step - loss: 2.6645e-08 - accuracy: 1.0000 - val_loss: 0.5160 - val_accuracy: 0.9475\n",
      "Epoch 93/100\n",
      "150/150 [==============================] - 1s 8ms/step - loss: 2.4455e-08 - accuracy: 1.0000 - val_loss: 0.5178 - val_accuracy: 0.9475\n",
      "Epoch 94/100\n",
      "150/150 [==============================] - 1s 8ms/step - loss: 2.5235e-08 - accuracy: 1.0000 - val_loss: 0.5195 - val_accuracy: 0.9475\n",
      "Epoch 95/100\n",
      "150/150 [==============================] - 1s 8ms/step - loss: 2.3403e-08 - accuracy: 1.0000 - val_loss: 0.5211 - val_accuracy: 0.9483\n",
      "Epoch 96/100\n",
      "150/150 [==============================] - 1s 8ms/step - loss: 2.2693e-08 - accuracy: 1.0000 - val_loss: 0.5231 - val_accuracy: 0.9483\n",
      "Epoch 97/100\n",
      "150/150 [==============================] - 1s 8ms/step - loss: 1.7668e-08 - accuracy: 1.0000 - val_loss: 0.5251 - val_accuracy: 0.9483\n",
      "Epoch 98/100\n",
      "150/150 [==============================] - 1s 8ms/step - loss: 1.4074e-08 - accuracy: 1.0000 - val_loss: 0.5265 - val_accuracy: 0.9483\n",
      "Epoch 99/100\n",
      "150/150 [==============================] - 1s 8ms/step - loss: 1.5578e-08 - accuracy: 1.0000 - val_loss: 0.5279 - val_accuracy: 0.9483\n",
      "Epoch 100/100\n",
      "150/150 [==============================] - 1s 8ms/step - loss: 1.6402e-08 - accuracy: 1.0000 - val_loss: 0.5295 - val_accuracy: 0.9483\n"
     ]
    }
   ],
   "source": [
    "history2 = model2.fit(X_train, y_train, epochs=100, validation_split=0.2)"
   ]
  },
  {
   "cell_type": "code",
   "execution_count": 111,
   "metadata": {},
   "outputs": [
    {
     "name": "stdout",
     "output_type": "stream",
     "text": [
      "Test loss: 0.5405932068824768\n",
      "Test accuracy: 0.9470000267028809\n"
     ]
    }
   ],
   "source": [
    "loss, accuracy = model2.evaluate(X_test, y_test, verbose=0)\n",
    "print('Test loss:', loss)\n",
    "print('Test accuracy:', accuracy)"
   ]
  },
  {
   "cell_type": "markdown",
   "metadata": {},
   "source": [
    "### Let's check how loss and accuracy have evolved over the training."
   ]
  },
  {
   "cell_type": "code",
   "execution_count": 112,
   "metadata": {},
   "outputs": [
    {
     "data": {
      "text/plain": [
       "Text(0, 0.5, 'loss, validation loss')"
      ]
     },
     "execution_count": 112,
     "metadata": {},
     "output_type": "execute_result"
    },
    {
     "data": {
      "image/png": "[encoded data removed]",
      "text/plain": [
       "<Figure size 432x288 with 1 Axes>"
      ]
     },
     "metadata": {
      "needs_background": "light"
     },
     "output_type": "display_data"
    }
   ],
   "source": [
    "plt.plot(history2.epoch, history2.history['loss'],'.-', label='loss')\n",
    "plt.plot(history2.epoch, history2.history['val_loss'],'.-', label='validation loss')\n",
    "plt.xlabel('epoch')\n",
    "plt.ylabel('loss, validation loss')\n",
    "plt.legend()"
   ]
  },
  {
   "cell_type": "code",
   "execution_count": 113,
   "metadata": {},
   "outputs": [
    {
     "data": {
      "text/plain": [
       "Text(0, 0.5, 'accuracy, validation accuracy')"
      ]
     },
     "execution_count": 113,
     "metadata": {},
     "output_type": "execute_result"
    },
    {
     "data": {
      "image/png": "[encoded data removed]",
      "text/plain": [
       "<Figure size 432x288 with 1 Axes>"
      ]
     },
     "metadata": {
      "needs_background": "light"
     },
     "output_type": "display_data"
    }
   ],
   "source": [
    "plt.plot(history2.epoch, history2.history['accuracy'],'.-', label='accuracy')\n",
    "plt.plot(history2.epoch, history2.history['val_accuracy'],'.-', label='validation accuracy')\n",
    "plt.ylim(0.9,1.01)\n",
    "plt.xlabel('epoch')\n",
    "plt.ylabel('accuracy, validation accuracy')\n",
    "plt.legend()"
   ]
  },
  {
   "cell_type": "markdown",
   "metadata": {},
   "source": [
    "### Adam optimizer turned out to be extremely efficient! "
   ]
  }
 ],
 "metadata": {
  "kernelspec": {
   "display_name": "Tensorflow-2.7.0",
   "language": "python",
   "name": "tensorflow-2.7.0"
  },
  "language_info": {
   "codemirror_mode": {
    "name": "ipython",
    "version": 3
   },
   "file_extension": ".py",
   "mimetype": "text/x-python",
   "name": "python",
   "nbconvert_exporter": "python",
   "pygments_lexer": "ipython3",
   "version": "3.9.12"
  }
 },
 "nbformat": 4,
 "nbformat_minor": 4
}
