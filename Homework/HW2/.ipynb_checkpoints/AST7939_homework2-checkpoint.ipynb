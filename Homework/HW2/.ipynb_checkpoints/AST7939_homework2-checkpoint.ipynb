{
 "cells": [
  {
   "cell_type": "markdown",
   "metadata": {
    "slideshow": {
     "slide_type": "slide"
    }
   },
   "source": [
    "# AST 7939 Homework Assignment #2 (10 pts)"
   ]
  },
  {
   "cell_type": "markdown",
   "metadata": {},
   "source": [
    "## All work is due Wednesday February 22 at 5 pm.\n",
    "\n",
    "## Instruction: \n",
    "Do all homework in this Jupyter notebook and submit your final .ipynb file via Canvas. Show ALL your work and try to add comment lines as needed to describe what your code does. \n",
    "\n",
    "You are encouraged to discuss homework problems with your classmates. However, your python script and answers to the questions must be written by yourself."
   ]
  },
  {
   "cell_type": "code",
   "execution_count": 1,
   "metadata": {},
   "outputs": [],
   "source": [
    "import time\n",
    "import numpy as np\n",
    "import matplotlib.pyplot as plt\n",
    "from sklearn.preprocessing import StandardScaler\n",
    "from sklearn import neighbors\n",
    "from sklearn import tree\n",
    "from sklearn.tree import export_graphviz, DecisionTreeClassifier, plot_tree\n",
    "from sklearn.svm import LinearSVC, SVC\n",
    "from sklearn import datasets\n",
    "from sklearn.pipeline import Pipeline"
   ]
  },
  {
   "cell_type": "markdown",
   "metadata": {},
   "source": [
    "## 1. Computational complexity (2 pts)\n",
    "\n",
    "We learned that different machine learning algorithms have different computational costs. Let's check this out using the two moons dataset (see the cell below for an example). "
   ]
  },
  {
   "cell_type": "markdown",
   "metadata": {},
   "source": [
    "(a) While varying the number of data points in the training/test dataset from 100, 1000, 10000, to 100000, measure the time it takes for kNN, DT, and SVM to create a model (i.e., fit) and make predictions. For simplicity, instead of optimizing hyperparameters, use n_neighbors=10 for kNN, max_depth=4 for DT, and kernel=\"rbf\", C=1, gamma=1 for SVM. (1 pt)"
   ]
  },
  {
   "cell_type": "code",
   "execution_count": 1,
   "metadata": {},
   "outputs": [],
   "source": [
    "from sklearn import datasets\n",
    "\n",
    "# This is the size of the data.\n",
    "n = 100\n",
    "\n",
    "# This creates a training dataset.\n",
    "X_train, y_train = datasets.make_moons(n_samples=n, noise=0.3, random_state=0)\n",
    "\n",
    "# This creates a test dataset for prediction. \n",
    "X_pred, y_pred = datasets.make_moons(n_samples=n, noise=0.3, random_state=1)"
   ]
  },
  {
   "cell_type": "code",
   "execution_count": 20,
   "metadata": {},
   "outputs": [
    {
     "data": {
      "text/plain": [
       "array([[0., 0., 0.],\n",
       "       [0., 0., 0.],\n",
       "       [0., 0., 0.],\n",
       "       [0., 0., 0.]])"
      ]
     },
     "execution_count": 20,
     "metadata": {},
     "output_type": "execute_result"
    }
   ],
   "source": [
    "np.zeros((4, 3))"
   ]
  },
  {
   "cell_type": "code",
   "execution_count": 5,
   "metadata": {},
   "outputs": [
    {
     "name": "stdout",
     "output_type": "stream",
     "text": [
      "Dataset Size: 100\n",
      "kNN\n",
      "Elapsed Time for Model: 0.002 seconds\n",
      "Elapsed Time for Prediction: 0.006 seconds\n",
      "\n",
      "Decision Tree\n",
      "Elapsed Time for Model: 0.003 seconds\n",
      "Elapsed Time for Prediction: 0.000 seconds\n",
      "\n",
      "Support Vector Machine\n",
      "Elapsed Time for Model: 0.005 seconds\n",
      "Elapsed Time for Prediction: 0.001 seconds\n",
      "======================================================\n",
      "Dataset Size: 1000\n",
      "kNN\n",
      "Elapsed Time for Model: 0.001 seconds\n",
      "Elapsed Time for Prediction: 0.021 seconds\n",
      "\n",
      "Decision Tree\n",
      "Elapsed Time for Model: 0.001 seconds\n",
      "Elapsed Time for Prediction: 0.000 seconds\n",
      "\n",
      "Support Vector Machine\n",
      "Elapsed Time for Model: 0.013 seconds\n",
      "Elapsed Time for Prediction: 0.010 seconds\n",
      "======================================================\n",
      "Dataset Size: 10000\n",
      "kNN\n",
      "Elapsed Time for Model: 0.003 seconds\n",
      "Elapsed Time for Prediction: 0.232 seconds\n",
      "\n",
      "Decision Tree\n",
      "Elapsed Time for Model: 0.007 seconds\n",
      "Elapsed Time for Prediction: 0.000 seconds\n",
      "\n",
      "Support Vector Machine\n",
      "Elapsed Time for Model: 0.808 seconds\n",
      "Elapsed Time for Prediction: 0.673 seconds\n",
      "======================================================\n",
      "Dataset Size: 100000\n",
      "kNN\n",
      "Elapsed Time for Model: 0.028 seconds\n",
      "Elapsed Time for Prediction: 1.570 seconds\n",
      "\n",
      "Decision Tree\n",
      "Elapsed Time for Model: 0.091 seconds\n",
      "Elapsed Time for Prediction: 0.005 seconds\n",
      "\n",
      "Support Vector Machine\n",
      "Elapsed Time for Model: 85.289 seconds\n",
      "Elapsed Time for Prediction: 62.795 seconds\n",
      "======================================================\n"
     ]
    }
   ],
   "source": [
    "# time how long it takes using python\n",
    "\n",
    "set_size = [100, 1000, 10000, 100000]\n",
    "running_time_model = np.zeros((4, 3))\n",
    "running_time_pred = np.zeros((4, 3))\n",
    "i = 0\n",
    "\n",
    "for n in set_size:\n",
    "    # Make training dataset and test dataset for prediction\n",
    "    X_train, y_train = datasets.make_moons(n_samples=n, noise=0.3, random_state=0)\n",
    "    X_pred, y_pred = datasets.make_moons(n_samples=n, noise=0.3, random_state=1)\n",
    "    # Scale the datasets for models that require scaling\n",
    "    X_train_scaled = StandardScaler().fit(X_train).transform(X_train)\n",
    "    X_pred_scaled = StandardScaler().fit(X_train).transform(X_pred)\n",
    "    # This is how big the dataset is\n",
    "    print('Dataset Size:', n)\n",
    "    \n",
    "    ## Code for kNN\n",
    "    print('kNN')\n",
    "    tstart = time.time() # Start timer\n",
    "    model = neighbors.KNeighborsClassifier(n_neighbors=10) # Make kNN model with n_neighbors = 10\n",
    "    model.fit(X_train_scaled, y_train) # fit the model with the scaled training dataset\n",
    "    running_time_model[i, 0] = time.time()-tstart\n",
    "    print(\"Elapsed Time for Model: {:.3f}\".format(running_time_model[i, 0]) + \" seconds\") # End timer and print elapsed time\n",
    "    \n",
    "    tstart = time.time() # Start timer\n",
    "    model.predict(X_pred_scaled) # predict the outcome using the fitted model\n",
    "    #print('Training Accuracy:', model.score(X_train_scaled, y_train))\n",
    "    #print('Testing Accuracy:', model.score(X_pred_scaled, y_pred))\n",
    "    running_time_pred[i, 0] = time.time()-tstart\n",
    "    print(\"Elapsed Time for Prediction: {:.3f}\".format(running_time_pred[i, 0]) + \" seconds\") # End timer and print elapsed time\n",
    "\n",
    "    ## Code for Decision Tree\n",
    "    print('\\nDecision Tree')\n",
    "    tstart = time.time() # Start timer\n",
    "    model = DecisionTreeClassifier(max_depth=4) # Make Decision Tree model with max_depth = 4\n",
    "    model.fit(X_train, y_train) # fit the model, DT doesn't need scaled dataset\n",
    "    running_time_model[i, 1] = time.time()-tstart\n",
    "    print(\"Elapsed Time for Model: {:.3f}\".format(time.time()-tstart) + \" seconds\") # End timer and print elapsed time\n",
    "    \n",
    "    tstart = time.time() # Start timer\n",
    "    model.predict(X_pred) # predict the outcome using the fitted model\n",
    "    #print('Training Accuracy:', model.score(X_train_scaled, y_train))\n",
    "    #print('Testing Accuracy:', model.score(X_pred_scaled, y_pred))\n",
    "    running_time_pred[i, 1] = time.time()-tstart\n",
    "    print(\"Elapsed Time for Prediction: {:.3f}\".format(running_time_pred[i, 1]) + \" seconds\") # End timer and print elapsed time\n",
    "    \n",
    "    ## Code for SVM\n",
    "    print('\\nSupport Vector Machine')\n",
    "    tstart = time.time() # Start timer\n",
    "    model = Pipeline([ \n",
    "                        ('sc', StandardScaler()), # SVM does the scaling as part of the pipeine\n",
    "                        ('svm', SVC(C=1, kernel=\"rbf\", gamma=1, random_state=0)) # kernel=\"rbf\", C=1, gamma=1 for SVM\n",
    "                    ])\n",
    "    model.fit(X_train, y_train)\n",
    "    running_time_model[i, 2] = time.time()-tstart\n",
    "    print(\"Elapsed Time for Model: {:.3f}\".format(time.time()-tstart) + \" seconds\") # End timer and print elapsed time\n",
    "    \n",
    "    tstart = time.time() # Start timer\n",
    "    model.predict(X_pred) # predict the outcome using the fitted model\n",
    "    #print('Training Accuracy:', model.score(X_train_scaled, y_train))\n",
    "    #print('Testing Accuracy:', model.score(X_pred_scaled, y_pred))\n",
    "    running_time_pred[i, 2] = time.time()-tstart\n",
    "    print(\"Elapsed Time for Prediction: {:.3f}\".format(running_time_pred[i, 2]) + \" seconds\") # End timer and print elapsed time\n",
    "    print('======================================================')\n",
    "    i+=1"
   ]
  },
  {
   "cell_type": "markdown",
   "metadata": {},
   "source": [
    "(b) Make a plot showing the running time vs. size of dataset for the three algorightms and for training/prediction -- you will have six curves in the end. Make sure your figure is readable. Discuss what you find from the plot. Using a logarithmic scale for both x and y axes will be helpful to interpret the result. (1 pt)"
   ]
  },
  {
   "cell_type": "code",
   "execution_count": 7,
   "metadata": {},
   "outputs": [
    {
     "data": {
      "text/plain": [
       "<matplotlib.legend.Legend at 0x7f77b8ae1070>"
      ]
     },
     "execution_count": 7,
     "metadata": {},
     "output_type": "execute_result"
    },
    {
     "data": {
      "image/png": "[encoded data removed]",
      "text/plain": [
       "<Figure size 640x480 with 1 Axes>"
      ]
     },
     "metadata": {},
     "output_type": "display_data"
    }
   ],
   "source": [
    "# Will have 6 curves measured, make a plot of time vs number of datasets. For the three models kNN, DT and SVM. \n",
    "# Why is what you see happening in the diagram? \n",
    "\n",
    "plt.plot(running_time_model[:,0], set_size, color='tab:blue', label='kNN-model')\n",
    "plt.plot(running_time_pred[:,0], set_size, color='tab:blue', linestyle='--', label='kNN-prediction')\n",
    "\n",
    "plt.plot(running_time_model[:,1], set_size, color='tab:orange', label='DT-model')\n",
    "plt.plot(running_time_pred[:,1], set_size, color='tab:orange', linestyle='--', label='DT-prediction')\n",
    "\n",
    "plt.plot(running_time_model[:,2], set_size, color='tab:green', label='SVM-model')\n",
    "plt.plot(running_time_pred[:,2], set_size, color='tab:green', linestyle='--', label='SVM-prediction')\n",
    "\n",
    "plt.xscale('log')\n",
    "plt.yscale('log')\n",
    "plt.xlabel('Running Time')\n",
    "plt.ylabel('Dataset Size')\n",
    "plt.legend()"
   ]
  },
  {
   "cell_type": "markdown",
   "metadata": {},
   "source": [
    "Why is this happening????\n",
    "\n",
    "As the datasets get larger, it takes more time to create the models and make predictions based on them. Each type of model has a different relationship between the time it takes to build a model or make a prediction and how big the dataset is. For kNN, the model is made faster than the predictions as each test data point needs to be checked when making predictions. For DT, the tree has already been made, so the prediction happens quicker than first making the model. For SVM, the times for making the model and making predicitons are relatively close, but the running time for making predictions is lower than for making a model.\n",
    "\n"
   ]
  },
  {
   "cell_type": "markdown",
   "metadata": {},
   "source": [
    "## 2. Support Vector Machine classifier (8 pts)"
   ]
  },
  {
   "cell_type": "markdown",
   "metadata": {},
   "source": [
    "We will build Support Vector Machines to determine the hyperplane separating Super-Earths and Sub-Neptunes, the so-called radius valley in planet radius vs. orbital period plots (see Fulton et al. 2017; https://ui.adsabs.harvard.edu/abs/2017AJ....154..109F/abstract). To determine accurate planet parameters from transit surveys, accurate stellar parameters are required, because the transit depth only constrains $R_p/R_*$, where $R_p$ and $R_*$ are the planetary and stellar radius. In Van Eylen et al. (2018; https://ui.adsabs.harvard.edu/abs/2018MNRAS.479.4786V/abstract), authors used a sample of exoplanet host stars with parameters homogeneously measured from asteroseismology, which can provide highly precise masses and radii for a sample of bright stars, and determined that the radius valley can be describe by ${\\rm log}_{10} R_p = m{\\rm log}_{10} P + a$, where $m=-0.09^{+0.02}_{-0.04}$ and $a=0.37^{+0.04}_{-0.02}$.\n",
    "\n",
    "In this homework problem, we will reproduce the SVM models of Van Eylen et al. (2018)."
   ]
  },
  {
   "cell_type": "markdown",
   "metadata": {},
   "source": [
    "(a) First things first: let's collect the data presented in Table 1 of Van Eylen et al. (2018). One way to do this is to download the source file from the arXiv and read in the table (and do some cleaning). This can be tedious, but remember that making a ML model will always start with data acquisition and cleaning! When you submit your homework, upload the data file you compile so that I can reproduce your results. (1 pt)"
   ]
  },
  {
   "cell_type": "code",
   "execution_count": null,
   "metadata": {},
   "outputs": [],
   "source": [
    "# No planets are in the radius gap, why? Atmospheres being stripped or rocky planets? \n",
    "# observational effect of planet radius vs orbital period \n",
    "\n",
    "\n",
    "\n",
    "\n",
    "\n",
    "\n",
    "\n",
    "\n"
   ]
  },
  {
   "cell_type": "markdown",
   "metadata": {},
   "source": [
    "(b) Let's make a plot showing planet radius vs. orbital period, similar to Figure 2 of Van Eylen et al. (2018) but without additional data from Fulton et al. (2017). Similar to Figure 2 of Van Eylen et al. (2018), make two panels, one showing the entire data points and the other showing 1-100 days & 1-4 Earth radii to more clearly identify the radius valley. (1 pt)"
   ]
  },
  {
   "cell_type": "code",
   "execution_count": null,
   "metadata": {},
   "outputs": [],
   "source": [
    "# Recreate Figure 2, just need to plot the red dots, not the other data\n",
    "# Then have a zoom-in figure of the radius valley\n",
    "\n",
    "\n",
    "\n",
    "\n",
    "\n",
    "\n",
    "\n",
    "\n"
   ]
  },
  {
   "cell_type": "markdown",
   "metadata": {},
   "source": [
    "(c) We would like to fit the radius valley using the SVM. However, in order to use the SVM, we need a labelled data in the first place. Luckily, we have a well separated dataset. In Van Eylen et al. (2018), they took a few different approaches to fit the radius valley. Here, let's use one of the fits from bootstrapping, that is, if a planet's radius and orbital periods satisfy ${\\rm log}_{10} R_p > m{\\rm log}_{10} P + a$, where $m=-0.10$ and $a=0.38$, then we will label them as sub-Neptunes. If ${\\rm log}_{10} R_p \\leq m{\\rm log}_{10} P + a$, where $m=-0.10$ and $a=0.38$, we will label them as super-Earth. Using this criterion, make an array that contains the label (e.g., 0 if sub-Neptune, 1 if super-Earth).\n",
    "\n",
    "Then, repeat #2b and make similar plots, but this time make the data points color-coded by their labels. Also, add a line showing ${\\rm log}_{10} R_p = m{\\rm log}_{10} P + a$, where $m=-0.10$ and $a=0.38$. Your plot should look similar to Figure 5 of Van Eylen et al. (2018), except that you will have a single line dividing super-Earths and sub-Neptunes instead of multiple lines representing 20 different fits. (1 pt)"
   ]
  },
  {
   "cell_type": "code",
   "execution_count": null,
   "metadata": {},
   "outputs": [],
   "source": [
    "# everything above line is sub-neptune, everything below is super earth\n",
    "# make that classification an array\n",
    "# color code the points by their classification and overplot the line, recreate Fig 5\n",
    "\n",
    "\n",
    "\n",
    "\n",
    "\n",
    "\n",
    "\n"
   ]
  },
  {
   "cell_type": "markdown",
   "metadata": {},
   "source": [
    "(d) Now that we have a labelled dataset, we are ready to build SVM models. Using orbital period and planet radius (both in log scale) as two features, make a few linear SVM models varying the panelty parameter C from 0.01, 0.1, 1, 10, 100, to 1000. Then, make six figures showing the data, hyperplane, and support vectors. Don't forget that SVMs need feature scaling. (2 pt)"
   ]
  },
  {
   "cell_type": "code",
   "execution_count": null,
   "metadata": {
    "scrolled": true
   },
   "outputs": [],
   "source": [
    "# make SVM models similar to the ones in class with the hyperplane and support vectors \n",
    "# 6 models in total \n",
    "# draw hyperplane and mark support vectors\n",
    "# remember feature scaling \n",
    "\n",
    "\n",
    "\n",
    "\n",
    "\n",
    "\n"
   ]
  },
  {
   "cell_type": "markdown",
   "metadata": {},
   "source": [
    "(e) Which penalty parameter $C$ do you think best seperates super-Earths and sub-Neptunes? And why? Write down an equation for the hyperplane in the form of ${\\rm log}_{10} R_p = m{\\rm log}_{10} P + a$. (1 pt)"
   ]
  },
  {
   "cell_type": "code",
   "execution_count": null,
   "metadata": {},
   "outputs": [],
   "source": [
    "# which C fits best? Read the paper to see context\n",
    "# find the slope and intersect using SVM\n",
    "\n",
    "\n",
    "\n",
    "\n",
    "\n",
    "\n",
    "\n",
    "\n"
   ]
  },
  {
   "cell_type": "markdown",
   "metadata": {},
   "source": [
    "(f) Uncertainties on the slope $m$ and offset $a$ can be determined using bootstrapped samples ([random sampling with replacement](https://en.wikipedia.org/wiki/Bootstrapping_(statistics) )). Following Van Eylen et al. (2018), generate 1000 bootstrapped samples each of which has the same size as the original dataset. For each bootstrapped, compute the slope $m$ and offset $a$ of the hyperplane using the best $C$ you determined from #2e. Compute the mean and standard deviation of $m$ and $a$. What is your final hyperplane, and how does that compare with the hyperplane Van Eylen et al. (2018) determined? (2 pt)  "
   ]
  },
  {
   "cell_type": "code",
   "execution_count": null,
   "metadata": {},
   "outputs": [],
   "source": [
    "# use bootstrap to find uncertainty\n",
    "# will generate 1000 hyperplanes \n",
    "\n",
    "\n",
    "\n",
    "\n",
    "\n",
    "\n",
    "\n",
    "\n"
   ]
  },
  {
   "cell_type": "markdown",
   "metadata": {},
   "source": [
    "### Congratulations! With this homework, you essentially reproduced results presented in a journal paper. If you enjoyed the homework and would like to do some additional related analysis, I recommend you have a look at the following papers. Reproducing (and extending) the following papers would be a nice term project.\n",
    "\n",
    "https://ui.adsabs.harvard.edu/abs/2021AJ....161..265D/abstract\n",
    "\n",
    "https://ui.adsabs.harvard.edu/abs/2023MNRAS.519.4056H/abstract"
   ]
  }
 ],
 "metadata": {
  "kernelspec": {
   "display_name": "Python 3 (ipykernel)",
   "language": "python",
   "name": "python3"
  },
  "language_info": {
   "codemirror_mode": {
    "name": "ipython",
    "version": 3
   },
   "file_extension": ".py",
   "mimetype": "text/x-python",
   "name": "python",
   "nbconvert_exporter": "python",
   "pygments_lexer": "ipython3",
   "version": "3.9.7"
  }
 },
 "nbformat": 4,
 "nbformat_minor": 4
}
