{
 "cells": [
  {
   "cell_type": "markdown",
   "metadata": {
    "slideshow": {
     "slide_type": "slide"
    }
   },
   "source": [
    "# AST 7939 Homework Assignment #4 (10 pts)"
   ]
  },
  {
   "cell_type": "markdown",
   "metadata": {},
   "source": [
    "## All work is due Wednesday March 22 at 5 pm.\n",
    "\n",
    "## Instruction: \n",
    "Do all homework in this Jupyter notebook and submit your final .ipynb file via Canvas. Show ALL your work and try to add comment lines as needed to describe what your code does. \n",
    "\n",
    "You are encouraged to discuss homework problems with your classmates. However, your python script and answers to the questions must be written by yourself."
   ]
  },
  {
   "cell_type": "markdown",
   "metadata": {},
   "source": [
    "### 1. Clustering (4 pts)"
   ]
  },
  {
   "cell_type": "markdown",
   "metadata": {},
   "source": [
    "In this homework problem, we will use DBSCAN to cluster stars in the Orion complex, inspired by [Chen et al. (2020)]( https://ui.adsabs.harvard.edu/abs/2020A%26A...643A.114C/abstract). In that paper, the authors used Shared Nearest Neighbor (SNN), a modified version of DBSCAN, which we did not cover during this course. We will use DBSCAN instead. We will use the same Gaia data set which the authors made publicly available on this Github repository: https://github.com/BoquanErwinChen/GaiaDR2_Orion_Dissection. You can find the data file in the HiPerGator class share folder as well as on Canvas."
   ]
  },
  {
   "cell_type": "markdown",
   "metadata": {},
   "source": [
    "### Let's read in the Gaia data."
   ]
  },
  {
   "cell_type": "code",
   "execution_count": 1,
   "metadata": {},
   "outputs": [],
   "source": [
    "import pandas as pd\n",
    "\n",
    "filename = \"/mnt/c/Users/panda/Documents/hwData/Orion_data_20190924.csv\"\n",
    "df = pd.read_csv(filename)\n",
    "df.dropna(subset=['ra', 'dec', 'parallax', 'pmra', 'pmdec'])\n",
    "df = df.reset_index(drop=True)"
   ]
  },
  {
   "cell_type": "code",
   "execution_count": 2,
   "metadata": {},
   "outputs": [
    {
     "data": {
      "text/html": [
       "<div>\n",
       "<style scoped>\n",
       "    .dataframe tbody tr th:only-of-type {\n",
       "        vertical-align: middle;\n",
       "    }\n",
       "\n",
       "    .dataframe tbody tr th {\n",
       "        vertical-align: top;\n",
       "    }\n",
       "\n",
       "    .dataframe thead th {\n",
       "        text-align: right;\n",
       "    }\n",
       "</style>\n",
       "<table border=\"1\" class=\"dataframe\">\n",
       "  <thead>\n",
       "    <tr style=\"text-align: right;\">\n",
       "      <th></th>\n",
       "      <th>ra</th>\n",
       "      <th>ra_error</th>\n",
       "      <th>dec</th>\n",
       "      <th>dec_error</th>\n",
       "      <th>source_id</th>\n",
       "      <th>parallax</th>\n",
       "      <th>parallax_error</th>\n",
       "      <th>pmra</th>\n",
       "      <th>pmra_error</th>\n",
       "      <th>pmdec</th>\n",
       "      <th>...</th>\n",
       "      <th>phot_rp_mean_mag</th>\n",
       "      <th>bp_rp</th>\n",
       "      <th>radial_velocity</th>\n",
       "      <th>radial_velocity_error</th>\n",
       "      <th>teff_val</th>\n",
       "      <th>a_g_val</th>\n",
       "      <th>e_bp_min_rp_val</th>\n",
       "      <th>radius_val</th>\n",
       "      <th>lum_val</th>\n",
       "      <th>ruwe</th>\n",
       "    </tr>\n",
       "  </thead>\n",
       "  <tbody>\n",
       "    <tr>\n",
       "      <th>0</th>\n",
       "      <td>75.254413</td>\n",
       "      <td>0.191960</td>\n",
       "      <td>-3.397018</td>\n",
       "      <td>0.139120</td>\n",
       "      <td>3213149215497176960</td>\n",
       "      <td>2.794918</td>\n",
       "      <td>0.212409</td>\n",
       "      <td>-2.617536</td>\n",
       "      <td>0.408962</td>\n",
       "      <td>1.669195</td>\n",
       "      <td>...</td>\n",
       "      <td>17.211597</td>\n",
       "      <td>2.672356</td>\n",
       "      <td>NaN</td>\n",
       "      <td>NaN</td>\n",
       "      <td>NaN</td>\n",
       "      <td>NaN</td>\n",
       "      <td>NaN</td>\n",
       "      <td>NaN</td>\n",
       "      <td>NaN</td>\n",
       "      <td>0.909273</td>\n",
       "    </tr>\n",
       "    <tr>\n",
       "      <th>1</th>\n",
       "      <td>75.561670</td>\n",
       "      <td>0.234429</td>\n",
       "      <td>-4.866204</td>\n",
       "      <td>0.206860</td>\n",
       "      <td>3212376190103379584</td>\n",
       "      <td>3.165823</td>\n",
       "      <td>0.280067</td>\n",
       "      <td>-2.495638</td>\n",
       "      <td>0.511235</td>\n",
       "      <td>0.305570</td>\n",
       "      <td>...</td>\n",
       "      <td>17.622894</td>\n",
       "      <td>2.886185</td>\n",
       "      <td>NaN</td>\n",
       "      <td>NaN</td>\n",
       "      <td>NaN</td>\n",
       "      <td>NaN</td>\n",
       "      <td>NaN</td>\n",
       "      <td>NaN</td>\n",
       "      <td>NaN</td>\n",
       "      <td>1.033360</td>\n",
       "    </tr>\n",
       "    <tr>\n",
       "      <th>2</th>\n",
       "      <td>75.052364</td>\n",
       "      <td>0.067621</td>\n",
       "      <td>-3.386506</td>\n",
       "      <td>0.052373</td>\n",
       "      <td>3213160421067816320</td>\n",
       "      <td>2.819880</td>\n",
       "      <td>0.073171</td>\n",
       "      <td>3.840388</td>\n",
       "      <td>0.135597</td>\n",
       "      <td>0.344070</td>\n",
       "      <td>...</td>\n",
       "      <td>15.534090</td>\n",
       "      <td>2.050842</td>\n",
       "      <td>NaN</td>\n",
       "      <td>NaN</td>\n",
       "      <td>3860.6667</td>\n",
       "      <td>0.2240</td>\n",
       "      <td>0.1140</td>\n",
       "      <td>NaN</td>\n",
       "      <td>NaN</td>\n",
       "      <td>1.001610</td>\n",
       "    </tr>\n",
       "    <tr>\n",
       "      <th>3</th>\n",
       "      <td>75.021177</td>\n",
       "      <td>0.103251</td>\n",
       "      <td>-4.005701</td>\n",
       "      <td>0.078453</td>\n",
       "      <td>3212679487809861248</td>\n",
       "      <td>2.669342</td>\n",
       "      <td>0.123817</td>\n",
       "      <td>0.160382</td>\n",
       "      <td>0.229156</td>\n",
       "      <td>-0.794245</td>\n",
       "      <td>...</td>\n",
       "      <td>15.949252</td>\n",
       "      <td>3.309411</td>\n",
       "      <td>NaN</td>\n",
       "      <td>NaN</td>\n",
       "      <td>NaN</td>\n",
       "      <td>NaN</td>\n",
       "      <td>NaN</td>\n",
       "      <td>NaN</td>\n",
       "      <td>NaN</td>\n",
       "      <td>0.957134</td>\n",
       "    </tr>\n",
       "    <tr>\n",
       "      <th>4</th>\n",
       "      <td>75.179643</td>\n",
       "      <td>0.030784</td>\n",
       "      <td>-6.085392</td>\n",
       "      <td>0.026767</td>\n",
       "      <td>3211380620978873344</td>\n",
       "      <td>3.635541</td>\n",
       "      <td>0.038434</td>\n",
       "      <td>-1.479837</td>\n",
       "      <td>0.063476</td>\n",
       "      <td>-1.582998</td>\n",
       "      <td>...</td>\n",
       "      <td>9.450638</td>\n",
       "      <td>0.358518</td>\n",
       "      <td>NaN</td>\n",
       "      <td>NaN</td>\n",
       "      <td>8049.0000</td>\n",
       "      <td>0.5495</td>\n",
       "      <td>0.3030</td>\n",
       "      <td>NaN</td>\n",
       "      <td>NaN</td>\n",
       "      <td>1.243121</td>\n",
       "    </tr>\n",
       "    <tr>\n",
       "      <th>...</th>\n",
       "      <td>...</td>\n",
       "      <td>...</td>\n",
       "      <td>...</td>\n",
       "      <td>...</td>\n",
       "      <td>...</td>\n",
       "      <td>...</td>\n",
       "      <td>...</td>\n",
       "      <td>...</td>\n",
       "      <td>...</td>\n",
       "      <td>...</td>\n",
       "      <td>...</td>\n",
       "      <td>...</td>\n",
       "      <td>...</td>\n",
       "      <td>...</td>\n",
       "      <td>...</td>\n",
       "      <td>...</td>\n",
       "      <td>...</td>\n",
       "      <td>...</td>\n",
       "      <td>...</td>\n",
       "      <td>...</td>\n",
       "      <td>...</td>\n",
       "    </tr>\n",
       "    <tr>\n",
       "      <th>29025</th>\n",
       "      <td>89.445830</td>\n",
       "      <td>0.194402</td>\n",
       "      <td>6.615502</td>\n",
       "      <td>0.185320</td>\n",
       "      <td>3321921839250935424</td>\n",
       "      <td>2.963123</td>\n",
       "      <td>0.234839</td>\n",
       "      <td>3.694528</td>\n",
       "      <td>0.367675</td>\n",
       "      <td>-2.861006</td>\n",
       "      <td>...</td>\n",
       "      <td>16.974401</td>\n",
       "      <td>2.873224</td>\n",
       "      <td>NaN</td>\n",
       "      <td>NaN</td>\n",
       "      <td>NaN</td>\n",
       "      <td>NaN</td>\n",
       "      <td>NaN</td>\n",
       "      <td>NaN</td>\n",
       "      <td>NaN</td>\n",
       "      <td>1.022000</td>\n",
       "    </tr>\n",
       "    <tr>\n",
       "      <th>29026</th>\n",
       "      <td>89.129035</td>\n",
       "      <td>0.025935</td>\n",
       "      <td>6.574493</td>\n",
       "      <td>0.026383</td>\n",
       "      <td>3322578251987928576</td>\n",
       "      <td>2.348265</td>\n",
       "      <td>0.031663</td>\n",
       "      <td>-2.595891</td>\n",
       "      <td>0.048980</td>\n",
       "      <td>-1.927499</td>\n",
       "      <td>...</td>\n",
       "      <td>13.123673</td>\n",
       "      <td>1.322178</td>\n",
       "      <td>NaN</td>\n",
       "      <td>NaN</td>\n",
       "      <td>4863.4053</td>\n",
       "      <td>0.8170</td>\n",
       "      <td>0.4082</td>\n",
       "      <td>0.937234</td>\n",
       "      <td>0.442744</td>\n",
       "      <td>1.047600</td>\n",
       "    </tr>\n",
       "    <tr>\n",
       "      <th>29027</th>\n",
       "      <td>89.368736</td>\n",
       "      <td>0.152991</td>\n",
       "      <td>6.784836</td>\n",
       "      <td>0.146842</td>\n",
       "      <td>3322675691910202368</td>\n",
       "      <td>4.136481</td>\n",
       "      <td>0.186160</td>\n",
       "      <td>-3.831424</td>\n",
       "      <td>0.303003</td>\n",
       "      <td>-2.835496</td>\n",
       "      <td>...</td>\n",
       "      <td>16.644974</td>\n",
       "      <td>2.890482</td>\n",
       "      <td>NaN</td>\n",
       "      <td>NaN</td>\n",
       "      <td>NaN</td>\n",
       "      <td>NaN</td>\n",
       "      <td>NaN</td>\n",
       "      <td>NaN</td>\n",
       "      <td>NaN</td>\n",
       "      <td>0.997614</td>\n",
       "    </tr>\n",
       "    <tr>\n",
       "      <th>29028</th>\n",
       "      <td>89.196556</td>\n",
       "      <td>0.030407</td>\n",
       "      <td>6.698468</td>\n",
       "      <td>0.028375</td>\n",
       "      <td>3322676074163325952</td>\n",
       "      <td>2.695094</td>\n",
       "      <td>0.032618</td>\n",
       "      <td>-3.342518</td>\n",
       "      <td>0.061107</td>\n",
       "      <td>-3.943541</td>\n",
       "      <td>...</td>\n",
       "      <td>14.011317</td>\n",
       "      <td>1.566079</td>\n",
       "      <td>NaN</td>\n",
       "      <td>NaN</td>\n",
       "      <td>4465.4100</td>\n",
       "      <td>0.6405</td>\n",
       "      <td>0.3232</td>\n",
       "      <td>0.659014</td>\n",
       "      <td>0.155571</td>\n",
       "      <td>1.015678</td>\n",
       "    </tr>\n",
       "    <tr>\n",
       "      <th>29029</th>\n",
       "      <td>89.153266</td>\n",
       "      <td>0.040550</td>\n",
       "      <td>6.611657</td>\n",
       "      <td>0.040266</td>\n",
       "      <td>3322581378724108544</td>\n",
       "      <td>2.866548</td>\n",
       "      <td>0.044301</td>\n",
       "      <td>-1.537140</td>\n",
       "      <td>0.079031</td>\n",
       "      <td>-1.950341</td>\n",
       "      <td>...</td>\n",
       "      <td>14.380098</td>\n",
       "      <td>1.723124</td>\n",
       "      <td>NaN</td>\n",
       "      <td>NaN</td>\n",
       "      <td>4103.0000</td>\n",
       "      <td>0.2713</td>\n",
       "      <td>0.1433</td>\n",
       "      <td>0.654139</td>\n",
       "      <td>0.109255</td>\n",
       "      <td>1.088629</td>\n",
       "    </tr>\n",
       "  </tbody>\n",
       "</table>\n",
       "<p>29030 rows × 40 columns</p>\n",
       "</div>"
      ],
      "text/plain": [
       "              ra  ra_error       dec  dec_error            source_id  \\\n",
       "0      75.254413  0.191960 -3.397018   0.139120  3213149215497176960   \n",
       "1      75.561670  0.234429 -4.866204   0.206860  3212376190103379584   \n",
       "2      75.052364  0.067621 -3.386506   0.052373  3213160421067816320   \n",
       "3      75.021177  0.103251 -4.005701   0.078453  3212679487809861248   \n",
       "4      75.179643  0.030784 -6.085392   0.026767  3211380620978873344   \n",
       "...          ...       ...       ...        ...                  ...   \n",
       "29025  89.445830  0.194402  6.615502   0.185320  3321921839250935424   \n",
       "29026  89.129035  0.025935  6.574493   0.026383  3322578251987928576   \n",
       "29027  89.368736  0.152991  6.784836   0.146842  3322675691910202368   \n",
       "29028  89.196556  0.030407  6.698468   0.028375  3322676074163325952   \n",
       "29029  89.153266  0.040550  6.611657   0.040266  3322581378724108544   \n",
       "\n",
       "       parallax  parallax_error      pmra  pmra_error     pmdec  ...  \\\n",
       "0      2.794918        0.212409 -2.617536    0.408962  1.669195  ...   \n",
       "1      3.165823        0.280067 -2.495638    0.511235  0.305570  ...   \n",
       "2      2.819880        0.073171  3.840388    0.135597  0.344070  ...   \n",
       "3      2.669342        0.123817  0.160382    0.229156 -0.794245  ...   \n",
       "4      3.635541        0.038434 -1.479837    0.063476 -1.582998  ...   \n",
       "...         ...             ...       ...         ...       ...  ...   \n",
       "29025  2.963123        0.234839  3.694528    0.367675 -2.861006  ...   \n",
       "29026  2.348265        0.031663 -2.595891    0.048980 -1.927499  ...   \n",
       "29027  4.136481        0.186160 -3.831424    0.303003 -2.835496  ...   \n",
       "29028  2.695094        0.032618 -3.342518    0.061107 -3.943541  ...   \n",
       "29029  2.866548        0.044301 -1.537140    0.079031 -1.950341  ...   \n",
       "\n",
       "       phot_rp_mean_mag     bp_rp  radial_velocity  radial_velocity_error  \\\n",
       "0             17.211597  2.672356              NaN                    NaN   \n",
       "1             17.622894  2.886185              NaN                    NaN   \n",
       "2             15.534090  2.050842              NaN                    NaN   \n",
       "3             15.949252  3.309411              NaN                    NaN   \n",
       "4              9.450638  0.358518              NaN                    NaN   \n",
       "...                 ...       ...              ...                    ...   \n",
       "29025         16.974401  2.873224              NaN                    NaN   \n",
       "29026         13.123673  1.322178              NaN                    NaN   \n",
       "29027         16.644974  2.890482              NaN                    NaN   \n",
       "29028         14.011317  1.566079              NaN                    NaN   \n",
       "29029         14.380098  1.723124              NaN                    NaN   \n",
       "\n",
       "        teff_val  a_g_val  e_bp_min_rp_val  radius_val   lum_val      ruwe  \n",
       "0            NaN      NaN              NaN         NaN       NaN  0.909273  \n",
       "1            NaN      NaN              NaN         NaN       NaN  1.033360  \n",
       "2      3860.6667   0.2240           0.1140         NaN       NaN  1.001610  \n",
       "3            NaN      NaN              NaN         NaN       NaN  0.957134  \n",
       "4      8049.0000   0.5495           0.3030         NaN       NaN  1.243121  \n",
       "...          ...      ...              ...         ...       ...       ...  \n",
       "29025        NaN      NaN              NaN         NaN       NaN  1.022000  \n",
       "29026  4863.4053   0.8170           0.4082    0.937234  0.442744  1.047600  \n",
       "29027        NaN      NaN              NaN         NaN       NaN  0.997614  \n",
       "29028  4465.4100   0.6405           0.3232    0.659014  0.155571  1.015678  \n",
       "29029  4103.0000   0.2713           0.1433    0.654139  0.109255  1.088629  \n",
       "\n",
       "[29030 rows x 40 columns]"
      ]
     },
     "execution_count": 2,
     "metadata": {},
     "output_type": "execute_result"
    }
   ],
   "source": [
    "df"
   ]
  },
  {
   "cell_type": "code",
   "execution_count": 3,
   "metadata": {},
   "outputs": [
    {
     "data": {
      "text/plain": [
       "Index(['ra', 'ra_error', 'dec', 'dec_error', 'source_id', 'parallax',\n",
       "       'parallax_error', 'pmra', 'pmra_error', 'pmdec', 'pmdec_error',\n",
       "       'dec_parallax_corr', 'dec_pmdec_corr', 'dec_pmra_corr',\n",
       "       'parallax_pmdec_corr', 'parallax_pmra_corr', 'pmra_pmdec_corr',\n",
       "       'ra_dec_corr', 'ra_parallax_corr', 'ra_pmra_corr', 'ra_pmdec_corr',\n",
       "       'duplicated_source', 'phot_g_mean_flux', 'phot_g_mean_flux_error',\n",
       "       'phot_g_mean_mag', 'phot_bp_mean_flux', 'phot_bp_mean_flux_error',\n",
       "       'phot_bp_mean_mag', 'phot_rp_mean_flux', 'phot_rp_mean_flux_error',\n",
       "       'phot_rp_mean_mag', 'bp_rp', 'radial_velocity', 'radial_velocity_error',\n",
       "       'teff_val', 'a_g_val', 'e_bp_min_rp_val', 'radius_val', 'lum_val',\n",
       "       'ruwe'],\n",
       "      dtype='object')"
      ]
     },
     "execution_count": 3,
     "metadata": {},
     "output_type": "execute_result"
    }
   ],
   "source": [
    "df.keys()"
   ]
  },
  {
   "cell_type": "markdown",
   "metadata": {},
   "source": [
    "### Spatial distribution of the stars on the sky"
   ]
  },
  {
   "cell_type": "code",
   "execution_count": 4,
   "metadata": {},
   "outputs": [
    {
     "data": {
      "text/plain": [
       "Text(0, 0.5, 'Dec (deg)')"
      ]
     },
     "execution_count": 4,
     "metadata": {},
     "output_type": "execute_result"
    },
    {
     "data": {
      "image/png": "[encoded data removed]",
      "text/plain": [
       "<Figure size 360x360 with 1 Axes>"
      ]
     },
     "metadata": {
      "needs_background": "light"
     },
     "output_type": "display_data"
    }
   ],
   "source": [
    "import matplotlib.pyplot as plt\n",
    "\n",
    "fig, ax = plt.subplots(figsize=(5,5))\n",
    "\n",
    "ax.plot(df.ra, df.dec, '.', alpha=0.01)\n",
    "ax.set_xlim(90,75)\n",
    "ax.set_aspect('equal')\n",
    "ax.set_xlabel('RA (deg)')\n",
    "ax.set_ylabel('Dec (deg)')\n"
   ]
  },
  {
   "cell_type": "markdown",
   "metadata": {},
   "source": [
    "For DBSCAN, there are two hyperparameters to optimize: epsilon & min_samples. We should explore a grid of models to optimize the hyperparameters, but for the sake of computing time let's fix min_samples = 10 and try to find a \"good\" epsilon value. To do so, let's adopt what has been done in [Castro-Ginard et al. (2018)]( https://ui.adsabs.harvard.edu/abs/2018A%26A...618A..59C/abstract). See their Section 2.2 and Figure 3. To briefly summarize, we generate a random sample having the same number of stars to our dataset (i.e., 29,030), where the features are drawn \"randomly\". The idea is that, if the stars are all \"field stars\", not cluster stars, then the distribution of each astrometric parameter would follow normal distribution and would be different from that of cluster stars."
   ]
  },
  {
   "cell_type": "markdown",
   "metadata": {},
   "source": [
    "(a) Among various parameters in the data file, we will use RA, Dec, parallax, RA proper motions RA (pmra), Dec proper motions (pmdec). Make an array containing this information. \n",
    "\n",
    "Then, generate a new random sample of the same number of stars to the original data, according to the distribution of each astrometric parameter estimated using a Gaussian kernel density estimator. In other words, compute the mean and standard deviation of each of the astrometric parameter of the original data, and generate a random sample which follows a normal (Gaussian) distribution having the computed mean and standard deviation. You can use ```numpy.random.normal``` for this. \n",
    "\n",
    "DBSCAN requires feature scaling, so apply feature scaling for the two samples (individually). (1 pt) "
   ]
  },
  {
   "cell_type": "code",
   "execution_count": null,
   "metadata": {},
   "outputs": [],
   "source": [
    "# using DBCAN, clustering algorithm\n",
    "# hyperparameters to optimize\n",
    "# only need to find what epsilon to use\n",
    "# see what paper did, using GAIA to find open clusters\n",
    "# Fig. 3 histogram\n",
    "\n",
    "# if you compute mean and std of the Orion data and an evenly spread field of stars following gaussian distrobution \n",
    "# for clusters, distance to nearest neighbor will be very small \n",
    "# make a plot like histogram\n",
    "# based on histogram, choose a histogram\n",
    "# make DBSCAN model, identify clusters? \n",
    "\n",
    "\n",
    "\n"
   ]
  },
  {
   "cell_type": "markdown",
   "metadata": {},
   "source": [
    "(b) For the two samples, compute the distance to the 10th nearest neighbor for each data point (hint: use ```sklearn.neighbors.NearestNeighbors```). Then, make histograms showing the distance to the 10th nearest neighbor. Your plot should look similar to Figure 3 of [Castro-Ginard et al. (2018)]( https://ui.adsabs.harvard.edu/abs/2018A%26A...618A..59C/abstract). If you want to do a statistically more rigorous job, you can draw many random samples (say 100) and take an average of the bootstrapped samples. (1 pt)\n"
   ]
  },
  {
   "cell_type": "code",
   "execution_count": null,
   "metadata": {},
   "outputs": [],
   "source": [
    "\n",
    "\n",
    "\n",
    "\n",
    "\n",
    "\n",
    "\n",
    "\n",
    "\n",
    "\n",
    "\n",
    "\n",
    "\n",
    "\n",
    "\n"
   ]
  },
  {
   "cell_type": "markdown",
   "metadata": {},
   "source": [
    "(c) Based on the histograms you made in (b), what do you think a reasonable epsilon value? Justify your choice. (1 pt)"
   ]
  },
  {
   "cell_type": "code",
   "execution_count": null,
   "metadata": {},
   "outputs": [],
   "source": [
    "\n",
    "\n",
    "\n",
    "\n",
    "\n",
    "\n",
    "\n",
    "\n",
    "\n",
    "\n"
   ]
  },
  {
   "cell_type": "markdown",
   "metadata": {},
   "source": [
    "(d) Using the epsilon you choosed from (c) and min_samples=10, make a DBSCAN model. How many clusters did you find?, and how many menbers do each clusters have? Make a figure showing the distribution of identified clusters. Your figure should look similar to Figure 2 of [Chen et al. (2020)](https://ui.adsabs.harvard.edu/abs/2020A%26A...643A.114C/abstract). (1 pt)"
   ]
  },
  {
   "cell_type": "code",
   "execution_count": null,
   "metadata": {
    "scrolled": true
   },
   "outputs": [],
   "source": [
    "\n",
    "\n",
    "\n",
    "\n",
    "\n",
    "\n",
    "\n",
    "\n",
    "\n",
    "\n",
    "\n",
    "\n",
    "\n",
    "\n",
    "\n"
   ]
  },
  {
   "cell_type": "markdown",
   "metadata": {},
   "source": [
    "### The clusters you identified are \"statistical overdensities\" which may or may not be real open clusters. In order to confirm that these overdensities are indeed open clusters, one will have to look at photometric and/or spectroscopic properties of the stars. We are not going to do this in this homework, but see the following papers if you are interested in.\n",
    "\n",
    "https://ui.adsabs.harvard.edu/abs/2019A%26A...627A..35C/abstract\n",
    "\n",
    "https://ui.adsabs.harvard.edu/abs/2020A%26A...640A...1C/abstract\n",
    "\n",
    "https://ui.adsabs.harvard.edu/abs/2022A%26A...661A.118C/abstract\n",
    "\n",
    "\n",
    "\n"
   ]
  },
  {
   "cell_type": "markdown",
   "metadata": {},
   "source": [
    "### 2. PCA and Neural Networks (6 pts)"
   ]
  },
  {
   "cell_type": "markdown",
   "metadata": {},
   "source": [
    "In this homework problem, we will build a neural network that classifies galaxies based on their SDSS spectra (absorption galaxy, normal galaxy, emission galaxy). Let's first read in SDSS spectra. You can find the data file in the HiPerGator class share folder as well as on Canvas."
   ]
  },
  {
   "cell_type": "code",
   "execution_count": 6,
   "metadata": {},
   "outputs": [
    {
     "data": {
      "text/plain": [
       "['wavelengths', 'X', 'y', 'labels', 'z']"
      ]
     },
     "execution_count": 6,
     "metadata": {},
     "output_type": "execute_result"
    }
   ],
   "source": [
    "import numpy as np\n",
    "\n",
    "data = np.load('/mnt/c/Users/panda/Documents/hwData/sdss_spectra.npz')\n",
    "data.files"
   ]
  },
  {
   "cell_type": "markdown",
   "metadata": {},
   "source": [
    "The data contains the wavelengths (wavelengths), 3794 spectra (X), classification in integer (y), classification in string (labels), and redshift (z). Let's inspect the data."
   ]
  },
  {
   "cell_type": "code",
   "execution_count": 7,
   "metadata": {},
   "outputs": [
    {
     "data": {
      "text/plain": [
       "array([3162.2776, 3165.1917, 3168.1082, 3171.0273, 3173.9495, 3176.874 ,\n",
       "       3179.8015, 3182.7314, 3185.6643, 3188.5996, 3191.5378, 3194.4788,\n",
       "       3197.4224, 3200.3687, 3203.3176, 3206.2693, 3209.2239, 3212.181 ,\n",
       "       3215.1409, 3218.1035, 3221.0688, 3224.0369, 3227.0076, 3229.9812,\n",
       "       3232.9575, 3235.9365, 3238.9185, 3241.9028, 3244.8901, 3247.8801,\n",
       "       3250.873 , 3253.8684, 3256.867 , 3259.868 , 3262.8718, 3265.8784,\n",
       "       3268.8877, 3271.9   , 3274.9148, 3277.9324, 3280.953 , 3283.976 ,\n",
       "       3287.0022, 3290.031 , 3293.0627, 3296.0972, 3299.1343, 3302.1743,\n",
       "       3305.2173, 3308.2627, 3311.3113, 3314.3625, 3317.4165, 3320.4734,\n",
       "       3323.533 , 3326.5955, 3329.661 , 3332.729 , 3335.8   , 3338.8738,\n",
       "       3341.9504, 3345.0298, 3348.112 , 3351.1973, 3354.2854, 3357.3762,\n",
       "       3360.4697, 3363.5664, 3366.6658, 3369.768 , 3372.873 , 3375.981 ,\n",
       "       3379.0918, 3382.2056, 3385.322 , 3388.4417, 3391.564 , 3394.689 ,\n",
       "       3397.8171, 3400.948 , 3404.0818, 3407.2185, 3410.3582, 3413.5007,\n",
       "       3416.6462, 3419.7944, 3422.9456, 3426.0996, 3429.2568, 3432.4167,\n",
       "       3435.5796, 3438.745 , 3441.9138, 3445.0854, 3448.26  , 3451.4375,\n",
       "       3454.6177, 3457.801 , 3460.9873, 3464.1765, 3467.3684, 3470.5635,\n",
       "       3473.7615, 3476.9624, 3480.1663, 3483.373 , 3486.583 , 3489.7957,\n",
       "       3493.0115, 3496.23  , 3499.4517, 3502.6763, 3505.9038, 3509.1343,\n",
       "       3512.368 , 3515.6045, 3518.844 , 3522.0864, 3525.3318, 3528.5803,\n",
       "       3531.8318, 3535.0862, 3538.3435, 3541.604 , 3544.8674, 3548.1338,\n",
       "       3551.4033, 3554.6758, 3557.9514, 3561.2297, 3564.5112, 3567.796 ,\n",
       "       3571.0835, 3574.374 , 3577.6677, 3580.9644, 3584.2642, 3587.567 ,\n",
       "       3590.8726, 3594.1814, 3597.4934, 3600.8083, 3604.1262, 3607.4473,\n",
       "       3610.7715, 3614.0986, 3617.429 , 3620.7622, 3624.0986, 3627.438 ,\n",
       "       3630.7805, 3634.1262, 3637.4749, 3640.8267, 3644.1814, 3647.5396,\n",
       "       3650.9006, 3654.2646, 3657.6318, 3661.0022, 3664.3757, 3667.7522,\n",
       "       3671.132 , 3674.515 , 3677.9006, 3681.2898, 3684.682 , 3688.0771,\n",
       "       3691.4756, 3694.8772, 3698.2817, 3701.6897, 3705.1006, 3708.5146,\n",
       "       3711.932 , 3715.3523, 3718.776 , 3722.2026, 3725.6323, 3729.0654,\n",
       "       3732.5015, 3735.941 , 3739.3835, 3742.829 , 3746.278 , 3749.73  ,\n",
       "       3753.1853, 3756.6436, 3760.1052, 3763.57  , 3767.038 , 3770.5093,\n",
       "       3773.9836, 3777.4612, 3780.942 , 3784.4258, 3787.913 , 3791.4033,\n",
       "       3794.897 , 3798.3938, 3801.894 , 3805.3972, 3808.9038, 3812.4136,\n",
       "       3815.9265, 3819.4426, 3822.9622, 3826.4849, 3830.0107, 3833.54  ,\n",
       "       3837.0725, 3840.6082, 3844.1472, 3847.6895, 3851.2349, 3854.7837,\n",
       "       3858.3357, 3861.8909, 3865.4495, 3869.0112, 3872.5764, 3876.1448,\n",
       "       3879.7166, 3883.2915, 3886.8699, 3890.4514, 3894.0364, 3897.6245,\n",
       "       3901.216 , 3904.8108, 3908.409 , 3912.0105, 3915.6152, 3919.2231,\n",
       "       3922.8347, 3926.4495, 3930.0674, 3933.6887, 3937.3135, 3940.9417,\n",
       "       3944.573 , 3948.2078, 3951.846 , 3955.4873, 3959.132 , 3962.7803,\n",
       "       3966.432 , 3970.0867, 3973.745 , 3977.4067, 3981.0718, 3984.74  ,\n",
       "       3988.4119, 3992.087 , 3995.7656, 3999.4475, 4003.1328, 4006.8215,\n",
       "       4010.5137, 4014.2092, 4017.9082, 4021.6104, 4025.3162, 4029.0254,\n",
       "       4032.738 , 4036.4539, 4040.1733, 4043.8962, 4047.6226, 4051.3523,\n",
       "       4055.0854, 4058.822 , 4062.562 , 4066.3054, 4070.0525, 4073.8027,\n",
       "       4077.5566, 4081.314 , 4085.0747, 4088.8389, 4092.6067, 4096.378 ,\n",
       "       4100.1523, 4103.9307, 4107.712 , 4111.497 , 4115.2856, 4119.0776,\n",
       "       4122.8735, 4126.6724, 4130.475 , 4134.2812, 4138.091 , 4141.904 ,\n",
       "       4145.72  , 4149.5405, 4153.3643, 4157.1914, 4161.022 , 4164.856 ,\n",
       "       4168.694 , 4172.535 , 4176.38  , 4180.2285, 4184.08  , 4187.9355,\n",
       "       4191.7944, 4195.657 , 4199.5234, 4203.393 , 4207.266 , 4211.143 ,\n",
       "       4215.0234, 4218.907 , 4222.795 , 4226.686 , 4230.581 , 4234.479 ,\n",
       "       4238.381 , 4242.2866, 4246.196 , 4250.1084, 4254.0244, 4257.9443,\n",
       "       4261.868 , 4265.7954, 4269.726 , 4273.66  , 4277.598 , 4281.54  ,\n",
       "       4285.4854, 4289.434 , 4293.3867, 4297.343 , 4301.3027, 4305.266 ,\n",
       "       4309.2334, 4313.204 , 4317.178 , 4321.1567, 4325.138 , 4329.1235,\n",
       "       4333.113 , 4337.1055, 4341.102 , 4345.102 , 4349.106 , 4353.114 ,\n",
       "       4357.125 , 4361.1396, 4365.158 , 4369.1807, 4373.2065, 4377.2363,\n",
       "       4381.27  , 4385.307 , 4389.3477, 4393.3926, 4397.441 , 4401.4927,\n",
       "       4405.549 , 4409.6084, 4413.6714, 4417.7383, 4421.809 , 4425.884 ,\n",
       "       4429.962 , 4434.044 , 4438.13  , 4442.219 , 4446.3125, 4450.4097,\n",
       "       4454.5107, 4458.615 , 4462.7236, 4466.836 , 4470.952 , 4475.072 ,\n",
       "       4479.1953, 4483.3228, 4487.454 , 4491.589 , 4495.7275, 4499.87  ,\n",
       "       4504.0166, 4508.167 , 4512.3213, 4516.479 , 4520.6406, 4524.806 ,\n",
       "       4528.9756, 4533.149 , 4537.326 , 4541.5073, 4545.692 , 4549.8804,\n",
       "       4554.073 , 4558.2695, 4562.4697, 4566.674 , 4570.882 , 4575.0938,\n",
       "       4579.3096, 4583.5293, 4587.753 , 4591.98  , 4596.2114, 4600.447 ,\n",
       "       4604.6855, 4608.9287, 4613.176 , 4617.427 , 4621.681 , 4625.94  ,\n",
       "       4630.2026, 4634.469 , 4638.7397, 4643.014 , 4647.2925, 4651.5747,\n",
       "       4655.861 , 4660.151 , 4664.4453, 4668.743 , 4673.0454, 4677.3516,\n",
       "       4681.6616, 4685.9756, 4690.2935, 4694.615 , 4698.941 , 4703.271 ,\n",
       "       4707.605 , 4711.943 , 4716.2847, 4720.6304, 4724.9805, 4729.334 ,\n",
       "       4733.692 , 4738.0537, 4742.42  , 4746.7896, 4751.1636, 4755.542 ,\n",
       "       4759.924 , 4764.31  , 4768.7   , 4773.094 , 4777.492 , 4781.8945,\n",
       "       4786.301 , 4790.7114, 4795.126 , 4799.5444, 4803.967 , 4808.3936,\n",
       "       4812.824 , 4817.2593, 4821.6978, 4826.141 , 4830.588 , 4835.039 ,\n",
       "       4839.4946, 4843.954 , 4848.4175, 4852.885 , 4857.357 , 4861.8325,\n",
       "       4866.3125, 4870.797 , 4875.2847, 4879.7773, 4884.274 , 4888.7744,\n",
       "       4893.2793, 4897.788 , 4902.3013, 4906.8184, 4911.34  , 4915.8657,\n",
       "       4920.3955, 4924.929 , 4929.4673, 4934.01  , 4938.556 , 4943.107 ,\n",
       "       4947.6616, 4952.2207, 4956.784 , 4961.3516, 4965.9233, 4970.499 ,\n",
       "       4975.079 , 4979.6636, 4984.252 , 4988.8447, 4993.442 , 4998.043 ,\n",
       "       5002.6484, 5007.2583, 5011.8726, 5016.4907, 5021.1133, 5025.7397,\n",
       "       5030.3706, 5035.006 , 5039.6455, 5044.2896, 5048.9375, 5053.59  ,\n",
       "       5058.2466, 5062.9077, 5067.5728, 5072.242 , 5076.916 , 5081.594 ,\n",
       "       5086.277 , 5090.964 , 5095.655 , 5100.35  , 5105.05  , 5109.754 ,\n",
       "       5114.4624, 5119.1753, 5123.8926, 5128.614 , 5133.34  , 5138.07  ,\n",
       "       5142.804 , 5147.543 , 5152.2866, 5157.034 , 5161.786 , 5166.5425,\n",
       "       5171.303 , 5176.0684, 5180.838 , 5185.612 , 5190.39  , 5195.173 ,\n",
       "       5199.96  , 5204.7515, 5209.5474, 5214.3477, 5219.153 , 5223.962 ,\n",
       "       5228.7754, 5233.5938, 5238.416 , 5243.243 , 5248.0747, 5252.9106,\n",
       "       5257.751 , 5262.5957, 5267.445 , 5272.299 , 5277.1567, 5282.0195,\n",
       "       5286.8867, 5291.7583, 5296.6343, 5301.515 , 5306.4004, 5311.29  ,\n",
       "       5316.184 , 5321.0825, 5325.986 , 5330.8936, 5335.8057, 5340.722 ,\n",
       "       5345.6436, 5350.5693, 5355.4995, 5360.4346, 5365.374 , 5370.318 ,\n",
       "       5375.2666, 5380.2197, 5385.1772, 5390.1396, 5395.1064, 5400.0776,\n",
       "       5405.0537, 5410.034 , 5415.019 , 5420.009 , 5425.0034, 5430.002 ,\n",
       "       5435.006 , 5440.0137, 5445.0264, 5450.044 , 5455.066 , 5460.0923,\n",
       "       5465.1235, 5470.1597, 5475.2   , 5480.245 , 5485.295 , 5490.3496,\n",
       "       5495.4087, 5500.4727, 5505.541 , 5510.6143, 5515.692 , 5520.7744,\n",
       "       5525.8613, 5530.9536, 5536.05  , 5541.1514, 5546.2573, 5551.3677,\n",
       "       5556.483 , 5561.603 , 5566.728 , 5571.8574, 5576.9917, 5582.131 ,\n",
       "       5587.2744, 5592.423 , 5597.576 , 5602.734 , 5607.8965, 5613.064 ,\n",
       "       5618.2363, 5623.413 , 5628.595 , 5633.7817, 5638.9727, 5644.169 ,\n",
       "       5649.3696, 5654.575 , 5659.7856, 5665.001 , 5670.221 , 5675.4463,\n",
       "       5680.676 , 5685.91  , 5691.1494, 5696.3936, 5701.6426, 5706.8965,\n",
       "       5712.1553, 5717.419 , 5722.687 , 5727.9604, 5733.2383, 5738.5215,\n",
       "       5743.809 , 5749.102 , 5754.3994, 5759.7017, 5765.0093, 5770.3213,\n",
       "       5775.6387, 5780.9604, 5786.2876, 5791.619 , 5796.956 , 5802.2974,\n",
       "       5807.644 , 5812.9956, 5818.352 , 5823.7134, 5829.0796, 5834.451 ,\n",
       "       5839.827 , 5845.2085, 5850.5947, 5855.986 , 5861.382 , 5866.7827,\n",
       "       5872.1885, 5877.5996, 5883.0156, 5888.4365, 5893.8623, 5899.2935,\n",
       "       5904.7295, 5910.1704, 5915.616 , 5921.0674, 5926.5234, 5931.9844,\n",
       "       5937.4507, 5942.9214, 5948.398 , 5953.879 , 5959.365 , 5964.8564,\n",
       "       5970.353 , 5975.8545, 5981.361 , 5986.8726, 5992.389 , 5997.9106,\n",
       "       6003.4375, 6008.9697, 6014.5063, 6020.049 , 6025.5957, 6031.1484,\n",
       "       6036.7056, 6042.268 , 6047.836 , 6053.4087, 6058.987 , 6064.57  ,\n",
       "       6070.158 , 6075.7515, 6081.35  , 6086.9536, 6092.5625, 6098.177 ,\n",
       "       6103.796 , 6109.4204, 6115.05  , 6120.6846, 6126.3247, 6131.9697,\n",
       "       6137.62  , 6143.2754, 6148.9365, 6154.6025, 6160.2734, 6165.95  ,\n",
       "       6171.632 , 6177.3184, 6183.0107, 6188.708 , 6194.4106, 6200.1187,\n",
       "       6205.832 , 6211.5503, 6217.274 , 6223.003 , 6228.7373, 6234.4766,\n",
       "       6240.221 , 6245.9717, 6251.727 , 6257.488 , 6263.2534, 6269.025 ,\n",
       "       6274.802 , 6280.5835, 6286.371 , 6292.1636, 6297.9614, 6303.7646,\n",
       "       6309.573 , 6315.3877, 6321.207 , 6327.0317, 6332.862 , 6338.6973,\n",
       "       6344.538 , 6350.3843, 6356.236 , 6362.093 , 6367.955 , 6373.823 ,\n",
       "       6379.6963, 6385.5747, 6391.459 , 6397.348 , 6403.243 , 6409.1436,\n",
       "       6415.0493, 6420.9604, 6426.877 , 6432.7993, 6438.727 , 6444.6597,\n",
       "       6450.598 , 6456.5425, 6462.4917, 6468.447 , 6474.407 , 6480.373 ,\n",
       "       6486.344 , 6492.3213, 6498.3037, 6504.2915, 6510.285 , 6516.284 ,\n",
       "       6522.2886, 6528.2983, 6534.314 , 6540.335 , 6546.362 , 6552.394 ,\n",
       "       6558.4316, 6564.475 , 6570.524 , 6576.5786, 6582.638 , 6588.704 ,\n",
       "       6594.7754, 6600.852 , 6606.9346, 6613.0225, 6619.116 , 6625.2153,\n",
       "       6631.3203, 6637.4307, 6643.547 , 6649.6685, 6655.796 , 6661.929 ,\n",
       "       6668.068 , 6674.212 , 6680.362 , 6686.5176, 6692.679 , 6698.846 ,\n",
       "       6705.019 , 6711.1973, 6717.3813, 6723.5713, 6729.7666, 6735.968 ,\n",
       "       6742.175 , 6748.387 , 6754.6055, 6760.8296, 6767.0596, 6773.295 ,\n",
       "       6779.5366, 6785.7837, 6792.036 , 6798.295 , 6804.559 , 6810.8296,\n",
       "       6817.1055, 6823.3867, 6829.6743, 6835.968 , 6842.2666, 6848.572 ,\n",
       "       6854.8823, 6861.1987, 6867.521 , 6873.849 , 6880.183 , 6886.523 ,\n",
       "       6892.8687, 6899.22  , 6905.5776, 6911.9404, 6918.3096, 6924.6846,\n",
       "       6931.0654, 6937.452 , 6943.8447, 6950.243 , 6956.6475, 6963.0576,\n",
       "       6969.474 , 6975.896 , 6982.324 , 6988.758 , 6995.1978, 7001.6436,\n",
       "       7008.095 , 7014.553 , 7021.0166, 7027.4863, 7033.962 , 7040.4434,\n",
       "       7046.9307, 7053.4243, 7059.9233, 7066.429 , 7072.9404, 7079.458 ,\n",
       "       7085.9814, 7092.5107, 7099.0464, 7105.5874, 7112.1353, 7118.6885,\n",
       "       7125.248 , 7131.814 , 7138.3857, 7144.9634, 7151.547 , 7158.1367,\n",
       "       7164.733 , 7171.335 , 7177.943 , 7184.557 , 7191.1772, 7197.8037,\n",
       "       7204.436 , 7211.0747, 7217.7197, 7224.37  , 7231.0273, 7237.6904,\n",
       "       7244.3594, 7251.035 , 7257.7163, 7264.4043, 7271.098 , 7277.798 ,\n",
       "       7284.5044, 7291.217 , 7297.935 , 7304.6597, 7311.3906, 7318.128 ,\n",
       "       7324.871 , 7331.621 , 7338.3765, 7345.1387, 7351.9067, 7358.6816,\n",
       "       7365.462 , 7372.249 , 7379.0425, 7385.842 , 7392.6475, 7399.4595,\n",
       "       7406.278 , 7413.1025, 7419.933 , 7426.7705, 7433.614 , 7440.464 ,\n",
       "       7447.32  , 7454.182 , 7461.051 , 7467.926 , 7474.807 , 7481.695 ,\n",
       "       7488.589 , 7495.4893, 7502.3965, 7509.3096, 7516.229 , 7523.155 ,\n",
       "       7530.087 , 7537.026 , 7543.9707, 7550.9224, 7557.8804, 7564.844 ,\n",
       "       7571.815 , 7578.792 , 7585.776 , 7592.7656, 7599.762 , 7606.765 ,\n",
       "       7613.7744, 7620.79  , 7627.8125, 7634.841 , 7641.8765, 7648.918 ,\n",
       "       7655.9663, 7663.0205, 7670.082 , 7677.1494, 7684.2236, 7691.304 ,\n",
       "       7698.3916, 7705.4854, 7712.5854, 7719.6924, 7726.8057, 7733.926 ,\n",
       "       7741.0522, 7748.1855, 7755.325 , 7762.471 , 7769.624 , 7776.783 ,\n",
       "       7783.949 , 7791.122 , 7798.3013, 7805.487 , 7812.679 , 7819.8784,\n",
       "       7827.084 , 7834.2964, 7841.5156, 7848.741 , 7855.973 , 7863.2124,\n",
       "       7870.458 , 7877.71  , 7884.969 , 7892.235 , 7899.5073, 7906.786 ,\n",
       "       7914.0723, 7921.3647, 7928.6636, 7935.9697], dtype=float32)"
      ]
     },
     "execution_count": 7,
     "metadata": {},
     "output_type": "execute_result"
    }
   ],
   "source": [
    "data['wavelengths']"
   ]
  },
  {
   "cell_type": "code",
   "execution_count": 8,
   "metadata": {},
   "outputs": [
    {
     "data": {
      "text/plain": [
       "array([[ 4.9201283,  5.1662374,  6.073041 , ...,  7.5093303,  7.970523 ,\n",
       "         7.9843907],\n",
       "       [ 2.189293 ,  2.1868663,  2.1844583, ..., 12.837092 , 12.934673 ,\n",
       "        12.810533 ],\n",
       "       [ 2.7451353,  2.738469 ,  3.368032 , ...,  9.2907915,  9.108875 ,\n",
       "         8.385379 ],\n",
       "       ...,\n",
       "       [ 1.7720324,  2.0300677,  2.2360272, ...,  4.777608 ,  7.0639305,\n",
       "         5.7977986],\n",
       "       [ 4.4983783,  5.072573 ,  5.6672626, ..., 21.518795 , 19.828224 ,\n",
       "        20.714499 ],\n",
       "       [ 3.9174566,  4.1198335,  5.0055575, ..., 14.062734 , 16.002117 ,\n",
       "        15.691873 ]], dtype=float32)"
      ]
     },
     "execution_count": 8,
     "metadata": {},
     "output_type": "execute_result"
    }
   ],
   "source": [
    "data['X']"
   ]
  },
  {
   "cell_type": "code",
   "execution_count": 9,
   "metadata": {},
   "outputs": [
    {
     "data": {
      "text/plain": [
       "(3794, 1000)"
      ]
     },
     "execution_count": 9,
     "metadata": {},
     "output_type": "execute_result"
    }
   ],
   "source": [
    "data['X'].shape"
   ]
  },
  {
   "cell_type": "code",
   "execution_count": 10,
   "metadata": {},
   "outputs": [
    {
     "data": {
      "text/plain": [
       "array([2, 1, 1, ..., 2, 0, 2], dtype=int32)"
      ]
     },
     "execution_count": 10,
     "metadata": {},
     "output_type": "execute_result"
    }
   ],
   "source": [
    "data['y']"
   ]
  },
  {
   "cell_type": "code",
   "execution_count": 11,
   "metadata": {},
   "outputs": [
    {
     "data": {
      "text/plain": [
       "array([0, 1, 2], dtype=int32)"
      ]
     },
     "execution_count": 11,
     "metadata": {},
     "output_type": "execute_result"
    }
   ],
   "source": [
    "np.unique(data['y'])"
   ]
  },
  {
   "cell_type": "code",
   "execution_count": 12,
   "metadata": {},
   "outputs": [
    {
     "data": {
      "text/plain": [
       "array(['absorption galaxy', 'galaxy', 'emission galaxy'], dtype='<U17')"
      ]
     },
     "execution_count": 12,
     "metadata": {},
     "output_type": "execute_result"
    }
   ],
   "source": [
    "data['labels']"
   ]
  },
  {
   "cell_type": "markdown",
   "metadata": {},
   "source": [
    "Let's standardize the data and make a plot showing the averaged spectrum of each class."
   ]
  },
  {
   "cell_type": "code",
   "execution_count": 13,
   "metadata": {},
   "outputs": [
    {
     "data": {
      "text/plain": [
       "<matplotlib.legend.Legend at 0x7fc170c3ea90>"
      ]
     },
     "execution_count": 13,
     "metadata": {},
     "output_type": "execute_result"
    },
    {
     "data": {
      "image/png": "[encoded data removed]",
      "text/plain": [
       "<Figure size 432x288 with 1 Axes>"
      ]
     },
     "metadata": {
      "needs_background": "light"
     },
     "output_type": "display_data"
    }
   ],
   "source": [
    "from sklearn.preprocessing import StandardScaler\n",
    "\n",
    "X = data['X']\n",
    "y = data['y']\n",
    "Xs = StandardScaler().fit_transform(X)\n",
    "\n",
    "plt.plot(data['wavelengths'], np.mean(Xs[y == 0,:],axis=0), label='absorption galaxy')\n",
    "plt.plot(data['wavelengths'], np.mean(Xs[y == 1,:],axis=0)+1, label='normal galaxy')\n",
    "plt.plot(data['wavelengths'], np.mean(Xs[y == 2,:],axis=0)+2, label='emission galaxy')\n",
    "plt.xlabel('wavelength (Angstroms)')\n",
    "plt.ylabel('flux + offset')\n",
    "plt.legend()"
   ]
  },
  {
   "cell_type": "markdown",
   "metadata": {},
   "source": [
    "(a) Now that we have inspected the data, let's build a neural network. Using ```tensorflow.keras```, build a neural network that has two hidden layers each of which has 1,000 neurons. It's always a good practice to check the model summary. Compile the model using loss=\"sparse_categorical_crossentropy\", Adam optimizer, and learning rate = 1.0e-3. Then, train the model for 100 epochs. Record the time it took for training. (1 pt)"
   ]
  },
  {
   "cell_type": "code",
   "execution_count": null,
   "metadata": {},
   "outputs": [],
   "source": [
    "\n",
    "\n",
    "\n",
    "\n",
    "\n",
    "\n",
    "\n",
    "\n",
    "\n",
    "\n",
    "\n",
    "\n",
    "\n",
    "\n",
    "\n"
   ]
  },
  {
   "cell_type": "markdown",
   "metadata": {},
   "source": [
    "(b) Make plots showing training loss, validation loss, training accuracy, validation accuray. (1 pt)"
   ]
  },
  {
   "cell_type": "code",
   "execution_count": null,
   "metadata": {
    "scrolled": true
   },
   "outputs": [],
   "source": [
    "\n",
    "\n",
    "\n",
    "\n",
    "\n",
    "\n",
    "\n",
    "\n",
    "\n",
    "\n",
    "\n",
    "\n",
    "\n",
    "\n",
    "\n"
   ]
  },
  {
   "cell_type": "markdown",
   "metadata": {},
   "source": [
    "(c) The original data lives in a 1,000 dimensional space. Let's reduce the dimension using PCA. Choose the number of PCs such that you preserve 99% of the variance in the original data. How many dimensions did you end up with? (1 pt)"
   ]
  },
  {
   "cell_type": "code",
   "execution_count": null,
   "metadata": {},
   "outputs": [],
   "source": [
    "# 1000 wavelength resolution\n",
    "# decrease dimensions with PCA to remove uninteresting regions of spectra\n",
    "# focus on the more interesting areas\n",
    "\n",
    "\n",
    "\n",
    "\n",
    "\n",
    "\n",
    "\n",
    "\n",
    "\n",
    "\n",
    "\n",
    "\n"
   ]
  },
  {
   "cell_type": "markdown",
   "metadata": {},
   "source": [
    "(d) Make a plot showing the averaged inverse transformed spectrum of each class. How do they compare with the plot you made earlier? (1 pt)"
   ]
  },
  {
   "cell_type": "code",
   "execution_count": null,
   "metadata": {},
   "outputs": [],
   "source": [
    "# try to use reverse transform to remake spectrum plots\n",
    "\n",
    "\n",
    "\n",
    "\n",
    "\n",
    "\n",
    "\n",
    "\n",
    "\n",
    "\n",
    "\n",
    "\n",
    "\n",
    "\n"
   ]
  },
  {
   "cell_type": "markdown",
   "metadata": {},
   "source": [
    "(e) Build a new neural network, using the same architecture, optimizer, learning rate, number of epochs as in (a), and train it. How does the number of trainable parameters compare? How does the training time compare? Do you see the benefit of PCA? (1 pt)"
   ]
  },
  {
   "cell_type": "code",
   "execution_count": null,
   "metadata": {},
   "outputs": [],
   "source": [
    "# see how long it takes relative to previous\n",
    "\n",
    "\n",
    "\n",
    "\n",
    "\n",
    "\n",
    "\n",
    "\n",
    "\n",
    "\n",
    "\n",
    "\n",
    "\n",
    "\n"
   ]
  },
  {
   "cell_type": "markdown",
   "metadata": {},
   "source": [
    "(f) Make plots showing training loss, validation loss, training accuracy, validation accuray, similar to (b). Did you get a comparable accucary? (1 pt)"
   ]
  },
  {
   "cell_type": "code",
   "execution_count": null,
   "metadata": {},
   "outputs": [],
   "source": [
    "# compute the accuracy before and after PCA \n",
    "\n",
    "\n",
    "\n",
    "\n",
    "\n",
    "\n",
    "\n",
    "\n",
    "\n",
    "\n",
    "\n",
    "\n",
    "\n",
    "\n"
   ]
  }
 ],
 "metadata": {
  "kernelspec": {
   "display_name": "Python 3 (ipykernel)",
   "language": "python",
   "name": "python3"
  },
  "language_info": {
   "codemirror_mode": {
    "name": "ipython",
    "version": 3
   },
   "file_extension": ".py",
   "mimetype": "text/x-python",
   "name": "python",
   "nbconvert_exporter": "python",
   "pygments_lexer": "ipython3",
   "version": "3.9.7"
  }
 },
 "nbformat": 4,
 "nbformat_minor": 4
}
