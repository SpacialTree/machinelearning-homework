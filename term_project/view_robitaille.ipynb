{
 "cells": [
  {
   "cell_type": "code",
   "execution_count": 1,
   "id": "bbf8ee54-e2c0-42ac-a506-69382e282bb5",
   "metadata": {},
   "outputs": [],
   "source": [
    "from astropy.io import fits\n",
    "import astropy.units as u\n",
    "import matplotlib.pyplot as plt\n",
    "import numpy as np"
   ]
  },
  {
   "cell_type": "code",
   "execution_count": 2,
   "id": "7c79f206-9f0d-4a22-967c-ed35392c56c6",
   "metadata": {},
   "outputs": [
    {
     "name": "stdout",
     "output_type": "stream",
     "text": [
      "adaptive_param_plot.py  __init__.py     README~   \u001b[0m\u001b[01;34msp--s-i\u001b[0m/  \u001b[01;34mspu-smi\u001b[0m/  \u001b[01;34ms-u-smi\u001b[0m/\n",
      "allgeos_props.fits      JWST.ipynb      \u001b[01;34ms-pbhmi\u001b[0m/  \u001b[01;34ms-p-smi\u001b[0m/  \u001b[01;34ms---s-i\u001b[0m/\n",
      "ccds.ipynb              MIRI_ccd.pdf    \u001b[01;34ms-pbsmi\u001b[0m/  \u001b[01;34msp--smi\u001b[0m/  \u001b[01;34ms---smi\u001b[0m/\n",
      "ccds.py                 NIRCam_ccd.pdf  \u001b[01;34msp--h-i\u001b[0m/  \u001b[01;34mspubhmi\u001b[0m/  \u001b[01;34ms-ubhmi\u001b[0m/\n",
      "ccds.py~                \u001b[01;34m__pycache__\u001b[0m/    \u001b[01;34ms-p-hmi\u001b[0m/  \u001b[01;34mspubsmi\u001b[0m/  \u001b[01;34ms-ubsmi\u001b[0m/\n",
      "dust_opacity.fits       README          \u001b[01;34msp--hmi\u001b[0m/  \u001b[01;34mspu-hmi\u001b[0m/  \u001b[01;34ms-u-hmi\u001b[0m/\n"
     ]
    }
   ],
   "source": [
    "ls /blue/ast7939/savannahgramze/robitaille/robitaille_models-1.2"
   ]
  },
  {
   "cell_type": "code",
   "execution_count": 3,
   "id": "e5c266fe-579c-43ed-88fb-828844b4dada",
   "metadata": {},
   "outputs": [],
   "source": [
    "allgeos = fits.open('/blue/ast7939/savannahgramze/robitaille/robitaille_models-1.2/allgeos_props.fits')"
   ]
  },
  {
   "cell_type": "code",
   "execution_count": 4,
   "id": "57ecf5a4-98e5-4e44-8830-d351d4bc3557",
   "metadata": {},
   "outputs": [
    {
     "name": "stdout",
     "output_type": "stream",
     "text": [
      "IRAC.I1.fits  IRAC.I3.fits  MIPS.160mu.fits  MIPS.70mu.fits\n",
      "IRAC.I2.fits  IRAC.I4.fits  MIPS.24mu.fits\n"
     ]
    }
   ],
   "source": [
    "ls /blue/ast7939/savannahgramze/robitaille/robitaille_models-1.2/s-pbhmi/convolved/Spitzer/"
   ]
  },
  {
   "cell_type": "code",
   "execution_count": 5,
   "id": "d65dae36-5a82-47a8-abbe-bdfd240cae53",
   "metadata": {},
   "outputs": [
    {
     "name": "stdout",
     "output_type": "stream",
     "text": [
      "\u001b[0m\u001b[01;34m2MASS\u001b[0m/  \u001b[01;34mHerschel\u001b[0m/  \u001b[01;34mJWST\u001b[0m/  \u001b[01;34mParanal\u001b[0m/  \u001b[01;34mSpitzer\u001b[0m/  \u001b[01;34muser_filters\u001b[0m/  \u001b[01;34mWISE\u001b[0m/\n"
     ]
    }
   ],
   "source": [
    "ls /blue/ast7939/savannahgramze/robitaille/robitaille_models-1.2/s-pbhmi/convolved/"
   ]
  },
  {
   "cell_type": "code",
   "execution_count": 6,
   "id": "399709ce-e5b0-4441-9fc4-527cff2418f7",
   "metadata": {},
   "outputs": [
    {
     "data": {
      "text/plain": [
       "XTENSION= 'BINTABLE'           / binary table extension                         \n",
       "BITPIX  =                    8 / array data type                                \n",
       "NAXIS   =                    2 / number of array dimensions                     \n",
       "NAXIS1  =                   16 / length of dimension 1                          \n",
       "NAXIS2  =                  200 / length of dimension 2                          \n",
       "PCOUNT  =                    0 / number of group parameters                     \n",
       "GCOUNT  =                    1 / number of groups                               \n",
       "TFIELDS =                    2 / number of table fields                         \n",
       "TTYPE1  = 'WAVELENGTH'                                                          \n",
       "TFORM1  = 'D       '                                                            \n",
       "TTYPE2  = 'FREQUENCY'                                                           \n",
       "TFORM2  = 'D       '                                                            \n",
       "EXTNAME = 'SPECTRAL_INFO'      / extension name                                 \n",
       "TUNIT1  = 'um      '                                                            \n",
       "TUNIT2  = 'Hz      '                                                            "
      ]
     },
     "execution_count": 6,
     "metadata": {},
     "output_type": "execute_result"
    }
   ],
   "source": [
    "fits.open('/blue/ast7939/savannahgramze/robitaille/robitaille_models-1.2/s-pbhmi/flux.fits')[2].header"
   ]
  },
  {
   "cell_type": "code",
   "execution_count": 7,
   "id": "d4948ee2-b978-40d0-b316-013fb4741219",
   "metadata": {},
   "outputs": [],
   "source": [
    "wavelength = fits.open('/blue/ast7939/savannahgramze/robitaille/robitaille_models-1.2/s-pbhmi/flux.fits')[2].data[:]['WAVELENGTH']"
   ]
  },
  {
   "cell_type": "code",
   "execution_count": 8,
   "id": "4075b80a-61ca-49fa-a4c5-6de1c7b60229",
   "metadata": {},
   "outputs": [],
   "source": [
    "sed_flux = fits.open('/blue/ast7939/savannahgramze/robitaille/robitaille_models-1.2/s-pbhmi/flux.fits')[4].data\n",
    "\n",
    "flux_files = ['/blue/ast7939/savannahgramze/robitaille/robitaille_models-1.2/sp--s-i/flux.fits',  \n",
    "              '/blue/ast7939/savannahgramze/robitaille/robitaille_models-1.2/spu-smi/flux.fits',  \n",
    "              '/blue/ast7939/savannahgramze/robitaille/robitaille_models-1.2/s-u-smi/flux.fits',\n",
    "              '/blue/ast7939/savannahgramze/robitaille/robitaille_models-1.2/s-pbhmi/flux.fits',  \n",
    "              '/blue/ast7939/savannahgramze/robitaille/robitaille_models-1.2/s-p-smi/flux.fits',  \n",
    "              '/blue/ast7939/savannahgramze/robitaille/robitaille_models-1.2/s---s-i/flux.fits',\n",
    "              '/blue/ast7939/savannahgramze/robitaille/robitaille_models-1.2/s-pbsmi/flux.fits',  \n",
    "              '/blue/ast7939/savannahgramze/robitaille/robitaille_models-1.2/sp--smi/flux.fits',  \n",
    "              '/blue/ast7939/savannahgramze/robitaille/robitaille_models-1.2/s---smi/flux.fits',\n",
    "              '/blue/ast7939/savannahgramze/robitaille/robitaille_models-1.2/sp--h-i/flux.fits',  \n",
    "              '/blue/ast7939/savannahgramze/robitaille/robitaille_models-1.2/spubhmi/flux.fits',  \n",
    "              '/blue/ast7939/savannahgramze/robitaille/robitaille_models-1.2/s-ubhmi/flux.fits',\n",
    "              '/blue/ast7939/savannahgramze/robitaille/robitaille_models-1.2/s-p-hmi/flux.fits',  \n",
    "              '/blue/ast7939/savannahgramze/robitaille/robitaille_models-1.2/spubsmi/flux.fits',  \n",
    "              '/blue/ast7939/savannahgramze/robitaille/robitaille_models-1.2/s-ubsmi/flux.fits',\n",
    "              '/blue/ast7939/savannahgramze/robitaille/robitaille_models-1.2/sp--hmi/flux.fits',  \n",
    "              '/blue/ast7939/savannahgramze/robitaille/robitaille_models-1.2/spu-hmi/flux.fits',  \n",
    "              '/blue/ast7939/savannahgramze/robitaille/robitaille_models-1.2/s-u-hmi/flux.fits']"
   ]
  },
  {
   "cell_type": "code",
   "execution_count": 9,
   "id": "afcc6961-1a9a-4ea5-8bcf-8c8c1ca3f750",
   "metadata": {},
   "outputs": [],
   "source": [
    "sed_flux_sp__s_i = fits.open(flux_files[0])[4].data\n",
    "sed_flux_spu_smi = fits.open(flux_files[1])[4].data\n",
    "sed_flux_s_u_smi = fits.open(flux_files[2])[4].data\n",
    "sed_flux_s_pbhmi = fits.open(flux_files[3])[4].data\n",
    "sed_flux_s_p_smi = fits.open(flux_files[4])[4].data\n",
    "sed_flux_s___s_i = fits.open(flux_files[5])[4].data\n",
    "sed_flux_s_pbsmi = fits.open(flux_files[6])[4].data\n",
    "sed_flux_sp__smi = fits.open(flux_files[7])[4].data\n",
    "sed_flux_s___smi = fits.open(flux_files[8])[4].data\n",
    "sed_flux_sp__h_i = fits.open(flux_files[9])[4].data\n",
    "sed_flux_spubhmi = fits.open(flux_files[10])[4].data\n",
    "sed_flux_s_ubhmi = fits.open(flux_files[11])[4].data\n",
    "sed_flux_s_p_hmi = fits.open(flux_files[12])[4].data\n",
    "sed_flux_spubsmi = fits.open(flux_files[13])[4].data\n",
    "sed_flux_s_ubsmi = fits.open(flux_files[14])[4].data\n",
    "sed_flux_sp__hmi = fits.open(flux_files[15])[4].data\n",
    "sed_flux_spu_hmi = fits.open(flux_files[16])[4].data\n",
    "sed_flux_s_u_hmi = fits.open(flux_files[17])[4].data"
   ]
  },
  {
   "cell_type": "code",
   "execution_count": 10,
   "id": "e58933f4-38fa-4670-b5c3-82679083560d",
   "metadata": {},
   "outputs": [
    {
     "data": {
      "text/plain": [
       "(90000, 20, 200)"
      ]
     },
     "execution_count": 10,
     "metadata": {},
     "output_type": "execute_result"
    }
   ],
   "source": [
    "sed_flux_sp__s_i.shape"
   ]
  },
  {
   "cell_type": "code",
   "execution_count": 11,
   "id": "3d379647-7bb5-4d29-9558-98a69e48875c",
   "metadata": {},
   "outputs": [
    {
     "data": {
      "text/plain": [
       "(<Quantity 0.0103335 micron>, <Quantity 4838.63172216 micron>)"
      ]
     },
     "execution_count": 11,
     "metadata": {},
     "output_type": "execute_result"
    }
   ],
   "source": [
    "(np.min(wavelength)*u.micron, np.max(wavelength)*u.micron)"
   ]
  },
  {
   "cell_type": "code",
   "execution_count": 12,
   "id": "40fbcaf6-afcf-4922-8343-ae726d1b5233",
   "metadata": {
    "tags": []
   },
   "outputs": [
    {
     "data": {
      "text/html": [
       "<div><i>Table length=54</i>\n",
       "<table id=\"table47232032131200\" class=\"table-striped table-bordered table-condensed\">\n",
       "<thead><tr><th>FilterProfileService</th><th>filterID</th><th>WavelengthUnit</th><th>WavelengthUCD</th><th>PhotSystem</th><th>DetectorType</th><th>Band</th><th>Instrument</th><th>Facility</th><th>ProfileReference</th><th>CalibrationReference</th><th>Description</th><th>Comments</th><th>WavelengthRef</th><th>WavelengthMean</th><th>WavelengthEff</th><th>WavelengthMin</th><th>WavelengthMax</th><th>WidthEff</th><th>WavelengthCen</th><th>WavelengthPivot</th><th>WavelengthPeak</th><th>WavelengthPhot</th><th>FWHM</th><th>Fsun</th><th>PhotCalID</th><th>MagSys</th><th>ZeroPoint</th><th>ZeroPointUnit</th><th>Mag0</th><th>ZeroPointType</th><th>AsinhSoft</th><th>TrasmissionCurve</th></tr></thead>\n",
       "<thead><tr><th></th><th></th><th></th><th></th><th></th><th></th><th></th><th></th><th></th><th></th><th></th><th></th><th></th><th>AA</th><th>AA</th><th>AA</th><th>AA</th><th>AA</th><th>AA</th><th>AA</th><th>AA</th><th>AA</th><th>AA</th><th>AA</th><th>erg s / (A cm2)</th><th></th><th></th><th>Jy</th><th></th><th></th><th></th><th></th><th></th></tr></thead>\n",
       "<thead><tr><th>object</th><th>object</th><th>object</th><th>object</th><th>object</th><th>object</th><th>object</th><th>object</th><th>object</th><th>object</th><th>object</th><th>object</th><th>object</th><th>float64</th><th>float64</th><th>float64</th><th>float64</th><th>float64</th><th>float64</th><th>float64</th><th>float64</th><th>float64</th><th>float64</th><th>float64</th><th>float64</th><th>object</th><th>object</th><th>float64</th><th>object</th><th>float64</th><th>object</th><th>float64</th><th>object</th></tr></thead>\n",
       "<tr><td>ivo://svo/fps</td><td>JWST/NIRCam.F070W</td><td>Angstrom</td><td>em.wl</td><td>NIRCam</td><td>1</td><td></td><td>NIRCam</td><td>JWST</td><td>https://jwst-docs.stsci.edu/display/JTI/NIRCam+Filters</td><td></td><td>NIRCam F070W filter</td><td>includes NIRCam optics, DBS, QE and JWST Optical Telescope Element</td><td>7039.1194650654</td><td>7088.3009369996</td><td>6988.4272768359</td><td>6031.5679100023</td><td>8002.8223920439</td><td>1212.8399166581</td><td>7099.1873443748</td><td>7039.1194650654</td><td>7691.5</td><td>7022.060805287</td><td>1430.8105961315</td><td>140.01772043307</td><td>JWST/NIRCam.F070W/Vega</td><td>Vega</td><td>2768.4045696982</td><td>Jy</td><td>0.0</td><td>Pogson</td><td>0.0</td><td>http://svo2.cab.inta-csic.es//theory/fps/fps.php?ID=JWST/NIRCam.F070W</td></tr>\n",
       "<tr><td>ivo://svo/fps</td><td>JWST/NIRISS.F090W</td><td>Angstrom</td><td>em.wl</td><td>NIRISS</td><td>1</td><td></td><td>NIRISS</td><td>JWST</td><td>http://jwst.astro.umontreal.ca/?page_id=116</td><td></td><td>NIRISS F090W filter</td><td></td><td>9003.8974145327</td><td>9066.74387194</td><td>8966.950481369</td><td>7870.0</td><td>10300.0</td><td>1769.2561253306</td><td>9008.6175845746</td><td>9003.8974145327</td><td>9890.0</td><td>9008.8529709138</td><td>2082.7777922023</td><td>89.607260396174</td><td>JWST/NIRISS.F090W/Vega</td><td>Vega</td><td>2245.9690953816</td><td>Jy</td><td>0.0</td><td>Pogson</td><td>0.0</td><td>http://svo2.cab.inta-csic.es//theory/fps/fps.php?ID=JWST/NIRISS.F090W</td></tr>\n",
       "<tr><td>ivo://svo/fps</td><td>JWST/NIRCam.F090W</td><td>Angstrom</td><td>em.wl</td><td>NIRCam</td><td>1</td><td></td><td>NIRCam</td><td>JWST</td><td>https://jwst-docs.stsci.edu/display/JTI/NIRCam+Filters</td><td></td><td>NIRCam F090W filter</td><td>includes NIRCam optics, DBS, QE and JWST Optical Telescope Element</td><td>9021.5288283376</td><td>9083.3952700859</td><td>8984.9812166695</td><td>7853.7189482931</td><td>10314.540355541</td><td>1772.7418859059</td><td>9007.2449821231</td><td>9021.5288283376</td><td>9905.5</td><td>9026.3413455784</td><td>2088.0551132236</td><td>89.25825936013</td><td>JWST/NIRCam.F090W/Vega</td><td>Vega</td><td>2244.9507457345</td><td>Jy</td><td>0.0</td><td>Pogson</td><td>0.0</td><td>http://svo2.cab.inta-csic.es//theory/fps/fps.php?ID=JWST/NIRCam.F090W</td></tr>\n",
       "<tr><td>ivo://svo/fps</td><td>JWST/NIRISS.F115W</td><td>Angstrom</td><td>em.wl</td><td>NIRISS</td><td>1</td><td></td><td>NIRISS</td><td>JWST</td><td>http://jwst.astro.umontreal.ca/?page_id=116</td><td></td><td>NIRISS F115W filter</td><td></td><td>11501.017719302</td><td>11584.04916236</td><td>11389.982969661</td><td>9967.2325299891</td><td>13180.0</td><td>2193.9517443543</td><td>11489.395601534</td><td>11501.017719302</td><td>12690.0</td><td>11445.732592155</td><td>2679.6065601959</td><td>53.589587657471</td><td>JWST/NIRISS.F115W/Vega</td><td>Vega</td><td>1755.7085139126</td><td>Jy</td><td>0.0</td><td>Pogson</td><td>0.0</td><td>http://svo2.cab.inta-csic.es//theory/fps/fps.php?ID=JWST/NIRISS.F115W</td></tr>\n",
       "<tr><td>ivo://svo/fps</td><td>JWST/NIRCam.F115W</td><td>Angstrom</td><td>em.wl</td><td>NIRCam</td><td>1</td><td></td><td>NIRCam</td><td>JWST</td><td>https://jwst-docs.stsci.edu/display/JTI/NIRCam+Filters</td><td></td><td>NIRCam F115W filter</td><td>includes NIRCam optics, DBS, QE and JWST Optical Telescope Element</td><td>11542.608442048</td><td>11623.884998948</td><td>11433.622503939</td><td>9972.0439114482</td><td>13191.077038673</td><td>2055.1323897044</td><td>11494.311055172</td><td>11542.608442048</td><td>12652.0</td><td>11488.863330367</td><td>2644.2460160212</td><td>53.032797973932</td><td>JWST/NIRCam.F115W/Vega</td><td>Vega</td><td>1746.1178757573</td><td>Jy</td><td>0.0</td><td>Pogson</td><td>0.0</td><td>http://svo2.cab.inta-csic.es//theory/fps/fps.php?ID=JWST/NIRCam.F115W</td></tr>\n",
       "<tr><td>ivo://svo/fps</td><td>JWST/NIRISS.F140M</td><td>Angstrom</td><td>em.wl</td><td>NIRISS</td><td>1</td><td></td><td>NIRISS</td><td>JWST</td><td>http://jwst.astro.umontreal.ca/?page_id=116</td><td></td><td>NIRISS F140M filter</td><td></td><td>14051.34165784</td><td>14072.666486598</td><td>14021.654926863</td><td>12921.30730289</td><td>15220.0</td><td>1412.5522099719</td><td>14062.509516668</td><td>14051.34165784</td><td>14600.0</td><td>14035.86931605</td><td>1479.910766002</td><td>34.055569572166</td><td>JWST/NIRISS.F140M/Vega</td><td>Vega</td><td>1288.943500254</td><td>Jy</td><td>0.0</td><td>Pogson</td><td>0.0</td><td>http://svo2.cab.inta-csic.es//theory/fps/fps.php?ID=JWST/NIRISS.F140M</td></tr>\n",
       "<tr><td>ivo://svo/fps</td><td>JWST/NIRCam.F140M</td><td>Angstrom</td><td>em.wl</td><td>NIRCam</td><td>1</td><td></td><td>NIRCam</td><td>JWST</td><td>https://jwst-docs.stsci.edu/display/JTI/NIRCam+Filters</td><td></td><td>NIRCam F140M filter</td><td>includes NIRCam optics, DBS, QE and JWST Optical Telescope Element</td><td>14053.232536752</td><td>14074.468174513</td><td>14023.618737895</td><td>12923.252180214</td><td>15223.963041921</td><td>1367.4001675902</td><td>14055.471891322</td><td>14053.232536752</td><td>14643.5</td><td>14037.805056945</td><td>1471.7453241243</td><td>34.081684124249</td><td>JWST/NIRCam.F140M/Vega</td><td>Vega</td><td>1288.6489399126</td><td>Jy</td><td>0.0</td><td>Pogson</td><td>0.0</td><td>http://svo2.cab.inta-csic.es//theory/fps/fps.php?ID=JWST/NIRCam.F140M</td></tr>\n",
       "<tr><td>ivo://svo/fps</td><td>JWST/NIRISS.F150W</td><td>Angstrom</td><td>em.wl</td><td>NIRISS</td><td>1</td><td></td><td>NIRISS</td><td>JWST</td><td>http://jwst.astro.umontreal.ca/?page_id=116</td><td></td><td>NIRISS F150W filter</td><td></td><td>14982.930142335</td><td>15081.924100011</td><td>14845.630833421</td><td>12897.94021629</td><td>17120.0</td><td>3066.6880367279</td><td>15014.008068639</td><td>14982.930142335</td><td>16570.0</td><td>14911.73625252</td><td>3386.9180550555</td><td>29.053149970531</td><td>JWST/NIRISS.F150W/Vega</td><td>Vega</td><td>1175.4827474812</td><td>Jy</td><td>0.0</td><td>Pogson</td><td>0.0</td><td>http://svo2.cab.inta-csic.es//theory/fps/fps.php?ID=JWST/NIRISS.F150W</td></tr>\n",
       "<tr><td>ivo://svo/fps</td><td>JWST/NIRCam.F150W</td><td>Angstrom</td><td>em.wl</td><td>NIRCam</td><td>1</td><td></td><td>NIRCam</td><td>JWST</td><td>https://jwst-docs.stsci.edu/display/JTI/NIRCam+Filters</td><td></td><td>NIRCam F150W filter</td><td>includes NIRCam optics, DBS, QE and JWST Optical Telescope Element</td><td>15007.438586148</td><td>15104.226607667</td><td>14872.561806926</td><td>12912.504936427</td><td>17107.490570324</td><td>2890.4253488344</td><td>15010.691851699</td><td>15007.438586148</td><td>16547.9</td><td>14937.56637456</td><td>3349.3001304998</td><td>28.954011369422</td><td>JWST/NIRCam.F150W/Vega</td><td>Vega</td><td>1172.057562686</td><td>Jy</td><td>0.0</td><td>Pogson</td><td>0.0</td><td>http://svo2.cab.inta-csic.es//theory/fps/fps.php?ID=JWST/NIRCam.F150W</td></tr>\n",
       "<tr><td>...</td><td>...</td><td>...</td><td>...</td><td>...</td><td>...</td><td>...</td><td>...</td><td>...</td><td>...</td><td>...</td><td>...</td><td>...</td><td>...</td><td>...</td><td>...</td><td>...</td><td>...</td><td>...</td><td>...</td><td>...</td><td>...</td><td>...</td><td>...</td><td>...</td><td>...</td><td>...</td><td>...</td><td>...</td><td>...</td><td>...</td><td>...</td><td>...</td></tr>\n",
       "<tr><td>ivo://svo/fps</td><td>JWST/MIRI.F1065C</td><td>Angstrom</td><td>em.wl</td><td>MIRI</td><td>1</td><td></td><td>MIRI</td><td>JWST</td><td>https://jwst-docs.stsci.edu/jwst-mid-infrared-instrument/miri-instrumentation/miri-filters-and-dispersers</td><td></td><td>MIRI F1065C coronographic filter</td><td>Approximate curve digitized from plot in reference webpage.</td><td>105628.39025921</td><td>105681.52260848</td><td>105542.38813308</td><td>100226.729492</td><td>111577.48480823</td><td>5647.2487338714</td><td>105649.31746293</td><td>105628.39025921</td><td>106155.97</td><td>105577.83061172</td><td>5667.4070890804</td><td>0.019657454314828</td><td>JWST/MIRI.F1065C/Vega</td><td>Vega</td><td>33.890489436923</td><td>Jy</td><td>0.0</td><td>Pogson</td><td>0.0</td><td>http://svo2.cab.inta-csic.es//theory/fps/fps.php?ID=JWST/MIRI.F1065C</td></tr>\n",
       "<tr><td>ivo://svo/fps</td><td>JWST/MIRI.F1140C</td><td>Angstrom</td><td>em.wl</td><td>MIRI</td><td>1</td><td></td><td>MIRI</td><td>JWST</td><td>https://jwst-docs.stsci.edu/jwst-mid-infrared-instrument/miri-instrumentation/miri-filters-and-dispersers</td><td></td><td>MIRI F1140C coronographic filter</td><td>Approximate curve digitized from plot in reference webpage.</td><td>113103.03238919</td><td>113156.51557554</td><td>113013.46845431</td><td>107357.90296567</td><td>119593.94818658</td><td>6036.5321991656</td><td>113148.7559061</td><td>113103.03238919</td><td>113051.66</td><td>113049.15288667</td><td>5867.1740324663</td><td>0.015003356552015</td><td>JWST/MIRI.F1140C/Vega</td><td>Vega</td><td>29.625297118219</td><td>Jy</td><td>0.0</td><td>Pogson</td><td>0.0</td><td>http://svo2.cab.inta-csic.es//theory/fps/fps.php?ID=JWST/MIRI.F1140C</td></tr>\n",
       "<tr><td>ivo://svo/fps</td><td>JWST/MIRI.F1130W</td><td>Angstrom</td><td>em.wl</td><td>MIRI</td><td>1</td><td></td><td>MIRI</td><td>JWST</td><td>https://jwst-docs.stsci.edu/display/JTI/MIRI+Filters+and+Dispersers</td><td></td><td>MIRI F1130W filter</td><td>nominal transmission of the JWST OTE is not included</td><td>113085.01369407</td><td>113159.44161095</td><td>112960.71105038</td><td>104298.92091875</td><td>121343.2236889</td><td>7229.1513226991</td><td>113139.06431808</td><td>113085.01369407</td><td>114980.0</td><td>113010.56669778</td><td>7091.0090871176</td><td>0.015018291200703</td><td>JWST/MIRI.F1130W/Vega</td><td>Vega</td><td>29.664461461834</td><td>Jy</td><td>0.0</td><td>Pogson</td><td>0.0</td><td>http://svo2.cab.inta-csic.es//theory/fps/fps.php?ID=JWST/MIRI.F1130W</td></tr>\n",
       "<tr><td>ivo://svo/fps</td><td>JWST/MIRI.F1280W</td><td>Angstrom</td><td>em.wl</td><td>MIRI</td><td>1</td><td></td><td>MIRI</td><td>JWST</td><td>https://jwst-docs.stsci.edu/display/JTI/MIRI+Filters+and+Dispersers</td><td></td><td>MIRI F1280W filter</td><td>nominal transmission of the JWST OTE is not included</td><td>128101.37852502</td><td>128738.34483415</td><td>127059.67976377</td><td>111334.90278724</td><td>145191.44823675</td><td>24337.732201303</td><td>128619.87913623</td><td>128101.37852502</td><td>138010.0</td><td>127480.87085382</td><td>25306.737398933</td><td>0.0092754633318044</td><td>JWST/MIRI.F1280W/Vega</td><td>Vega</td><td>23.522511414553</td><td>Jy</td><td>0.0</td><td>Pogson</td><td>0.0</td><td>http://svo2.cab.inta-csic.es//theory/fps/fps.php?ID=JWST/MIRI.F1280W</td></tr>\n",
       "<tr><td>ivo://svo/fps</td><td>JWST/MIRI.F1500W</td><td>Angstrom</td><td>em.wl</td><td>MIRI</td><td>1</td><td></td><td>MIRI</td><td>JWST</td><td>https://jwst-docs.stsci.edu/display/JTI/MIRI+Filters+and+Dispersers</td><td></td><td>MIRI F1500W filter</td><td>nominal transmission of the JWST OTE is not included</td><td>150635.05972033</td><td>151469.0729305</td><td>149257.06715155</td><td>128977.85132292</td><td>174068.93544639</td><td>29426.240113509</td><td>151002.86963301</td><td>150635.05972033</td><td>150420.0</td><td>149809.77156728</td><td>31119.131214142</td><td>0.0048877557936468</td><td>JWST/MIRI.F1500W/Vega</td><td>Vega</td><td>17.117779786579</td><td>Jy</td><td>0.0</td><td>Pogson</td><td>0.0</td><td>http://svo2.cab.inta-csic.es//theory/fps/fps.php?ID=JWST/MIRI.F1500W</td></tr>\n",
       "<tr><td>ivo://svo/fps</td><td>JWST/MIRI.F1550C</td><td>Angstrom</td><td>em.wl</td><td>MIRI</td><td>1</td><td></td><td>MIRI</td><td>JWST</td><td>https://jwst-docs.stsci.edu/jwst-mid-infrared-instrument/miri-instrumentation/miri-filters-and-dispersers</td><td></td><td>MIRI F1550C coronographic filter</td><td>Approximate curve digitized from plot in reference webpage.</td><td>155167.73838977</td><td>155219.65212798</td><td>155079.49825604</td><td>149413.66738879</td><td>161556.33008836</td><td>7038.0136629677</td><td>155140.2788004</td><td>155167.73838977</td><td>155687.84</td><td>155114.08214975</td><td>7344.9077584328</td><td>0.004287090427937</td><td>JWST/MIRI.F1550C/Vega</td><td>Vega</td><td>15.92728499363</td><td>Jy</td><td>0.0</td><td>Pogson</td><td>0.0</td><td>http://svo2.cab.inta-csic.es//theory/fps/fps.php?ID=JWST/MIRI.F1550C</td></tr>\n",
       "<tr><td>ivo://svo/fps</td><td>JWST/MIRI.F1800W</td><td>Angstrom</td><td>em.wl</td><td>MIRI</td><td>1</td><td></td><td>MIRI</td><td>JWST</td><td>https://jwst-docs.stsci.edu/display/JTI/MIRI+Filters+and+Dispersers</td><td></td><td>MIRI F1800W filter</td><td>nominal transmission of the JWST OTE is not included</td><td>179837.22247916</td><td>180508.30116808</td><td>178734.17093674</td><td>156863.07604863</td><td>207545.81624813</td><td>29145.674179292</td><td>180264.71247791</td><td>179837.22247916</td><td>184990.0</td><td>179176.69034094</td><td>29839.892353346</td><td>0.0024063728459195</td><td>JWST/MIRI.F1800W/Vega</td><td>Vega</td><td>11.992554995353</td><td>Jy</td><td>0.0</td><td>Pogson</td><td>0.0</td><td>http://svo2.cab.inta-csic.es//theory/fps/fps.php?ID=JWST/MIRI.F1800W</td></tr>\n",
       "<tr><td>ivo://svo/fps</td><td>JWST/MIRI.F2100W</td><td>Angstrom</td><td>em.wl</td><td>MIRI</td><td>1</td><td></td><td>MIRI</td><td>JWST</td><td>https://jwst-docs.stsci.edu/display/JTI/MIRI+Filters+and+Dispersers</td><td></td><td>MIRI F2100W filter</td><td>nominal transmission of the JWST OTE is not included</td><td>207950.05108695</td><td>209373.18619694</td><td>205601.06046254</td><td>172807.89654893</td><td>254895.59474841</td><td>44045.732879671</td><td>208470.54650462</td><td>207950.05108695</td><td>219960.0</td><td>206539.3541252</td><td>46711.974541535</td><td>0.0013609123689406</td><td>JWST/MIRI.F2100W/Vega</td><td>Vega</td><td>9.0643990726832</td><td>Jy</td><td>0.0</td><td>Pogson</td><td>0.0</td><td>http://svo2.cab.inta-csic.es//theory/fps/fps.php?ID=JWST/MIRI.F2100W</td></tr>\n",
       "<tr><td>ivo://svo/fps</td><td>JWST/MIRI.F2300C</td><td>Angstrom</td><td>em.wl</td><td>MIRI</td><td>1</td><td></td><td>MIRI</td><td>JWST</td><td>https://jwst-docs.stsci.edu/jwst-mid-infrared-instrument/miri-instrumentation/miri-filters-and-dispersers</td><td></td><td>MIRI F2300C coronographic filter</td><td>Approximate curve digitized from plot in reference webpage.</td><td>226446.44316658</td><td>227630.4870809</td><td>224493.7622614</td><td>196484.64424046</td><td>262492.33130715</td><td>43032.648288166</td><td>227416.3011678</td><td>226446.44316658</td><td>223249.8</td><td>225271.91168103</td><td>44181.752688332</td><td>0.00096510340006773</td><td>JWST/MIRI.F2300C/Vega</td><td>Vega</td><td>7.6197971866949</td><td>Jy</td><td>0.0</td><td>Pogson</td><td>0.0</td><td>http://svo2.cab.inta-csic.es//theory/fps/fps.php?ID=JWST/MIRI.F2300C</td></tr>\n",
       "<tr><td>ivo://svo/fps</td><td>JWST/MIRI.F2550W</td><td>Angstrom</td><td>em.wl</td><td>MIRI</td><td>1</td><td></td><td>MIRI</td><td>JWST</td><td>https://jwst-docs.stsci.edu/display/JTI/MIRI+Filters+and+Dispersers</td><td></td><td>MIRI F2550W filter</td><td>nominal transmission of the JWST OTE is not included</td><td>253640.02317514</td><td>254994.1956148</td><td>251515.98944653</td><td>214655.58367877</td><td>299940.0</td><td>38760.071745971</td><td>251341.95920667</td><td>253640.02317514</td><td>240030.0</td><td>252340.59761682</td><td>36393.709073098</td><td>0.00061369648815106</td><td>JWST/MIRI.F2550W/Vega</td><td>Vega</td><td>6.06912546842</td><td>Jy</td><td>0.0</td><td>Pogson</td><td>0.0</td><td>http://svo2.cab.inta-csic.es//theory/fps/fps.php?ID=JWST/MIRI.F2550W</td></tr>\n",
       "</table></div>"
      ],
      "text/plain": [
       "<Table length=54>\n",
       "FilterProfileService ...\n",
       "                     ...\n",
       "       object        ...\n",
       "-------------------- ...\n",
       "       ivo://svo/fps ...\n",
       "       ivo://svo/fps ...\n",
       "       ivo://svo/fps ...\n",
       "       ivo://svo/fps ...\n",
       "       ivo://svo/fps ...\n",
       "       ivo://svo/fps ...\n",
       "       ivo://svo/fps ...\n",
       "       ivo://svo/fps ...\n",
       "       ivo://svo/fps ...\n",
       "                 ... ...\n",
       "       ivo://svo/fps ...\n",
       "       ivo://svo/fps ...\n",
       "       ivo://svo/fps ...\n",
       "       ivo://svo/fps ...\n",
       "       ivo://svo/fps ...\n",
       "       ivo://svo/fps ...\n",
       "       ivo://svo/fps ...\n",
       "       ivo://svo/fps ...\n",
       "       ivo://svo/fps ...\n",
       "       ivo://svo/fps ..."
      ]
     },
     "execution_count": 12,
     "metadata": {},
     "output_type": "execute_result"
    }
   ],
   "source": [
    "from astroquery.svo_fps import SvoFps\n",
    "index = SvoFps.get_filter_list(facility='JWST')\n",
    "index#['filterID']"
   ]
  },
  {
   "cell_type": "code",
   "execution_count": null,
   "id": "a2588dee-6202-40a9-b801-96edca32e453",
   "metadata": {
    "tags": []
   },
   "outputs": [],
   "source": []
  },
  {
   "cell_type": "code",
   "execution_count": 13,
   "id": "237cc38a-003c-4501-8bfc-6e9c248dd580",
   "metadata": {},
   "outputs": [
    {
     "data": {
      "text/latex": [
       "$[[0.60315679,~0.80028224],~\n",
       " [0.787,~1.03],~\n",
       " [0.78537189,~1.031454],~\n",
       " \\dots,~\n",
       " [17.28079,~25.489559],~\n",
       " [19.648464,~26.249233],~\n",
       " [21.465558,~29.994]] \\; \\mathrm{\\mu m}$"
      ],
      "text/plain": [
       "<Quantity [[ 0.60315679,  0.80028224],\n",
       "           [ 0.787     ,  1.03      ],\n",
       "           [ 0.78537189,  1.03145404],\n",
       "           [ 0.99672325,  1.318     ],\n",
       "           [ 0.99720439,  1.3191077 ],\n",
       "           [ 1.29213073,  1.522     ],\n",
       "           [ 1.29232522,  1.5223963 ],\n",
       "           [ 1.28979402,  1.712     ],\n",
       "           [ 1.29125049,  1.71074906],\n",
       "           [ 1.43351342,  1.739     ],\n",
       "           [ 1.49805367,  1.76325214],\n",
       "           [ 1.61259836,  1.67647389],\n",
       "           [ 0.92763197,  2.4135089 ],\n",
       "           [ 1.67561515,  2.02306676],\n",
       "           [ 1.83940339,  1.90862954],\n",
       "           [ 1.70385228,  2.279     ],\n",
       "           [ 1.70708496,  2.27976385],\n",
       "           [ 1.94457359,  2.2521397 ],\n",
       "           [ 2.08438868,  2.15822512],\n",
       "           [ 2.38179085,  2.63686258],\n",
       "           [ 2.35086292,  3.27556132],\n",
       "           [ 2.35602319,  3.287     ],\n",
       "           [ 2.73516775,  3.29456113],\n",
       "           [ 3.19304835,  3.29236155],\n",
       "           [ 2.36681304,  4.18235902],\n",
       "           [ 3.07259427,  3.73879673],\n",
       "           [ 3.03171688,  4.14911978],\n",
       "           [ 3.029281  ,  4.229     ],\n",
       "           [ 3.28608112,  3.95732905],\n",
       "           [ 3.639     ,  4.026     ],\n",
       "           [ 3.98967842,  4.11827725],\n",
       "           [ 3.72291494,  4.47027159],\n",
       "           [ 4.09139836,  4.47997432],\n",
       "           [ 4.109     ,  4.462     ],\n",
       "           [ 3.74977143,  5.09955   ],\n",
       "           [ 3.74725287,  5.187     ],\n",
       "           [ 4.42404742,  4.86460749],\n",
       "           [ 4.57203849,  4.72596295],\n",
       "           [ 4.63615744,  4.77980325],\n",
       "           [ 4.553     ,  5.09      ],\n",
       "           [ 4.53240232,  5.09955   ],\n",
       "           [ 4.82931048,  6.64861414],\n",
       "           [ 6.2497639 ,  9.0121342 ],\n",
       "           [ 8.74373363, 11.30775053],\n",
       "           [10.02267295, 11.15774848],\n",
       "           [10.7357903 , 11.95939482],\n",
       "           [10.42989209, 12.13432237],\n",
       "           [11.13349028, 14.51914482],\n",
       "           [12.89778513, 17.40689354],\n",
       "           [14.94136674, 16.15563301],\n",
       "           [15.6863076 , 20.75458162],\n",
       "           [17.28078965, 25.48955947],\n",
       "           [19.64846442, 26.24923313],\n",
       "           [21.46555837, 29.994     ]] micron>"
      ]
     },
     "execution_count": 13,
     "metadata": {},
     "output_type": "execute_result"
    }
   ],
   "source": [
    "((np.array([index['WavelengthMin'][:], index['WavelengthMax'][:]]).T)*u.AA).to(u.micron)"
   ]
  },
  {
   "cell_type": "code",
   "execution_count": 14,
   "id": "350539c2-51b5-485b-b047-3f018c11ec8b",
   "metadata": {},
   "outputs": [
    {
     "data": {
      "text/latex": [
       "$[[1387.2803,~1385.6071],~\n",
       " [1381.2072,~1379.5501],~\n",
       " [1363.2824,~1362.3916],~\n",
       " [1374.3687,~1372.725],~\n",
       " [1365.6741,~1364.7787],~\n",
       " [1301.6609,~1298.8635],~\n",
       " [1297.4376,~1294.6541],~\n",
       " [1294.8596,~1284.3135]] \\; \\mathrm{\\mu m}$"
      ],
      "text/plain": [
       "<Quantity [[1387.28028409, 1385.60705383],\n",
       "           [1381.20717035, 1379.55009877],\n",
       "           [1363.28239589, 1362.39160295],\n",
       "           [1374.36873295, 1372.72495071],\n",
       "           [1365.67411622, 1364.77867925],\n",
       "           [1301.66089525, 1298.86346817],\n",
       "           [1297.43756033, 1294.65414284],\n",
       "           [1294.85959272, 1284.31345689]] micron>"
      ]
     },
     "execution_count": 14,
     "metadata": {},
     "output_type": "execute_result"
    }
   ],
   "source": [
    "almaimf_bandends_1mm = [[216.10085679, 216.36181569],\n",
    "  [217.05104378, 217.31175857],\n",
    "  [219.90488464, 220.04866835],\n",
    "  [218.13102322, 218.39222624],\n",
    "  [219.51976276, 219.66379059],\n",
    "  [230.31532951, 230.81137113],\n",
    "  [231.06503709, 231.56181105],\n",
    "  [231.52507012, 233.42623749]]*u.GHz\n",
    "almaimf_bandends_1mm_micron = almaimf_bandends_1mm.to(u.micron, equivalencies=u.spectral())\n",
    "almaimf_bandends_1mm_micron"
   ]
  },
  {
   "cell_type": "code",
   "execution_count": 15,
   "id": "d289a4d0-5bbd-4c0f-b97b-a6e7adb036b0",
   "metadata": {},
   "outputs": [
    {
     "data": {
      "text/latex": [
       "$[[3218.933,~3214.8838],~\n",
       " [3267.4717,~3234.4414],~\n",
       " [2934.7473,~2908.074],~\n",
       " [2867.3665,~2841.8987]] \\; \\mathrm{\\mu m}$"
      ],
      "text/plain": [
       "<Quantity [[3218.93299952, 3214.88382506],\n",
       "           [3267.47169449, 3234.44143655],\n",
       "           [2934.74729076, 2908.07397542],\n",
       "           [2867.36654237, 2841.89867136]] micron>"
      ]
     },
     "execution_count": 15,
     "metadata": {},
     "output_type": "execute_result"
    }
   ],
   "source": [
    "almaimf_bandends_3mm = [[ 93.13410936,  93.25141259],\n",
    "  [ 91.75059068,  92.68755174],\n",
    "  [102.15273354, 103.0896946 ],\n",
    "  [104.55323851, 105.49019957]]*u.GHz\n",
    "almaimf_bandends_3mm_micron = almaimf_bandends_3mm.to(u.micron, equivalencies=u.spectral())\n",
    "almaimf_bandends_3mm_micron"
   ]
  },
  {
   "cell_type": "code",
   "execution_count": 16,
   "id": "1f60bd5c-56db-4ef8-96b3-0543aa2475e4",
   "metadata": {},
   "outputs": [],
   "source": [
    "mean_sed_flux_sp__s_i = np.nanmean(sed_flux_sp__s_i, axis=0)[-1]\n"
   ]
  },
  {
   "cell_type": "code",
   "execution_count": 17,
   "id": "b724cc6c-078a-4cee-86e0-3f33ca1d8f88",
   "metadata": {},
   "outputs": [],
   "source": [
    "mean_sed_flux_spu_smi = np.nanmean(sed_flux_spu_smi, axis=0)[-1]\n"
   ]
  },
  {
   "cell_type": "code",
   "execution_count": 18,
   "id": "e2bd53d8-6ef2-4c41-8e6b-cc3685d0be7f",
   "metadata": {},
   "outputs": [],
   "source": [
    "mean_sed_flux_s_u_smi = np.nanmean(sed_flux_s_u_smi, axis=0)[-1]\n"
   ]
  },
  {
   "cell_type": "code",
   "execution_count": 19,
   "id": "74d2301e-390c-4635-b93f-dfe9f189a18f",
   "metadata": {},
   "outputs": [],
   "source": [
    "mean_sed_flux_s_pbhmi = np.nanmean(sed_flux_s_pbhmi, axis=0)[-1]\n"
   ]
  },
  {
   "cell_type": "code",
   "execution_count": 20,
   "id": "9a9932ec-6778-48e7-925c-dd869763528c",
   "metadata": {},
   "outputs": [],
   "source": [
    "mean_sed_flux_s_p_smi = np.nanmean(sed_flux_s_p_smi, axis=0)[-1]\n"
   ]
  },
  {
   "cell_type": "code",
   "execution_count": 21,
   "id": "7f63f009-8820-4748-be6b-f12353e6bdd0",
   "metadata": {},
   "outputs": [],
   "source": [
    "mean_sed_flux_s___s_i = np.nanmean(sed_flux_s___s_i, axis=0)[-1]\n"
   ]
  },
  {
   "cell_type": "code",
   "execution_count": 22,
   "id": "cbc5bf37-75e6-4ead-87da-f6f73e1dcd42",
   "metadata": {},
   "outputs": [],
   "source": [
    "mean_sed_flux_s_pbsmi = np.nanmean(sed_flux_s_pbsmi, axis=0)[-1]\n"
   ]
  },
  {
   "cell_type": "code",
   "execution_count": 23,
   "id": "32978fee-651e-42cb-ae53-33fc7920b0bc",
   "metadata": {},
   "outputs": [],
   "source": [
    "mean_sed_flux_sp__smi = np.nanmean(sed_flux_sp__smi, axis=0)[-1]\n"
   ]
  },
  {
   "cell_type": "code",
   "execution_count": 24,
   "id": "c8ad1587-fe77-451d-85ee-cbb04244b0c9",
   "metadata": {},
   "outputs": [],
   "source": [
    "mean_sed_flux_s___smi = np.nanmean(sed_flux_s___smi, axis=0)[-1]\n"
   ]
  },
  {
   "cell_type": "code",
   "execution_count": 25,
   "id": "43c27131-e987-44c9-a1ff-0d58277e5c11",
   "metadata": {},
   "outputs": [],
   "source": [
    "mean_sed_flux_sp__h_i = np.nanmean(sed_flux_sp__h_i, axis=0)[-1]\n"
   ]
  },
  {
   "cell_type": "code",
   "execution_count": 26,
   "id": "f9d47fa3-0bdf-48a1-b187-fb8c41ffdb3c",
   "metadata": {},
   "outputs": [],
   "source": [
    "#mean_sed_flux_spubhmi = np.nanmean(sed_flux_spubhmi, axis=0)[-1]\n"
   ]
  },
  {
   "cell_type": "code",
   "execution_count": 27,
   "id": "7fbd0fc6-f921-4ec4-bb6d-84443ebe7d70",
   "metadata": {},
   "outputs": [],
   "source": [
    "mean_sed_flux_s_ubhmi = np.nanmean(sed_flux_s_ubhmi, axis=0)[-1]\n"
   ]
  },
  {
   "cell_type": "code",
   "execution_count": 28,
   "id": "ce395ff7-7650-4db5-8ebe-2bf7e92fc8f8",
   "metadata": {},
   "outputs": [],
   "source": [
    "mean_sed_flux_s_p_hmi = np.nanmean(sed_flux_s_p_hmi, axis=0)[-1]\n"
   ]
  },
  {
   "cell_type": "code",
   "execution_count": 29,
   "id": "fae50fad-8298-4591-881a-da76a2efdbdc",
   "metadata": {},
   "outputs": [],
   "source": [
    "mean_sed_flux_spubsmi = np.nanmean(sed_flux_spubsmi, axis=0)[-1]\n"
   ]
  },
  {
   "cell_type": "code",
   "execution_count": 30,
   "id": "32c637e7-edd1-4954-bb1d-0827d34cb02c",
   "metadata": {},
   "outputs": [],
   "source": [
    "mean_sed_flux_s_ubsmi = np.nanmean(sed_flux_s_ubsmi, axis=0)[-1]\n"
   ]
  },
  {
   "cell_type": "code",
   "execution_count": 31,
   "id": "8cb2f02d-1e4c-4dff-9e55-8baa54f91480",
   "metadata": {},
   "outputs": [],
   "source": [
    "mean_sed_flux_sp__hmi = np.nanmean(sed_flux_sp__hmi, axis=0)[-1]\n"
   ]
  },
  {
   "cell_type": "code",
   "execution_count": 32,
   "id": "dc49166b-6474-4cf1-96a6-3b90f8079c74",
   "metadata": {},
   "outputs": [],
   "source": [
    "mean_sed_flux_spu_hmi = np.nanmean(sed_flux_spu_hmi, axis=0)[-1]\n"
   ]
  },
  {
   "cell_type": "code",
   "execution_count": 33,
   "id": "b9f78fb9-4d24-4811-8f39-869d2694e16b",
   "metadata": {},
   "outputs": [],
   "source": [
    "mean_sed_flux_s_u_hmi = np.nanmean(sed_flux_s_u_hmi, axis=0)[-1]"
   ]
  },
  {
   "cell_type": "code",
   "execution_count": 38,
   "id": "298727da-251e-4c3c-bfe3-d2f9385e1935",
   "metadata": {},
   "outputs": [
    {
     "data": {
      "image/png": "[encoded data removed]",
      "text/plain": [
       "<Figure size 576x432 with 1 Axes>"
      ]
     },
     "metadata": {
      "needs_background": "light"
     },
     "output_type": "display_data"
    }
   ],
   "source": [
    "fig = plt.figure(figsize=(8, 6))\n",
    "#plt.plot(wavelength, sed_flux[0][-1])\n",
    "#plt.plot(wavelength, sed_flux[50][-1])\n",
    "#plt.plot(wavelength, sed_flux[1000][-1])\n",
    "#plt.plot(wavelength, mean_sed)\n",
    "#plt.plot(wavelength, mean_sed_flux_spubhmi)\n",
    "\n",
    "plt.plot(wavelength, mean_sed_flux_sp__s_i, label='sp__s_i')\n",
    "plt.plot(wavelength, mean_sed_flux_spu_smi, label='spu_smi')\n",
    "plt.plot(wavelength, mean_sed_flux_s_u_smi, label='s_u_smi')\n",
    "plt.plot(wavelength, mean_sed_flux_s_pbhmi, label='s_pbhmi')\n",
    "plt.plot(wavelength, mean_sed_flux_s_p_smi, label='s_p_smi')\n",
    "#plt.plot(wavelength, mean_sed_flux_s___s_i, label='s___s_i') # No emission at 1mm and 3mm\n",
    "plt.plot(wavelength, mean_sed_flux_s_pbsmi, label='s_pbsmi')\n",
    "plt.plot(wavelength, mean_sed_flux_sp__smi, label='sp__smi')\n",
    "plt.plot(wavelength, mean_sed_flux_s___smi, label='s___smi')\n",
    "plt.plot(wavelength, mean_sed_flux_sp__h_i, label='sp__h_i')\n",
    "plt.plot(wavelength, mean_sed_flux_s_ubhmi, label='s_ubhmi')\n",
    "plt.plot(wavelength, mean_sed_flux_s_p_hmi, label='s_p_hmi')\n",
    "plt.plot(wavelength, mean_sed_flux_spubsmi, label='spubsmi')\n",
    "plt.plot(wavelength, mean_sed_flux_s_ubsmi, label='s_ubsmi')\n",
    "plt.plot(wavelength, mean_sed_flux_sp__hmi, label='sp__hmi')\n",
    "plt.plot(wavelength, mean_sed_flux_spu_hmi, label='spu_hmi')\n",
    "plt.plot(wavelength, mean_sed_flux_s_u_hmi, label='s_u_hmi')\n",
    "\n",
    "plt.xlabel('Wavelength [$\\mu$m]')\n",
    "plt.ylabel('Flux [mJy]')\n",
    "plt.xscale('log')\n",
    "plt.yscale('log')\n",
    "\n",
    "jwst_ranges = ((np.array([index['WavelengthMin'][:], index['WavelengthMax'][:]]).T)*u.AA).to(u.micron)\n",
    "for r in jwst_ranges[:-1]:\n",
    "    plt.axvspan(np.min(r).value, np.max(r).value, alpha=0.1, color='tab:red')\n",
    "plt.axvspan(np.min(jwst_ranges[-1]).value, np.max(jwst_ranges[-1]).value, alpha=0.5, color='tab:red', label='JWST')\n",
    "\n",
    "plt.axvspan(np.min(almaimf_bandends_1mm_micron).value, np.max(almaimf_bandends_1mm_micron).value, alpha=0.5, color='tab:green', label='ALMA') # ALMA 1mm\n",
    "plt.axvspan(np.min(almaimf_bandends_3mm_micron).value, np.max(almaimf_bandends_3mm_micron).value, alpha=0.5, color='tab:green') # ALMA 3mm\n",
    "plt.legend()\n",
    "plt.ylim(bottom=10**-2)\n",
    "plt.savefig('avgsed.png')"
   ]
  },
  {
   "cell_type": "code",
   "execution_count": null,
   "id": "6d140be5-88ed-48b5-a934-4376da297cac",
   "metadata": {},
   "outputs": [],
   "source": []
  },
  {
   "cell_type": "code",
   "execution_count": 40,
   "id": "f7991c83-d500-4ee4-9766-ca9c0159b56e",
   "metadata": {},
   "outputs": [
    {
     "data": {
      "text/plain": [
       "SIMPLE  =                    T / conforms to FITS standard                      \n",
       "BITPIX  =                    8 / array data type                                \n",
       "NAXIS   =                    0 / number of array dimensions                     \n",
       "EXTEND  =                    T                                                  \n",
       "FILTWAV =    1313.968529355225                                                  \n",
       "NMODELS =                90000                                                  \n",
       "NAP     =                   20                                                  "
      ]
     },
     "execution_count": 40,
     "metadata": {},
     "output_type": "execute_result"
    }
   ],
   "source": [
    "fits.open('/blue/ast7939/savannahgramze/robitaille/robitaille_models-1.2/s-pbhmi/convolved/user_filters/ALMA-IMF_1mm.fits')[0].header"
   ]
  },
  {
   "cell_type": "code",
   "execution_count": 54,
   "id": "38322929-a6b2-48f3-9bb6-ada8c17cc5bb",
   "metadata": {},
   "outputs": [
    {
     "data": {
      "text/plain": [
       "array([        nan,         nan,         nan,         nan,         nan,\n",
       "               nan,  0.20919833,  0.47291189,  1.02794933,  2.0652864 ,\n",
       "        3.91171932,  7.11281776, 11.62993336, 16.58184433, 20.73658371,\n",
       "       20.73658371, 20.73658371, 20.73658371, 20.73658371, 20.73658371])"
      ]
     },
     "execution_count": 54,
     "metadata": {},
     "output_type": "execute_result"
    }
   ],
   "source": [
    "fits.open('/blue/ast7939/savannahgramze/robitaille/robitaille_models-1.2/s-pbhmi/convolved/user_filters/ALMA-IMF_1mm.fits')[1].data['TOTAL_FLUX'][0]"
   ]
  },
  {
   "cell_type": "code",
   "execution_count": 55,
   "id": "792b5d96-0d7b-4a6f-80a0-5d3627b7d92d",
   "metadata": {},
   "outputs": [
    {
     "data": {
      "text/plain": [
       "array([       nan,        nan,        nan,        nan,        nan,\n",
       "              nan, 0.01164073, 0.02646486, 0.05826468, 0.11873795,\n",
       "       0.22799048, 0.42126742, 0.70137781, 1.01518416, 1.28865266,\n",
       "       1.28865266, 1.28865266, 1.28865266, 1.28865266, 1.28865266])"
      ]
     },
     "execution_count": 55,
     "metadata": {},
     "output_type": "execute_result"
    }
   ],
   "source": [
    "fits.open('/blue/ast7939/savannahgramze/robitaille/robitaille_models-1.2/s-pbhmi/convolved/user_filters/ALMA-IMF_3mm.fits')[1].data['TOTAL_FLUX'][0]"
   ]
  },
  {
   "cell_type": "code",
   "execution_count": 60,
   "id": "d9e80aa8-73a3-4af1-b69e-a9ab96e94bb1",
   "metadata": {},
   "outputs": [
    {
     "data": {
      "text/plain": [
       "array([4.92740242e-05, 1.43143432e-04, 4.01405141e-04, 9.93287257e-04,\n",
       "       2.53625829e-03, 6.75256800e-03, 1.75923488e-02, 4.45703874e-02,\n",
       "       1.07343854e-01, 2.50015319e-01, 5.67800272e-01, 1.25719261e+00,\n",
       "       2.68518121e+00, 5.36474879e+00, 9.22054523e+00, 9.61557261e+00,\n",
       "       9.61557261e+00, 9.61557261e+00, 9.61557261e+00, 9.61557261e+00])"
      ]
     },
     "execution_count": 60,
     "metadata": {},
     "output_type": "execute_result"
    }
   ],
   "source": [
    "fits.open('/blue/ast7939/savannahgramze/robitaille/robitaille_models-1.2/s-pbhmi/augmented_parameters.fits')[1].data['Line-of-Sight Masses'][0]"
   ]
  },
  {
   "cell_type": "code",
   "execution_count": 34,
   "id": "181c0097-cebf-4bc6-b427-62abde32487e",
   "metadata": {},
   "outputs": [
    {
     "data": {
      "text/plain": [
       "FITS_rec([('00NbX04Y_01', 3.861,  5351., 1.195e-21, -1.051, 1.469, 51.21, 3.807e-22,  2.216, 1.e-23, 10., 1,  2.1347291 ,  11.01116031, [4.92740242e-05, 1.43143432e-04, 4.01405141e-04, 9.93287257e-04, 2.53625829e-03, 6.75256800e-03, 1.75923488e-02, 4.45703874e-02, 1.07343854e-01, 2.50015319e-01, 5.67800272e-01, 1.25719261e+00, 2.68518121e+00, 5.36474879e+00, 9.22054523e+00, 9.61557261e+00, 9.61557261e+00, 9.61557261e+00, 9.61557261e+00, 9.61557261e+00], [1.55496148e-06, 5.25073981e-06, 1.78846295e-05, 6.14194645e-05, 2.12398257e-04, 7.37156600e-04, 2.55962411e-03, 8.84484591e-03, 2.68131405e-02, 7.30426854e-02, 1.91987848e-01, 4.97885951e-01, 1.28439140e+00, 3.30866427e+00, 8.51575314e+00,            nan,            nan,            nan,            nan,            nan], 98279.63659383, [ 27.1245613 ,  25.28175473,  23.99499122,  24.57311331,  24.63256623,  23.79742957,  22.87423434,  21.57967844,  19.94095844,  18.19565752,  16.53307352,  14.99594419,  13.60224046,  12.37611546,  11.45557061,          nan,          nan,          nan,          nan,          nan], [ 99.14903335,  83.61829832,  70.99146925,  61.40848272,  52.6600246 ,  45.31332358,  39.0587111 ,  34.08419557,  29.52453339,  25.5392926 ,  21.93645862,  18.98354517,  16.14588277,  13.69159479,  11.77742987,          nan,          nan,          nan,          nan,          nan]),\n",
       "          ('00NbX04Y_02', 3.861,  5351., 1.195e-21, -1.051, 1.469, 51.21, 3.807e-22,  2.216, 1.e-23, 10., 1, 11.18796452,  11.01116031, [3.27328024e-05, 1.01239074e-04, 3.03228872e-04, 8.96146917e-04, 2.60488588e-03, 6.75846785e-03, 1.75593446e-02, 4.44491965e-02, 1.07390778e-01, 2.49878147e-01, 5.68069585e-01, 1.25723318e+00, 2.68504926e+00, 5.36474449e+00, 9.22075623e+00, 9.61557261e+00, 9.61557261e+00, 9.61557261e+00, 9.61557261e+00, 9.61557261e+00], [1.55496148e-06, 5.25073981e-06, 1.78846295e-05, 6.14194645e-05, 2.12398257e-04, 7.37156600e-04, 2.55962411e-03, 8.84484591e-03, 2.68131405e-02, 7.30426854e-02, 1.91987848e-01, 4.97885951e-01, 1.28439140e+00, 3.30866427e+00, 8.51575314e+00,            nan,            nan,            nan,            nan,            nan], 98279.63659383, [ 33.50703438,  30.67895255,  28.32161493,  26.2075772 ,  24.28640852,  23.80700899,  22.91031293,  21.60657102,  19.92774025,  18.1930947 ,  16.5280827 ,  14.9932472 ,  13.60066304,  12.3741818 ,  11.45553731,          nan,          nan,          nan,          nan,          nan], [ 99.14903335,  83.61829832,  70.99146925,  61.40848272,  52.6600246 ,  45.31332358,  39.0587111 ,  34.08419557,  29.52453339,  25.5392926 ,  21.93645862,  18.98354517,  16.14588277,  13.69159479,  11.77742987,          nan,          nan,          nan,          nan,          nan]),\n",
       "          ('00NbX04Y_03', 3.861,  5351., 1.195e-21, -1.051, 1.469, 51.21, 3.807e-22,  2.216, 1.e-23, 10., 1, 20.25928972,  11.01116031, [5.12157768e-05, 1.43314596e-04, 4.18508583e-04, 1.00484577e-03, 2.55122180e-03, 6.72655723e-03, 1.76140450e-02, 4.44849188e-02, 1.07263212e-01, 2.49873247e-01, 5.68197477e-01, 1.25719071e+00, 2.68509702e+00, 5.36459231e+00, 9.22056432e+00, 9.61557261e+00, 9.61557261e+00, 9.61557261e+00, 9.61557261e+00, 9.61557261e+00], [1.55496148e-06, 5.25073981e-06, 1.78846295e-05, 6.14194645e-05, 2.12398257e-04, 7.37156600e-04, 2.55962411e-03, 8.84484591e-03, 2.68131405e-02, 7.30426854e-02, 1.91987848e-01, 4.97885951e-01, 1.28439140e+00, 3.30866427e+00, 8.51575314e+00,            nan,            nan,            nan,            nan,            nan], 98279.63659383, [ 26.9073082 ,  25.43631557,  23.57694498,  24.51950728,  24.66644166,  23.94724367,  22.90846411,  21.59375695,  19.93191858,  18.18435859,  16.51962381,  14.98773509,  13.5965581 ,  12.37006511,  11.4555676 ,          nan,          nan,          nan,          nan,          nan], [ 99.14903335,  83.61829832,  70.99146925,  61.40848272,  52.6600246 ,  45.31332358,  39.0587111 ,  34.08419557,  29.52453339,  25.5392926 ,  21.93645862,  18.98354517,  16.14588277,  13.69159479,  11.77742987,          nan,          nan,          nan,          nan,          nan]),\n",
       "          ...,\n",
       "          ('zzoXKfm6_07', 1.622, 16550., 1.011e-22, -1.896, 1.55 , 11.1 , 1.249e-21, 64.14 , 1.e-23, 10., 1, 65.95492342, 177.82276974, [1.22206272e-05, 2.78525209e-05, 5.67143817e-05, 1.05988484e-04, 1.85780229e-04, 3.10476056e-04, 4.90996507e-04, 6.98930543e-04, 7.29473451e-04, 7.29473451e-04, 7.29473451e-04, 7.29473451e-04, 7.29473451e-04, 7.29473451e-04, 7.29473451e-04, 7.29473451e-04, 7.29473451e-04, 7.29473451e-04, 7.29473451e-04, 7.29473451e-04], [2.75782459e-06, 1.13741063e-05, 2.88695780e-05, 6.12392637e-05, 1.16527020e-04, 2.10952636e-04, 3.72214294e-04, 6.47617961e-04,            nan,            nan,            nan,            nan,            nan,            nan,            nan,            nan,            nan,            nan,            nan,            nan],  3416.38744505, [169.99616026, 157.80974029, 141.61951723, 125.37309933, 110.4610406 ,  97.48714779,  86.79258089,  79.07902238,          nan,          nan,          nan,          nan,          nan,          nan,          nan,          nan,          nan,          nan,          nan,          nan], [229.83253005, 201.53910291, 174.87825091, 150.61829042, 129.56662387, 112.15676328,  95.36168615,  81.52388829,          nan,          nan,          nan,          nan,          nan,          nan,          nan,          nan,          nan,          nan,          nan,          nan]),\n",
       "          ('zzoXKfm6_08', 1.622, 16550., 1.011e-22, -1.896, 1.55 , 11.1 , 1.249e-21, 64.14 , 1.e-23, 10., 1, 77.82316978, 177.82276974, [1.25012024e-05, 2.80231758e-05, 5.67117879e-05, 1.05967225e-04, 1.85780927e-04, 3.10463570e-04, 4.90956119e-04, 6.98928300e-04, 7.29473451e-04, 7.29473451e-04, 7.29473451e-04, 7.29473451e-04, 7.29473451e-04, 7.29473451e-04, 7.29473451e-04, 7.29473451e-04, 7.29473451e-04, 7.29473451e-04, 7.29473451e-04, 7.29473451e-04], [2.75782459e-06, 1.13741063e-05, 2.88695780e-05, 6.12392637e-05, 1.16527020e-04, 2.10952636e-04, 3.72214294e-04, 6.47617961e-04,            nan,            nan,            nan,            nan,            nan,            nan,            nan,            nan,            nan,            nan,            nan,            nan],  3416.38744505, [170.35235395, 157.70071569, 141.48376483, 125.27878273, 110.37665087,  97.41716835,  86.7461821 ,  79.07407473,          nan,          nan,          nan,          nan,          nan,          nan,          nan,          nan,          nan,          nan,          nan,          nan], [229.83253005, 201.53910291, 174.87825091, 150.61829042, 129.56662387, 112.15676328,  95.36168615,  81.52388829,          nan,          nan,          nan,          nan,          nan,          nan,          nan,          nan,          nan,          nan,          nan,          nan]),\n",
       "          ('zzoXKfm6_09', 1.622, 16550., 1.011e-22, -1.896, 1.55 , 11.1 , 1.249e-21, 64.14 , 1.e-23, 10., 1, 87.4428559 , 177.82276974, [1.25991460e-05, 2.80966308e-05, 5.67129332e-05, 1.05973431e-04, 1.85757716e-04, 3.10449629e-04, 4.90971007e-04, 6.98924923e-04, 7.29473451e-04, 7.29473451e-04, 7.29473451e-04, 7.29473451e-04, 7.29473451e-04, 7.29473451e-04, 7.29473451e-04, 7.29473451e-04, 7.29473451e-04, 7.29473451e-04, 7.29473451e-04, 7.29473451e-04], [2.75782459e-06, 1.13741063e-05, 2.88695780e-05, 6.12392637e-05, 1.16527020e-04, 2.10952636e-04, 3.72214294e-04, 6.47617961e-04,            nan,            nan,            nan,            nan,            nan,            nan,            nan,            nan,            nan,            nan,            nan,            nan],  3416.38744505, [170.43881838, 157.6505173 , 141.43984578, 125.24283119, 110.35619973,  97.3981055 ,  86.7263426 ,  79.07296484,          nan,          nan,          nan,          nan,          nan,          nan,          nan,          nan,          nan,          nan,          nan,          nan], [229.83253005, 201.53910291, 174.87825091, 150.61829042, 129.56662387, 112.15676328,  95.36168615,  81.52388829,          nan,          nan,          nan,          nan,          nan,          nan,          nan,          nan,          nan,          nan,          nan,          nan])],\n",
       "         dtype=(numpy.record, [('MODEL_NAME', 'S20'), ('star.radius', '>f8'), ('star.temperature', '>f8'), ('envelope.rho_0', '>f8'), ('envelope.power', '>f8'), ('cavity.power', '>f8'), ('cavity.theta_0', '>f8'), ('cavity.rho_0', '>f8'), ('envelope.rmin', '>f8'), ('ambient.density', '>f8'), ('ambient.temperature', '>f8'), ('scattering', '>i8'), ('inclination', '>f8'), ('Model Luminosity', '>f8'), ('Line-of-Sight Masses', '>f8', (20,)), ('Sphere Masses', '>f8', (20,)), ('Outer Radius', '>f8'), ('Line-of-Sight Weighted Temperatures', '>f8', (20,)), ('Sphere Weighted Temperatures', '>f8', (20,))]))"
      ]
     },
     "execution_count": 34,
     "metadata": {},
     "output_type": "execute_result"
    }
   ],
   "source": [
    "fits.open('/blue/ast7939/savannahgramze/robitaille/robitaille_models-1.2/s-pbhmi/augmented_parameters.fits')[1].data"
   ]
  },
  {
   "cell_type": "code",
   "execution_count": null,
   "id": "0cfbb203-5d21-4f98-b52e-68727c1fc344",
   "metadata": {},
   "outputs": [],
   "source": []
  }
 ],
 "metadata": {
  "kernelspec": {
   "display_name": "UFRC Python-3.10",
   "language": "python",
   "name": "python3-3.10-ufrc"
  },
  "language_info": {
   "codemirror_mode": {
    "name": "ipython",
    "version": 3
   },
   "file_extension": ".py",
   "mimetype": "text/x-python",
   "name": "python",
   "nbconvert_exporter": "python",
   "pygments_lexer": "ipython3",
   "version": "3.10.5"
  }
 },
 "nbformat": 4,
 "nbformat_minor": 5
}
