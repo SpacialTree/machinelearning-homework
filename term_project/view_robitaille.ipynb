{
 "cells": [
  {
   "cell_type": "code",
   "execution_count": 22,
   "id": "bbf8ee54-e2c0-42ac-a506-69382e282bb5",
   "metadata": {},
   "outputs": [],
   "source": [
    "from astropy.io import fits\n",
    "import matplotlib.pyplot as plt"
   ]
  },
  {
   "cell_type": "code",
   "execution_count": 2,
   "id": "7c79f206-9f0d-4a22-967c-ed35392c56c6",
   "metadata": {},
   "outputs": [
    {
     "name": "stdout",
     "output_type": "stream",
     "text": [
      "adaptive_param_plot.py  __init__.py     README~   \u001b[0m\u001b[01;34msp--s-i\u001b[0m/  \u001b[01;34mspu-smi\u001b[0m/  \u001b[01;34ms-u-smi\u001b[0m/\n",
      "allgeos_props.fits      JWST.ipynb      \u001b[01;34ms-pbhmi\u001b[0m/  \u001b[01;34ms-p-smi\u001b[0m/  \u001b[01;34ms---s-i\u001b[0m/\n",
      "ccds.ipynb              MIRI_ccd.pdf    \u001b[01;34ms-pbsmi\u001b[0m/  \u001b[01;34msp--smi\u001b[0m/  \u001b[01;34ms---smi\u001b[0m/\n",
      "ccds.py                 NIRCam_ccd.pdf  \u001b[01;34msp--h-i\u001b[0m/  \u001b[01;34mspubhmi\u001b[0m/  \u001b[01;34ms-ubhmi\u001b[0m/\n",
      "ccds.py~                \u001b[01;34m__pycache__\u001b[0m/    \u001b[01;34ms-p-hmi\u001b[0m/  \u001b[01;34mspubsmi\u001b[0m/  \u001b[01;34ms-ubsmi\u001b[0m/\n",
      "dust_opacity.fits       README          \u001b[01;34msp--hmi\u001b[0m/  \u001b[01;34mspu-hmi\u001b[0m/  \u001b[01;34ms-u-hmi\u001b[0m/\n"
     ]
    }
   ],
   "source": [
    "ls /blue/ast7939/savannahgramze/robitaille/robitaille_models-1.2"
   ]
  },
  {
   "cell_type": "code",
   "execution_count": 28,
   "id": "e5c266fe-579c-43ed-88fb-828844b4dada",
   "metadata": {},
   "outputs": [],
   "source": [
    "allgeos = fits.open('/blue/ast7939/savannahgramze/robitaille/robitaille_models-1.2/allgeos_props.fits')"
   ]
  },
  {
   "cell_type": "code",
   "execution_count": 29,
   "id": "57ecf5a4-98e5-4e44-8830-d351d4bc3557",
   "metadata": {},
   "outputs": [
    {
     "name": "stdout",
     "output_type": "stream",
     "text": [
      "/blue/ast7939/savannahgramze/robitaille/robitaille_models-1.2/s-pbhmi:\n",
      "augmented_parameters.fits  flux.fits    parameters.fits\n",
      "\u001b[0m\u001b[01;34mconvolved\u001b[0m/                 models.conf  stellar.fits\n",
      "\n",
      "/blue/ast7939/savannahgramze/robitaille/robitaille_models-1.2/s-pbsmi:\n",
      "augmented_parameters.fits  flux.fits    parameters.fits\n",
      "\u001b[01;34mconvolved\u001b[0m/                 models.conf  stellar.fits\n",
      "\n",
      "/blue/ast7939/savannahgramze/robitaille/robitaille_models-1.2/sp--h-i:\n",
      "augmented_parameters.fits  flux.fits    parameters.fits\n",
      "\u001b[01;34mconvolved\u001b[0m/                 models.conf  stellar.fits\n",
      "\n",
      "/blue/ast7939/savannahgramze/robitaille/robitaille_models-1.2/s-p-hmi:\n",
      "augmented_parameters.fits  flux.fits    parameters.fits\n",
      "\u001b[01;34mconvolved\u001b[0m/                 models.conf  stellar.fits\n",
      "\n",
      "/blue/ast7939/savannahgramze/robitaille/robitaille_models-1.2/sp--hmi:\n",
      "augmented_parameters.fits  flux.fits    parameters.fits\n",
      "\u001b[01;34mconvolved\u001b[0m/                 models.conf  stellar.fits\n",
      "\n",
      "/blue/ast7939/savannahgramze/robitaille/robitaille_models-1.2/sp--s-i:\n",
      "augmented_parameters.fits  flux.fits    parameters.fits\n",
      "\u001b[01;34mconvolved\u001b[0m/                 models.conf  stellar.fits\n",
      "\n",
      "/blue/ast7939/savannahgramze/robitaille/robitaille_models-1.2/s-p-smi:\n",
      "augmented_parameters.fits  flux.fits    parameters.fits\n",
      "\u001b[01;34mconvolved\u001b[0m/                 models.conf  stellar.fits\n",
      "\n",
      "/blue/ast7939/savannahgramze/robitaille/robitaille_models-1.2/sp--smi:\n",
      "augmented_parameters.fits  flux.fits    parameters.fits\n",
      "\u001b[01;34mconvolved\u001b[0m/                 models.conf  stellar.fits\n",
      "\n",
      "/blue/ast7939/savannahgramze/robitaille/robitaille_models-1.2/spubhmi:\n",
      "augmented_parameters.fits  flux.fits    parameters.fits\n",
      "\u001b[01;34mconvolved\u001b[0m/                 models.conf  stellar.fits\n",
      "\n",
      "/blue/ast7939/savannahgramze/robitaille/robitaille_models-1.2/spubsmi:\n",
      "augmented_parameters.fits  flux.fits    parameters.fits\n",
      "\u001b[01;34mconvolved\u001b[0m/                 models.conf  stellar.fits\n",
      "\n",
      "/blue/ast7939/savannahgramze/robitaille/robitaille_models-1.2/spu-hmi:\n",
      "augmented_parameters.fits  flux.fits    parameters.fits\n",
      "\u001b[01;34mconvolved\u001b[0m/                 models.conf  stellar.fits\n",
      "\n",
      "/blue/ast7939/savannahgramze/robitaille/robitaille_models-1.2/spu-smi:\n",
      "augmented_parameters.fits  flux.fits    parameters.fits\n",
      "\u001b[01;34mconvolved\u001b[0m/                 models.conf  stellar.fits\n",
      "\n",
      "/blue/ast7939/savannahgramze/robitaille/robitaille_models-1.2/s---s-i:\n",
      "augmented_parameters.fits  flux.fits    parameters.fits\n",
      "\u001b[01;34mconvolved\u001b[0m/                 models.conf  stellar.fits\n",
      "\n",
      "/blue/ast7939/savannahgramze/robitaille/robitaille_models-1.2/s---smi:\n",
      "augmented_parameters.fits  flux.fits    parameters.fits\n",
      "\u001b[01;34mconvolved\u001b[0m/                 models.conf  stellar.fits\n",
      "\n",
      "/blue/ast7939/savannahgramze/robitaille/robitaille_models-1.2/s-ubhmi:\n",
      "augmented_parameters.fits  flux.fits    parameters.fits\n",
      "\u001b[01;34mconvolved\u001b[0m/                 models.conf  stellar.fits\n",
      "\n",
      "/blue/ast7939/savannahgramze/robitaille/robitaille_models-1.2/s-ubsmi:\n",
      "augmented_parameters.fits  flux.fits    parameters.fits\n",
      "\u001b[01;34mconvolved\u001b[0m/                 models.conf  stellar.fits\n",
      "\n",
      "/blue/ast7939/savannahgramze/robitaille/robitaille_models-1.2/s-u-hmi:\n",
      "augmented_parameters.fits  flux.fits    parameters.fits\n",
      "\u001b[01;34mconvolved\u001b[0m/                 models.conf  stellar.fits\n",
      "\n",
      "/blue/ast7939/savannahgramze/robitaille/robitaille_models-1.2/s-u-smi:\n",
      "augmented_parameters.fits  flux.fits    parameters.fits\n",
      "\u001b[01;34mconvolved\u001b[0m/                 models.conf  stellar.fits\n"
     ]
    }
   ],
   "source": [
    "ls /blue/ast7939/savannahgramze/robitaille/robitaille_models-1.2/s*"
   ]
  },
  {
   "cell_type": "code",
   "execution_count": 40,
   "id": "d65dae36-5a82-47a8-abbe-bdfd240cae53",
   "metadata": {},
   "outputs": [
    {
     "name": "stdout",
     "output_type": "stream",
     "text": [
      "ALMA-IMF_1mm.fits  BB.fits  BR.fits  BV.fits  W2.fits\n",
      "ALMA-IMF_3mm.fits  BI.fits  BU.fits  W1.fits\n"
     ]
    }
   ],
   "source": [
    "ls /blue/ast7939/savannahgramze/robitaille/robitaille_models-1.2/s-pbhmi/convolved/user_filters/"
   ]
  },
  {
   "cell_type": "code",
   "execution_count": 47,
   "id": "38322929-a6b2-48f3-9bb6-ada8c17cc5bb",
   "metadata": {},
   "outputs": [
    {
     "data": {
      "text/plain": [
       "FITS_rec([('00NbX04Y_01', [           nan,            nan,            nan,            nan,            nan,            nan, 2.09198326e-01, 4.72911894e-01, 1.02794933e+00, 2.06528640e+00, 3.91171932e+00, 7.11281776e+00, 1.16299334e+01, 1.65818443e+01, 2.07365837e+01, 2.07365837e+01, 2.07365837e+01, 2.07365837e+01, 2.07365837e+01, 2.07365837e+01], [           nan,            nan,            nan,            nan,            nan,            nan, 1.68076023e-01, 3.79908085e-01, 8.25596869e-01, 1.65830445e+00, 3.14009881e+00, 5.70807791e+00, 9.33001709e+00, 1.32990389e+01, 1.66268139e+01, 1.66268139e+01, 1.66268139e+01, 1.66268139e+01, 1.66268139e+01, 1.66268139e+01]),\n",
       "          ('00NbX04Y_02', [           nan,            nan,            nan,            nan,            nan,            nan, 2.09871173e-01, 4.74051803e-01, 1.03194916e+00, 2.06987476e+00, 3.91270113e+00, 7.10736561e+00, 1.16368380e+01, 1.66164150e+01, 2.08130074e+01, 2.08130074e+01, 2.08130074e+01, 2.08130074e+01, 2.08130074e+01, 2.08130074e+01], [           nan,            nan,            nan,            nan,            nan,            nan, 1.68615907e-01, 3.80818397e-01, 8.28797638e-01, 1.66198063e+00, 3.14089394e+00, 5.70371103e+00, 9.33553982e+00, 1.33267050e+01, 1.66879692e+01, 1.66879692e+01, 1.66879692e+01, 1.66879692e+01, 1.66879692e+01, 1.66879692e+01]),\n",
       "          ('00NbX04Y_03', [           nan,            nan,            nan,            nan,            nan,            nan, 2.10976884e-01, 4.72079217e-01, 1.02882445e+00, 2.06178069e+00, 3.89121938e+00, 7.05479431e+00, 1.15955248e+01, 1.66210442e+01, 2.08986740e+01, 2.08986740e+01, 2.08986740e+01, 2.08986740e+01, 2.08986740e+01, 2.08986740e+01], [           nan,            nan,            nan,            nan,            nan,            nan, 1.69505671e-01, 3.79243910e-01, 8.26294243e-01, 1.65549600e+00, 3.12368989e+00, 5.66158485e+00, 9.30241966e+00, 1.33303699e+01, 1.67565250e+01, 1.67565250e+01, 1.67565250e+01, 1.67565250e+01, 1.67565250e+01, 1.67565250e+01]),\n",
       "          ...,\n",
       "          ('zzoXKfm6_07', [           nan,            nan,            nan,            nan,            nan,            nan,            nan,            nan,            nan,            nan, 3.03368306e+00, 7.28675461e+00, 1.80152893e+01, 4.33997498e+01, 1.01994217e+02, 2.27266754e+02, 4.35767090e+02, 6.51614746e+02, 6.51614746e+02, 6.51614746e+02], [           nan,            nan,            nan,            nan,            nan,            nan,            nan,            nan,            nan,            nan, 2.43979573e+00, 5.86134386e+00, 1.44912224e+01, 3.49084282e+01, 8.20307236e+01, 1.82749359e+02, 3.50363342e+02, 5.23780090e+02, 5.23780090e+02, 5.23780090e+02]),\n",
       "          ('zzoXKfm6_08', [           nan,            nan,            nan,            nan,            nan,            nan,            nan,            nan,            nan,            nan, 3.08267617e+00, 7.64823246e+00, 1.84257565e+01, 4.47615433e+01, 1.02378448e+02, 2.23803589e+02, 4.34528198e+02, 6.45665955e+02, 6.45665955e+02, 6.45665955e+02], [           nan,            nan,            nan,            nan,            nan,            nan,            nan,            nan,            nan,            nan, 2.47910786e+00, 6.15093088e+00, 1.48197041e+01, 3.59987640e+01, 8.23366013e+01, 1.79972229e+02, 3.49365997e+02, 5.19018005e+02, 5.19018005e+02, 5.19018005e+02]),\n",
       "          ('zzoXKfm6_09', [           nan,            nan,            nan,            nan,            nan,            nan,            nan,            nan,            nan,            nan, 2.76117635e+00, 7.05334902e+00, 1.80704136e+01, 4.40592880e+01, 1.02508598e+02, 2.22683411e+02, 4.35443268e+02, 6.45660767e+02, 6.45660767e+02, 6.45660767e+02], [           nan,            nan,            nan,            nan,            nan,            nan,            nan,            nan,            nan,            nan, 2.22158289e+00, 5.67448139e+00, 1.45352802e+01, 3.54372063e+01, 8.24421005e+01, 1.79073502e+02, 3.50097290e+02, 5.19012390e+02, 5.19012390e+02, 5.19012390e+02])],\n",
       "         dtype=(numpy.record, [('MODEL_NAME', 'S30'), ('TOTAL_FLUX', '>f8', (20,)), ('TOTAL_FLUX_ERR', '>f8', (20,))]))"
      ]
     },
     "execution_count": 47,
     "metadata": {},
     "output_type": "execute_result"
    }
   ],
   "source": [
    "fits.open('/blue/ast7939/savannahgramze/robitaille/robitaille_models-1.2/s-pbhmi/convolved/user_filters/ALMA-IMF_1mm.fits')[1].data"
   ]
  },
  {
   "cell_type": "code",
   "execution_count": 34,
   "id": "181c0097-cebf-4bc6-b427-62abde32487e",
   "metadata": {},
   "outputs": [
    {
     "data": {
      "text/plain": [
       "FITS_rec([('00NbX04Y_01', 3.861,  5351., 1.195e-21, -1.051, 1.469, 51.21, 3.807e-22,  2.216, 1.e-23, 10., 1,  2.1347291 ,  11.01116031, [4.92740242e-05, 1.43143432e-04, 4.01405141e-04, 9.93287257e-04, 2.53625829e-03, 6.75256800e-03, 1.75923488e-02, 4.45703874e-02, 1.07343854e-01, 2.50015319e-01, 5.67800272e-01, 1.25719261e+00, 2.68518121e+00, 5.36474879e+00, 9.22054523e+00, 9.61557261e+00, 9.61557261e+00, 9.61557261e+00, 9.61557261e+00, 9.61557261e+00], [1.55496148e-06, 5.25073981e-06, 1.78846295e-05, 6.14194645e-05, 2.12398257e-04, 7.37156600e-04, 2.55962411e-03, 8.84484591e-03, 2.68131405e-02, 7.30426854e-02, 1.91987848e-01, 4.97885951e-01, 1.28439140e+00, 3.30866427e+00, 8.51575314e+00,            nan,            nan,            nan,            nan,            nan], 98279.63659383, [ 27.1245613 ,  25.28175473,  23.99499122,  24.57311331,  24.63256623,  23.79742957,  22.87423434,  21.57967844,  19.94095844,  18.19565752,  16.53307352,  14.99594419,  13.60224046,  12.37611546,  11.45557061,          nan,          nan,          nan,          nan,          nan], [ 99.14903335,  83.61829832,  70.99146925,  61.40848272,  52.6600246 ,  45.31332358,  39.0587111 ,  34.08419557,  29.52453339,  25.5392926 ,  21.93645862,  18.98354517,  16.14588277,  13.69159479,  11.77742987,          nan,          nan,          nan,          nan,          nan]),\n",
       "          ('00NbX04Y_02', 3.861,  5351., 1.195e-21, -1.051, 1.469, 51.21, 3.807e-22,  2.216, 1.e-23, 10., 1, 11.18796452,  11.01116031, [3.27328024e-05, 1.01239074e-04, 3.03228872e-04, 8.96146917e-04, 2.60488588e-03, 6.75846785e-03, 1.75593446e-02, 4.44491965e-02, 1.07390778e-01, 2.49878147e-01, 5.68069585e-01, 1.25723318e+00, 2.68504926e+00, 5.36474449e+00, 9.22075623e+00, 9.61557261e+00, 9.61557261e+00, 9.61557261e+00, 9.61557261e+00, 9.61557261e+00], [1.55496148e-06, 5.25073981e-06, 1.78846295e-05, 6.14194645e-05, 2.12398257e-04, 7.37156600e-04, 2.55962411e-03, 8.84484591e-03, 2.68131405e-02, 7.30426854e-02, 1.91987848e-01, 4.97885951e-01, 1.28439140e+00, 3.30866427e+00, 8.51575314e+00,            nan,            nan,            nan,            nan,            nan], 98279.63659383, [ 33.50703438,  30.67895255,  28.32161493,  26.2075772 ,  24.28640852,  23.80700899,  22.91031293,  21.60657102,  19.92774025,  18.1930947 ,  16.5280827 ,  14.9932472 ,  13.60066304,  12.3741818 ,  11.45553731,          nan,          nan,          nan,          nan,          nan], [ 99.14903335,  83.61829832,  70.99146925,  61.40848272,  52.6600246 ,  45.31332358,  39.0587111 ,  34.08419557,  29.52453339,  25.5392926 ,  21.93645862,  18.98354517,  16.14588277,  13.69159479,  11.77742987,          nan,          nan,          nan,          nan,          nan]),\n",
       "          ('00NbX04Y_03', 3.861,  5351., 1.195e-21, -1.051, 1.469, 51.21, 3.807e-22,  2.216, 1.e-23, 10., 1, 20.25928972,  11.01116031, [5.12157768e-05, 1.43314596e-04, 4.18508583e-04, 1.00484577e-03, 2.55122180e-03, 6.72655723e-03, 1.76140450e-02, 4.44849188e-02, 1.07263212e-01, 2.49873247e-01, 5.68197477e-01, 1.25719071e+00, 2.68509702e+00, 5.36459231e+00, 9.22056432e+00, 9.61557261e+00, 9.61557261e+00, 9.61557261e+00, 9.61557261e+00, 9.61557261e+00], [1.55496148e-06, 5.25073981e-06, 1.78846295e-05, 6.14194645e-05, 2.12398257e-04, 7.37156600e-04, 2.55962411e-03, 8.84484591e-03, 2.68131405e-02, 7.30426854e-02, 1.91987848e-01, 4.97885951e-01, 1.28439140e+00, 3.30866427e+00, 8.51575314e+00,            nan,            nan,            nan,            nan,            nan], 98279.63659383, [ 26.9073082 ,  25.43631557,  23.57694498,  24.51950728,  24.66644166,  23.94724367,  22.90846411,  21.59375695,  19.93191858,  18.18435859,  16.51962381,  14.98773509,  13.5965581 ,  12.37006511,  11.4555676 ,          nan,          nan,          nan,          nan,          nan], [ 99.14903335,  83.61829832,  70.99146925,  61.40848272,  52.6600246 ,  45.31332358,  39.0587111 ,  34.08419557,  29.52453339,  25.5392926 ,  21.93645862,  18.98354517,  16.14588277,  13.69159479,  11.77742987,          nan,          nan,          nan,          nan,          nan]),\n",
       "          ...,\n",
       "          ('zzoXKfm6_07', 1.622, 16550., 1.011e-22, -1.896, 1.55 , 11.1 , 1.249e-21, 64.14 , 1.e-23, 10., 1, 65.95492342, 177.82276974, [1.22206272e-05, 2.78525209e-05, 5.67143817e-05, 1.05988484e-04, 1.85780229e-04, 3.10476056e-04, 4.90996507e-04, 6.98930543e-04, 7.29473451e-04, 7.29473451e-04, 7.29473451e-04, 7.29473451e-04, 7.29473451e-04, 7.29473451e-04, 7.29473451e-04, 7.29473451e-04, 7.29473451e-04, 7.29473451e-04, 7.29473451e-04, 7.29473451e-04], [2.75782459e-06, 1.13741063e-05, 2.88695780e-05, 6.12392637e-05, 1.16527020e-04, 2.10952636e-04, 3.72214294e-04, 6.47617961e-04,            nan,            nan,            nan,            nan,            nan,            nan,            nan,            nan,            nan,            nan,            nan,            nan],  3416.38744505, [169.99616026, 157.80974029, 141.61951723, 125.37309933, 110.4610406 ,  97.48714779,  86.79258089,  79.07902238,          nan,          nan,          nan,          nan,          nan,          nan,          nan,          nan,          nan,          nan,          nan,          nan], [229.83253005, 201.53910291, 174.87825091, 150.61829042, 129.56662387, 112.15676328,  95.36168615,  81.52388829,          nan,          nan,          nan,          nan,          nan,          nan,          nan,          nan,          nan,          nan,          nan,          nan]),\n",
       "          ('zzoXKfm6_08', 1.622, 16550., 1.011e-22, -1.896, 1.55 , 11.1 , 1.249e-21, 64.14 , 1.e-23, 10., 1, 77.82316978, 177.82276974, [1.25012024e-05, 2.80231758e-05, 5.67117879e-05, 1.05967225e-04, 1.85780927e-04, 3.10463570e-04, 4.90956119e-04, 6.98928300e-04, 7.29473451e-04, 7.29473451e-04, 7.29473451e-04, 7.29473451e-04, 7.29473451e-04, 7.29473451e-04, 7.29473451e-04, 7.29473451e-04, 7.29473451e-04, 7.29473451e-04, 7.29473451e-04, 7.29473451e-04], [2.75782459e-06, 1.13741063e-05, 2.88695780e-05, 6.12392637e-05, 1.16527020e-04, 2.10952636e-04, 3.72214294e-04, 6.47617961e-04,            nan,            nan,            nan,            nan,            nan,            nan,            nan,            nan,            nan,            nan,            nan,            nan],  3416.38744505, [170.35235395, 157.70071569, 141.48376483, 125.27878273, 110.37665087,  97.41716835,  86.7461821 ,  79.07407473,          nan,          nan,          nan,          nan,          nan,          nan,          nan,          nan,          nan,          nan,          nan,          nan], [229.83253005, 201.53910291, 174.87825091, 150.61829042, 129.56662387, 112.15676328,  95.36168615,  81.52388829,          nan,          nan,          nan,          nan,          nan,          nan,          nan,          nan,          nan,          nan,          nan,          nan]),\n",
       "          ('zzoXKfm6_09', 1.622, 16550., 1.011e-22, -1.896, 1.55 , 11.1 , 1.249e-21, 64.14 , 1.e-23, 10., 1, 87.4428559 , 177.82276974, [1.25991460e-05, 2.80966308e-05, 5.67129332e-05, 1.05973431e-04, 1.85757716e-04, 3.10449629e-04, 4.90971007e-04, 6.98924923e-04, 7.29473451e-04, 7.29473451e-04, 7.29473451e-04, 7.29473451e-04, 7.29473451e-04, 7.29473451e-04, 7.29473451e-04, 7.29473451e-04, 7.29473451e-04, 7.29473451e-04, 7.29473451e-04, 7.29473451e-04], [2.75782459e-06, 1.13741063e-05, 2.88695780e-05, 6.12392637e-05, 1.16527020e-04, 2.10952636e-04, 3.72214294e-04, 6.47617961e-04,            nan,            nan,            nan,            nan,            nan,            nan,            nan,            nan,            nan,            nan,            nan,            nan],  3416.38744505, [170.43881838, 157.6505173 , 141.43984578, 125.24283119, 110.35619973,  97.3981055 ,  86.7263426 ,  79.07296484,          nan,          nan,          nan,          nan,          nan,          nan,          nan,          nan,          nan,          nan,          nan,          nan], [229.83253005, 201.53910291, 174.87825091, 150.61829042, 129.56662387, 112.15676328,  95.36168615,  81.52388829,          nan,          nan,          nan,          nan,          nan,          nan,          nan,          nan,          nan,          nan,          nan,          nan])],\n",
       "         dtype=(numpy.record, [('MODEL_NAME', 'S20'), ('star.radius', '>f8'), ('star.temperature', '>f8'), ('envelope.rho_0', '>f8'), ('envelope.power', '>f8'), ('cavity.power', '>f8'), ('cavity.theta_0', '>f8'), ('cavity.rho_0', '>f8'), ('envelope.rmin', '>f8'), ('ambient.density', '>f8'), ('ambient.temperature', '>f8'), ('scattering', '>i8'), ('inclination', '>f8'), ('Model Luminosity', '>f8'), ('Line-of-Sight Masses', '>f8', (20,)), ('Sphere Masses', '>f8', (20,)), ('Outer Radius', '>f8'), ('Line-of-Sight Weighted Temperatures', '>f8', (20,)), ('Sphere Weighted Temperatures', '>f8', (20,))]))"
      ]
     },
     "execution_count": 34,
     "metadata": {},
     "output_type": "execute_result"
    }
   ],
   "source": [
    "fits.open('/blue/ast7939/savannahgramze/robitaille/robitaille_models-1.2/s-pbhmi/augmented_parameters.fits')[1].data"
   ]
  },
  {
   "cell_type": "code",
   "execution_count": 37,
   "id": "d9e80aa8-73a3-4af1-b69e-a9ab96e94bb1",
   "metadata": {},
   "outputs": [
    {
     "data": {
      "text/plain": [
       "array([[6.15693808e-06, 1.60865895e-05, 4.19465367e-05, ...,\n",
       "        1.40789789e-02, 1.40789789e-02, 1.40789789e-02],\n",
       "       [6.27579199e-06, 1.64163822e-05, 4.27652545e-05, ...,\n",
       "        1.40789789e-02, 1.40789789e-02, 1.40789789e-02],\n",
       "       [6.45397652e-06, 1.67207335e-05, 4.37240908e-05, ...,\n",
       "        1.40789789e-02, 1.40789789e-02, 1.40789789e-02],\n",
       "       ...,\n",
       "       [2.72662528e-01, 8.15806690e-01, 2.23573629e+00, ...,\n",
       "        9.27642302e+05, 1.88230333e+06, 1.89799573e+08],\n",
       "       [4.30931399e-01, 1.24902211e+00, 3.49515354e+00, ...,\n",
       "        9.31333345e+05, 1.88470833e+06, 1.89799573e+08],\n",
       "       [6.26865105e-01, 1.81169173e+00, 5.02585617e+00, ...,\n",
       "        9.31860243e+05, 1.88448964e+06, 1.89799573e+08]])"
      ]
     },
     "execution_count": 37,
     "metadata": {},
     "output_type": "execute_result"
    }
   ],
   "source": [
    "fits.open('/blue/ast7939/savannahgramze/robitaille/robitaille_models-1.2/s-u-smi/augmented_parameters.fits')[1].data['Line-of-Sight Masses']"
   ]
  },
  {
   "cell_type": "code",
   "execution_count": null,
   "id": "0cfbb203-5d21-4f98-b52e-68727c1fc344",
   "metadata": {},
   "outputs": [],
   "source": []
  }
 ],
 "metadata": {
  "kernelspec": {
   "display_name": "UFRC Python-3.10",
   "language": "python",
   "name": "python3-3.10-ufrc"
  },
  "language_info": {
   "codemirror_mode": {
    "name": "ipython",
    "version": 3
   },
   "file_extension": ".py",
   "mimetype": "text/x-python",
   "name": "python",
   "nbconvert_exporter": "python",
   "pygments_lexer": "ipython3",
   "version": "3.10.5"
  }
 },
 "nbformat": 4,
 "nbformat_minor": 5
}
