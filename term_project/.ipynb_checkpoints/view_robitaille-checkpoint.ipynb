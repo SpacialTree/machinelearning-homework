{
 "cells": [
  {
   "cell_type": "code",
   "execution_count": 116,
   "id": "bbf8ee54-e2c0-42ac-a506-69382e282bb5",
   "metadata": {},
   "outputs": [],
   "source": [
    "from astropy.io import fits\n",
    "import astropy.units as u\n",
    "import matplotlib.pyplot as plt\n",
    "import numpy as np"
   ]
  },
  {
   "cell_type": "code",
   "execution_count": 2,
   "id": "7c79f206-9f0d-4a22-967c-ed35392c56c6",
   "metadata": {},
   "outputs": [
    {
     "name": "stdout",
     "output_type": "stream",
     "text": [
      "adaptive_param_plot.py  __init__.py     README~   \u001b[0m\u001b[01;34msp--s-i\u001b[0m/  \u001b[01;34mspu-smi\u001b[0m/  \u001b[01;34ms-u-smi\u001b[0m/\n",
      "allgeos_props.fits      JWST.ipynb      \u001b[01;34ms-pbhmi\u001b[0m/  \u001b[01;34ms-p-smi\u001b[0m/  \u001b[01;34ms---s-i\u001b[0m/\n",
      "ccds.ipynb              MIRI_ccd.pdf    \u001b[01;34ms-pbsmi\u001b[0m/  \u001b[01;34msp--smi\u001b[0m/  \u001b[01;34ms---smi\u001b[0m/\n",
      "ccds.py                 NIRCam_ccd.pdf  \u001b[01;34msp--h-i\u001b[0m/  \u001b[01;34mspubhmi\u001b[0m/  \u001b[01;34ms-ubhmi\u001b[0m/\n",
      "ccds.py~                \u001b[01;34m__pycache__\u001b[0m/    \u001b[01;34ms-p-hmi\u001b[0m/  \u001b[01;34mspubsmi\u001b[0m/  \u001b[01;34ms-ubsmi\u001b[0m/\n",
      "dust_opacity.fits       README          \u001b[01;34msp--hmi\u001b[0m/  \u001b[01;34mspu-hmi\u001b[0m/  \u001b[01;34ms-u-hmi\u001b[0m/\n"
     ]
    }
   ],
   "source": [
    "ls /blue/ast7939/savannahgramze/robitaille/robitaille_models-1.2"
   ]
  },
  {
   "cell_type": "code",
   "execution_count": 28,
   "id": "e5c266fe-579c-43ed-88fb-828844b4dada",
   "metadata": {},
   "outputs": [],
   "source": [
    "allgeos = fits.open('/blue/ast7939/savannahgramze/robitaille/robitaille_models-1.2/allgeos_props.fits')"
   ]
  },
  {
   "cell_type": "code",
   "execution_count": 109,
   "id": "57ecf5a4-98e5-4e44-8830-d351d4bc3557",
   "metadata": {},
   "outputs": [
    {
     "name": "stdout",
     "output_type": "stream",
     "text": [
      "adaptive_param_plot.py  __init__.py     README~   \u001b[0m\u001b[01;34msp--s-i\u001b[0m/  \u001b[01;34mspu-smi\u001b[0m/  \u001b[01;34ms-u-smi\u001b[0m/\n",
      "allgeos_props.fits      JWST.ipynb      \u001b[01;34ms-pbhmi\u001b[0m/  \u001b[01;34ms-p-smi\u001b[0m/  \u001b[01;34ms---s-i\u001b[0m/\n",
      "ccds.ipynb              MIRI_ccd.pdf    \u001b[01;34ms-pbsmi\u001b[0m/  \u001b[01;34msp--smi\u001b[0m/  \u001b[01;34ms---smi\u001b[0m/\n",
      "ccds.py                 NIRCam_ccd.pdf  \u001b[01;34msp--h-i\u001b[0m/  \u001b[01;34mspubhmi\u001b[0m/  \u001b[01;34ms-ubhmi\u001b[0m/\n",
      "ccds.py~                \u001b[01;34m__pycache__\u001b[0m/    \u001b[01;34ms-p-hmi\u001b[0m/  \u001b[01;34mspubsmi\u001b[0m/  \u001b[01;34ms-ubsmi\u001b[0m/\n",
      "dust_opacity.fits       README          \u001b[01;34msp--hmi\u001b[0m/  \u001b[01;34mspu-hmi\u001b[0m/  \u001b[01;34ms-u-hmi\u001b[0m/\n"
     ]
    }
   ],
   "source": [
    "ls /blue/ast7939/savannahgramze/robitaille/robitaille_models-1.2/"
   ]
  },
  {
   "cell_type": "code",
   "execution_count": 111,
   "id": "d65dae36-5a82-47a8-abbe-bdfd240cae53",
   "metadata": {},
   "outputs": [
    {
     "name": "stdout",
     "output_type": "stream",
     "text": [
      "MIRI.F1000W.fits   NIRCam.F090W.fits   NIRCam.F300M.fits   NIRISS.F090W.fits\n",
      "MIRI.F1065C.fits   NIRCam.F115W.fits   NIRCam.F322W2.fits  NIRISS.F115W.fits\n",
      "MIRI.F1130W.fits   NIRCam.F140M.fits   NIRCam.F323N.fits   NIRISS.F140M.fits\n",
      "MIRI.F1140C.fits   NIRCam.F150W2.fits  NIRCam.F335M.fits   NIRISS.F150W.fits\n",
      "MIRI.F1280W.fits   NIRCam.F150W.fits   NIRCam.F356W.fits   NIRISS.F158M.fits\n",
      "MIRI.F1500W.fits   NIRCam.F162M.fits   NIRCam.F360M.fits   NIRISS.F200W.fits\n",
      "MIRI.F1550C.fits   NIRCam.F164N.fits   NIRCam.F405N.fits   NIRISS.F277W.fits\n",
      "MIRI.F1800W.fits   NIRCam.F182M.fits   NIRCam.F410M.fits   NIRISS.F356W.fits\n",
      "MIRI.F2100W.fits   NIRCam.F187N.fits   NIRCam.F430M.fits   NIRISS.F380M.fits\n",
      "MIRI.F2300C.fits   NIRCam.F200W.fits   NIRCam.F444W.fits   NIRISS.F430M.fits\n",
      "MIRI.F2550W.fits   NIRCam.F210M.fits   NIRCam.F460M.fits   NIRISS.F444W.fits\n",
      "MIRI.F560W.fits    NIRCam.F212N.fits   NIRCam.F466N.fits   NIRISS.F480M.fits\n",
      "MIRI.F770W.fits    NIRCam.F250M.fits   NIRCam.F470N.fits\n",
      "NIRCam.F070W.fits  NIRCam.F277W.fits   NIRCam.F480M.fits\n"
     ]
    }
   ],
   "source": [
    "ls /blue/ast7939/savannahgramze/robitaille/robitaille_models-1.2/s-pbhmi/convolved/JWST"
   ]
  },
  {
   "cell_type": "code",
   "execution_count": 86,
   "id": "399709ce-e5b0-4441-9fc4-527cff2418f7",
   "metadata": {},
   "outputs": [
    {
     "data": {
      "text/plain": [
       "XTENSION= 'BINTABLE'           / binary table extension                         \n",
       "BITPIX  =                    8 / array data type                                \n",
       "NAXIS   =                    2 / number of array dimensions                     \n",
       "NAXIS1  =                   16 / length of dimension 1                          \n",
       "NAXIS2  =                  200 / length of dimension 2                          \n",
       "PCOUNT  =                    0 / number of group parameters                     \n",
       "GCOUNT  =                    1 / number of groups                               \n",
       "TFIELDS =                    2 / number of table fields                         \n",
       "TTYPE1  = 'WAVELENGTH'                                                          \n",
       "TFORM1  = 'D       '                                                            \n",
       "TTYPE2  = 'FREQUENCY'                                                           \n",
       "TFORM2  = 'D       '                                                            \n",
       "EXTNAME = 'SPECTRAL_INFO'      / extension name                                 \n",
       "TUNIT1  = 'um      '                                                            \n",
       "TUNIT2  = 'Hz      '                                                            "
      ]
     },
     "execution_count": 86,
     "metadata": {},
     "output_type": "execute_result"
    }
   ],
   "source": [
    "fits.open('/blue/ast7939/savannahgramze/robitaille/robitaille_models-1.2/s-pbhmi/flux.fits')[2].header"
   ]
  },
  {
   "cell_type": "code",
   "execution_count": 97,
   "id": "d4948ee2-b978-40d0-b316-013fb4741219",
   "metadata": {},
   "outputs": [],
   "source": [
    "wavelength = fits.open('/blue/ast7939/savannahgramze/robitaille/robitaille_models-1.2/s-pbhmi/flux.fits')[2].data[:]['WAVELENGTH']"
   ]
  },
  {
   "cell_type": "code",
   "execution_count": 98,
   "id": "4075b80a-61ca-49fa-a4c5-6de1c7b60229",
   "metadata": {},
   "outputs": [],
   "source": [
    "sed_flux = fits.open('/blue/ast7939/savannahgramze/robitaille/robitaille_models-1.2/s-pbhmi/flux.fits')[4].data[0]"
   ]
  },
  {
   "cell_type": "code",
   "execution_count": 118,
   "id": "3d379647-7bb5-4d29-9558-98a69e48875c",
   "metadata": {},
   "outputs": [
    {
     "data": {
      "text/plain": [
       "(<Quantity 0.0103335 micron>, <Quantity 4838.63172216 micron>)"
      ]
     },
     "execution_count": 118,
     "metadata": {},
     "output_type": "execute_result"
    }
   ],
   "source": [
    "(np.min(wavelength)*u.micron, np.max(wavelength)*u.micron)"
   ]
  },
  {
   "cell_type": "code",
   "execution_count": 168,
   "id": "40fbcaf6-afcf-4922-8343-ae726d1b5233",
   "metadata": {
    "collapsed": true,
    "jupyter": {
     "outputs_hidden": true
    },
    "tags": []
   },
   "outputs": [
    {
     "data": {
      "text/html": [
       "&lt;MaskedColumn name=&apos;filterID&apos; dtype=&apos;object&apos; unit=&apos;&apos; length=54&gt;\n",
       "<table>\n",
       "<tr><td>JWST/NIRCam.F070W</td></tr>\n",
       "<tr><td>JWST/NIRISS.F090W</td></tr>\n",
       "<tr><td>JWST/NIRCam.F090W</td></tr>\n",
       "<tr><td>JWST/NIRISS.F115W</td></tr>\n",
       "<tr><td>JWST/NIRCam.F115W</td></tr>\n",
       "<tr><td>JWST/NIRISS.F140M</td></tr>\n",
       "<tr><td>JWST/NIRCam.F140M</td></tr>\n",
       "<tr><td>JWST/NIRISS.F150W</td></tr>\n",
       "<tr><td>JWST/NIRCam.F150W</td></tr>\n",
       "<tr><td>JWST/NIRISS.F158M</td></tr>\n",
       "<tr><td>JWST/NIRCam.F162M</td></tr>\n",
       "<tr><td>JWST/NIRCam.F164N</td></tr>\n",
       "<tr><td>...</td></tr>\n",
       "<tr><td>JWST/MIRI.F770W</td></tr>\n",
       "<tr><td>JWST/MIRI.F1000W</td></tr>\n",
       "<tr><td>JWST/MIRI.F1065C</td></tr>\n",
       "<tr><td>JWST/MIRI.F1140C</td></tr>\n",
       "<tr><td>JWST/MIRI.F1130W</td></tr>\n",
       "<tr><td>JWST/MIRI.F1280W</td></tr>\n",
       "<tr><td>JWST/MIRI.F1500W</td></tr>\n",
       "<tr><td>JWST/MIRI.F1550C</td></tr>\n",
       "<tr><td>JWST/MIRI.F1800W</td></tr>\n",
       "<tr><td>JWST/MIRI.F2100W</td></tr>\n",
       "<tr><td>JWST/MIRI.F2300C</td></tr>\n",
       "<tr><td>JWST/MIRI.F2550W</td></tr>\n",
       "</table>"
      ],
      "text/plain": [
       "<MaskedColumn name='filterID' dtype='object' unit='' length=54>\n",
       "JWST/NIRCam.F070W\n",
       "JWST/NIRISS.F090W\n",
       "JWST/NIRCam.F090W\n",
       "JWST/NIRISS.F115W\n",
       "JWST/NIRCam.F115W\n",
       "JWST/NIRISS.F140M\n",
       "JWST/NIRCam.F140M\n",
       "JWST/NIRISS.F150W\n",
       "JWST/NIRCam.F150W\n",
       "JWST/NIRISS.F158M\n",
       "JWST/NIRCam.F162M\n",
       "JWST/NIRCam.F164N\n",
       "              ...\n",
       "  JWST/MIRI.F770W\n",
       " JWST/MIRI.F1000W\n",
       " JWST/MIRI.F1065C\n",
       " JWST/MIRI.F1140C\n",
       " JWST/MIRI.F1130W\n",
       " JWST/MIRI.F1280W\n",
       " JWST/MIRI.F1500W\n",
       " JWST/MIRI.F1550C\n",
       " JWST/MIRI.F1800W\n",
       " JWST/MIRI.F2100W\n",
       " JWST/MIRI.F2300C\n",
       " JWST/MIRI.F2550W"
      ]
     },
     "execution_count": 168,
     "metadata": {},
     "output_type": "execute_result"
    }
   ],
   "source": [
    "from astroquery.svo_fps import SvoFps\n",
    "index = SvoFps.get_filter_list(facility='JWST')\n",
    "index['filterID']"
   ]
  },
  {
   "cell_type": "code",
   "execution_count": 179,
   "id": "a2588dee-6202-40a9-b801-96edca32e453",
   "metadata": {},
   "outputs": [
    {
     "name": "stdout",
     "output_type": "stream",
     "text": [
      "Help on built-in function ascii in module builtins:\n",
      "\n",
      "ascii(obj, /)\n",
      "    Return an ASCII-only representation of an object.\n",
      "    \n",
      "    As repr(), return a string containing a printable representation of an\n",
      "    object, but escape the non-ASCII characters in the string returned by\n",
      "    repr() using \\\\x, \\\\u or \\\\U escapes. This generates a string similar\n",
      "    to that returned by repr() in Python 2.\n",
      "\n"
     ]
    }
   ],
   "source": [
    "help(ascii)"
   ]
  },
  {
   "cell_type": "code",
   "execution_count": 181,
   "id": "237cc38a-003c-4501-8bfc-6e9c248dd580",
   "metadata": {},
   "outputs": [
    {
     "data": {
      "text/html": [
       "&lt;MaskedColumn name=&apos;TrasmissionCurve&apos; dtype=&apos;object&apos; length=54&gt;\n",
       "<table>\n",
       "<tr><td>http://svo2.cab.inta-csic.es//theory/fps/fps.php?ID=JWST/NIRCam.F070W</td></tr>\n",
       "<tr><td>http://svo2.cab.inta-csic.es//theory/fps/fps.php?ID=JWST/NIRISS.F090W</td></tr>\n",
       "<tr><td>http://svo2.cab.inta-csic.es//theory/fps/fps.php?ID=JWST/NIRCam.F090W</td></tr>\n",
       "<tr><td>http://svo2.cab.inta-csic.es//theory/fps/fps.php?ID=JWST/NIRISS.F115W</td></tr>\n",
       "<tr><td>http://svo2.cab.inta-csic.es//theory/fps/fps.php?ID=JWST/NIRCam.F115W</td></tr>\n",
       "<tr><td>http://svo2.cab.inta-csic.es//theory/fps/fps.php?ID=JWST/NIRISS.F140M</td></tr>\n",
       "<tr><td>http://svo2.cab.inta-csic.es//theory/fps/fps.php?ID=JWST/NIRCam.F140M</td></tr>\n",
       "<tr><td>http://svo2.cab.inta-csic.es//theory/fps/fps.php?ID=JWST/NIRISS.F150W</td></tr>\n",
       "<tr><td>http://svo2.cab.inta-csic.es//theory/fps/fps.php?ID=JWST/NIRCam.F150W</td></tr>\n",
       "<tr><td>http://svo2.cab.inta-csic.es//theory/fps/fps.php?ID=JWST/NIRISS.F158M</td></tr>\n",
       "<tr><td>http://svo2.cab.inta-csic.es//theory/fps/fps.php?ID=JWST/NIRCam.F162M</td></tr>\n",
       "<tr><td>http://svo2.cab.inta-csic.es//theory/fps/fps.php?ID=JWST/NIRCam.F164N</td></tr>\n",
       "<tr><td>...</td></tr>\n",
       "<tr><td>http://svo2.cab.inta-csic.es//theory/fps/fps.php?ID=JWST/MIRI.F770W</td></tr>\n",
       "<tr><td>http://svo2.cab.inta-csic.es//theory/fps/fps.php?ID=JWST/MIRI.F1000W</td></tr>\n",
       "<tr><td>http://svo2.cab.inta-csic.es//theory/fps/fps.php?ID=JWST/MIRI.F1065C</td></tr>\n",
       "<tr><td>http://svo2.cab.inta-csic.es//theory/fps/fps.php?ID=JWST/MIRI.F1140C</td></tr>\n",
       "<tr><td>http://svo2.cab.inta-csic.es//theory/fps/fps.php?ID=JWST/MIRI.F1130W</td></tr>\n",
       "<tr><td>http://svo2.cab.inta-csic.es//theory/fps/fps.php?ID=JWST/MIRI.F1280W</td></tr>\n",
       "<tr><td>http://svo2.cab.inta-csic.es//theory/fps/fps.php?ID=JWST/MIRI.F1500W</td></tr>\n",
       "<tr><td>http://svo2.cab.inta-csic.es//theory/fps/fps.php?ID=JWST/MIRI.F1550C</td></tr>\n",
       "<tr><td>http://svo2.cab.inta-csic.es//theory/fps/fps.php?ID=JWST/MIRI.F1800W</td></tr>\n",
       "<tr><td>http://svo2.cab.inta-csic.es//theory/fps/fps.php?ID=JWST/MIRI.F2100W</td></tr>\n",
       "<tr><td>http://svo2.cab.inta-csic.es//theory/fps/fps.php?ID=JWST/MIRI.F2300C</td></tr>\n",
       "<tr><td>http://svo2.cab.inta-csic.es//theory/fps/fps.php?ID=JWST/MIRI.F2550W</td></tr>\n",
       "</table>"
      ],
      "text/plain": [
       "<MaskedColumn name='TrasmissionCurve' dtype='object' length=54>\n",
       "http://svo2.cab.inta-csic.es//theory/fps/fps.php?ID=JWST/NIRCam.F070W\n",
       "http://svo2.cab.inta-csic.es//theory/fps/fps.php?ID=JWST/NIRISS.F090W\n",
       "http://svo2.cab.inta-csic.es//theory/fps/fps.php?ID=JWST/NIRCam.F090W\n",
       "http://svo2.cab.inta-csic.es//theory/fps/fps.php?ID=JWST/NIRISS.F115W\n",
       "http://svo2.cab.inta-csic.es//theory/fps/fps.php?ID=JWST/NIRCam.F115W\n",
       "http://svo2.cab.inta-csic.es//theory/fps/fps.php?ID=JWST/NIRISS.F140M\n",
       "http://svo2.cab.inta-csic.es//theory/fps/fps.php?ID=JWST/NIRCam.F140M\n",
       "http://svo2.cab.inta-csic.es//theory/fps/fps.php?ID=JWST/NIRISS.F150W\n",
       "http://svo2.cab.inta-csic.es//theory/fps/fps.php?ID=JWST/NIRCam.F150W\n",
       "http://svo2.cab.inta-csic.es//theory/fps/fps.php?ID=JWST/NIRISS.F158M\n",
       "http://svo2.cab.inta-csic.es//theory/fps/fps.php?ID=JWST/NIRCam.F162M\n",
       "http://svo2.cab.inta-csic.es//theory/fps/fps.php?ID=JWST/NIRCam.F164N\n",
       "                                                                  ...\n",
       "  http://svo2.cab.inta-csic.es//theory/fps/fps.php?ID=JWST/MIRI.F770W\n",
       " http://svo2.cab.inta-csic.es//theory/fps/fps.php?ID=JWST/MIRI.F1000W\n",
       " http://svo2.cab.inta-csic.es//theory/fps/fps.php?ID=JWST/MIRI.F1065C\n",
       " http://svo2.cab.inta-csic.es//theory/fps/fps.php?ID=JWST/MIRI.F1140C\n",
       " http://svo2.cab.inta-csic.es//theory/fps/fps.php?ID=JWST/MIRI.F1130W\n",
       " http://svo2.cab.inta-csic.es//theory/fps/fps.php?ID=JWST/MIRI.F1280W\n",
       " http://svo2.cab.inta-csic.es//theory/fps/fps.php?ID=JWST/MIRI.F1500W\n",
       " http://svo2.cab.inta-csic.es//theory/fps/fps.php?ID=JWST/MIRI.F1550C\n",
       " http://svo2.cab.inta-csic.es//theory/fps/fps.php?ID=JWST/MIRI.F1800W\n",
       " http://svo2.cab.inta-csic.es//theory/fps/fps.php?ID=JWST/MIRI.F2100W\n",
       " http://svo2.cab.inta-csic.es//theory/fps/fps.php?ID=JWST/MIRI.F2300C\n",
       " http://svo2.cab.inta-csic.es//theory/fps/fps.php?ID=JWST/MIRI.F2550W"
      ]
     },
     "execution_count": 181,
     "metadata": {},
     "output_type": "execute_result"
    }
   ],
   "source": [
    "index['TrasmissionCurve']"
   ]
  },
  {
   "cell_type": "code",
   "execution_count": 133,
   "id": "350539c2-51b5-485b-b047-3f018c11ec8b",
   "metadata": {},
   "outputs": [
    {
     "data": {
      "text/latex": [
       "$[[1387.2803,~1385.6071],~\n",
       " [1381.2072,~1379.5501],~\n",
       " [1363.2824,~1362.3916],~\n",
       " [1374.3687,~1372.725],~\n",
       " [1365.6741,~1364.7787],~\n",
       " [1301.6609,~1298.8635],~\n",
       " [1297.4376,~1294.6541],~\n",
       " [1294.8596,~1284.3135]] \\; \\mathrm{\\mu m}$"
      ],
      "text/plain": [
       "<Quantity [[1387.28028409, 1385.60705383],\n",
       "           [1381.20717035, 1379.55009877],\n",
       "           [1363.28239589, 1362.39160295],\n",
       "           [1374.36873295, 1372.72495071],\n",
       "           [1365.67411622, 1364.77867925],\n",
       "           [1301.66089525, 1298.86346817],\n",
       "           [1297.43756033, 1294.65414284],\n",
       "           [1294.85959272, 1284.31345689]] micron>"
      ]
     },
     "execution_count": 133,
     "metadata": {},
     "output_type": "execute_result"
    }
   ],
   "source": [
    "almaimf_bandends_1mm = [[216.10085679, 216.36181569],\n",
    "  [217.05104378, 217.31175857],\n",
    "  [219.90488464, 220.04866835],\n",
    "  [218.13102322, 218.39222624],\n",
    "  [219.51976276, 219.66379059],\n",
    "  [230.31532951, 230.81137113],\n",
    "  [231.06503709, 231.56181105],\n",
    "  [231.52507012, 233.42623749]]*u.GHz\n",
    "almaimf_bandends_1mm_micron = almaimf_bandends_1mm.to(u.micron, equivalencies=u.spectral())\n",
    "almaimf_bandends_1mm_micron"
   ]
  },
  {
   "cell_type": "code",
   "execution_count": 165,
   "id": "d289a4d0-5bbd-4c0f-b97b-a6e7adb036b0",
   "metadata": {},
   "outputs": [
    {
     "data": {
      "text/latex": [
       "$[[3218.933,~3214.8838],~\n",
       " [3267.4717,~3234.4414],~\n",
       " [2934.7473,~2908.074],~\n",
       " [2867.3665,~2841.8987]] \\; \\mathrm{\\mu m}$"
      ],
      "text/plain": [
       "<Quantity [[3218.93299952, 3214.88382506],\n",
       "           [3267.47169449, 3234.44143655],\n",
       "           [2934.74729076, 2908.07397542],\n",
       "           [2867.36654237, 2841.89867136]] micron>"
      ]
     },
     "execution_count": 165,
     "metadata": {},
     "output_type": "execute_result"
    }
   ],
   "source": [
    "almaimf_bandends_3mm = [[ 93.13410936,  93.25141259],\n",
    "  [ 91.75059068,  92.68755174],\n",
    "  [102.15273354, 103.0896946 ],\n",
    "  [104.55323851, 105.49019957]]*u.GHz\n",
    "almaimf_bandends_3mm_micron = almaimf_bandends_3mm.to(u.micron, equivalencies=u.spectral())\n",
    "almaimf_bandends_3mm_micron"
   ]
  },
  {
   "cell_type": "code",
   "execution_count": 167,
   "id": "298727da-251e-4c3c-bfe3-d2f9385e1935",
   "metadata": {},
   "outputs": [
    {
     "data": {
      "text/plain": [
       "<matplotlib.patches.Polygon at 0x2afa36d0f880>"
      ]
     },
     "execution_count": 167,
     "metadata": {},
     "output_type": "execute_result"
    },
    {
     "data": {
      "image/png": "[encoded data removed]",
      "text/plain": [
       "<Figure size 432x288 with 1 Axes>"
      ]
     },
     "metadata": {
      "needs_background": "light"
     },
     "output_type": "display_data"
    }
   ],
   "source": [
    "plt.plot(wavelength, sed_flux[-1])\n",
    "plt.xlabel('Wavelength [$\\mu$m]')\n",
    "plt.ylabel('Flux [mJy]')\n",
    "plt.xscale('log')\n",
    "plt.yscale('log')\n",
    "\n",
    "plt.axvspan(1284.3135, 1387.2803, alpha=0.5) # ALMA 1mm\n",
    "plt.axvspan(2841.8987, 3218.933, alpha=0.5) # ALMA 3mm"
   ]
  },
  {
   "cell_type": "code",
   "execution_count": 108,
   "id": "f7991c83-d500-4ee4-9766-ca9c0159b56e",
   "metadata": {},
   "outputs": [
    {
     "data": {
      "text/plain": [
       "SIMPLE  =                    T / conforms to FITS standard                      \n",
       "BITPIX  =                    8 / array data type                                \n",
       "NAXIS   =                    0 / number of array dimensions                     \n",
       "EXTEND  =                    T                                                  \n",
       "FILTWAV =    1313.968529355225                                                  \n",
       "NMODELS =                90000                                                  \n",
       "NAP     =                   20                                                  "
      ]
     },
     "execution_count": 108,
     "metadata": {},
     "output_type": "execute_result"
    }
   ],
   "source": [
    "fits.open('/blue/ast7939/savannahgramze/robitaille/robitaille_models-1.2/s-pbhmi/convolved/user_filters/ALMA-IMF_1mm.fits')[0].header"
   ]
  },
  {
   "cell_type": "code",
   "execution_count": 54,
   "id": "38322929-a6b2-48f3-9bb6-ada8c17cc5bb",
   "metadata": {},
   "outputs": [
    {
     "data": {
      "text/plain": [
       "array([        nan,         nan,         nan,         nan,         nan,\n",
       "               nan,  0.20919833,  0.47291189,  1.02794933,  2.0652864 ,\n",
       "        3.91171932,  7.11281776, 11.62993336, 16.58184433, 20.73658371,\n",
       "       20.73658371, 20.73658371, 20.73658371, 20.73658371, 20.73658371])"
      ]
     },
     "execution_count": 54,
     "metadata": {},
     "output_type": "execute_result"
    }
   ],
   "source": [
    "fits.open('/blue/ast7939/savannahgramze/robitaille/robitaille_models-1.2/s-pbhmi/convolved/user_filters/ALMA-IMF_1mm.fits')[1].data['TOTAL_FLUX'][0]"
   ]
  },
  {
   "cell_type": "code",
   "execution_count": 55,
   "id": "792b5d96-0d7b-4a6f-80a0-5d3627b7d92d",
   "metadata": {},
   "outputs": [
    {
     "data": {
      "text/plain": [
       "array([       nan,        nan,        nan,        nan,        nan,\n",
       "              nan, 0.01164073, 0.02646486, 0.05826468, 0.11873795,\n",
       "       0.22799048, 0.42126742, 0.70137781, 1.01518416, 1.28865266,\n",
       "       1.28865266, 1.28865266, 1.28865266, 1.28865266, 1.28865266])"
      ]
     },
     "execution_count": 55,
     "metadata": {},
     "output_type": "execute_result"
    }
   ],
   "source": [
    "fits.open('/blue/ast7939/savannahgramze/robitaille/robitaille_models-1.2/s-pbhmi/convolved/user_filters/ALMA-IMF_3mm.fits')[1].data['TOTAL_FLUX'][0]"
   ]
  },
  {
   "cell_type": "code",
   "execution_count": 60,
   "id": "d9e80aa8-73a3-4af1-b69e-a9ab96e94bb1",
   "metadata": {},
   "outputs": [
    {
     "data": {
      "text/plain": [
       "array([4.92740242e-05, 1.43143432e-04, 4.01405141e-04, 9.93287257e-04,\n",
       "       2.53625829e-03, 6.75256800e-03, 1.75923488e-02, 4.45703874e-02,\n",
       "       1.07343854e-01, 2.50015319e-01, 5.67800272e-01, 1.25719261e+00,\n",
       "       2.68518121e+00, 5.36474879e+00, 9.22054523e+00, 9.61557261e+00,\n",
       "       9.61557261e+00, 9.61557261e+00, 9.61557261e+00, 9.61557261e+00])"
      ]
     },
     "execution_count": 60,
     "metadata": {},
     "output_type": "execute_result"
    }
   ],
   "source": [
    "fits.open('/blue/ast7939/savannahgramze/robitaille/robitaille_models-1.2/s-pbhmi/augmented_parameters.fits')[1].data['Line-of-Sight Masses'][0]"
   ]
  },
  {
   "cell_type": "code",
   "execution_count": 34,
   "id": "181c0097-cebf-4bc6-b427-62abde32487e",
   "metadata": {},
   "outputs": [
    {
     "data": {
      "text/plain": [
       "FITS_rec([('00NbX04Y_01', 3.861,  5351., 1.195e-21, -1.051, 1.469, 51.21, 3.807e-22,  2.216, 1.e-23, 10., 1,  2.1347291 ,  11.01116031, [4.92740242e-05, 1.43143432e-04, 4.01405141e-04, 9.93287257e-04, 2.53625829e-03, 6.75256800e-03, 1.75923488e-02, 4.45703874e-02, 1.07343854e-01, 2.50015319e-01, 5.67800272e-01, 1.25719261e+00, 2.68518121e+00, 5.36474879e+00, 9.22054523e+00, 9.61557261e+00, 9.61557261e+00, 9.61557261e+00, 9.61557261e+00, 9.61557261e+00], [1.55496148e-06, 5.25073981e-06, 1.78846295e-05, 6.14194645e-05, 2.12398257e-04, 7.37156600e-04, 2.55962411e-03, 8.84484591e-03, 2.68131405e-02, 7.30426854e-02, 1.91987848e-01, 4.97885951e-01, 1.28439140e+00, 3.30866427e+00, 8.51575314e+00,            nan,            nan,            nan,            nan,            nan], 98279.63659383, [ 27.1245613 ,  25.28175473,  23.99499122,  24.57311331,  24.63256623,  23.79742957,  22.87423434,  21.57967844,  19.94095844,  18.19565752,  16.53307352,  14.99594419,  13.60224046,  12.37611546,  11.45557061,          nan,          nan,          nan,          nan,          nan], [ 99.14903335,  83.61829832,  70.99146925,  61.40848272,  52.6600246 ,  45.31332358,  39.0587111 ,  34.08419557,  29.52453339,  25.5392926 ,  21.93645862,  18.98354517,  16.14588277,  13.69159479,  11.77742987,          nan,          nan,          nan,          nan,          nan]),\n",
       "          ('00NbX04Y_02', 3.861,  5351., 1.195e-21, -1.051, 1.469, 51.21, 3.807e-22,  2.216, 1.e-23, 10., 1, 11.18796452,  11.01116031, [3.27328024e-05, 1.01239074e-04, 3.03228872e-04, 8.96146917e-04, 2.60488588e-03, 6.75846785e-03, 1.75593446e-02, 4.44491965e-02, 1.07390778e-01, 2.49878147e-01, 5.68069585e-01, 1.25723318e+00, 2.68504926e+00, 5.36474449e+00, 9.22075623e+00, 9.61557261e+00, 9.61557261e+00, 9.61557261e+00, 9.61557261e+00, 9.61557261e+00], [1.55496148e-06, 5.25073981e-06, 1.78846295e-05, 6.14194645e-05, 2.12398257e-04, 7.37156600e-04, 2.55962411e-03, 8.84484591e-03, 2.68131405e-02, 7.30426854e-02, 1.91987848e-01, 4.97885951e-01, 1.28439140e+00, 3.30866427e+00, 8.51575314e+00,            nan,            nan,            nan,            nan,            nan], 98279.63659383, [ 33.50703438,  30.67895255,  28.32161493,  26.2075772 ,  24.28640852,  23.80700899,  22.91031293,  21.60657102,  19.92774025,  18.1930947 ,  16.5280827 ,  14.9932472 ,  13.60066304,  12.3741818 ,  11.45553731,          nan,          nan,          nan,          nan,          nan], [ 99.14903335,  83.61829832,  70.99146925,  61.40848272,  52.6600246 ,  45.31332358,  39.0587111 ,  34.08419557,  29.52453339,  25.5392926 ,  21.93645862,  18.98354517,  16.14588277,  13.69159479,  11.77742987,          nan,          nan,          nan,          nan,          nan]),\n",
       "          ('00NbX04Y_03', 3.861,  5351., 1.195e-21, -1.051, 1.469, 51.21, 3.807e-22,  2.216, 1.e-23, 10., 1, 20.25928972,  11.01116031, [5.12157768e-05, 1.43314596e-04, 4.18508583e-04, 1.00484577e-03, 2.55122180e-03, 6.72655723e-03, 1.76140450e-02, 4.44849188e-02, 1.07263212e-01, 2.49873247e-01, 5.68197477e-01, 1.25719071e+00, 2.68509702e+00, 5.36459231e+00, 9.22056432e+00, 9.61557261e+00, 9.61557261e+00, 9.61557261e+00, 9.61557261e+00, 9.61557261e+00], [1.55496148e-06, 5.25073981e-06, 1.78846295e-05, 6.14194645e-05, 2.12398257e-04, 7.37156600e-04, 2.55962411e-03, 8.84484591e-03, 2.68131405e-02, 7.30426854e-02, 1.91987848e-01, 4.97885951e-01, 1.28439140e+00, 3.30866427e+00, 8.51575314e+00,            nan,            nan,            nan,            nan,            nan], 98279.63659383, [ 26.9073082 ,  25.43631557,  23.57694498,  24.51950728,  24.66644166,  23.94724367,  22.90846411,  21.59375695,  19.93191858,  18.18435859,  16.51962381,  14.98773509,  13.5965581 ,  12.37006511,  11.4555676 ,          nan,          nan,          nan,          nan,          nan], [ 99.14903335,  83.61829832,  70.99146925,  61.40848272,  52.6600246 ,  45.31332358,  39.0587111 ,  34.08419557,  29.52453339,  25.5392926 ,  21.93645862,  18.98354517,  16.14588277,  13.69159479,  11.77742987,          nan,          nan,          nan,          nan,          nan]),\n",
       "          ...,\n",
       "          ('zzoXKfm6_07', 1.622, 16550., 1.011e-22, -1.896, 1.55 , 11.1 , 1.249e-21, 64.14 , 1.e-23, 10., 1, 65.95492342, 177.82276974, [1.22206272e-05, 2.78525209e-05, 5.67143817e-05, 1.05988484e-04, 1.85780229e-04, 3.10476056e-04, 4.90996507e-04, 6.98930543e-04, 7.29473451e-04, 7.29473451e-04, 7.29473451e-04, 7.29473451e-04, 7.29473451e-04, 7.29473451e-04, 7.29473451e-04, 7.29473451e-04, 7.29473451e-04, 7.29473451e-04, 7.29473451e-04, 7.29473451e-04], [2.75782459e-06, 1.13741063e-05, 2.88695780e-05, 6.12392637e-05, 1.16527020e-04, 2.10952636e-04, 3.72214294e-04, 6.47617961e-04,            nan,            nan,            nan,            nan,            nan,            nan,            nan,            nan,            nan,            nan,            nan,            nan],  3416.38744505, [169.99616026, 157.80974029, 141.61951723, 125.37309933, 110.4610406 ,  97.48714779,  86.79258089,  79.07902238,          nan,          nan,          nan,          nan,          nan,          nan,          nan,          nan,          nan,          nan,          nan,          nan], [229.83253005, 201.53910291, 174.87825091, 150.61829042, 129.56662387, 112.15676328,  95.36168615,  81.52388829,          nan,          nan,          nan,          nan,          nan,          nan,          nan,          nan,          nan,          nan,          nan,          nan]),\n",
       "          ('zzoXKfm6_08', 1.622, 16550., 1.011e-22, -1.896, 1.55 , 11.1 , 1.249e-21, 64.14 , 1.e-23, 10., 1, 77.82316978, 177.82276974, [1.25012024e-05, 2.80231758e-05, 5.67117879e-05, 1.05967225e-04, 1.85780927e-04, 3.10463570e-04, 4.90956119e-04, 6.98928300e-04, 7.29473451e-04, 7.29473451e-04, 7.29473451e-04, 7.29473451e-04, 7.29473451e-04, 7.29473451e-04, 7.29473451e-04, 7.29473451e-04, 7.29473451e-04, 7.29473451e-04, 7.29473451e-04, 7.29473451e-04], [2.75782459e-06, 1.13741063e-05, 2.88695780e-05, 6.12392637e-05, 1.16527020e-04, 2.10952636e-04, 3.72214294e-04, 6.47617961e-04,            nan,            nan,            nan,            nan,            nan,            nan,            nan,            nan,            nan,            nan,            nan,            nan],  3416.38744505, [170.35235395, 157.70071569, 141.48376483, 125.27878273, 110.37665087,  97.41716835,  86.7461821 ,  79.07407473,          nan,          nan,          nan,          nan,          nan,          nan,          nan,          nan,          nan,          nan,          nan,          nan], [229.83253005, 201.53910291, 174.87825091, 150.61829042, 129.56662387, 112.15676328,  95.36168615,  81.52388829,          nan,          nan,          nan,          nan,          nan,          nan,          nan,          nan,          nan,          nan,          nan,          nan]),\n",
       "          ('zzoXKfm6_09', 1.622, 16550., 1.011e-22, -1.896, 1.55 , 11.1 , 1.249e-21, 64.14 , 1.e-23, 10., 1, 87.4428559 , 177.82276974, [1.25991460e-05, 2.80966308e-05, 5.67129332e-05, 1.05973431e-04, 1.85757716e-04, 3.10449629e-04, 4.90971007e-04, 6.98924923e-04, 7.29473451e-04, 7.29473451e-04, 7.29473451e-04, 7.29473451e-04, 7.29473451e-04, 7.29473451e-04, 7.29473451e-04, 7.29473451e-04, 7.29473451e-04, 7.29473451e-04, 7.29473451e-04, 7.29473451e-04], [2.75782459e-06, 1.13741063e-05, 2.88695780e-05, 6.12392637e-05, 1.16527020e-04, 2.10952636e-04, 3.72214294e-04, 6.47617961e-04,            nan,            nan,            nan,            nan,            nan,            nan,            nan,            nan,            nan,            nan,            nan,            nan],  3416.38744505, [170.43881838, 157.6505173 , 141.43984578, 125.24283119, 110.35619973,  97.3981055 ,  86.7263426 ,  79.07296484,          nan,          nan,          nan,          nan,          nan,          nan,          nan,          nan,          nan,          nan,          nan,          nan], [229.83253005, 201.53910291, 174.87825091, 150.61829042, 129.56662387, 112.15676328,  95.36168615,  81.52388829,          nan,          nan,          nan,          nan,          nan,          nan,          nan,          nan,          nan,          nan,          nan,          nan])],\n",
       "         dtype=(numpy.record, [('MODEL_NAME', 'S20'), ('star.radius', '>f8'), ('star.temperature', '>f8'), ('envelope.rho_0', '>f8'), ('envelope.power', '>f8'), ('cavity.power', '>f8'), ('cavity.theta_0', '>f8'), ('cavity.rho_0', '>f8'), ('envelope.rmin', '>f8'), ('ambient.density', '>f8'), ('ambient.temperature', '>f8'), ('scattering', '>i8'), ('inclination', '>f8'), ('Model Luminosity', '>f8'), ('Line-of-Sight Masses', '>f8', (20,)), ('Sphere Masses', '>f8', (20,)), ('Outer Radius', '>f8'), ('Line-of-Sight Weighted Temperatures', '>f8', (20,)), ('Sphere Weighted Temperatures', '>f8', (20,))]))"
      ]
     },
     "execution_count": 34,
     "metadata": {},
     "output_type": "execute_result"
    }
   ],
   "source": [
    "fits.open('/blue/ast7939/savannahgramze/robitaille/robitaille_models-1.2/s-pbhmi/augmented_parameters.fits')[1].data"
   ]
  },
  {
   "cell_type": "code",
   "execution_count": null,
   "id": "0cfbb203-5d21-4f98-b52e-68727c1fc344",
   "metadata": {},
   "outputs": [],
   "source": []
  }
 ],
 "metadata": {
  "kernelspec": {
   "display_name": "UFRC Python-3.10",
   "language": "python",
   "name": "python3-3.10-ufrc"
  },
  "language_info": {
   "codemirror_mode": {
    "name": "ipython",
    "version": 3
   },
   "file_extension": ".py",
   "mimetype": "text/x-python",
   "name": "python",
   "nbconvert_exporter": "python",
   "pygments_lexer": "ipython3",
   "version": "3.10.5"
  }
 },
 "nbformat": 4,
 "nbformat_minor": 5
}
