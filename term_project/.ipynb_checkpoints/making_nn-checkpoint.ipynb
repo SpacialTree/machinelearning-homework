{
 "cells": [
  {
   "cell_type": "code",
   "execution_count": 27,
   "id": "a53cba58-e2c5-47ca-b053-65872d2cccd1",
   "metadata": {},
   "outputs": [],
   "source": [
    "#from astropy.io import fits\n",
    "#import astropy.units as u\n",
    "import matplotlib.pyplot as plt\n",
    "import numpy as np\n",
    "import tensorflow as tf\n",
    "import tensorflow.keras as keras\n",
    "from tensorflow.keras import layers\n",
    "import pandas as pd\n",
    "#from astropy.table import Table\n",
    "from sklearn.model_selection import train_test_split\n",
    "from sklearn.preprocessing import StandardScaler"
   ]
  },
  {
   "cell_type": "markdown",
   "id": "1f7b9914-3b92-402d-b337-96d1654564ad",
   "metadata": {},
   "source": [
    "# Read Processed Data"
   ]
  },
  {
   "cell_type": "code",
   "execution_count": 28,
   "id": "9228da5e-aa41-465d-8bbb-ae08d685b93d",
   "metadata": {},
   "outputs": [
    {
     "data": {
      "text/html": [
       "<div>\n",
       "<style scoped>\n",
       "    .dataframe tbody tr th:only-of-type {\n",
       "        vertical-align: middle;\n",
       "    }\n",
       "\n",
       "    .dataframe tbody tr th {\n",
       "        vertical-align: top;\n",
       "    }\n",
       "\n",
       "    .dataframe thead th {\n",
       "        text-align: right;\n",
       "    }\n",
       "</style>\n",
       "<table border=\"1\" class=\"dataframe\">\n",
       "  <thead>\n",
       "    <tr style=\"text-align: right;\">\n",
       "      <th></th>\n",
       "      <th>Geometry</th>\n",
       "      <th>Sphere Masses</th>\n",
       "      <th>Line-of-Sight Masses</th>\n",
       "      <th>1mm Flux</th>\n",
       "      <th>3mm Flux</th>\n",
       "    </tr>\n",
       "  </thead>\n",
       "  <tbody>\n",
       "    <tr>\n",
       "      <th>0</th>\n",
       "      <td>spu-smi</td>\n",
       "      <td>8.387212e-03</td>\n",
       "      <td>8.387187e-03</td>\n",
       "      <td>0.046890</td>\n",
       "      <td>0.002987</td>\n",
       "    </tr>\n",
       "    <tr>\n",
       "      <th>1</th>\n",
       "      <td>spu-smi</td>\n",
       "      <td>8.387212e-03</td>\n",
       "      <td>8.387187e-03</td>\n",
       "      <td>0.046897</td>\n",
       "      <td>0.002988</td>\n",
       "    </tr>\n",
       "    <tr>\n",
       "      <th>2</th>\n",
       "      <td>spu-smi</td>\n",
       "      <td>8.387212e-03</td>\n",
       "      <td>8.387187e-03</td>\n",
       "      <td>0.046906</td>\n",
       "      <td>0.002989</td>\n",
       "    </tr>\n",
       "    <tr>\n",
       "      <th>3</th>\n",
       "      <td>spu-smi</td>\n",
       "      <td>8.387212e-03</td>\n",
       "      <td>8.387187e-03</td>\n",
       "      <td>0.046842</td>\n",
       "      <td>0.002985</td>\n",
       "    </tr>\n",
       "    <tr>\n",
       "      <th>4</th>\n",
       "      <td>spu-smi</td>\n",
       "      <td>8.387212e-03</td>\n",
       "      <td>8.387187e-03</td>\n",
       "      <td>0.046829</td>\n",
       "      <td>0.002986</td>\n",
       "    </tr>\n",
       "    <tr>\n",
       "      <th>...</th>\n",
       "      <td>...</td>\n",
       "      <td>...</td>\n",
       "      <td>...</td>\n",
       "      <td>...</td>\n",
       "      <td>...</td>\n",
       "    </tr>\n",
       "    <tr>\n",
       "      <th>1819995</th>\n",
       "      <td>s-u-hmi</td>\n",
       "      <td>2.164075e-07</td>\n",
       "      <td>1.656944e-07</td>\n",
       "      <td>2653.982178</td>\n",
       "      <td>139.594757</td>\n",
       "    </tr>\n",
       "    <tr>\n",
       "      <th>1819996</th>\n",
       "      <td>s-u-hmi</td>\n",
       "      <td>2.164075e-07</td>\n",
       "      <td>1.656944e-07</td>\n",
       "      <td>2655.380859</td>\n",
       "      <td>139.690445</td>\n",
       "    </tr>\n",
       "    <tr>\n",
       "      <th>1819997</th>\n",
       "      <td>s-u-hmi</td>\n",
       "      <td>2.164075e-07</td>\n",
       "      <td>1.656944e-07</td>\n",
       "      <td>2662.449219</td>\n",
       "      <td>140.157257</td>\n",
       "    </tr>\n",
       "    <tr>\n",
       "      <th>1819998</th>\n",
       "      <td>s-u-hmi</td>\n",
       "      <td>2.164075e-07</td>\n",
       "      <td>1.656944e-07</td>\n",
       "      <td>2662.356201</td>\n",
       "      <td>140.145111</td>\n",
       "    </tr>\n",
       "    <tr>\n",
       "      <th>1819999</th>\n",
       "      <td>s-u-hmi</td>\n",
       "      <td>2.164075e-07</td>\n",
       "      <td>1.656944e-07</td>\n",
       "      <td>2657.106934</td>\n",
       "      <td>139.784576</td>\n",
       "    </tr>\n",
       "  </tbody>\n",
       "</table>\n",
       "<p>1820000 rows × 5 columns</p>\n",
       "</div>"
      ],
      "text/plain": [
       "        Geometry  Sphere Masses  Line-of-Sight Masses     1mm Flux    3mm Flux\n",
       "0        spu-smi   8.387212e-03          8.387187e-03     0.046890    0.002987\n",
       "1        spu-smi   8.387212e-03          8.387187e-03     0.046897    0.002988\n",
       "2        spu-smi   8.387212e-03          8.387187e-03     0.046906    0.002989\n",
       "3        spu-smi   8.387212e-03          8.387187e-03     0.046842    0.002985\n",
       "4        spu-smi   8.387212e-03          8.387187e-03     0.046829    0.002986\n",
       "...          ...            ...                   ...          ...         ...\n",
       "1819995  s-u-hmi   2.164075e-07          1.656944e-07  2653.982178  139.594757\n",
       "1819996  s-u-hmi   2.164075e-07          1.656944e-07  2655.380859  139.690445\n",
       "1819997  s-u-hmi   2.164075e-07          1.656944e-07  2662.449219  140.157257\n",
       "1819998  s-u-hmi   2.164075e-07          1.656944e-07  2662.356201  140.145111\n",
       "1819999  s-u-hmi   2.164075e-07          1.656944e-07  2657.106934  139.784576\n",
       "\n",
       "[1820000 rows x 5 columns]"
      ]
     },
     "execution_count": 28,
     "metadata": {},
     "output_type": "execute_result"
    }
   ],
   "source": [
    "data = pd.read_csv('/home/savannahgramze/blue_ast7939/class_data/data.csv')\n",
    "data = data.drop(data.columns[0], axis=1)\n",
    "data"
   ]
  },
  {
   "cell_type": "code",
   "execution_count": 3,
   "id": "5c5d5389-f21c-4ab9-978e-d561148569b7",
   "metadata": {},
   "outputs": [],
   "source": [
    "pd.set_option('use_inf_as_na', True)"
   ]
  },
  {
   "cell_type": "code",
   "execution_count": 4,
   "id": "088f8a6d-b7ea-487e-83cc-4d3d4033e38a",
   "metadata": {},
   "outputs": [
    {
     "name": "stderr",
     "output_type": "stream",
     "text": [
      "/apps/tensorflow/2.7.0/lib/python3.9/site-packages/pandas/core/arraylike.py:397: RuntimeWarning: divide by zero encountered in log10\n",
      "  result = getattr(ufunc, method)(*inputs, **kwargs)\n",
      "/apps/tensorflow/2.7.0/lib/python3.9/site-packages/pandas/core/arraylike.py:397: RuntimeWarning: divide by zero encountered in log10\n",
      "  result = getattr(ufunc, method)(*inputs, **kwargs)\n"
     ]
    }
   ],
   "source": [
    "data['log10 SphM'] = np.log10(data['Sphere Masses'])\n",
    "data['log10 LOSM'] = np.log10(data['Line-of-Sight Masses'])\n",
    "data['log10 1mm'] = np.log10(data['1mm Flux'])\n",
    "data['log10 3mm'] = np.log10(data['3mm Flux'])"
   ]
  },
  {
   "cell_type": "code",
   "execution_count": 5,
   "id": "252189ac-3545-47dc-b020-8da7ce01e768",
   "metadata": {},
   "outputs": [
    {
     "data": {
      "text/html": [
       "<div>\n",
       "<style scoped>\n",
       "    .dataframe tbody tr th:only-of-type {\n",
       "        vertical-align: middle;\n",
       "    }\n",
       "\n",
       "    .dataframe tbody tr th {\n",
       "        vertical-align: top;\n",
       "    }\n",
       "\n",
       "    .dataframe thead th {\n",
       "        text-align: right;\n",
       "    }\n",
       "</style>\n",
       "<table border=\"1\" class=\"dataframe\">\n",
       "  <thead>\n",
       "    <tr style=\"text-align: right;\">\n",
       "      <th></th>\n",
       "      <th>Geometry</th>\n",
       "      <th>Sphere Masses</th>\n",
       "      <th>Line-of-Sight Masses</th>\n",
       "      <th>1mm Flux</th>\n",
       "      <th>3mm Flux</th>\n",
       "      <th>log10 SphM</th>\n",
       "      <th>log10 LOSM</th>\n",
       "      <th>log10 1mm</th>\n",
       "      <th>log10 3mm</th>\n",
       "    </tr>\n",
       "  </thead>\n",
       "  <tbody>\n",
       "    <tr>\n",
       "      <th>0</th>\n",
       "      <td>spu-smi</td>\n",
       "      <td>8.387212e-03</td>\n",
       "      <td>8.387187e-03</td>\n",
       "      <td>0.046890</td>\n",
       "      <td>0.002987</td>\n",
       "      <td>-2.076382</td>\n",
       "      <td>-2.076384</td>\n",
       "      <td>-1.328917</td>\n",
       "      <td>-2.524771</td>\n",
       "    </tr>\n",
       "    <tr>\n",
       "      <th>1</th>\n",
       "      <td>spu-smi</td>\n",
       "      <td>8.387212e-03</td>\n",
       "      <td>8.387187e-03</td>\n",
       "      <td>0.046897</td>\n",
       "      <td>0.002988</td>\n",
       "      <td>-2.076382</td>\n",
       "      <td>-2.076384</td>\n",
       "      <td>-1.328859</td>\n",
       "      <td>-2.524659</td>\n",
       "    </tr>\n",
       "    <tr>\n",
       "      <th>2</th>\n",
       "      <td>spu-smi</td>\n",
       "      <td>8.387212e-03</td>\n",
       "      <td>8.387187e-03</td>\n",
       "      <td>0.046906</td>\n",
       "      <td>0.002989</td>\n",
       "      <td>-2.076382</td>\n",
       "      <td>-2.076384</td>\n",
       "      <td>-1.328772</td>\n",
       "      <td>-2.524458</td>\n",
       "    </tr>\n",
       "    <tr>\n",
       "      <th>3</th>\n",
       "      <td>spu-smi</td>\n",
       "      <td>8.387212e-03</td>\n",
       "      <td>8.387187e-03</td>\n",
       "      <td>0.046842</td>\n",
       "      <td>0.002985</td>\n",
       "      <td>-2.076382</td>\n",
       "      <td>-2.076384</td>\n",
       "      <td>-1.329364</td>\n",
       "      <td>-2.525043</td>\n",
       "    </tr>\n",
       "    <tr>\n",
       "      <th>4</th>\n",
       "      <td>spu-smi</td>\n",
       "      <td>8.387212e-03</td>\n",
       "      <td>8.387187e-03</td>\n",
       "      <td>0.046829</td>\n",
       "      <td>0.002986</td>\n",
       "      <td>-2.076382</td>\n",
       "      <td>-2.076384</td>\n",
       "      <td>-1.329485</td>\n",
       "      <td>-2.524934</td>\n",
       "    </tr>\n",
       "    <tr>\n",
       "      <th>...</th>\n",
       "      <td>...</td>\n",
       "      <td>...</td>\n",
       "      <td>...</td>\n",
       "      <td>...</td>\n",
       "      <td>...</td>\n",
       "      <td>...</td>\n",
       "      <td>...</td>\n",
       "      <td>...</td>\n",
       "      <td>...</td>\n",
       "    </tr>\n",
       "    <tr>\n",
       "      <th>1819995</th>\n",
       "      <td>s-u-hmi</td>\n",
       "      <td>2.164075e-07</td>\n",
       "      <td>1.656944e-07</td>\n",
       "      <td>2653.982178</td>\n",
       "      <td>139.594757</td>\n",
       "      <td>-6.664728</td>\n",
       "      <td>-6.780692</td>\n",
       "      <td>3.423898</td>\n",
       "      <td>2.144869</td>\n",
       "    </tr>\n",
       "    <tr>\n",
       "      <th>1819996</th>\n",
       "      <td>s-u-hmi</td>\n",
       "      <td>2.164075e-07</td>\n",
       "      <td>1.656944e-07</td>\n",
       "      <td>2655.380859</td>\n",
       "      <td>139.690445</td>\n",
       "      <td>-6.664728</td>\n",
       "      <td>-6.780692</td>\n",
       "      <td>3.424127</td>\n",
       "      <td>2.145167</td>\n",
       "    </tr>\n",
       "    <tr>\n",
       "      <th>1819997</th>\n",
       "      <td>s-u-hmi</td>\n",
       "      <td>2.164075e-07</td>\n",
       "      <td>1.656944e-07</td>\n",
       "      <td>2662.449219</td>\n",
       "      <td>140.157257</td>\n",
       "      <td>-6.664728</td>\n",
       "      <td>-6.780692</td>\n",
       "      <td>3.425281</td>\n",
       "      <td>2.146616</td>\n",
       "    </tr>\n",
       "    <tr>\n",
       "      <th>1819998</th>\n",
       "      <td>s-u-hmi</td>\n",
       "      <td>2.164075e-07</td>\n",
       "      <td>1.656944e-07</td>\n",
       "      <td>2662.356201</td>\n",
       "      <td>140.145111</td>\n",
       "      <td>-6.664728</td>\n",
       "      <td>-6.780692</td>\n",
       "      <td>3.425266</td>\n",
       "      <td>2.146578</td>\n",
       "    </tr>\n",
       "    <tr>\n",
       "      <th>1819999</th>\n",
       "      <td>s-u-hmi</td>\n",
       "      <td>2.164075e-07</td>\n",
       "      <td>1.656944e-07</td>\n",
       "      <td>2657.106934</td>\n",
       "      <td>139.784576</td>\n",
       "      <td>-6.664728</td>\n",
       "      <td>-6.780692</td>\n",
       "      <td>3.424409</td>\n",
       "      <td>2.145459</td>\n",
       "    </tr>\n",
       "  </tbody>\n",
       "</table>\n",
       "<p>1820000 rows × 9 columns</p>\n",
       "</div>"
      ],
      "text/plain": [
       "        Geometry  Sphere Masses  Line-of-Sight Masses     1mm Flux  \\\n",
       "0        spu-smi   8.387212e-03          8.387187e-03     0.046890   \n",
       "1        spu-smi   8.387212e-03          8.387187e-03     0.046897   \n",
       "2        spu-smi   8.387212e-03          8.387187e-03     0.046906   \n",
       "3        spu-smi   8.387212e-03          8.387187e-03     0.046842   \n",
       "4        spu-smi   8.387212e-03          8.387187e-03     0.046829   \n",
       "...          ...            ...                   ...          ...   \n",
       "1819995  s-u-hmi   2.164075e-07          1.656944e-07  2653.982178   \n",
       "1819996  s-u-hmi   2.164075e-07          1.656944e-07  2655.380859   \n",
       "1819997  s-u-hmi   2.164075e-07          1.656944e-07  2662.449219   \n",
       "1819998  s-u-hmi   2.164075e-07          1.656944e-07  2662.356201   \n",
       "1819999  s-u-hmi   2.164075e-07          1.656944e-07  2657.106934   \n",
       "\n",
       "           3mm Flux  log10 SphM  log10 LOSM  log10 1mm  log10 3mm  \n",
       "0          0.002987   -2.076382   -2.076384  -1.328917  -2.524771  \n",
       "1          0.002988   -2.076382   -2.076384  -1.328859  -2.524659  \n",
       "2          0.002989   -2.076382   -2.076384  -1.328772  -2.524458  \n",
       "3          0.002985   -2.076382   -2.076384  -1.329364  -2.525043  \n",
       "4          0.002986   -2.076382   -2.076384  -1.329485  -2.524934  \n",
       "...             ...         ...         ...        ...        ...  \n",
       "1819995  139.594757   -6.664728   -6.780692   3.423898   2.144869  \n",
       "1819996  139.690445   -6.664728   -6.780692   3.424127   2.145167  \n",
       "1819997  140.157257   -6.664728   -6.780692   3.425281   2.146616  \n",
       "1819998  140.145111   -6.664728   -6.780692   3.425266   2.146578  \n",
       "1819999  139.784576   -6.664728   -6.780692   3.424409   2.145459  \n",
       "\n",
       "[1820000 rows x 9 columns]"
      ]
     },
     "execution_count": 5,
     "metadata": {},
     "output_type": "execute_result"
    }
   ],
   "source": [
    "data"
   ]
  },
  {
   "cell_type": "code",
   "execution_count": 6,
   "id": "fd6795b3-0758-4d4e-9913-ec6143d1f7fc",
   "metadata": {},
   "outputs": [
    {
     "data": {
      "text/html": [
       "<div>\n",
       "<style scoped>\n",
       "    .dataframe tbody tr th:only-of-type {\n",
       "        vertical-align: middle;\n",
       "    }\n",
       "\n",
       "    .dataframe tbody tr th {\n",
       "        vertical-align: top;\n",
       "    }\n",
       "\n",
       "    .dataframe thead th {\n",
       "        text-align: right;\n",
       "    }\n",
       "</style>\n",
       "<table border=\"1\" class=\"dataframe\">\n",
       "  <thead>\n",
       "    <tr style=\"text-align: right;\">\n",
       "      <th></th>\n",
       "      <th>Geometry</th>\n",
       "      <th>Sphere Masses</th>\n",
       "      <th>Line-of-Sight Masses</th>\n",
       "      <th>1mm Flux</th>\n",
       "      <th>3mm Flux</th>\n",
       "      <th>log10 SphM</th>\n",
       "      <th>log10 LOSM</th>\n",
       "      <th>log10 1mm</th>\n",
       "      <th>log10 3mm</th>\n",
       "    </tr>\n",
       "  </thead>\n",
       "  <tbody>\n",
       "    <tr>\n",
       "      <th>0</th>\n",
       "      <td>spu-smi</td>\n",
       "      <td>8.387212e-03</td>\n",
       "      <td>8.387187e-03</td>\n",
       "      <td>0.046890</td>\n",
       "      <td>0.002987</td>\n",
       "      <td>-2.076382</td>\n",
       "      <td>-2.076384</td>\n",
       "      <td>-1.328917</td>\n",
       "      <td>-2.524771</td>\n",
       "    </tr>\n",
       "    <tr>\n",
       "      <th>1</th>\n",
       "      <td>spu-smi</td>\n",
       "      <td>8.387212e-03</td>\n",
       "      <td>8.387187e-03</td>\n",
       "      <td>0.046897</td>\n",
       "      <td>0.002988</td>\n",
       "      <td>-2.076382</td>\n",
       "      <td>-2.076384</td>\n",
       "      <td>-1.328859</td>\n",
       "      <td>-2.524659</td>\n",
       "    </tr>\n",
       "    <tr>\n",
       "      <th>2</th>\n",
       "      <td>spu-smi</td>\n",
       "      <td>8.387212e-03</td>\n",
       "      <td>8.387187e-03</td>\n",
       "      <td>0.046906</td>\n",
       "      <td>0.002989</td>\n",
       "      <td>-2.076382</td>\n",
       "      <td>-2.076384</td>\n",
       "      <td>-1.328772</td>\n",
       "      <td>-2.524458</td>\n",
       "    </tr>\n",
       "    <tr>\n",
       "      <th>3</th>\n",
       "      <td>spu-smi</td>\n",
       "      <td>8.387212e-03</td>\n",
       "      <td>8.387187e-03</td>\n",
       "      <td>0.046842</td>\n",
       "      <td>0.002985</td>\n",
       "      <td>-2.076382</td>\n",
       "      <td>-2.076384</td>\n",
       "      <td>-1.329364</td>\n",
       "      <td>-2.525043</td>\n",
       "    </tr>\n",
       "    <tr>\n",
       "      <th>4</th>\n",
       "      <td>spu-smi</td>\n",
       "      <td>8.387212e-03</td>\n",
       "      <td>8.387187e-03</td>\n",
       "      <td>0.046829</td>\n",
       "      <td>0.002986</td>\n",
       "      <td>-2.076382</td>\n",
       "      <td>-2.076384</td>\n",
       "      <td>-1.329485</td>\n",
       "      <td>-2.524934</td>\n",
       "    </tr>\n",
       "    <tr>\n",
       "      <th>...</th>\n",
       "      <td>...</td>\n",
       "      <td>...</td>\n",
       "      <td>...</td>\n",
       "      <td>...</td>\n",
       "      <td>...</td>\n",
       "      <td>...</td>\n",
       "      <td>...</td>\n",
       "      <td>...</td>\n",
       "      <td>...</td>\n",
       "    </tr>\n",
       "    <tr>\n",
       "      <th>1596326</th>\n",
       "      <td>s-u-hmi</td>\n",
       "      <td>2.164075e-07</td>\n",
       "      <td>1.656944e-07</td>\n",
       "      <td>2653.982178</td>\n",
       "      <td>139.594757</td>\n",
       "      <td>-6.664728</td>\n",
       "      <td>-6.780692</td>\n",
       "      <td>3.423898</td>\n",
       "      <td>2.144869</td>\n",
       "    </tr>\n",
       "    <tr>\n",
       "      <th>1596327</th>\n",
       "      <td>s-u-hmi</td>\n",
       "      <td>2.164075e-07</td>\n",
       "      <td>1.656944e-07</td>\n",
       "      <td>2655.380859</td>\n",
       "      <td>139.690445</td>\n",
       "      <td>-6.664728</td>\n",
       "      <td>-6.780692</td>\n",
       "      <td>3.424127</td>\n",
       "      <td>2.145167</td>\n",
       "    </tr>\n",
       "    <tr>\n",
       "      <th>1596328</th>\n",
       "      <td>s-u-hmi</td>\n",
       "      <td>2.164075e-07</td>\n",
       "      <td>1.656944e-07</td>\n",
       "      <td>2662.449219</td>\n",
       "      <td>140.157257</td>\n",
       "      <td>-6.664728</td>\n",
       "      <td>-6.780692</td>\n",
       "      <td>3.425281</td>\n",
       "      <td>2.146616</td>\n",
       "    </tr>\n",
       "    <tr>\n",
       "      <th>1596329</th>\n",
       "      <td>s-u-hmi</td>\n",
       "      <td>2.164075e-07</td>\n",
       "      <td>1.656944e-07</td>\n",
       "      <td>2662.356201</td>\n",
       "      <td>140.145111</td>\n",
       "      <td>-6.664728</td>\n",
       "      <td>-6.780692</td>\n",
       "      <td>3.425266</td>\n",
       "      <td>2.146578</td>\n",
       "    </tr>\n",
       "    <tr>\n",
       "      <th>1596330</th>\n",
       "      <td>s-u-hmi</td>\n",
       "      <td>2.164075e-07</td>\n",
       "      <td>1.656944e-07</td>\n",
       "      <td>2657.106934</td>\n",
       "      <td>139.784576</td>\n",
       "      <td>-6.664728</td>\n",
       "      <td>-6.780692</td>\n",
       "      <td>3.424409</td>\n",
       "      <td>2.145459</td>\n",
       "    </tr>\n",
       "  </tbody>\n",
       "</table>\n",
       "<p>1596331 rows × 9 columns</p>\n",
       "</div>"
      ],
      "text/plain": [
       "        Geometry  Sphere Masses  Line-of-Sight Masses     1mm Flux  \\\n",
       "0        spu-smi   8.387212e-03          8.387187e-03     0.046890   \n",
       "1        spu-smi   8.387212e-03          8.387187e-03     0.046897   \n",
       "2        spu-smi   8.387212e-03          8.387187e-03     0.046906   \n",
       "3        spu-smi   8.387212e-03          8.387187e-03     0.046842   \n",
       "4        spu-smi   8.387212e-03          8.387187e-03     0.046829   \n",
       "...          ...            ...                   ...          ...   \n",
       "1596326  s-u-hmi   2.164075e-07          1.656944e-07  2653.982178   \n",
       "1596327  s-u-hmi   2.164075e-07          1.656944e-07  2655.380859   \n",
       "1596328  s-u-hmi   2.164075e-07          1.656944e-07  2662.449219   \n",
       "1596329  s-u-hmi   2.164075e-07          1.656944e-07  2662.356201   \n",
       "1596330  s-u-hmi   2.164075e-07          1.656944e-07  2657.106934   \n",
       "\n",
       "           3mm Flux  log10 SphM  log10 LOSM  log10 1mm  log10 3mm  \n",
       "0          0.002987   -2.076382   -2.076384  -1.328917  -2.524771  \n",
       "1          0.002988   -2.076382   -2.076384  -1.328859  -2.524659  \n",
       "2          0.002989   -2.076382   -2.076384  -1.328772  -2.524458  \n",
       "3          0.002985   -2.076382   -2.076384  -1.329364  -2.525043  \n",
       "4          0.002986   -2.076382   -2.076384  -1.329485  -2.524934  \n",
       "...             ...         ...         ...        ...        ...  \n",
       "1596326  139.594757   -6.664728   -6.780692   3.423898   2.144869  \n",
       "1596327  139.690445   -6.664728   -6.780692   3.424127   2.145167  \n",
       "1596328  140.157257   -6.664728   -6.780692   3.425281   2.146616  \n",
       "1596329  140.145111   -6.664728   -6.780692   3.425266   2.146578  \n",
       "1596330  139.784576   -6.664728   -6.780692   3.424409   2.145459  \n",
       "\n",
       "[1596331 rows x 9 columns]"
      ]
     },
     "execution_count": 6,
     "metadata": {},
     "output_type": "execute_result"
    }
   ],
   "source": [
    "df = data.dropna().reset_index(drop=True)\n",
    "df"
   ]
  },
  {
   "cell_type": "code",
   "execution_count": 7,
   "id": "35415c7e-8485-4dc4-872a-94cb37cfe1ea",
   "metadata": {},
   "outputs": [
    {
     "name": "stdout",
     "output_type": "stream",
     "text": [
      "Geometry\n",
      "Sphere Masses 0\n",
      "Line-of-Sight Masses 0\n",
      "1mm Flux 0\n",
      "3mm Flux 0\n",
      "log10 SphM 0\n",
      "log10 LOSM 0\n",
      "log10 1mm 0\n",
      "log10 3mm 0\n"
     ]
    }
   ],
   "source": [
    "for col in df.columns:\n",
    "    try: \n",
    "        print(col, np.sum(np.isnan(df[col])))\n",
    "    except: \n",
    "        print(col)"
   ]
  },
  {
   "cell_type": "code",
   "execution_count": null,
   "id": "95813222-ec20-40e6-8583-cfa514633c93",
   "metadata": {},
   "outputs": [],
   "source": []
  },
  {
   "cell_type": "code",
   "execution_count": null,
   "id": "c5ffd262-1434-49bd-825a-74cde7cbc4b1",
   "metadata": {},
   "outputs": [],
   "source": []
  },
  {
   "cell_type": "markdown",
   "id": "63325122-b85d-47e2-974c-cc56550f06c8",
   "metadata": {},
   "source": [
    "# Divide into Training, Testing, Validation "
   ]
  },
  {
   "cell_type": "code",
   "execution_count": 8,
   "id": "c6d9cf65-87d3-4fd7-90fb-d08248583f00",
   "metadata": {},
   "outputs": [
    {
     "data": {
      "text/plain": [
       "(1596331, 2)"
      ]
     },
     "execution_count": 8,
     "metadata": {},
     "output_type": "execute_result"
    }
   ],
   "source": [
    "X = np.array([df['log10 1mm'], df['log10 3mm']]).T\n",
    "X.shape"
   ]
  },
  {
   "cell_type": "code",
   "execution_count": 9,
   "id": "2970d34c-7730-43d9-9b23-9c239b36ecf4",
   "metadata": {},
   "outputs": [
    {
     "data": {
      "text/plain": [
       "(1596331,)"
      ]
     },
     "execution_count": 9,
     "metadata": {},
     "output_type": "execute_result"
    }
   ],
   "source": [
    "y = np.array(df['log10 SphM'])\n",
    "y.shape"
   ]
  },
  {
   "cell_type": "code",
   "execution_count": 10,
   "id": "948097fa-0a3c-4559-ba3a-58302f40669b",
   "metadata": {},
   "outputs": [],
   "source": [
    "X_train, X_test, y_train, y_test = train_test_split(X, y, random_state=0)\n",
    "\n",
    "## First split off 30% of the data for validation+testing\n",
    "#X_train, X_split, y_train, y_split = train_test_split(X, y, test_size=0.3, shuffle=True)\n",
    "#\n",
    "## Then divide this subset into training and testing sets\n",
    "#X_valid, X_test, y_valid, y_test = train_test_split(X_split, y_split, test_size=0.666, shuffle=True)"
   ]
  },
  {
   "cell_type": "code",
   "execution_count": 11,
   "id": "13fdf5fb-87e6-40d3-881d-4d5056120d6f",
   "metadata": {},
   "outputs": [],
   "source": [
    "normalizer = keras.layers.Normalization(axis=-1)"
   ]
  },
  {
   "cell_type": "code",
   "execution_count": 12,
   "id": "46131f04-7ad8-4bb4-8417-c388c2e2df8f",
   "metadata": {},
   "outputs": [
    {
     "name": "stderr",
     "output_type": "stream",
     "text": [
      "2023-04-14 19:16:53.483174: I tensorflow/core/platform/cpu_feature_guard.cc:151] This TensorFlow binary is optimized with oneAPI Deep Neural Network Library (oneDNN) to use the following CPU instructions in performance-critical operations:  SSE4.1 SSE4.2 AVX AVX2 FMA\n",
      "To enable them in other operations, rebuild TensorFlow with the appropriate compiler flags.\n",
      "2023-04-14 19:16:54.051052: I tensorflow/core/common_runtime/gpu/gpu_device.cc:1525] Created device /job:localhost/replica:0/task:0/device:GPU:0 with 77930 MB memory:  -> device: 0, name: NVIDIA A100-SXM4-80GB, pci bus id: 0000:0f:00.0, compute capability: 8.0\n"
     ]
    }
   ],
   "source": [
    "normalizer.adapt(np.array(X_train))"
   ]
  },
  {
   "cell_type": "markdown",
   "id": "d93b08be-1dec-4846-9048-54f765f824ea",
   "metadata": {},
   "source": [
    "# Build and Compile the NN"
   ]
  },
  {
   "cell_type": "code",
   "execution_count": 15,
   "id": "86348426-23c5-48ef-bd66-ed62038f55f6",
   "metadata": {},
   "outputs": [],
   "source": [
    "def build_and_compile_model(norm):\n",
    "    model = keras.Sequential([norm,\n",
    "                              layers.Dense(100, activation='relu'),\n",
    "                              layers.Dense(100, activation='relu'),\n",
    "                              layers.Dense(1)])\n",
    "    model.compile(loss='mean_squared_error',\n",
    "                  optimizer=tf.keras.optimizers.Adam(learning_rate=0.0005, clipvalue=0.5)\n",
    "                 )\n",
    "    return model"
   ]
  },
  {
   "cell_type": "code",
   "execution_count": 16,
   "id": "c78b4033-b9e7-4688-9812-688f1f38977b",
   "metadata": {},
   "outputs": [
    {
     "name": "stdout",
     "output_type": "stream",
     "text": [
      "Model: \"sequential\"\n",
      "_________________________________________________________________\n",
      " Layer (type)                Output Shape              Param #   \n",
      "=================================================================\n",
      " normalization (Normalizatio  (None, 2)                5         \n",
      " n)                                                              \n",
      "                                                                 \n",
      " dense (Dense)               (None, 100)               300       \n",
      "                                                                 \n",
      " dense_1 (Dense)             (None, 100)               10100     \n",
      "                                                                 \n",
      " dense_2 (Dense)             (None, 1)                 101       \n",
      "                                                                 \n",
      "=================================================================\n",
      "Total params: 10,506\n",
      "Trainable params: 10,501\n",
      "Non-trainable params: 5\n",
      "_________________________________________________________________\n"
     ]
    }
   ],
   "source": [
    "dnn_model = build_and_compile_model(normalizer)\n",
    "dnn_model.summary()"
   ]
  },
  {
   "cell_type": "markdown",
   "id": "7e7f7525-fda7-4ec9-a69e-d08fff02b482",
   "metadata": {},
   "source": [
    "# Train the NN"
   ]
  },
  {
   "cell_type": "code",
   "execution_count": 17,
   "id": "3c3f44c9-3433-43ee-90a9-ee49423e4cfa",
   "metadata": {},
   "outputs": [
    {
     "data": {
      "text/plain": [
       "[PhysicalDevice(name='/physical_device:GPU:0', device_type='GPU')]"
      ]
     },
     "execution_count": 17,
     "metadata": {},
     "output_type": "execute_result"
    }
   ],
   "source": [
    "tf.config.list_physical_devices('GPU') "
   ]
  },
  {
   "cell_type": "code",
   "execution_count": 18,
   "id": "f51227aa-e097-4cf2-9075-7861ef2b9811",
   "metadata": {},
   "outputs": [],
   "source": [
    "early_stopping_cb = keras.callbacks.EarlyStopping(monitor='val_loss', patience=30)\n",
    "checkpoint_cb = keras.callbacks.ModelCheckpoint(\"best_model.h5\", save_best_only=True)"
   ]
  },
  {
   "cell_type": "code",
   "execution_count": 19,
   "id": "6360987f-ee8b-4abb-84f3-fd662d1af139",
   "metadata": {},
   "outputs": [
    {
     "name": "stdout",
     "output_type": "stream",
     "text": [
      "Epoch 1/100\n",
      "  105/29932 [..............................] - ETA: 44s - loss: 8.2761 - accuracy: 0.0000e+00  "
     ]
    },
    {
     "name": "stderr",
     "output_type": "stream",
     "text": [
      "2023-04-14 19:17:42.932884: I tensorflow/stream_executor/cuda/cuda_blas.cc:1774] TensorFloat-32 will be used for the matrix multiplication. This will only be logged once.\n"
     ]
    },
    {
     "name": "stdout",
     "output_type": "stream",
     "text": [
      "29932/29932 [==============================] - 50s 2ms/step - loss: 2.2928 - accuracy: 0.0000e+00 - val_loss: 1.9598 - val_accuracy: 0.0000e+00\n",
      "Epoch 2/100\n",
      "29932/29932 [==============================] - 51s 2ms/step - loss: 1.9471 - accuracy: 0.0000e+00 - val_loss: 1.8703 - val_accuracy: 0.0000e+00\n",
      "Epoch 3/100\n",
      "29932/29932 [==============================] - 49s 2ms/step - loss: 1.9283 - accuracy: 0.0000e+00 - val_loss: 1.8491 - val_accuracy: 0.0000e+00\n",
      "Epoch 4/100\n",
      "29932/29932 [==============================] - 50s 2ms/step - loss: 1.9054 - accuracy: 0.0000e+00 - val_loss: 1.9406 - val_accuracy: 0.0000e+00\n",
      "Epoch 5/100\n",
      "29932/29932 [==============================] - 49s 2ms/step - loss: 1.9100 - accuracy: 0.0000e+00 - val_loss: 1.9004 - val_accuracy: 0.0000e+00\n",
      "Epoch 6/100\n",
      "29932/29932 [==============================] - 49s 2ms/step - loss: 1.9155 - accuracy: 0.0000e+00 - val_loss: 2.1053 - val_accuracy: 0.0000e+00\n",
      "Epoch 7/100\n",
      "29932/29932 [==============================] - 51s 2ms/step - loss: 1.9098 - accuracy: 0.0000e+00 - val_loss: 1.8264 - val_accuracy: 0.0000e+00\n",
      "Epoch 8/100\n",
      "29932/29932 [==============================] - 49s 2ms/step - loss: 1.9012 - accuracy: 0.0000e+00 - val_loss: 1.8984 - val_accuracy: 0.0000e+00\n",
      "Epoch 9/100\n",
      "29932/29932 [==============================] - 51s 2ms/step - loss: 1.9048 - accuracy: 0.0000e+00 - val_loss: 1.7532 - val_accuracy: 0.0000e+00\n",
      "Epoch 10/100\n",
      "29932/29932 [==============================] - 49s 2ms/step - loss: 1.8995 - accuracy: 0.0000e+00 - val_loss: 1.7751 - val_accuracy: 0.0000e+00\n",
      "Epoch 11/100\n",
      "29932/29932 [==============================] - 49s 2ms/step - loss: 1.8915 - accuracy: 0.0000e+00 - val_loss: 1.7547 - val_accuracy: 0.0000e+00\n",
      "Epoch 12/100\n",
      "29932/29932 [==============================] - 51s 2ms/step - loss: 1.8968 - accuracy: 0.0000e+00 - val_loss: 1.9088 - val_accuracy: 0.0000e+00\n",
      "Epoch 13/100\n",
      "29932/29932 [==============================] - 49s 2ms/step - loss: 1.8905 - accuracy: 0.0000e+00 - val_loss: 1.8191 - val_accuracy: 0.0000e+00\n",
      "Epoch 14/100\n",
      "29932/29932 [==============================] - 51s 2ms/step - loss: 1.8884 - accuracy: 0.0000e+00 - val_loss: 1.7597 - val_accuracy: 0.0000e+00\n",
      "Epoch 15/100\n",
      "29932/29932 [==============================] - 49s 2ms/step - loss: 1.8849 - accuracy: 0.0000e+00 - val_loss: 2.2673 - val_accuracy: 0.0000e+00\n",
      "Epoch 16/100\n",
      "29932/29932 [==============================] - 49s 2ms/step - loss: 1.8890 - accuracy: 0.0000e+00 - val_loss: 1.7780 - val_accuracy: 0.0000e+00\n",
      "Epoch 17/100\n",
      "29932/29932 [==============================] - 51s 2ms/step - loss: 1.8708 - accuracy: 0.0000e+00 - val_loss: 1.7303 - val_accuracy: 0.0000e+00\n",
      "Epoch 18/100\n",
      "29932/29932 [==============================] - 49s 2ms/step - loss: 1.8771 - accuracy: 0.0000e+00 - val_loss: 1.7836 - val_accuracy: 0.0000e+00\n",
      "Epoch 19/100\n",
      "29932/29932 [==============================] - 51s 2ms/step - loss: 1.8803 - accuracy: 0.0000e+00 - val_loss: 1.7695 - val_accuracy: 0.0000e+00\n",
      "Epoch 20/100\n",
      "29932/29932 [==============================] - 49s 2ms/step - loss: 1.8656 - accuracy: 0.0000e+00 - val_loss: 1.8329 - val_accuracy: 0.0000e+00\n",
      "Epoch 21/100\n",
      "29932/29932 [==============================] - 51s 2ms/step - loss: 1.8623 - accuracy: 0.0000e+00 - val_loss: 1.9506 - val_accuracy: 0.0000e+00\n",
      "Epoch 22/100\n",
      "29932/29932 [==============================] - 49s 2ms/step - loss: 1.8650 - accuracy: 0.0000e+00 - val_loss: 1.8879 - val_accuracy: 0.0000e+00\n",
      "Epoch 23/100\n",
      "29932/29932 [==============================] - 49s 2ms/step - loss: 1.8607 - accuracy: 0.0000e+00 - val_loss: 1.7251 - val_accuracy: 0.0000e+00\n",
      "Epoch 24/100\n",
      "29932/29932 [==============================] - 51s 2ms/step - loss: 1.8607 - accuracy: 0.0000e+00 - val_loss: 1.7335 - val_accuracy: 0.0000e+00\n",
      "Epoch 25/100\n",
      "29932/29932 [==============================] - 49s 2ms/step - loss: 1.8443 - accuracy: 0.0000e+00 - val_loss: 1.9774 - val_accuracy: 0.0000e+00\n",
      "Epoch 26/100\n",
      "29932/29932 [==============================] - 51s 2ms/step - loss: 1.8439 - accuracy: 0.0000e+00 - val_loss: 1.7871 - val_accuracy: 0.0000e+00\n",
      "Epoch 27/100\n",
      "29932/29932 [==============================] - 49s 2ms/step - loss: 1.8513 - accuracy: 0.0000e+00 - val_loss: 1.7522 - val_accuracy: 0.0000e+00\n",
      "Epoch 28/100\n",
      "29932/29932 [==============================] - 49s 2ms/step - loss: 1.8514 - accuracy: 0.0000e+00 - val_loss: 1.8755 - val_accuracy: 0.0000e+00\n",
      "Epoch 29/100\n",
      "29932/29932 [==============================] - 51s 2ms/step - loss: 1.8678 - accuracy: 0.0000e+00 - val_loss: 1.7815 - val_accuracy: 0.0000e+00\n",
      "Epoch 30/100\n",
      "29932/29932 [==============================] - 49s 2ms/step - loss: 1.8706 - accuracy: 0.0000e+00 - val_loss: 1.7762 - val_accuracy: 0.0000e+00\n",
      "Epoch 31/100\n",
      "29932/29932 [==============================] - 51s 2ms/step - loss: 1.8614 - accuracy: 0.0000e+00 - val_loss: 1.8288 - val_accuracy: 0.0000e+00\n",
      "Epoch 32/100\n",
      "29932/29932 [==============================] - 49s 2ms/step - loss: 1.8674 - accuracy: 0.0000e+00 - val_loss: 1.7821 - val_accuracy: 0.0000e+00\n",
      "Epoch 33/100\n",
      "29932/29932 [==============================] - 49s 2ms/step - loss: 1.8934 - accuracy: 0.0000e+00 - val_loss: 1.7836 - val_accuracy: 0.0000e+00\n",
      "Epoch 34/100\n",
      "29932/29932 [==============================] - 51s 2ms/step - loss: 1.9094 - accuracy: 0.0000e+00 - val_loss: 2.1715 - val_accuracy: 0.0000e+00\n",
      "Epoch 35/100\n",
      "29932/29932 [==============================] - 49s 2ms/step - loss: 1.9160 - accuracy: 0.0000e+00 - val_loss: 1.8302 - val_accuracy: 0.0000e+00\n",
      "Epoch 36/100\n",
      "29932/29932 [==============================] - 51s 2ms/step - loss: 1.9002 - accuracy: 0.0000e+00 - val_loss: 1.7652 - val_accuracy: 0.0000e+00\n",
      "Epoch 37/100\n",
      "29932/29932 [==============================] - 49s 2ms/step - loss: 1.8619 - accuracy: 0.0000e+00 - val_loss: 1.8433 - val_accuracy: 0.0000e+00\n",
      "Epoch 38/100\n",
      "29932/29932 [==============================] - 51s 2ms/step - loss: 1.8548 - accuracy: 0.0000e+00 - val_loss: 1.8585 - val_accuracy: 0.0000e+00\n",
      "Epoch 39/100\n",
      "29932/29932 [==============================] - 49s 2ms/step - loss: 1.8707 - accuracy: 0.0000e+00 - val_loss: 1.9020 - val_accuracy: 0.0000e+00\n",
      "Epoch 40/100\n",
      "29932/29932 [==============================] - 49s 2ms/step - loss: 1.8474 - accuracy: 0.0000e+00 - val_loss: 1.8208 - val_accuracy: 0.0000e+00\n",
      "Epoch 41/100\n",
      "29932/29932 [==============================] - 51s 2ms/step - loss: 1.8357 - accuracy: 0.0000e+00 - val_loss: 1.9365 - val_accuracy: 0.0000e+00\n",
      "Epoch 42/100\n",
      "29932/29932 [==============================] - 49s 2ms/step - loss: 1.8231 - accuracy: 0.0000e+00 - val_loss: 1.7790 - val_accuracy: 0.0000e+00\n",
      "Epoch 43/100\n",
      "29932/29932 [==============================] - 51s 2ms/step - loss: 1.8192 - accuracy: 0.0000e+00 - val_loss: 1.7292 - val_accuracy: 0.0000e+00\n",
      "Epoch 44/100\n",
      "29932/29932 [==============================] - 49s 2ms/step - loss: 1.8212 - accuracy: 0.0000e+00 - val_loss: 1.7215 - val_accuracy: 0.0000e+00\n",
      "Epoch 45/100\n",
      "29932/29932 [==============================] - 49s 2ms/step - loss: 1.8259 - accuracy: 0.0000e+00 - val_loss: 1.8582 - val_accuracy: 0.0000e+00\n",
      "Epoch 46/100\n",
      "29932/29932 [==============================] - 51s 2ms/step - loss: 1.8160 - accuracy: 0.0000e+00 - val_loss: 1.7331 - val_accuracy: 0.0000e+00\n",
      "Epoch 47/100\n",
      "29932/29932 [==============================] - 49s 2ms/step - loss: 1.8182 - accuracy: 0.0000e+00 - val_loss: 1.7661 - val_accuracy: 0.0000e+00\n",
      "Epoch 48/100\n",
      "29932/29932 [==============================] - 51s 2ms/step - loss: 1.8117 - accuracy: 0.0000e+00 - val_loss: 1.7131 - val_accuracy: 0.0000e+00\n",
      "Epoch 49/100\n",
      "29932/29932 [==============================] - 49s 2ms/step - loss: 1.8050 - accuracy: 0.0000e+00 - val_loss: 1.8407 - val_accuracy: 0.0000e+00\n",
      "Epoch 50/100\n",
      "29932/29932 [==============================] - 49s 2ms/step - loss: 1.8005 - accuracy: 0.0000e+00 - val_loss: 1.7739 - val_accuracy: 0.0000e+00\n",
      "Epoch 51/100\n",
      "29932/29932 [==============================] - 50s 2ms/step - loss: 1.7966 - accuracy: 0.0000e+00 - val_loss: 2.2861 - val_accuracy: 0.0000e+00\n",
      "Epoch 52/100\n",
      "29932/29932 [==============================] - 49s 2ms/step - loss: 1.7901 - accuracy: 0.0000e+00 - val_loss: 1.7245 - val_accuracy: 0.0000e+00\n",
      "Epoch 53/100\n",
      "29932/29932 [==============================] - 51s 2ms/step - loss: 1.7857 - accuracy: 0.0000e+00 - val_loss: 1.7073 - val_accuracy: 0.0000e+00\n",
      "Epoch 54/100\n",
      "29932/29932 [==============================] - 49s 2ms/step - loss: 1.7855 - accuracy: 0.0000e+00 - val_loss: 1.6974 - val_accuracy: 0.0000e+00\n",
      "Epoch 55/100\n",
      "29932/29932 [==============================] - 51s 2ms/step - loss: 1.7886 - accuracy: 0.0000e+00 - val_loss: 1.7506 - val_accuracy: 0.0000e+00\n",
      "Epoch 56/100\n",
      "29932/29932 [==============================] - 49s 2ms/step - loss: 1.7876 - accuracy: 0.0000e+00 - val_loss: 1.7355 - val_accuracy: 0.0000e+00\n",
      "Epoch 57/100\n",
      "29932/29932 [==============================] - 49s 2ms/step - loss: 1.7884 - accuracy: 0.0000e+00 - val_loss: 1.7827 - val_accuracy: 0.0000e+00\n",
      "Epoch 58/100\n",
      "29932/29932 [==============================] - 51s 2ms/step - loss: 1.7876 - accuracy: 0.0000e+00 - val_loss: 1.7380 - val_accuracy: 0.0000e+00\n",
      "Epoch 59/100\n",
      "29932/29932 [==============================] - 49s 2ms/step - loss: 1.7874 - accuracy: 0.0000e+00 - val_loss: 1.7291 - val_accuracy: 0.0000e+00\n",
      "Epoch 60/100\n",
      "29932/29932 [==============================] - 51s 2ms/step - loss: 1.7897 - accuracy: 0.0000e+00 - val_loss: 1.7398 - val_accuracy: 0.0000e+00\n",
      "Epoch 61/100\n",
      "29932/29932 [==============================] - 49s 2ms/step - loss: 1.7852 - accuracy: 0.0000e+00 - val_loss: 1.7528 - val_accuracy: 0.0000e+00\n",
      "Epoch 62/100\n",
      "29932/29932 [==============================] - 49s 2ms/step - loss: 1.7808 - accuracy: 0.0000e+00 - val_loss: 1.8536 - val_accuracy: 0.0000e+00\n",
      "Epoch 63/100\n",
      "29932/29932 [==============================] - 51s 2ms/step - loss: 1.7834 - accuracy: 0.0000e+00 - val_loss: 1.7890 - val_accuracy: 0.0000e+00\n",
      "Epoch 64/100\n",
      "29932/29932 [==============================] - 49s 2ms/step - loss: 1.7839 - accuracy: 0.0000e+00 - val_loss: 1.9172 - val_accuracy: 0.0000e+00\n",
      "Epoch 65/100\n",
      "29932/29932 [==============================] - 51s 2ms/step - loss: 1.7862 - accuracy: 0.0000e+00 - val_loss: 1.7282 - val_accuracy: 0.0000e+00\n",
      "Epoch 66/100\n",
      "29932/29932 [==============================] - 49s 2ms/step - loss: 1.7795 - accuracy: 0.0000e+00 - val_loss: 1.8522 - val_accuracy: 0.0000e+00\n",
      "Epoch 67/100\n",
      "29932/29932 [==============================] - 49s 2ms/step - loss: 1.7810 - accuracy: 0.0000e+00 - val_loss: 1.8274 - val_accuracy: 0.0000e+00\n",
      "Epoch 68/100\n",
      "29932/29932 [==============================] - 51s 2ms/step - loss: 1.7842 - accuracy: 0.0000e+00 - val_loss: 2.0503 - val_accuracy: 0.0000e+00\n",
      "Epoch 69/100\n",
      "29932/29932 [==============================] - 49s 2ms/step - loss: 1.7841 - accuracy: 0.0000e+00 - val_loss: 1.9280 - val_accuracy: 0.0000e+00\n",
      "Epoch 70/100\n",
      "29932/29932 [==============================] - 51s 2ms/step - loss: 1.7881 - accuracy: 0.0000e+00 - val_loss: 1.9655 - val_accuracy: 0.0000e+00\n",
      "Epoch 71/100\n",
      "29932/29932 [==============================] - 49s 2ms/step - loss: 1.7909 - accuracy: 0.0000e+00 - val_loss: 1.9461 - val_accuracy: 0.0000e+00\n",
      "Epoch 72/100\n",
      "29932/29932 [==============================] - 51s 2ms/step - loss: 1.7942 - accuracy: 0.0000e+00 - val_loss: 1.8228 - val_accuracy: 0.0000e+00\n",
      "Epoch 73/100\n",
      "29932/29932 [==============================] - 49s 2ms/step - loss: 1.7951 - accuracy: 0.0000e+00 - val_loss: 1.8060 - val_accuracy: 0.0000e+00\n",
      "Epoch 74/100\n",
      "29932/29932 [==============================] - 49s 2ms/step - loss: 1.8084 - accuracy: 0.0000e+00 - val_loss: 1.9938 - val_accuracy: 0.0000e+00\n",
      "Epoch 75/100\n",
      "29932/29932 [==============================] - 51s 2ms/step - loss: 1.8176 - accuracy: 0.0000e+00 - val_loss: 1.7611 - val_accuracy: 0.0000e+00\n",
      "Epoch 76/100\n",
      "29932/29932 [==============================] - 49s 2ms/step - loss: 1.8147 - accuracy: 0.0000e+00 - val_loss: 1.8817 - val_accuracy: 0.0000e+00\n",
      "Epoch 77/100\n",
      "29932/29932 [==============================] - 51s 2ms/step - loss: 1.8109 - accuracy: 0.0000e+00 - val_loss: 1.9276 - val_accuracy: 0.0000e+00\n",
      "Epoch 78/100\n",
      "29932/29932 [==============================] - 49s 2ms/step - loss: 1.8104 - accuracy: 0.0000e+00 - val_loss: 1.8531 - val_accuracy: 0.0000e+00\n",
      "Epoch 79/100\n",
      "29932/29932 [==============================] - 49s 2ms/step - loss: 1.8154 - accuracy: 0.0000e+00 - val_loss: 2.1904 - val_accuracy: 0.0000e+00\n",
      "Epoch 80/100\n",
      "29932/29932 [==============================] - 51s 2ms/step - loss: 1.8144 - accuracy: 0.0000e+00 - val_loss: 1.7265 - val_accuracy: 0.0000e+00\n",
      "Epoch 81/100\n",
      "29932/29932 [==============================] - 49s 2ms/step - loss: 1.8110 - accuracy: 0.0000e+00 - val_loss: 1.7246 - val_accuracy: 0.0000e+00\n",
      "Epoch 82/100\n",
      "29932/29932 [==============================] - 51s 2ms/step - loss: 1.8060 - accuracy: 0.0000e+00 - val_loss: 2.1867 - val_accuracy: 0.0000e+00\n",
      "Epoch 83/100\n",
      "29932/29932 [==============================] - 49s 2ms/step - loss: 1.8083 - accuracy: 0.0000e+00 - val_loss: 1.6902 - val_accuracy: 0.0000e+00\n",
      "Epoch 84/100\n",
      "29932/29932 [==============================] - 51s 2ms/step - loss: 1.8126 - accuracy: 0.0000e+00 - val_loss: 1.7447 - val_accuracy: 0.0000e+00\n",
      "Epoch 85/100\n",
      "29932/29932 [==============================] - 49s 2ms/step - loss: 1.8124 - accuracy: 0.0000e+00 - val_loss: 1.7346 - val_accuracy: 0.0000e+00\n",
      "Epoch 86/100\n",
      "29932/29932 [==============================] - 49s 2ms/step - loss: 1.8553 - accuracy: 0.0000e+00 - val_loss: 1.7891 - val_accuracy: 0.0000e+00\n",
      "Epoch 87/100\n",
      "29932/29932 [==============================] - 51s 2ms/step - loss: 1.8655 - accuracy: 0.0000e+00 - val_loss: 1.7860 - val_accuracy: 0.0000e+00\n",
      "Epoch 88/100\n",
      "29932/29932 [==============================] - 49s 2ms/step - loss: 1.8362 - accuracy: 0.0000e+00 - val_loss: 1.8118 - val_accuracy: 0.0000e+00\n",
      "Epoch 89/100\n",
      "29932/29932 [==============================] - 51s 2ms/step - loss: 1.8299 - accuracy: 0.0000e+00 - val_loss: 1.8222 - val_accuracy: 0.0000e+00\n",
      "Epoch 90/100\n",
      "29932/29932 [==============================] - 49s 2ms/step - loss: 1.8157 - accuracy: 0.0000e+00 - val_loss: 1.9397 - val_accuracy: 0.0000e+00\n",
      "Epoch 91/100\n",
      "29932/29932 [==============================] - 49s 2ms/step - loss: 1.8162 - accuracy: 0.0000e+00 - val_loss: 1.9099 - val_accuracy: 0.0000e+00\n",
      "Epoch 92/100\n",
      "29932/29932 [==============================] - 51s 2ms/step - loss: 1.8049 - accuracy: 0.0000e+00 - val_loss: 1.7685 - val_accuracy: 0.0000e+00\n",
      "Epoch 93/100\n",
      "29932/29932 [==============================] - 49s 2ms/step - loss: 1.8023 - accuracy: 0.0000e+00 - val_loss: 1.7245 - val_accuracy: 0.0000e+00\n",
      "Epoch 94/100\n",
      "29932/29932 [==============================] - 51s 2ms/step - loss: 1.8007 - accuracy: 0.0000e+00 - val_loss: 1.7303 - val_accuracy: 0.0000e+00\n",
      "Epoch 95/100\n",
      "29932/29932 [==============================] - 49s 2ms/step - loss: 1.7989 - accuracy: 0.0000e+00 - val_loss: 1.7725 - val_accuracy: 0.0000e+00\n",
      "Epoch 96/100\n",
      "29932/29932 [==============================] - 49s 2ms/step - loss: 1.7998 - accuracy: 0.0000e+00 - val_loss: 1.7394 - val_accuracy: 0.0000e+00\n",
      "Epoch 97/100\n",
      "29932/29932 [==============================] - 51s 2ms/step - loss: 1.7956 - accuracy: 0.0000e+00 - val_loss: 1.7561 - val_accuracy: 0.0000e+00\n",
      "Epoch 98/100\n",
      "29932/29932 [==============================] - 49s 2ms/step - loss: 1.7892 - accuracy: 0.0000e+00 - val_loss: 1.7552 - val_accuracy: 0.0000e+00\n",
      "Epoch 99/100\n",
      "29932/29932 [==============================] - 51s 2ms/step - loss: 1.7902 - accuracy: 0.0000e+00 - val_loss: 1.7385 - val_accuracy: 0.0000e+00\n",
      "Epoch 100/100\n",
      "29932/29932 [==============================] - 49s 2ms/step - loss: 1.7932 - accuracy: 0.0000e+00 - val_loss: 1.6837 - val_accuracy: 0.0000e+00\n",
      "CPU times: user 1h 16min 36s, sys: 3min 42s, total: 1h 20min 18s\n",
      "Wall time: 1h 22min 47s\n"
     ]
    }
   ],
   "source": [
    "%%time\n",
    "history = dnn_model.fit(\n",
    "    X_train,\n",
    "    y_train,\n",
    "    validation_split=0.2,\n",
    "    #verbose=0, \n",
    "    epochs=100,\n",
    "    callbacks=[checkpoint_cb, early_stopping_cb],\n",
    "    shuffle=True,\n",
    "    verbose=True,\n",
    "    #validation_data=(X_valid, y_valid),\n",
    "    use_multiprocessing=True)"
   ]
  },
  {
   "cell_type": "code",
   "execution_count": null,
   "id": "10156f7c-901c-4822-ae46-9b6bfebfcdb9",
   "metadata": {},
   "outputs": [],
   "source": [
    "dnn_model.save(\"./models/nn_model_8.h5\")"
   ]
  },
  {
   "cell_type": "markdown",
   "id": "35a8fcde-04b9-46fc-8ff0-c996e9510534",
   "metadata": {},
   "source": [
    "# Evaluate the NN"
   ]
  },
  {
   "cell_type": "code",
   "execution_count": null,
   "id": "99aefc60-e2ed-41e3-b049-822110519f53",
   "metadata": {},
   "outputs": [],
   "source": []
  },
  {
   "cell_type": "code",
   "execution_count": 20,
   "id": "59bd6bdb-8abd-4fdd-9fcf-6a3e60112ed6",
   "metadata": {},
   "outputs": [
    {
     "data": {
      "text/plain": [
       "array([[-2.433991  ],\n",
       "       [ 4.845882  ],\n",
       "       [-2.603619  ],\n",
       "       ...,\n",
       "       [ 0.71717775],\n",
       "       [-1.4362837 ],\n",
       "       [ 2.0370479 ]], dtype=float32)"
      ]
     },
     "execution_count": 20,
     "metadata": {},
     "output_type": "execute_result"
    }
   ],
   "source": [
    "y_prediction = dnn_model.predict(X_test)\n",
    "y_prediction"
   ]
  },
  {
   "cell_type": "code",
   "execution_count": 21,
   "id": "17f8e8bc-5c73-4d30-b5d8-4628063451ad",
   "metadata": {},
   "outputs": [],
   "source": [
    "linear = np.geomspace(10**np.max(y_test), 10**np.min(y_test), num=10)"
   ]
  },
  {
   "cell_type": "code",
   "execution_count": 22,
   "id": "656bb87c-94dc-426a-b146-4570a45fc1e6",
   "metadata": {},
   "outputs": [
    {
     "data": {
      "text/plain": [
       "(0.0, 17500000.0)"
      ]
     },
     "execution_count": 22,
     "metadata": {},
     "output_type": "execute_result"
    },
    {
     "data": {
      "image/png": "[encoded data removed]",
      "text/plain": [
       "<Figure size 432x432 with 1 Axes>"
      ]
     },
     "metadata": {
      "needs_background": "light"
     },
     "output_type": "display_data"
    }
   ],
   "source": [
    "plt.figure(figsize=(6,6))\n",
    "#plt.axes(aspect='equal')\n",
    "plt.scatter(10**y_test, 10**y_prediction)\n",
    "#plt.scatter()\n",
    "plt.xlabel('True Values [Sph Mass]')\n",
    "plt.ylabel('Predictions [Sph Mass]')\n",
    "plt.plot(linear, linear, color='red')\n",
    "lims = [0, 1.75e7]\n",
    "plt.xlim(lims)\n",
    "plt.ylim(lims)\n",
    "#plt.xscale('log')\n",
    "#plt.yscale('log')\n",
    "#_ = plt.plot(lims, lims)"
   ]
  },
  {
   "cell_type": "code",
   "execution_count": 23,
   "id": "ae141ebe-c14e-4009-a17e-7ccbd6c77423",
   "metadata": {},
   "outputs": [],
   "source": [
    "# loss, \n",
    "accuracy = dnn_model.evaluate(X_test, y_test, verbose=0)"
   ]
  },
  {
   "cell_type": "code",
   "execution_count": 24,
   "id": "507021a7-56bd-4822-b0dc-b7466232b749",
   "metadata": {},
   "outputs": [
    {
     "data": {
      "text/plain": [
       "[1.6807750463485718, 0.0]"
      ]
     },
     "execution_count": 24,
     "metadata": {},
     "output_type": "execute_result"
    }
   ],
   "source": [
    "accuracy"
   ]
  },
  {
   "cell_type": "code",
   "execution_count": 25,
   "id": "8fca06a0-ea85-442e-9e2b-2072c1b0ef91",
   "metadata": {},
   "outputs": [
    {
     "data": {
      "text/plain": [
       "<matplotlib.legend.Legend at 0x2af2b2c168b0>"
      ]
     },
     "execution_count": 25,
     "metadata": {},
     "output_type": "execute_result"
    },
    {
     "data": {
      "image/png": "[encoded data removed]",
      "text/plain": [
       "<Figure size 432x288 with 1 Axes>"
      ]
     },
     "metadata": {
      "needs_background": "light"
     },
     "output_type": "display_data"
    }
   ],
   "source": [
    "plt.plot(history.epoch, history.history['loss'],'.-', label='loss')\n",
    "plt.plot(history.epoch, history.history['val_loss'],'.-', label='validation loss')\n",
    "plt.xlabel('epoch')\n",
    "plt.ylabel('loss, validation loss')\n",
    "plt.legend()"
   ]
  },
  {
   "cell_type": "code",
   "execution_count": 26,
   "id": "570dd95d-9682-4b02-94d8-686095bf7dce",
   "metadata": {},
   "outputs": [
    {
     "data": {
      "image/png": "[encoded data removed]",
      "text/plain": [
       "<Figure size 432x288 with 1 Axes>"
      ]
     },
     "metadata": {
      "needs_background": "light"
     },
     "output_type": "display_data"
    }
   ],
   "source": [
    "# plotting from history\n",
    "\n",
    "loss = history.history['loss']\n",
    "val_loss = history.history['val_loss']\n",
    "acc = history.history['accuracy']\n",
    "val_acc = history.history['val_accuracy']\n",
    "\n",
    "epochs = list(range(len(loss)))\n",
    "\n",
    "figsize = (6, 4)\n",
    "fig, axis1 = plt.subplots(figsize=figsize)\n",
    "plot1_lacc = axis1.plot(epochs, acc, 'navy', label='accuracy')\n",
    "plot1_val_lacc = axis1.plot(epochs, val_acc, 'deepskyblue', label=\"validation accuracy\")\n",
    "\n",
    "plot1_loss = axis1.plot(epochs, loss, 'red', label='loss')\n",
    "plot1_val_loss = axis1.plot(epochs, val_loss, 'lightsalmon', label=\"validation loss\")\n",
    "\n",
    "\n",
    "plots = plot1_loss + plot1_val_loss\n",
    "labs = [plot.get_label() for plot in plots]\n",
    "axis1.set_xlabel('Epoch')\n",
    "axis1.set_ylabel('Loss/Accuracy')\n",
    "plt.title(\"Loss/Accuracy History\")\n",
    "plt.tight_layout()\n",
    "axis1.legend(loc='lower right')\n",
    "plt.show()"
   ]
  },
  {
   "cell_type": "code",
   "execution_count": 27,
   "id": "9bef8c0d-9307-4c2b-ab9a-b5b65591cfcf",
   "metadata": {},
   "outputs": [
    {
     "data": {
      "text/plain": [
       "dict_keys(['loss', 'val_loss'])"
      ]
     },
     "execution_count": 27,
     "metadata": {},
     "output_type": "execute_result"
    }
   ],
   "source": [
    "history.history.keys()"
   ]
  },
  {
   "cell_type": "code",
   "execution_count": null,
   "id": "544fa067-b02e-4a89-9a07-6e20550b03fb",
   "metadata": {},
   "outputs": [],
   "source": []
  }
 ],
 "metadata": {
  "kernelspec": {
   "display_name": "Tensorflow-2.7.0",
   "language": "python",
   "name": "tensorflow-2.7.0"
  },
  "language_info": {
   "codemirror_mode": {
    "name": "ipython",
    "version": 3
   },
   "file_extension": ".py",
   "mimetype": "text/x-python",
   "name": "python",
   "nbconvert_exporter": "python",
   "pygments_lexer": "ipython3",
   "version": "3.9.12"
  }
 },
 "nbformat": 4,
 "nbformat_minor": 5
}
